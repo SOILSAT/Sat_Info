{
 "cells": [
  {
   "cell_type": "markdown",
   "metadata": {},
   "source": [
    "This will use the ESA SNAP GPT tool to create GRD products from the already downloaded SLC imagery. With the GRD data, the Normalized Difference Polarization Index, VV/VH, VH/VV, Normalized VH index, and Normalized VV index will be used to create water masks. Otsu thresholding will be done to label pixels as subaqeuous or subaerial.\n",
    "\n",
    "These labeled pixels will be used for two things:\n",
    "1. Generating a water mask for the InSAR time series (maybe the lowest water extent)\n",
    "2. Generating a time series of subaerial change for individual creation sites\n",
    "\n",
    "Plan is to couple the InSAR and Area time series to estimate volumetric changes of wetland BUDM sites "
   ]
  },
  {
   "cell_type": "code",
   "execution_count": 10,
   "metadata": {},
   "outputs": [],
   "source": [
    "import os\n",
    "import subprocess\n",
    "from datetime import datetime"
   ]
  },
  {
   "cell_type": "markdown",
   "metadata": {},
   "source": [
    "# Establish GPT path, number of processors, and memory usage"
   ]
  },
  {
   "cell_type": "code",
   "execution_count": 40,
   "metadata": {},
   "outputs": [],
   "source": [
    "GPT_PATH = '/home/wcc/esa-snap/bin/gpt'\n",
    "NUM_PROCESSORS = 26\n",
    "MEMORY_SIZE = '96G'"
   ]
  },
  {
   "cell_type": "code",
   "execution_count": 38,
   "metadata": {},
   "outputs": [
    {
     "name": "stdout",
     "output_type": "stream",
     "text": [
      "Usage:\n",
      "  gpt ThermalNoiseRemoval [options] \n",
      "\n",
      "Description:\n",
      "  Removes thermal noise from products\n",
      "\n",
      "\n",
      "Source Options:\n",
      "  -SsourceProduct=<file>    Sets source 'sourceProduct' to <filepath>.\n",
      "                            This is a mandatory source.\n",
      "\n",
      "Parameter Options:\n",
      "  -PoutputNoise=<boolean>                               Output noise\n",
      "                                                        Default value is 'false'.\n",
      "  -PreIntroduceThermalNoise=<boolean>                   Re-introduce thermal noise\n",
      "                                                        Default value is 'false'.\n",
      "  -PremoveThermalNoise=<boolean>                        Remove thermal noise\n",
      "                                                        Default value is 'true'.\n",
      "  -PselectedPolarisations=<string,string,string,...>    The list of polarisations\n",
      "\n",
      "Graph XML Format:\n",
      "  <graph id=\"someGraphId\">\n",
      "    <version>1.0</version>\n",
      "    <node id=\"someNodeId\">\n",
      "      <operator>ThermalNoiseRemoval</operator>\n",
      "      <sources>\n",
      "        <sourceProduct>${sourceProduct}</sourceProduct>\n",
      "      </sources>\n",
      "      <parameters>\n",
      "        <selectedPolarisations>string,string,string,...</selectedPolarisations>\n",
      "        <removeThermalNoise>boolean</removeThermalNoise>\n",
      "        <outputNoise>boolean</outputNoise>\n",
      "        <reIntroduceThermalNoise>boolean</reIntroduceThermalNoise>\n",
      "      </parameters>\n",
      "    </node>\n",
      "  </graph>\n",
      "\n"
     ]
    }
   ],
   "source": [
    "cmd = f'{GPT_PATH} ThermalNoiseRemoval -h -c {MEMORY_SIZE}'\n",
    "\n",
    "try:\n",
    "    result = subprocess.run(cmd, shell=True, check=True, stdout=subprocess.PIPE, stderr=subprocess.PIPE)\n",
    "    print(result.stdout.decode())\n",
    "except subprocess.CalledProcessError as e:\n",
    "    print(f\"Command failed: {e.stderr.decode()}\")"
   ]
  },
  {
   "cell_type": "markdown",
   "metadata": {},
   "source": [
    "# Get a list of the available SLC images downloaded in 01a_get_slc.ipynb"
   ]
  },
  {
   "cell_type": "code",
   "execution_count": 41,
   "metadata": {},
   "outputs": [],
   "source": [
    "# Establish working directories, and locate Sentinel-1 SLC .zip files\n",
    "proj_dir = '/home/wcc/Desktop/SabineRS'\n",
    "work_dir = os.path.join(proj_dir, 'Sentinel-1')"
   ]
  },
  {
   "cell_type": "code",
   "execution_count": 42,
   "metadata": {},
   "outputs": [],
   "source": [
    "# assuming you have downloaded .zip files covering your AOI from ASF Vertex\n",
    "# enter the file directory below\n",
    "slc_zips = os.path.join(work_dir, 'SLC/ASCENDING/136/93')\n",
    "\n",
    "slc_zips_list = sorted(os.listdir(slc_zips), key=lambda x: datetime.strptime(x[17:25], '%Y%m%d'))\n",
    "slc_zips_dirs = [os.path.join(slc_zips, slc) for slc in slc_zips_list]\n",
    "slc_zips_dates = [slc[17:25] for slc in slc_zips_list]"
   ]
  },
  {
   "cell_type": "markdown",
   "metadata": {},
   "source": [
    "# Establish GRD working directories"
   ]
  },
  {
   "cell_type": "code",
   "execution_count": 43,
   "metadata": {},
   "outputs": [],
   "source": [
    "def project_dir(work_dir):\n",
    "    \"\"\"\n",
    "    This function reads in a string that you wish to make your working directory \n",
    "    for the InSAR project, and creates a data directory to store the data for ISCE2 and mintpy\n",
    "    work-dir = str\n",
    "        path to the directory created in 01_get_slc.ipynb\n",
    "    \"\"\"\n",
    "\n",
    "    #creates file on your desktop containing the work of this notebook\n",
    "    os.makedirs(work_dir, exist_ok=True)\n",
    "    \n",
    "    # path for GRD data storage\n",
    "    grd_dir = os.path.join(work_dir, 'GRD')\n",
    "    os.makedirs(grd_dir, exist_ok=True)\n",
    "\n",
    "    # list of grd directories\n",
    "    grdpaths = []\n",
    "    for step in ['0_tnr', '1_cal', '2_deburst', '3_multilook', '4_speckle', '5_spgr', '6_grd']:\n",
    "        grdpaths.append(os.path.join(grd_dir, step))\n",
    "        os.makedirs(os.path.join(grd_dir, step), exist_ok=True)\n",
    "\n",
    "\n",
    "    return grd_dir, grdpaths"
   ]
  },
  {
   "cell_type": "code",
   "execution_count": 44,
   "metadata": {},
   "outputs": [],
   "source": [
    "grd_dir, grdpaths = project_dir(work_dir)"
   ]
  },
  {
   "cell_type": "markdown",
   "metadata": {},
   "source": [
    "# Processing steps for SLC to GRD:\n",
    "1. Thermal Noise Removal\n",
    "2. Calibration\n",
    "3. TOPSAR-Deburst\n",
    "4. Multilook\n",
    "5. Speckle-Filter\n",
    "6. SPGR\n",
    "7. GRD\n",
    "8. Write"
   ]
  },
  {
   "cell_type": "markdown",
   "metadata": {},
   "source": [
    "1. Thermal Noise Removal"
   ]
  },
  {
   "cell_type": "code",
   "execution_count": 45,
   "metadata": {},
   "outputs": [
    {
     "name": "stdout",
     "output_type": "stream",
     "text": [
      "Executing operator...\n",
      "20%....30%....40%....50%....60%....70%....80%....90%....100% done.\n",
      "Writing...\n",
      "...11%...21%....31%....41%....51%....61%....71%....81%....91%.... done.\n",
      "\n",
      "Executing operator...\n",
      "20%....30%....40%....50%....60%....70%....80%....90%....100% done.\n",
      "Writing...\n",
      "...11%...21%.....31%....41%....51%....61%....71%....81%....91%.... done.\n",
      "\n",
      "Executing operator...\n",
      "20%....30%....40%....50%....60%....70%....80%....90%....100% done.\n",
      "Writing...\n",
      "...11%...21%.....31%....41%....51%....61%....71%....81%....91%.... done.\n",
      "\n",
      "Executing operator...\n",
      "20%....30%....40%....50%....60%....70%....80%....90%....100% done.\n",
      "Writing...\n",
      "...11%...21%....31%....41%....51%....61%....71%....81%....91%.... done.\n",
      "\n",
      "Executing operator...\n",
      "20%....30%....40%....50%....60%....70%....80%....90%....100% done.\n",
      "Writing...\n",
      "...11%...21%....31%....41%....51%....61%....71%....81%....91%.... done.\n",
      "\n",
      "Executing operator...\n",
      "20%....30%....40%....50%....60%....70%....80%....90%....100% done.\n",
      "Writing...\n",
      "...11%...21%....31%....41%....51%....61%....71%....81%....91%.... done.\n",
      "\n",
      "Executing operator...\n",
      "20%....30%....40%....50%....60%....70%....80%....90%....100% done.\n",
      "Writing...\n",
      "...11%...21%....31%....41%.....51%....61%....71%....81%....91%..... done.\n",
      "\n"
     ]
    },
    {
     "ename": "KeyboardInterrupt",
     "evalue": "",
     "output_type": "error",
     "traceback": [
      "\u001b[0;31m---------------------------------------------------------------------------\u001b[0m",
      "\u001b[0;31mKeyboardInterrupt\u001b[0m                         Traceback (most recent call last)",
      "Cell \u001b[0;32mIn[45], line 10\u001b[0m\n\u001b[1;32m      8\u001b[0m tnr_cmd \u001b[38;5;241m=\u001b[39m \u001b[38;5;124mf\u001b[39m\u001b[38;5;124m'\u001b[39m\u001b[38;5;132;01m{\u001b[39;00mGPT_PATH\u001b[38;5;132;01m}\u001b[39;00m\u001b[38;5;124m ThermalNoiseRemoval -SsourceProduct=\u001b[39m\u001b[38;5;132;01m{\u001b[39;00mos\u001b[38;5;241m.\u001b[39mpath\u001b[38;5;241m.\u001b[39mjoin(slc_zips,file)\u001b[38;5;132;01m}\u001b[39;00m\u001b[38;5;124m -PoutputNoise=\u001b[39m\u001b[38;5;132;01m{\u001b[39;00mOUTPUT_NOISE\u001b[38;5;132;01m}\u001b[39;00m\u001b[38;5;124m -PreIntroduceThermalNoise=\u001b[39m\u001b[38;5;132;01m{\u001b[39;00mREINTRODUCE_TN\u001b[38;5;132;01m}\u001b[39;00m\u001b[38;5;124m -PremoveThermalNoise=\u001b[39m\u001b[38;5;132;01m{\u001b[39;00mREMOVE_TN\u001b[38;5;132;01m}\u001b[39;00m\u001b[38;5;124m -PselectedPolarisations=\u001b[39m\u001b[38;5;132;01m{\u001b[39;00mPOLARISATIONS\u001b[38;5;132;01m}\u001b[39;00m\u001b[38;5;124m -t \u001b[39m\u001b[38;5;132;01m{\u001b[39;00mOUTFILE\u001b[38;5;132;01m}\u001b[39;00m\u001b[38;5;124m -c \u001b[39m\u001b[38;5;132;01m{\u001b[39;00mMEMORY_SIZE\u001b[38;5;132;01m}\u001b[39;00m\u001b[38;5;124m -q \u001b[39m\u001b[38;5;132;01m{\u001b[39;00mNUM_PROCESSORS\u001b[38;5;132;01m}\u001b[39;00m\u001b[38;5;124m'\u001b[39m\n\u001b[1;32m      9\u001b[0m \u001b[38;5;28;01mtry\u001b[39;00m:\n\u001b[0;32m---> 10\u001b[0m     result \u001b[38;5;241m=\u001b[39m \u001b[43msubprocess\u001b[49m\u001b[38;5;241;43m.\u001b[39;49m\u001b[43mrun\u001b[49m\u001b[43m(\u001b[49m\u001b[43mtnr_cmd\u001b[49m\u001b[43m,\u001b[49m\u001b[43m \u001b[49m\u001b[43mshell\u001b[49m\u001b[38;5;241;43m=\u001b[39;49m\u001b[38;5;28;43;01mTrue\u001b[39;49;00m\u001b[43m,\u001b[49m\u001b[43m \u001b[49m\u001b[43mcheck\u001b[49m\u001b[38;5;241;43m=\u001b[39;49m\u001b[38;5;28;43;01mTrue\u001b[39;49;00m\u001b[43m,\u001b[49m\u001b[43m \u001b[49m\u001b[43mstdout\u001b[49m\u001b[38;5;241;43m=\u001b[39;49m\u001b[43msubprocess\u001b[49m\u001b[38;5;241;43m.\u001b[39;49m\u001b[43mPIPE\u001b[49m\u001b[43m,\u001b[49m\u001b[43m \u001b[49m\u001b[43mstderr\u001b[49m\u001b[38;5;241;43m=\u001b[39;49m\u001b[43msubprocess\u001b[49m\u001b[38;5;241;43m.\u001b[39;49m\u001b[43mPIPE\u001b[49m\u001b[43m)\u001b[49m\n\u001b[1;32m     11\u001b[0m     \u001b[38;5;28mprint\u001b[39m(result\u001b[38;5;241m.\u001b[39mstdout\u001b[38;5;241m.\u001b[39mdecode())\n\u001b[1;32m     12\u001b[0m \u001b[38;5;28;01mexcept\u001b[39;00m subprocess\u001b[38;5;241m.\u001b[39mCalledProcessError \u001b[38;5;28;01mas\u001b[39;00m e:\n",
      "File \u001b[0;32m~/tools/miniforge/envs/gis/lib/python3.8/subprocess.py:495\u001b[0m, in \u001b[0;36mrun\u001b[0;34m(input, capture_output, timeout, check, *popenargs, **kwargs)\u001b[0m\n\u001b[1;32m    493\u001b[0m \u001b[38;5;28;01mwith\u001b[39;00m Popen(\u001b[38;5;241m*\u001b[39mpopenargs, \u001b[38;5;241m*\u001b[39m\u001b[38;5;241m*\u001b[39mkwargs) \u001b[38;5;28;01mas\u001b[39;00m process:\n\u001b[1;32m    494\u001b[0m     \u001b[38;5;28;01mtry\u001b[39;00m:\n\u001b[0;32m--> 495\u001b[0m         stdout, stderr \u001b[38;5;241m=\u001b[39m \u001b[43mprocess\u001b[49m\u001b[38;5;241;43m.\u001b[39;49m\u001b[43mcommunicate\u001b[49m\u001b[43m(\u001b[49m\u001b[38;5;28;43minput\u001b[39;49m\u001b[43m,\u001b[49m\u001b[43m \u001b[49m\u001b[43mtimeout\u001b[49m\u001b[38;5;241;43m=\u001b[39;49m\u001b[43mtimeout\u001b[49m\u001b[43m)\u001b[49m\n\u001b[1;32m    496\u001b[0m     \u001b[38;5;28;01mexcept\u001b[39;00m TimeoutExpired \u001b[38;5;28;01mas\u001b[39;00m exc:\n\u001b[1;32m    497\u001b[0m         process\u001b[38;5;241m.\u001b[39mkill()\n",
      "File \u001b[0;32m~/tools/miniforge/envs/gis/lib/python3.8/subprocess.py:1028\u001b[0m, in \u001b[0;36mPopen.communicate\u001b[0;34m(self, input, timeout)\u001b[0m\n\u001b[1;32m   1025\u001b[0m     endtime \u001b[38;5;241m=\u001b[39m \u001b[38;5;28;01mNone\u001b[39;00m\n\u001b[1;32m   1027\u001b[0m \u001b[38;5;28;01mtry\u001b[39;00m:\n\u001b[0;32m-> 1028\u001b[0m     stdout, stderr \u001b[38;5;241m=\u001b[39m \u001b[38;5;28;43mself\u001b[39;49m\u001b[38;5;241;43m.\u001b[39;49m\u001b[43m_communicate\u001b[49m\u001b[43m(\u001b[49m\u001b[38;5;28;43minput\u001b[39;49m\u001b[43m,\u001b[49m\u001b[43m \u001b[49m\u001b[43mendtime\u001b[49m\u001b[43m,\u001b[49m\u001b[43m \u001b[49m\u001b[43mtimeout\u001b[49m\u001b[43m)\u001b[49m\n\u001b[1;32m   1029\u001b[0m \u001b[38;5;28;01mexcept\u001b[39;00m \u001b[38;5;167;01mKeyboardInterrupt\u001b[39;00m:\n\u001b[1;32m   1030\u001b[0m     \u001b[38;5;66;03m# https://bugs.python.org/issue25942\u001b[39;00m\n\u001b[1;32m   1031\u001b[0m     \u001b[38;5;66;03m# See the detailed comment in .wait().\u001b[39;00m\n\u001b[1;32m   1032\u001b[0m     \u001b[38;5;28;01mif\u001b[39;00m timeout \u001b[38;5;129;01mis\u001b[39;00m \u001b[38;5;129;01mnot\u001b[39;00m \u001b[38;5;28;01mNone\u001b[39;00m:\n",
      "File \u001b[0;32m~/tools/miniforge/envs/gis/lib/python3.8/subprocess.py:1884\u001b[0m, in \u001b[0;36mPopen._communicate\u001b[0;34m(self, input, endtime, orig_timeout)\u001b[0m\n\u001b[1;32m   1877\u001b[0m     \u001b[38;5;28mself\u001b[39m\u001b[38;5;241m.\u001b[39m_check_timeout(endtime, orig_timeout,\n\u001b[1;32m   1878\u001b[0m                         stdout, stderr,\n\u001b[1;32m   1879\u001b[0m                         skip_check_and_raise\u001b[38;5;241m=\u001b[39m\u001b[38;5;28;01mTrue\u001b[39;00m)\n\u001b[1;32m   1880\u001b[0m     \u001b[38;5;28;01mraise\u001b[39;00m \u001b[38;5;167;01mRuntimeError\u001b[39;00m(  \u001b[38;5;66;03m# Impossible :)\u001b[39;00m\n\u001b[1;32m   1881\u001b[0m         \u001b[38;5;124m'\u001b[39m\u001b[38;5;124m_check_timeout(..., skip_check_and_raise=True) \u001b[39m\u001b[38;5;124m'\u001b[39m\n\u001b[1;32m   1882\u001b[0m         \u001b[38;5;124m'\u001b[39m\u001b[38;5;124mfailed to raise TimeoutExpired.\u001b[39m\u001b[38;5;124m'\u001b[39m)\n\u001b[0;32m-> 1884\u001b[0m ready \u001b[38;5;241m=\u001b[39m \u001b[43mselector\u001b[49m\u001b[38;5;241;43m.\u001b[39;49m\u001b[43mselect\u001b[49m\u001b[43m(\u001b[49m\u001b[43mtimeout\u001b[49m\u001b[43m)\u001b[49m\n\u001b[1;32m   1885\u001b[0m \u001b[38;5;28mself\u001b[39m\u001b[38;5;241m.\u001b[39m_check_timeout(endtime, orig_timeout, stdout, stderr)\n\u001b[1;32m   1887\u001b[0m \u001b[38;5;66;03m# XXX Rewrite these to use non-blocking I/O on the file\u001b[39;00m\n\u001b[1;32m   1888\u001b[0m \u001b[38;5;66;03m# objects; they are no longer using C stdio!\u001b[39;00m\n",
      "File \u001b[0;32m~/tools/miniforge/envs/gis/lib/python3.8/selectors.py:415\u001b[0m, in \u001b[0;36m_PollLikeSelector.select\u001b[0;34m(self, timeout)\u001b[0m\n\u001b[1;32m    413\u001b[0m ready \u001b[38;5;241m=\u001b[39m []\n\u001b[1;32m    414\u001b[0m \u001b[38;5;28;01mtry\u001b[39;00m:\n\u001b[0;32m--> 415\u001b[0m     fd_event_list \u001b[38;5;241m=\u001b[39m \u001b[38;5;28;43mself\u001b[39;49m\u001b[38;5;241;43m.\u001b[39;49m\u001b[43m_selector\u001b[49m\u001b[38;5;241;43m.\u001b[39;49m\u001b[43mpoll\u001b[49m\u001b[43m(\u001b[49m\u001b[43mtimeout\u001b[49m\u001b[43m)\u001b[49m\n\u001b[1;32m    416\u001b[0m \u001b[38;5;28;01mexcept\u001b[39;00m \u001b[38;5;167;01mInterruptedError\u001b[39;00m:\n\u001b[1;32m    417\u001b[0m     \u001b[38;5;28;01mreturn\u001b[39;00m ready\n",
      "\u001b[0;31mKeyboardInterrupt\u001b[0m: "
     ]
    }
   ],
   "source": [
    "OUTPUT_NOISE = False\n",
    "REINTRODUCE_TN = False\n",
    "REMOVE_TN = True\n",
    "POLARISATIONS = 'VV,VH'\n",
    "\n",
    "for i, file in enumerate(slc_zips_list):\n",
    "    OUTFILE = os.path.join(grdpaths[0], f'{slc_zips_dates[i]}.dim')\n",
    "    tnr_cmd = f'{GPT_PATH} ThermalNoiseRemoval -SsourceProduct={os.path.join(slc_zips,file)} -PoutputNoise={OUTPUT_NOISE} -PreIntroduceThermalNoise={REINTRODUCE_TN} -PremoveThermalNoise={REMOVE_TN} -PselectedPolarisations={POLARISATIONS} -t {OUTFILE} -c {MEMORY_SIZE} -q {NUM_PROCESSORS}'\n",
    "    try:\n",
    "        result = subprocess.run(tnr_cmd, shell=True, check=True, stdout=subprocess.PIPE, stderr=subprocess.PIPE)\n",
    "        print(result.stdout.decode())\n",
    "    except subprocess.CalledProcessError as e:\n",
    "        print(f\"Command failed: {e.stderr.decode()}\")"
   ]
  },
  {
   "cell_type": "markdown",
   "metadata": {},
   "source": [
    "2. Calibration"
   ]
  },
  {
   "cell_type": "code",
   "execution_count": null,
   "metadata": {},
   "outputs": [],
   "source": [
    "OUTPUT_NOISE = False\n",
    "REINTRODUCE_TN = False\n",
    "REMOVE_TN = True\n",
    "POLARISATIONS = 'VV,VH'\n",
    "\n",
    "for i, file in enumerate(slc_zips_list):\n",
    "    OUTFILE = os.path.join(grdpaths[0], f'{slc_zips_dates[i]}.dim')\n",
    "    tnr_cmd = f'{GPT_PATH} ThermalNoiseRemoval -SsourceProduct={os.path.join(slc_zips,file)} -PoutputNoise={OUTPUT_NOISE} -PreIntroduceThermalNoise={REINTRODUCE_TN} -PremoveThermalNoise={REMOVE_TN} -PselectedPolarisations={POLARISATIONS} -t {OUTFILE} -c {MEMORY_SIZE} -q {NUM_PROCESSORS}'\n",
    "    try:\n",
    "        result = subprocess.run(tnr_cmd, shell=True, check=True, stdout=subprocess.PIPE, stderr=subprocess.PIPE)\n",
    "        print(result.stdout.decode())\n",
    "    except subprocess.CalledProcessError as e:\n",
    "        print(f\"Command failed: {e.stderr.decode()}\")"
   ]
  },
  {
   "cell_type": "markdown",
   "metadata": {},
   "source": [
    "3. TOPSAR-Deburst"
   ]
  },
  {
   "cell_type": "code",
   "execution_count": null,
   "metadata": {},
   "outputs": [],
   "source": []
  },
  {
   "cell_type": "markdown",
   "metadata": {},
   "source": [
    "4. Multilook"
   ]
  },
  {
   "cell_type": "code",
   "execution_count": null,
   "metadata": {},
   "outputs": [],
   "source": []
  },
  {
   "cell_type": "markdown",
   "metadata": {},
   "source": [
    "5. Speckle-Filter"
   ]
  },
  {
   "cell_type": "code",
   "execution_count": null,
   "metadata": {},
   "outputs": [],
   "source": []
  },
  {
   "cell_type": "markdown",
   "metadata": {},
   "source": [
    "6. SPGR"
   ]
  },
  {
   "cell_type": "code",
   "execution_count": null,
   "metadata": {},
   "outputs": [],
   "source": []
  },
  {
   "cell_type": "markdown",
   "metadata": {},
   "source": [
    "7. GRD"
   ]
  },
  {
   "cell_type": "code",
   "execution_count": null,
   "metadata": {},
   "outputs": [],
   "source": []
  },
  {
   "cell_type": "markdown",
   "metadata": {},
   "source": [
    "8. Write"
   ]
  }
 ],
 "metadata": {
  "kernelspec": {
   "display_name": "gis",
   "language": "python",
   "name": "python3"
  },
  "language_info": {
   "codemirror_mode": {
    "name": "ipython",
    "version": 3
   },
   "file_extension": ".py",
   "mimetype": "text/x-python",
   "name": "python",
   "nbconvert_exporter": "python",
   "pygments_lexer": "ipython3",
   "version": "3.8.20"
  }
 },
 "nbformat": 4,
 "nbformat_minor": 2
}
