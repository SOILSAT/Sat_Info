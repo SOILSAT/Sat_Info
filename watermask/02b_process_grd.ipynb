{
 "cells": [
  {
   "cell_type": "markdown",
   "metadata": {},
   "source": [
    "This will use the ESA SNAP GPT tool to create GRD products from the already downloaded SLC imagery. With the GRD data, the Normalized Difference Polarization Index, VV/VH, VH/VV, Normalized VH index, and Normalized VV index will be used to create water masks. Otsu thresholding will be done to label pixels as subaqeuous or subaerial.\n",
    "\n",
    "These labeled pixels will be used for two things:\n",
    "1. Generating a water mask for the InSAR time series (maybe the lowest water extent)\n",
    "2. Generating a time series of subaerial change for individual creation sites\n",
    "\n",
    "Plan is to couple the InSAR and Area time series to estimate volumetric changes of wetland BUDM sites "
   ]
  },
  {
   "cell_type": "markdown",
   "metadata": {},
   "source": []
  }
 ],
 "metadata": {
  "language_info": {
   "name": "python"
  }
 },
 "nbformat": 4,
 "nbformat_minor": 2
}
