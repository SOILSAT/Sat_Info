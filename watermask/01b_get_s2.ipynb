{
 "cells": [
  {
   "cell_type": "markdown",
   "metadata": {},
   "source": [
    "This notebook will download Sentinel-2 .safe files from Copernicus Browser. This will give more flexibility when creating the custom water masks. It will use the sentinelsat library and search using the aoi drawn in the 01a_get_slc.ipynb"
   ]
  },
  {
   "cell_type": "markdown",
   "metadata": {},
   "source": []
  }
 ],
 "metadata": {
  "language_info": {
   "name": "python"
  }
 },
 "nbformat": 4,
 "nbformat_minor": 2
}
