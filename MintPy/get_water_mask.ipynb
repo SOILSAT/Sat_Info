{
 "cells": [
  {
   "cell_type": "markdown",
   "metadata": {},
   "source": [
    "# Notebook dedicated to getting water mask using isce and mintpy\n",
    "- https://github.com/insarlab/MintPy-tutorial/blob/main/applications/water_mask.ipynb"
   ]
  },
  {
   "cell_type": "code",
   "execution_count": null,
   "metadata": {},
   "outputs": [],
   "source": [
    "import os\n",
    "from dateutil.parser import parse as parse_date\n",
    "from datetime import datetime\n",
    "import pandas as pd\n",
    "import numpy as np\n",
    "from osgeo import gdal, osr\n",
    "import matplotlib.pyplot as plt\n",
    "from typing import List, Union\n",
    "from itertools import combinations\n",
    "import eof\n",
    "import geemap\n",
    "import csv\n",
    "import xml.etree.ElementTree as ET\n",
    "from shapely.geometry import Polygon, box\n",
    "import glob\n",
    "import subprocess"
   ]
  }
 ],
 "metadata": {
  "kernelspec": {
   "display_name": "mintpy",
   "language": "python",
   "name": "python3"
  },
  "language_info": {
   "name": "python",
   "version": "3.11.10"
  }
 },
 "nbformat": 4,
 "nbformat_minor": 2
}
