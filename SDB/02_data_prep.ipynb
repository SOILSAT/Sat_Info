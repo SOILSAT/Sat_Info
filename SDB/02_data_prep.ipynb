{
 "cells": [
  {
   "cell_type": "markdown",
   "metadata": {},
   "source": [
    "# Use this notebook to extract some of the needed data for training the model. Assuming the bathy data is downloaded from 01_get_data.ipynb, and the imagery is downloaded from Google Drive"
   ]
  },
  {
   "cell_type": "code",
   "execution_count": 10,
   "metadata": {},
   "outputs": [],
   "source": [
    "import os\n",
    "import rasterio\n",
    "from rasterio.warp import calculate_default_transform, reproject, Resampling\n",
    "import numpy as np"
   ]
  },
  {
   "cell_type": "markdown",
   "metadata": {},
   "source": [
    "# Functions"
   ]
  },
  {
   "cell_type": "code",
   "execution_count": 62,
   "metadata": {},
   "outputs": [],
   "source": [
    "def normalize(array):\n",
    "    return (array - np.nanmin(array)) / (np.nanmax(array) - np.nanmin(array))\n",
    "\n",
    "def reproject_sentinel2(bathy_raster, s2_raster, reprojected_s2):\n",
    "    # Open the bathymetry raster to get its CRS\n",
    "    with rasterio.open(bathy_raster) as bathy_src:\n",
    "        bathy_crs = bathy_src.crs\n",
    "\n",
    "    # Open the Sentinel-2 raster for reprojection\n",
    "    with rasterio.open(s2_raster) as s2_src:\n",
    "        # Calculate the transform, width, and height for the new CRS\n",
    "        transform, width, height = calculate_default_transform(\n",
    "            s2_src.crs, bathy_crs, s2_src.width, s2_src.height, *s2_src.bounds\n",
    "        )\n",
    "\n",
    "        # Update metadata for the reprojected Sentinel-2 raster\n",
    "        new_meta = s2_src.meta.copy()\n",
    "        new_meta.update({\n",
    "            \"crs\": bathy_crs,\n",
    "            \"transform\": transform,\n",
    "            \"width\": width,\n",
    "            \"height\": height\n",
    "        })\n",
    "\n",
    "        # Reproject and save the Sentinel-2 raster\n",
    "        with rasterio.open(reprojected_s2, \"w\", **new_meta) as dst:\n",
    "            for i in range(1, s2_src.count + 1):  # Loop through bands\n",
    "                reproject(\n",
    "                    source=rasterio.band(s2_src, i),\n",
    "                    destination=rasterio.band(dst, i),\n",
    "                    src_transform=s2_src.transform,\n",
    "                    src_crs=s2_src.crs,\n",
    "                    dst_transform=transform,\n",
    "                    dst_crs=bathy_crs,\n",
    "                    resampling=Resampling.cubic_spline  # Cubic spline interpolation\n",
    "                )\n",
    "\n",
    "    print(f\"Reprojected Sentinel-2 raster saved to: {reprojected_s2}\")\n",
    "\n",
    "def resample_bathy_to_sentinel2(bathy_raster, sentinel_raster, resampled_bathy):\n",
    "\n",
    "    with rasterio.open(sentinel_raster) as sentinel_src:\n",
    "        sentinel_transform = sentinel_src.transform\n",
    "        sentinel_crs = sentinel_src.crs\n",
    "        sentinel_width = sentinel_src.width\n",
    "        sentinel_height = sentinel_src.height\n",
    "\n",
    "    with rasterio.open(bathy_raster) as bathy_src:\n",
    "        resampled_bathymetry = np.empty((sentinel_height, sentinel_width), dtype=bathy_src.dtypes[0])\n",
    "\n",
    "        # Perform the reprojection and resampling\n",
    "        reproject(\n",
    "            source=rasterio.band(bathy_src, 1),  # Use the bathymetry data as the source\n",
    "            destination=resampled_bathymetry,   # Target array for the resampled bathymetry\n",
    "            src_transform=bathy_src.transform,\n",
    "            src_crs=bathy_src.crs,\n",
    "            dst_transform=sentinel_transform,  # Match Sentinel-2 raster's transform\n",
    "            dst_crs=sentinel_crs,              # Match Sentinel-2 raster's CRS\n",
    "            dst_width=sentinel_width,\n",
    "            dst_height=sentinel_height,\n",
    "            resampling=Resampling.bilinear     \n",
    "        )\n",
    "\n",
    "        bathy_meta = bathy_src.meta.copy()\n",
    "        bathy_meta.update({\n",
    "            \"transform\": sentinel_transform,\n",
    "            \"crs\": sentinel_crs,\n",
    "            \"width\": sentinel_width,\n",
    "            \"height\": sentinel_height,\n",
    "            \"dtype\": bathy_src.dtypes[0]  # Use the bathymetry data type\n",
    "        })\n",
    "\n",
    "    # Save the resampled bathymetry raster\n",
    "    with rasterio.open(resampled_bathy, \"w\", **bathy_meta) as dst:\n",
    "        dst.write(resampled_bathymetry, 1)\n",
    "\n",
    "    print(f\"Resampled bathymetry raster saved to: {resampled_bathy}\")\n",
    "\n",
    "def clip_sentinel_by_bathy(bathy_raster, sentinel_raster, output_sentinel):\n",
    "    # Open the bathymetry raster\n",
    "    with rasterio.open(bathy_raster) as bathy_src:\n",
    "        bathy_data = bathy_src.read(1)  # Read the first band (assumes single-band data)\n",
    "        valid_bathy_mask = ~np.isnan(bathy_data)  # Non-NaN bathymetry pixels are valid\n",
    "        bathy_transform = bathy_src.transform\n",
    "        bathy_crs = bathy_src.crs\n",
    "\n",
    "    # Open the Sentinel-2 raster\n",
    "    with rasterio.open(sentinel_raster) as sentinel_src:\n",
    "        # Ensure CRS and transform match\n",
    "        if sentinel_src.crs != bathy_crs or sentinel_src.transform != bathy_transform:\n",
    "            raise ValueError(\"Sentinel-2 raster must already be aligned with bathymetry raster.\")\n",
    "\n",
    "        sentinel_data = sentinel_src.read()  # Read all bands of Sentinel-2 raster\n",
    "\n",
    "        # Create a mask for Sentinel-2 valid pixels (exclude zero values)\n",
    "        valid_sentinel_mask = sentinel_data[0, :, :] != 0  # Assuming first band is representative\n",
    "\n",
    "        # Combine masks (valid bathymetry AND valid Sentinel-2)\n",
    "        combined_mask = valid_bathy_mask & valid_sentinel_mask\n",
    "\n",
    "        # Apply the combined mask to Sentinel-2 data\n",
    "        clipped_sentinel_data = np.where(combined_mask, sentinel_data, np.nan)\n",
    "\n",
    "        # Update metadata\n",
    "        sentinel_meta = sentinel_src.meta.copy()\n",
    "        sentinel_meta.update({\n",
    "            \"dtype\": \"float32\",\n",
    "            \"nodata\": np.nan\n",
    "        })\n",
    "\n",
    "    # Save the clipped Sentinel-2 raster\n",
    "    with rasterio.open(output_sentinel, \"w\", **sentinel_meta) as dst:\n",
    "        dst.write(clipped_sentinel_data)\n",
    "\n",
    "    print(f\"Clipped Sentinel-2 raster saved to: {output_sentinel}\")\n",
    "\n",
    "def clip_bathy_by_sentinel(bathy_raster, clipped_sentinel_raster, output_bathy):\n",
    "    # Open the clipped Sentinel-2 raster to create a valid mask\n",
    "    with rasterio.open(clipped_sentinel_raster) as sentinel_src:\n",
    "        sentinel_data = sentinel_src.read(1)  # Read the first band (assumes single-band data)\n",
    "        valid_sentinel_mask = ~np.isnan(sentinel_data)  # Non-NaN pixels are valid\n",
    "        sentinel_transform = sentinel_src.transform\n",
    "        sentinel_crs = sentinel_src.crs\n",
    "\n",
    "    # Open the bathymetry raster\n",
    "    with rasterio.open(bathy_raster) as bathy_src:\n",
    "        # Ensure CRS and transform match\n",
    "        if bathy_src.crs != sentinel_crs or bathy_src.transform != sentinel_transform:\n",
    "            raise ValueError(\"Bathymetry raster must already be aligned with Sentinel-2 raster.\")\n",
    "\n",
    "        bathy_data = bathy_src.read(1)  # Assuming single-band bathymetry data\n",
    "        clipped_bathy_data = np.where(valid_sentinel_mask, bathy_data, np.nan)  # Mask bathymetry data\n",
    "\n",
    "        # Update metadata\n",
    "        bathy_meta = bathy_src.meta.copy()\n",
    "        bathy_meta.update({\n",
    "            \"dtype\": \"float32\",\n",
    "            \"nodata\": np.nan\n",
    "        })\n",
    "\n",
    "    # Save the clipped bathymetry raster\n",
    "    with rasterio.open(output_bathy, \"w\", **bathy_meta) as dst:\n",
    "        dst.write(clipped_bathy_data, 1)\n",
    "\n",
    "    print(f\"Clipped bathymetry raster saved to: {output_bathy}\")"
   ]
  },
  {
   "cell_type": "markdown",
   "metadata": {},
   "source": [
    "# Establish working directories"
   ]
  },
  {
   "cell_type": "code",
   "execution_count": 18,
   "metadata": {},
   "outputs": [],
   "source": [
    "S2_PATH = '/home/clay/Documents/SDB/CESWG/s2_rasters'\n",
    "BATHY_PATH = '/home/clay/Documents/SDB/CESWG/bathy_rasters'\n",
    "S2_PROJ = S2_PATH.replace('s2_rasters','s2_proj')\n",
    "BATHY_PROJ = BATHY_PATH.replace('bathy_rasters','bathy_proj')\n",
    "\n",
    "FINAL_PATH = '/home/clay/Documents/SDB/CESWG/processed'\n",
    "S2_FINAL = os.path.join(FINAL_PATH, 'S2')\n",
    "BATHY_FINAL = os.path.join(FINAL_PATH, 'Bathy')\n",
    "\n",
    "\n",
    "os.makedirs(S2_PROJ, exist_ok=True)\n",
    "os.makedirs(BATHY_PROJ, exist_ok=True)\n",
    "os.makedirs(FINAL_PATH, exist_ok=True)\n",
    "os.makedirs(S2_FINAL, exist_ok=True)\n",
    "os.makedirs(BATHY_FINAL, exist_ok=True)"
   ]
  },
  {
   "cell_type": "code",
   "execution_count": 19,
   "metadata": {},
   "outputs": [],
   "source": [
    "surveynames = [f[:-4] for f in os.listdir(BATHY_PATH) if f.endswith('.tif')]\n",
    "surveyinfo = {}\n",
    "for f in surveynames:\n",
    "    surveyinfo[f] = [os.path.join(BATHY_PATH, f\"{f}.tif\"), os.path.join(S2_PATH, f\"{f}.tif\")]"
   ]
  },
  {
   "cell_type": "markdown",
   "metadata": {},
   "source": [
    "# Reproject GEE Sentinel-2 products from EPSG:4326 to the eHydro CRS"
   ]
  },
  {
   "cell_type": "code",
   "execution_count": null,
   "metadata": {},
   "outputs": [],
   "source": [
    "for name, rasters in surveyinfo.items():\n",
    "    reprojected_s2 = os.path.join(S2_PROJ, f\"{name}.tif\")\n",
    "    reproject_sentinel2(rasters[0], rasters[1], reprojected_s2)"
   ]
  },
  {
   "cell_type": "markdown",
   "metadata": {},
   "source": [
    "# Resample bathy rasters from 10 ft resolution to same resolution as S2 rasters"
   ]
  },
  {
   "cell_type": "code",
   "execution_count": null,
   "metadata": {},
   "outputs": [],
   "source": [
    "for name, rasters in surveyinfo.items():\n",
    "    reprojected_bathy = os.path.join(BATHY_PROJ, f\"{name}.tif\")\n",
    "    reprojected_s2 = os.path.join(S2_PROJ, f\"{name}.tif\")\n",
    "\n",
    "    resample_bathy_to_sentinel2(rasters[0], reprojected_s2, reprojected_bathy)"
   ]
  },
  {
   "cell_type": "code",
   "execution_count": 33,
   "metadata": {},
   "outputs": [],
   "source": [
    "# new dictionary with rasters of matching CRS and spatial resolution (~10 meters)\n",
    "\n",
    "reprojected_rasters = {}\n",
    "for name, rasters in surveyinfo.items():\n",
    "    for raster in rasters:\n",
    "        if 'bathy_rasters' in raster:\n",
    "            bathypath = raster.replace('bathy_rasters', 'bathy_proj')\n",
    "        elif 's2_rasters' in raster:\n",
    "            s2path = raster.replace('s2_rasters', 's2_proj')\n",
    "    reprojected_rasters[name] = [bathypath, s2path]"
   ]
  },
  {
   "cell_type": "markdown",
   "metadata": {},
   "source": [
    "# Clip the S2 rasters by the valid bathymetry pixels\n",
    "- need bounds of non np.nan pixels for clipping"
   ]
  },
  {
   "cell_type": "code",
   "execution_count": null,
   "metadata": {},
   "outputs": [],
   "source": [
    "for name, rasters in reprojected_rasters.items():\n",
    "    reprojected_s2 = os.path.join(S2_FINAL, f\"{name}.tif\")\n",
    "\n",
    "    clip_sentinel_by_bathy(rasters[0], rasters[1], reprojected_s2)"
   ]
  },
  {
   "cell_type": "markdown",
   "metadata": {},
   "source": [
    "# Clip the bathymetry rasters by the valid cloud-masked S2 pixels\n",
    "- need bounds of valid pixels, seems like these will be values above 0.0 since no nan-value is applied in GEE"
   ]
  },
  {
   "cell_type": "code",
   "execution_count": null,
   "metadata": {},
   "outputs": [],
   "source": [
    "for name, rasters in reprojected_rasters.items():\n",
    "    final_bathy = os.path.join(BATHY_FINAL, f\"{name}.tif\")\n",
    "    final_s2 = os.path.join(S2_FINAL, f\"{name}.tif\")\n",
    "\n",
    "    clip_bathy_by_sentinel(rasters[0], final_s2, final_bathy)"
   ]
  },
  {
   "cell_type": "markdown",
   "metadata": {},
   "source": [
    "Should be done with needed preprocessing, can now move to training the model on the data\n",
    "- will try traditional ML regression models, as well as CNN\n",
    "- May try majority voting of multiple training set models like in Tan et al. 2022"
   ]
  },
  {
   "cell_type": "markdown",
   "metadata": {},
   "source": [
    "# Use ACOLITE for color corrections"
   ]
  },
  {
   "cell_type": "code",
   "execution_count": null,
   "metadata": {},
   "outputs": [],
   "source": [
    "# add acolite clone to Python path and import acolite\n",
    "import sys, os\n",
    "user_home = os.path.expanduser(\"~\")\n",
    "sys.path.append(user_home+'/git/acolite')\n",
    "import acolite as ac\n",
    "\n",
    "# add EARTHDATA_u and EARTHDATA_p\n",
    "os.environ['EARTHDATA_u'] = ''\n",
    "os.environ['EARTHDATA_p'] = ''\n",
    "\n",
    "# scenes to process\n",
    "bundles = ['/path/to/scene1', '/path/to/scene2']\n",
    "# alternatively use glob\n",
    "# import glob\n",
    "# bundles = glob.glob('/path/to/scene*')\n",
    "\n",
    "# output directory\n",
    "odir = '/path/to/output/directory'\n",
    "\n",
    "# optional 4 element limit list [S, W, N, E] \n",
    "limit = None\n",
    "\n",
    "# optional file with processing settings\n",
    "# if set to None defaults will be used\n",
    "settings_file = None\n",
    "\n",
    "# run through bundles\n",
    "for bundle in bundles:\n",
    "    # import settings\n",
    "    settings = ac.acolite.settings.parse(settings_file)\n",
    "    # set settings provided above\n",
    "    settings['limit'] = limit\n",
    "    settings['inputfile'] = bundle\n",
    "    settings['output'] = odir\n",
    "    # other settings can also be provided here, e.g.\n",
    "    # settings['s2_target_res'] = 60\n",
    "    # settings['dsf_aot_estimate'] = 'fixed'\n",
    "    # settings['l2w_parameters'] = ['t_nechad', 't_dogliotti']\n",
    "\n",
    "    # process the current bundle\n",
    "    ac.acolite.acolite_run(settings=settings)"
   ]
  }
 ],
 "metadata": {
  "kernelspec": {
   "display_name": "gis",
   "language": "python",
   "name": "python3"
  },
  "language_info": {
   "codemirror_mode": {
    "name": "ipython",
    "version": 3
   },
   "file_extension": ".py",
   "mimetype": "text/x-python",
   "name": "python",
   "nbconvert_exporter": "python",
   "pygments_lexer": "ipython3",
   "version": "3.10.16"
  }
 },
 "nbformat": 4,
 "nbformat_minor": 2
}
