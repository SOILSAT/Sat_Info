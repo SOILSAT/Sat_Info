{
 "cells": [
  {
   "cell_type": "markdown",
   "metadata": {},
   "source": [
    "# Use this notebook to extract some of the needed data for training the model. Assuming the bathy data is downloaded from 01_get_data.ipynb, and the imagery is downloaded from 01b_get_s2_SAFE.ipynb"
   ]
  },
  {
   "cell_type": "code",
   "execution_count": 1,
   "metadata": {},
   "outputs": [],
   "source": [
    "import os\n",
    "import rasterio\n",
    "from rasterio.warp import calculate_default_transform, reproject, Resampling\n",
    "import numpy as np"
   ]
  },
  {
   "cell_type": "markdown",
   "metadata": {},
   "source": [
    "# Functions"
   ]
  },
  {
   "cell_type": "code",
   "execution_count": 2,
   "metadata": {},
   "outputs": [],
   "source": [
    "def normalize(array):\n",
    "    return (array - np.nanmin(array)) / (np.nanmax(array) - np.nanmin(array))\n",
    "\n",
    "def reproject_sentinel2(bathy_raster, s2_raster, reprojected_s2):\n",
    "    # Open the bathymetry raster to get its CRS\n",
    "    with rasterio.open(bathy_raster) as bathy_src:\n",
    "        bathy_crs = bathy_src.crs\n",
    "\n",
    "    # Open the Sentinel-2 raster for reprojection\n",
    "    with rasterio.open(s2_raster) as s2_src:\n",
    "        # Calculate the transform, width, and height for the new CRS\n",
    "        transform, width, height = calculate_default_transform(\n",
    "            s2_src.crs, bathy_crs, s2_src.width, s2_src.height, *s2_src.bounds\n",
    "        )\n",
    "\n",
    "        # Update metadata for the reprojected Sentinel-2 raster\n",
    "        new_meta = s2_src.meta.copy()\n",
    "        new_meta.update({\n",
    "            \"crs\": bathy_crs,\n",
    "            \"transform\": transform,\n",
    "            \"width\": width,\n",
    "            \"height\": height\n",
    "        })\n",
    "\n",
    "        # Reproject and save the Sentinel-2 raster\n",
    "        with rasterio.open(reprojected_s2, \"w\", **new_meta) as dst:\n",
    "            for i in range(1, s2_src.count + 1):  # Loop through bands\n",
    "                reproject(\n",
    "                    source=rasterio.band(s2_src, i),\n",
    "                    destination=rasterio.band(dst, i),\n",
    "                    src_transform=s2_src.transform,\n",
    "                    src_crs=s2_src.crs,\n",
    "                    dst_transform=transform,\n",
    "                    dst_crs=bathy_crs,\n",
    "                    resampling=Resampling.cubic_spline  # Cubic spline interpolation\n",
    "                )\n",
    "\n",
    "    print(f\"Reprojected Sentinel-2 raster saved to: {reprojected_s2}\")\n",
    "\n",
    "def resample_bathy_to_sentinel2(bathy_raster, sentinel_raster, resampled_bathy):\n",
    "\n",
    "    with rasterio.open(sentinel_raster) as sentinel_src:\n",
    "        sentinel_transform = sentinel_src.transform\n",
    "        sentinel_crs = sentinel_src.crs\n",
    "        sentinel_width = sentinel_src.width\n",
    "        sentinel_height = sentinel_src.height\n",
    "\n",
    "    with rasterio.open(bathy_raster) as bathy_src:\n",
    "        resampled_bathymetry = np.empty((sentinel_height, sentinel_width), dtype=bathy_src.dtypes[0])\n",
    "\n",
    "        # Perform the reprojection and resampling\n",
    "        reproject(\n",
    "            source=rasterio.band(bathy_src, 1),  # Use the bathymetry data as the source\n",
    "            destination=resampled_bathymetry,   # Target array for the resampled bathymetry\n",
    "            src_transform=bathy_src.transform,\n",
    "            src_crs=bathy_src.crs,\n",
    "            dst_transform=sentinel_transform,  # Match Sentinel-2 raster's transform\n",
    "            dst_crs=sentinel_crs,              # Match Sentinel-2 raster's CRS\n",
    "            dst_width=sentinel_width,\n",
    "            dst_height=sentinel_height,\n",
    "            resampling=Resampling.bilinear     \n",
    "        )\n",
    "\n",
    "        bathy_meta = bathy_src.meta.copy()\n",
    "        bathy_meta.update({\n",
    "            \"transform\": sentinel_transform,\n",
    "            \"crs\": sentinel_crs,\n",
    "            \"width\": sentinel_width,\n",
    "            \"height\": sentinel_height,\n",
    "            \"dtype\": bathy_src.dtypes[0]  # Use the bathymetry data type\n",
    "        })\n",
    "\n",
    "    # Save the resampled bathymetry raster\n",
    "    with rasterio.open(resampled_bathy, \"w\", **bathy_meta) as dst:\n",
    "        dst.write(resampled_bathymetry, 1)\n",
    "\n",
    "    print(f\"Resampled bathymetry raster saved to: {resampled_bathy}\")\n",
    "\n",
    "def clip_sentinel_by_bathy(bathy_raster, sentinel_raster, output_sentinel):\n",
    "    # Open the bathymetry raster\n",
    "    with rasterio.open(bathy_raster) as bathy_src:\n",
    "        bathy_data = bathy_src.read(1)  # Read the first band (assumes single-band data)\n",
    "        valid_bathy_mask = ~np.isnan(bathy_data)  # Non-NaN bathymetry pixels are valid\n",
    "        bathy_transform = bathy_src.transform\n",
    "        bathy_crs = bathy_src.crs\n",
    "\n",
    "    # Open the Sentinel-2 raster\n",
    "    with rasterio.open(sentinel_raster) as sentinel_src:\n",
    "        # Ensure CRS and transform match\n",
    "        if sentinel_src.crs != bathy_crs or sentinel_src.transform != bathy_transform:\n",
    "            raise ValueError(\"Sentinel-2 raster must already be aligned with bathymetry raster.\")\n",
    "\n",
    "        sentinel_data = sentinel_src.read()  # Read all bands of Sentinel-2 raster\n",
    "\n",
    "        # Create a mask for Sentinel-2 valid pixels (exclude zero values)\n",
    "        valid_sentinel_mask = sentinel_data[0, :, :] != 0  # Assuming first band is representative\n",
    "\n",
    "        # Combine masks (valid bathymetry AND valid Sentinel-2)\n",
    "        combined_mask = valid_bathy_mask & valid_sentinel_mask\n",
    "\n",
    "        # Apply the combined mask to Sentinel-2 data\n",
    "        clipped_sentinel_data = np.where(combined_mask, sentinel_data, np.nan)\n",
    "\n",
    "        # Update metadata\n",
    "        sentinel_meta = sentinel_src.meta.copy()\n",
    "        sentinel_meta.update({\n",
    "            \"dtype\": \"float32\",\n",
    "            \"nodata\": np.nan\n",
    "        })\n",
    "\n",
    "    # Save the clipped Sentinel-2 raster\n",
    "    with rasterio.open(output_sentinel, \"w\", **sentinel_meta) as dst:\n",
    "        dst.write(clipped_sentinel_data)\n",
    "\n",
    "    print(f\"Clipped Sentinel-2 raster saved to: {output_sentinel}\")\n",
    "\n",
    "def clip_bathy_by_sentinel(bathy_raster, clipped_sentinel_raster, output_bathy):\n",
    "    # Open the clipped Sentinel-2 raster to create a valid mask\n",
    "    with rasterio.open(clipped_sentinel_raster) as sentinel_src:\n",
    "        sentinel_data = sentinel_src.read(1)  # Read the first band (assumes single-band data)\n",
    "        valid_sentinel_mask = ~np.isnan(sentinel_data)  # Non-NaN pixels are valid\n",
    "        sentinel_transform = sentinel_src.transform\n",
    "        sentinel_crs = sentinel_src.crs\n",
    "\n",
    "    # Open the bathymetry raster\n",
    "    with rasterio.open(bathy_raster) as bathy_src:\n",
    "        # Ensure CRS and transform match\n",
    "        if bathy_src.crs != sentinel_crs or bathy_src.transform != sentinel_transform:\n",
    "            raise ValueError(\"Bathymetry raster must already be aligned with Sentinel-2 raster.\")\n",
    "\n",
    "        bathy_data = bathy_src.read(1)  # Assuming single-band bathymetry data\n",
    "        clipped_bathy_data = np.where(valid_sentinel_mask, bathy_data, np.nan)  # Mask bathymetry data\n",
    "\n",
    "        # Update metadata\n",
    "        bathy_meta = bathy_src.meta.copy()\n",
    "        bathy_meta.update({\n",
    "            \"dtype\": \"float32\",\n",
    "            \"nodata\": np.nan\n",
    "        })\n",
    "\n",
    "    # Save the clipped bathymetry raster\n",
    "    with rasterio.open(output_bathy, \"w\", **bathy_meta) as dst:\n",
    "        dst.write(clipped_bathy_data, 1)\n",
    "\n",
    "    print(f\"Clipped bathymetry raster saved to: {output_bathy}\")"
   ]
  },
  {
   "cell_type": "markdown",
   "metadata": {},
   "source": [
    "# Establish working directories"
   ]
  },
  {
   "cell_type": "code",
   "execution_count": 3,
   "metadata": {},
   "outputs": [],
   "source": [
    "S2_PATH = '/home/clay/Documents/SDB/CESWG/processed_acolite'\n",
    "BATHY_PATH = '/home/clay/Documents/SDB/CESWG/bathy_rasters'\n",
    "S2_PROJ = S2_PATH.replace('s2_rasters','s2_proj')\n",
    "BATHY_PROJ = BATHY_PATH.replace('bathy_rasters','bathy_proj')\n",
    "\n",
    "FINAL_PATH = '/home/clay/Documents/SDB/CESWG/processed'\n",
    "S2_FINAL = os.path.join(FINAL_PATH, 'S2')\n",
    "BATHY_FINAL = os.path.join(FINAL_PATH, 'Bathy')\n",
    "\n",
    "\n",
    "os.makedirs(S2_PROJ, exist_ok=True)\n",
    "os.makedirs(BATHY_PROJ, exist_ok=True)\n",
    "os.makedirs(FINAL_PATH, exist_ok=True)\n",
    "os.makedirs(S2_FINAL, exist_ok=True)\n",
    "os.makedirs(BATHY_FINAL, exist_ok=True)"
   ]
  },
  {
   "cell_type": "code",
   "execution_count": 19,
   "metadata": {},
   "outputs": [],
   "source": [
    "surveynames = [f[:-4] for f in os.listdir(BATHY_PATH) if f.endswith('.tif')]\n",
    "surveyinfo = {}\n",
    "for f in surveynames:\n",
    "    surveyinfo[f] = [os.path.join(BATHY_PATH, f\"{f}.tif\"), os.path.join(S2_PATH, f\"{f}.tif\")]"
   ]
  },
  {
   "cell_type": "markdown",
   "metadata": {},
   "source": [
    "# Filter out the L2W.nc files that have no pixels"
   ]
  },
  {
   "cell_type": "code",
   "execution_count": null,
   "metadata": {},
   "outputs": [],
   "source": []
  },
  {
   "cell_type": "markdown",
   "metadata": {},
   "source": [
    "# Rasterize the merged L2W.nc files produced by ACOLITE\n",
    "- ensure each band is included in the tif\n",
    "- if multiple, rasterize each, then take medians of the overlap"
   ]
  },
  {
   "cell_type": "code",
   "execution_count": null,
   "metadata": {},
   "outputs": [],
   "source": [
    "def netcdf_to_raster(nc_path, variable, out_tif):\n",
    "    \"\"\"\n",
    "    Converts a NetCDF (.nc) file to a GeoTIFF raster.\n",
    "    \n",
    "    Args:\n",
    "        nc_path (str): Path to the input NetCDF file.\n",
    "        variable (str): Name of the variable to extract (e.g., 'rhow_442' or 'TUR_Novoa2017').\n",
    "        out_tif (str): Output path for the GeoTIFF raster.\n",
    "    \"\"\"\n",
    "    # Open the NetCDF file\n",
    "    ds = xr.open_dataset(nc_path)\n",
    "\n",
    "    # Ensure the variable exists in the dataset\n",
    "    if variable not in ds.variables:\n",
    "        raise ValueError(f\"Variable '{variable}' not found in the NetCDF file. Available variables: {list(ds.variables.keys())}\")\n",
    "\n",
    "    # Extract the variable (e.g., rhow_442)\n",
    "    da = ds[variable]\n",
    "\n",
    "    # Extract spatial coordinates (lat, lon)\n",
    "    lat = ds[\"lat\"].values\n",
    "    lon = ds[\"lon\"].values\n",
    "\n",
    "    # Ensure latitudes are sorted in descending order\n",
    "    if lat[0] < lat[-1]:\n",
    "        da = da[::-1, :]\n",
    "        lat = lat[::-1]\n",
    "\n",
    "    # Define raster transform (assumes regular grid)\n",
    "    transform = from_origin(lon.min(), lat.max(), abs(lon[1] - lon[0]), abs(lat[1] - lat[0]))\n",
    "\n",
    "    # Convert data to numpy array\n",
    "    data_array = da.values.astype(\"float32\")\n",
    "\n",
    "    # Handle NoData values\n",
    "    nodata_value = -9999.0\n",
    "    data_array = np.where(np.isnan(data_array), nodata_value, data_array)\n",
    "\n",
    "    # Save as GeoTIFF\n",
    "    with rasterio.open(\n",
    "        out_tif,\n",
    "        \"w\",\n",
    "        driver=\"GTiff\",\n",
    "        height=data_array.shape[0],\n",
    "        width=data_array.shape[1],\n",
    "        count=1,\n",
    "        dtype=\"float32\",\n",
    "        crs=\"EPSG:4326\",  # Set CRS, modify if needed\n",
    "        transform=transform,\n",
    "        nodata=nodata_value,\n",
    "    ) as dst:\n",
    "        dst.write(data_array, 1)\n"
   ]
  },
  {
   "cell_type": "markdown",
   "metadata": {},
   "source": [
    "# Reproject ACOLITE tif products from EPSG:4326 to the eHydro CRS"
   ]
  },
  {
   "cell_type": "code",
   "execution_count": null,
   "metadata": {},
   "outputs": [],
   "source": [
    "for name, rasters in surveyinfo.items():\n",
    "    reprojected_s2 = os.path.join(S2_PROJ, f\"{name}.tif\")\n",
    "    reproject_sentinel2(rasters[0], rasters[1], reprojected_s2)"
   ]
  },
  {
   "cell_type": "markdown",
   "metadata": {},
   "source": [
    "# Resample bathy rasters from 10 ft resolution to same resolution as S2 rasters\n",
    "- I think I resampled these to 32.8084 ft (10-meter) already, but can check just in case"
   ]
  },
  {
   "cell_type": "code",
   "execution_count": null,
   "metadata": {},
   "outputs": [],
   "source": [
    "for name, rasters in surveyinfo.items():\n",
    "    reprojected_bathy = os.path.join(BATHY_PROJ, f\"{name}.tif\")\n",
    "    reprojected_s2 = os.path.join(S2_PROJ, f\"{name}.tif\")\n",
    "\n",
    "    resample_bathy_to_sentinel2(rasters[0], reprojected_s2, reprojected_bathy)"
   ]
  },
  {
   "cell_type": "code",
   "execution_count": 33,
   "metadata": {},
   "outputs": [],
   "source": [
    "# new dictionary with rasters of matching CRS and spatial resolution (~10 meters)\n",
    "\n",
    "reprojected_rasters = {}\n",
    "for name, rasters in surveyinfo.items():\n",
    "    for raster in rasters:\n",
    "        if 'bathy_rasters' in raster:\n",
    "            bathypath = raster.replace('bathy_rasters', 'bathy_proj')\n",
    "        elif 's2_rasters' in raster:\n",
    "            s2path = raster.replace('s2_rasters', 's2_proj')\n",
    "    reprojected_rasters[name] = [bathypath, s2path]"
   ]
  },
  {
   "cell_type": "markdown",
   "metadata": {},
   "source": [
    "# Clip the S2 rasters by the valid bathymetry pixels\n",
    "- need bounds of non np.nan pixels for clipping"
   ]
  },
  {
   "cell_type": "code",
   "execution_count": null,
   "metadata": {},
   "outputs": [],
   "source": [
    "for name, rasters in reprojected_rasters.items():\n",
    "    reprojected_s2 = os.path.join(S2_FINAL, f\"{name}.tif\")\n",
    "\n",
    "    clip_sentinel_by_bathy(rasters[0], rasters[1], reprojected_s2)"
   ]
  },
  {
   "cell_type": "markdown",
   "metadata": {},
   "source": [
    "# Clip the bathymetry rasters by the valid cloud-masked S2 pixels\n",
    "- need bounds of valid pixels, seems like these will be values above 0.0 since no nan-value is applied in GEE"
   ]
  },
  {
   "cell_type": "code",
   "execution_count": null,
   "metadata": {},
   "outputs": [],
   "source": [
    "for name, rasters in reprojected_rasters.items():\n",
    "    final_bathy = os.path.join(BATHY_FINAL, f\"{name}.tif\")\n",
    "    final_s2 = os.path.join(S2_FINAL, f\"{name}.tif\")\n",
    "\n",
    "    clip_bathy_by_sentinel(rasters[0], final_s2, final_bathy)"
   ]
  },
  {
   "cell_type": "markdown",
   "metadata": {},
   "source": [
    "Should be done with needed preprocessing, can now move to training the model on the data\n",
    "- will try traditional ML regression models, as well as CNN\n",
    "- May try majority voting of multiple training set models like in Tan et al. 2022"
   ]
  },
  {
   "cell_type": "markdown",
   "metadata": {},
   "source": [
    "# Thinking that exporting the data to a .csv or parquet can alleviate some of my memory issues. Going to try it"
   ]
  },
  {
   "cell_type": "code",
   "execution_count": null,
   "metadata": {},
   "outputs": [],
   "source": [
    "\n",
    "def prepare_train_data(surveynames):\n",
    "    pairs = [(os.path.join(S2_PATH, f'{name}.tif'), os.path.join(BATHY_PATH, f'{name}.tif')) for name in surveynames]\n",
    "    \n",
    "    good_pairs = []\n",
    "    goodnames = []\n",
    "    for name, pair in zip(surveynames, pairs):\n",
    "        with rasterio.open(pair[0]) as src:\n",
    "            band = src.read(1)\n",
    "            if band.shape[0] != 0:\n",
    "                good_pairs.append(pair)\n",
    "                goodnames.append(name)\n",
    "\n",
    "    images_data = [extract_raster_data(pair) for pair in good_pairs]\n",
    "    ncf_channels, survey_types = survey_name_type(goodnames)\n",
    "    # all_bands = [create_composite_bands_with_existing(pair[0]) for pair in images_data]\n",
    "    pixel_positions = [get_pixel_positions(os.path.join(S2_PATH, f'{name}.tif')) for name in goodnames]\n",
    "    \n",
    "    data = {}\n",
    "    for i, name in enumerate(goodnames):\n",
    "        # Extract data for the current iteration\n",
    "        bands = images_data[i]               # Shape (n_pixels, 7)\n",
    "        positions = pixel_positions[i]     # Shape (n_pixels, 2)\n",
    "    \n",
    "        data[name] = pd.DataFrame({\n",
    "                \"Blue\": bands[0][0][:, 0],\n",
    "                \"Green\": bands[0][0][:, 1],\n",
    "                \"Red\": bands[0][0][:, 2],\n",
    "                \"NIR\": bands[0][0][:, 3],\n",
    "                \"Blue/Green\": bands[0][0][:, 4],\n",
    "                \"Green/Blue\": bands[0][0][:, 5],\n",
    "                \"Stumpf\": bands[0][0][:, 6],\n",
    "                \"NSMI\": bands[0][0][:, 7],\n",
    "                \"TI\": bands[0][0][:, 8],\n",
    "                \"X\": positions[:, 0],\n",
    "                \"Y\": positions[:, 1],\n",
    "                \"Channel_Name\": [ncf_channels[i]] * len(bands[0][0]),  # Repeating value directly\n",
    "                \"Bathymetry\": bands[0][1]\n",
    "            })\n",
    "\n",
    "    combined_df = pd.concat(data.values(), ignore_index=True)\n",
    "\n",
    "    encoder = LabelEncoder()\n",
    "    combined_df['Channel_Name_Encoded'] = encoder.fit_transform(combined_df['Channel_Name'])\n",
    "\n",
    "    output = open(os.path.join(WORK_DIR, 'Channel_Name_label_encoders.pkl'), 'wb')\n",
    "    pickle.dump(encoder, output)\n",
    "    output.close()\n",
    "    \n",
    "    # Drop original categorical columns\n",
    "    combined_df.drop(columns=['Channel_Name'], inplace=True)\n",
    "\n",
    "    X = combined_df.drop(columns=['Bathymetry'])\n",
    "    y = combined_df['Bathymetry']\n",
    "\n",
    "    X_train, X_temp, y_train, y_temp = train_test_split(X, y, test_size=0.3, random_state=42)\n",
    "\n",
    "    # Split temp into validation (15%) and test (15%)\n",
    "    X_val, X_test, y_val, y_test = train_test_split(X_temp, y_temp, test_size=0.5, random_state=42)\n",
    "\n",
    "    return combined_df, X_train, y_train, X_test, y_test, X_val, y_val"
   ]
  },
  {
   "cell_type": "code",
   "execution_count": null,
   "metadata": {},
   "outputs": [],
   "source": []
  }
 ],
 "metadata": {
  "kernelspec": {
   "display_name": "gis",
   "language": "python",
   "name": "python3"
  },
  "language_info": {
   "codemirror_mode": {
    "name": "ipython",
    "version": 3
   },
   "file_extension": ".py",
   "mimetype": "text/x-python",
   "name": "python",
   "nbconvert_exporter": "python",
   "pygments_lexer": "ipython3",
   "version": "3.10.16"
  }
 },
 "nbformat": 4,
 "nbformat_minor": 2
}
