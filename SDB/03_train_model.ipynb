{
 "cells": [
  {
   "cell_type": "markdown",
   "metadata": {},
   "source": [
    "This notebook will be used to develop and compare regression models to correlate the eHydro bathymetric surveys with cloud-masked Sentinel-2 surface refelctances. These models will hopefully provide USACE and the eHydro program with a new, robust, accurate tool for unmanned bathymetric estiamtes. This will be possible at 10-meter resolution at a frequency of up to 5 days.\n",
    "- First starting with XGBoost, RF, and SVM-RBF regressors in the SWG. May try some NN as well\n",
    "- band maths here with the green and blue bands (short wavelengths penetrate water columns more)\n",
    "- include some metadata (AD, CX, BD? Single vs dual beam?)? Will look into more that may be beneficial"
   ]
  },
  {
   "cell_type": "code",
   "execution_count": 23,
   "metadata": {},
   "outputs": [],
   "source": [
    "import os\n",
    "import rasterio\n",
    "from rasterio.warp import reproject, Resampling, calculate_default_transform\n",
    "from sklearn.metrics import mean_squared_error, r2_score, mean_absolute_error\n",
    "import geopandas as gpd\n",
    "import pandas as pd\n",
    "import numpy as np\n",
    "import matplotlib.pyplot as plt"
   ]
  },
  {
   "cell_type": "markdown",
   "metadata": {},
   "source": [
    "# Functions"
   ]
  },
  {
   "cell_type": "code",
   "execution_count": 33,
   "metadata": {},
   "outputs": [],
   "source": [
    "# Function to normalize an array\n",
    "def normalize(array):\n",
    "    return (array - np.nanmin(array)) / (np.nanmax(array) - np.nanmin(array))\n",
    "\n",
    "# Function to read .tif files\n",
    "def read_tif(file_path):\n",
    "    with rasterio.open(file_path) as src:\n",
    "        array = src.read()  # Read all bands\n",
    "        profile = src.profile  # Get metadata (optional, for reference)\n",
    "    return array, profile\n",
    "\n",
    "# Function to extract features and labels\n",
    "def extract_features_and_labels(sentinel_tif, bathymetry_tif):\n",
    "    # Read Sentinel-2 data (RGB and NIR bands)\n",
    "    sentinel_data, sentinel_profile = read_tif(sentinel_tif)\n",
    "    rgb_nir = sentinel_data[:4]  # Assuming R, G, B, and NIR are the first 4 bands\n",
    "\n",
    "    # Normalize each band\n",
    "    normalized_rgb_nir = np.array([normalize(band) for band in rgb_nir])\n",
    "\n",
    "    # Read bathymetry data\n",
    "    bathymetry_data, bathymetry_profile = read_tif(bathymetry_tif)\n",
    "\n",
    "    # Flatten and align the data\n",
    "    X = normalized_rgb_nir.reshape(4, -1).T  # Flatten RGB+NIR bands (features)\n",
    "    y = bathymetry_data.flatten()  # Flatten bathymetry data (labels)\n",
    "\n",
    "    # Create a valid mask (check per pixel across X and y)\n",
    "    valid_mask = (~np.isnan(y)) & (y != -9999)  # Check bathymetry validity\n",
    "    X = X[valid_mask]  # Apply mask to features\n",
    "    y = y[valid_mask]  # Apply mask to labels\n",
    "\n",
    "    return X, y\n"
   ]
  },
  {
   "cell_type": "code",
   "execution_count": 31,
   "metadata": {},
   "outputs": [],
   "source": [
    "def prepare_dataset(file_dict):\n",
    "    all_X = []\n",
    "    all_y = []\n",
    "\n",
    "    for name, paths in file_dict.items():\n",
    "        X, y = extract_features_and_labels(paths[0], paths[1])\n",
    "        all_X.append(X)\n",
    "        all_y.append(y)\n",
    "\n",
    "    # Concatenate all data\n",
    "    all_X = np.vstack(all_X)\n",
    "    all_y = np.hstack(all_y)\n",
    "\n",
    "    return all_X, all_y"
   ]
  },
  {
   "cell_type": "code",
   "execution_count": 25,
   "metadata": {},
   "outputs": [],
   "source": [
    "\n",
    "def extract_raster_data(raster_dict):\n",
    "    images_data = {}\n",
    "\n",
    "    # Loop through each pair in the dictionary\n",
    "    for site, paths in raster_dict.items():\n",
    "        bathy_path = paths[0]\n",
    "        s2_path = paths[1]\n",
    "\n",
    "        # --- Step 1: Open Bathymetry Raster ---\n",
    "        with rasterio.open(bathy_path) as bathy:\n",
    "            bathy_data = bathy.read(1)  # Bathymetry band\n",
    "            bathy_nodata = bathy.nodata  # NoData value\n",
    "            bathy_transform = bathy.transform\n",
    "            bathy_shape = bathy.shape\n",
    "\n",
    "        # --- Step 2: Open Sentinel-2 Raster ---\n",
    "        with rasterio.open(s2_path) as s2:\n",
    "            if s2.shape != bathy_shape or s2.transform != bathy_transform:\n",
    "                raise ValueError(\n",
    "                    f\"\\nRaster shape or transform mismatch for site {site}. \"\n",
    "                    f\"\\nBathymetry Shape:\\n{bathy_shape}, \\nSentinel-2 Shape:\\n{s2.shape}.\"\n",
    "                    f\"\\nBathymetry Shape:\\n{bathy_transform}, \\nSentinel-2 Shape:\\n{s2.transform}.\"\n",
    "                    \"\\nEnsure Sentinel-2 and bathymetry rasters have identical extents and resolutions.\"\n",
    "                )\n",
    "\n",
    "            # Read Sentinel-2 bands\n",
    "            red = s2.read(1)  # Red band\n",
    "            green = s2.read(2)  # Green band\n",
    "            blue = s2.read(3)  # Blue band\n",
    "            nir = s2.read(4)  # NIR band\n",
    "            s2_nodata = s2.nodata  # NoData value\n",
    "\n",
    "        # --- Step 3: Flatten Bands ---\n",
    "        flatbands = [band.flatten() for band in [bathy_data, red, green, blue, nir]]\n",
    "\n",
    "        # --- Step 4: Mask NoData Values ---\n",
    "        valid_mask = (\n",
    "            ~np.isnan(flatbands[0]) &  # Valid bathy pixels\n",
    "            (flatbands[0] != bathy_nodata) &  # Exclude bathy NoData\n",
    "            (flatbands[1] != s2_nodata) &  # Exclude Sentinel-2 NoData\n",
    "            (flatbands[2] != s2_nodata) &\n",
    "            (flatbands[3] != s2_nodata) &\n",
    "            (flatbands[4] != s2_nodata)\n",
    "        )\n",
    "\n",
    "        # Apply the mask\n",
    "        valid_bands = [band[valid_mask] for band in flatbands]\n",
    "\n",
    "        # --- Step 5: Combine Features and Targets ---\n",
    "        site_features = np.column_stack(valid_bands[1:])  # Sentinel-2 bands (R, G, B, NIR)\n",
    "        site_targets = valid_bands[0]  # Bathymetry (target)\n",
    "\n",
    "        images_data[site] = [site_targets, site_features]\n",
    "\n",
    "    return images_data"
   ]
  },
  {
   "cell_type": "markdown",
   "metadata": {},
   "source": [
    "# Establish working directories"
   ]
  },
  {
   "cell_type": "code",
   "execution_count": 10,
   "metadata": {},
   "outputs": [],
   "source": [
    "S2_PATH = '/home/clay/Documents/SDB/CESWG/processed/S2'\n",
    "BATHY_PATH = '/home/clay/Documents/SDB/CESWG/processed/Bathy'"
   ]
  },
  {
   "cell_type": "code",
   "execution_count": 11,
   "metadata": {},
   "outputs": [],
   "source": [
    "surveynames = [f[:-4] for f in os.listdir(BATHY_PATH) if f.endswith('.tif')]"
   ]
  },
  {
   "cell_type": "code",
   "execution_count": 29,
   "metadata": {},
   "outputs": [],
   "source": [
    "# get paths to each image for each eHydro-Sentinel2 image pair\n",
    "\n",
    "images = {}\n",
    "for name in surveynames:\n",
    "    images[name] = [os.path.join(S2_PATH, f'{name}.tif'), os.path.join(BATHY_PATH, f'{name}.tif')]"
   ]
  },
  {
   "cell_type": "code",
   "execution_count": null,
   "metadata": {},
   "outputs": [],
   "source": [
    "X, y = prepare_dataset(images)"
   ]
  },
  {
   "cell_type": "code",
   "execution_count": null,
   "metadata": {},
   "outputs": [],
   "source": [
    "X"
   ]
  },
  {
   "cell_type": "code",
   "execution_count": 18,
   "metadata": {},
   "outputs": [],
   "source": [
    "# extract the data for each pair into a new data frame. Images stored as arrays for matplotlib, gdal, and rasterio\n",
    "\n",
    "images_data = extract_raster_data(images)"
   ]
  },
  {
   "cell_type": "markdown",
   "metadata": {},
   "source": [
    "# Prepare data for test_train_split\n",
    "- k-fold segmentation for training?\n",
    "- tiling of images or whole images?\n",
    "- try 3 regression models for now: SVM, RF, and XGBoost\n",
    "- may try ElasticNet from cuML, and some shallow NNs"
   ]
  },
  {
   "cell_type": "code",
   "execution_count": null,
   "metadata": {},
   "outputs": [],
   "source": [
    "# import the needed libraries for the models\n",
    "from sklearn.model_selection import train_test_split\n",
    "from sklearn.ensemble import RandomForestRegressor\n",
    "from sklearn.svm import SVR\n",
    "from xgboost import XGBRegressor\n",
    "from sklearn.metrics import r2_score, mean_squared_error, mean_absolute_error"
   ]
  },
  {
   "cell_type": "code",
   "execution_count": 42,
   "metadata": {},
   "outputs": [],
   "source": [
    "# Train-test split\n",
    "X_train, X_test, y_train, y_test = train_test_split(X, y, test_size=0.2, random_state=42)"
   ]
  },
  {
   "cell_type": "markdown",
   "metadata": {},
   "source": [
    "1. Initial RF Regression:\n",
    "- R2 Score: 0.3354\n",
    "- RMSE: 12.8882\n",
    "- MAE: 9.9499"
   ]
  },
  {
   "cell_type": "code",
   "execution_count": null,
   "metadata": {},
   "outputs": [],
   "source": [
    "# Random Forest Model\n",
    "rf_model = RandomForestRegressor()\n",
    "rf_model.fit(X_train, y_train)\n",
    "rf_predictions = rf_model.predict(X_test)\n",
    "\n",
    "r2 = r2_score(y_test, rf_predictions)\n",
    "rmse = np.sqrt(mean_squared_error(y_test, rf_predictions))\n",
    "mae = mean_absolute_error(y_test, rf_predictions)\n",
    "print(f\"R2 Score: {r2:.4f}\")\n",
    "print(f\"RMSE: {rmse:.4f}\")\n",
    "print(f\"MAE: {mae:.4f}\")"
   ]
  },
  {
   "cell_type": "markdown",
   "metadata": {},
   "source": [
    "2. Initial SVM regression:\n",
    "- R2 Score: \n",
    "- RMSE: \n",
    "- MAE: "
   ]
  },
  {
   "cell_type": "code",
   "execution_count": null,
   "metadata": {},
   "outputs": [],
   "source": [
    "# Support Vector Machine Model\n",
    "svm_model = SVR()\n",
    "svm_model.fit(X_train, y_train)\n",
    "svm_predictions = svm_model.predict(X_test)\n",
    "\n",
    "\n",
    "r2 = r2_score(y_test, svm_predictions)\n",
    "rmse = np.sqrt(mean_squared_error(y_test, svm_predictions))\n",
    "mae = mean_absolute_error(y_test, svm_predictions)\n",
    "print(f\"R2 Score: {r2:.4f}\")\n",
    "print(f\"RMSE: {rmse:.4f}\")\n",
    "print(f\"MAE: {mae:.4f}\")"
   ]
  },
  {
   "cell_type": "markdown",
   "metadata": {},
   "source": [
    "3. Initial XGBoost regression:\n",
    "- R2 Score: \n",
    "- RMSE: \n",
    "- MAE: "
   ]
  },
  {
   "cell_type": "code",
   "execution_count": null,
   "metadata": {},
   "outputs": [],
   "source": [
    "# XGBoost Model\n",
    "xgb_model = XGBRegressor()\n",
    "xgb_model.fit(X_train, y_train)\n",
    "xgb_predictions = xgb_model.predict(X_test)\n",
    "\n",
    "r2 = r2_score(y_test, xgb_predictions)\n",
    "rmse = np.sqrt(mean_squared_error(y_test, xgb_predictions))\n",
    "mae = mean_absolute_error(y_test, xgb_predictions)\n",
    "print(f\"R2 Score: {r2:.4f}\")\n",
    "print(f\"RMSE: {rmse:.4f}\")\n",
    "print(f\"MAE: {mae:.4f}\")"
   ]
  },
  {
   "cell_type": "code",
   "execution_count": null,
   "metadata": {},
   "outputs": [],
   "source": [
    "models = {\n",
    "    \"Random Forest\": rf_model,\n",
    "    \"Support Vector Machine\": svm_model,\n",
    "    \"XGBoost\": xgb_model\n",
    "}"
   ]
  },
  {
   "cell_type": "code",
   "execution_count": null,
   "metadata": {},
   "outputs": [],
   "source": [
    "for name, model in models.items():\n",
    "    y_pred = model.predict(X_test)\n",
    "    r2 = r2_score(y_test, y_pred)\n",
    "    rmse = np.sqrt(mean_squared_error(y_test, y_pred))\n",
    "    mae = mean_absolute_error(y_test, y_pred)\n",
    "    mape = np.mean(np.abs((y_test - y_pred) / y_test)) * 100\n",
    "\n",
    "    print(f\"Model: {name}\")\n",
    "    print(f\"R2 Score: {r2:.4f}\")\n",
    "    print(f\"RMSE: {rmse:.4f}\")\n",
    "    print(f\"MAE: {mae:.4f}\")\n",
    "    print(f\"MAPE: {mape:.2f}%\")\n",
    "    print(\"-\" * 30)"
   ]
  },
  {
   "cell_type": "markdown",
   "metadata": {},
   "source": []
  }
 ],
 "metadata": {
  "kernelspec": {
   "display_name": "gis",
   "language": "python",
   "name": "python3"
  },
  "language_info": {
   "codemirror_mode": {
    "name": "ipython",
    "version": 3
   },
   "file_extension": ".py",
   "mimetype": "text/x-python",
   "name": "python",
   "nbconvert_exporter": "python",
   "pygments_lexer": "ipython3",
   "version": "3.10.16"
  }
 },
 "nbformat": 4,
 "nbformat_minor": 2
}
