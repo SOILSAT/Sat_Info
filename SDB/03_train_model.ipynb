{
 "cells": [
  {
   "cell_type": "markdown",
   "metadata": {},
   "source": [
    "This notebook will be used to develop and compare regression models to correlate the eHydro bathymetric surveys with cloud-masked Sentinel-2 surface refelctances. These models will hopefully provide USACE and the eHydro program with a new, robust, accurate tool for unmanned bathymetric estiamtes. This will be possible at 10-meter resolution at a frequency of up to 5 days.\n",
    "- First starting with XGBoost, RF, and SVM-RBF regressors in the SWG. May try some NN as well\n",
    "- band maths here with the green and blue bands (short wavelengths penetrate water columns more)\n",
    "- include some metadata (AD, CX, BD? Single vs dual beam?)? Will look into more that may be beneficial"
   ]
  },
  {
   "cell_type": "code",
   "execution_count": 23,
   "metadata": {},
   "outputs": [],
   "source": [
    "import os\n",
    "import rasterio\n",
    "from rasterio.warp import reproject, Resampling, calculate_default_transform\n",
    "from sklearn.metrics import mean_squared_error, r2_score, mean_absolute_error\n",
    "import geopandas as gpd\n",
    "import pandas as pd\n",
    "import numpy as np"
   ]
  },
  {
   "cell_type": "markdown",
   "metadata": {},
   "source": [
    "# Functions"
   ]
  },
  {
   "cell_type": "code",
   "execution_count": 36,
   "metadata": {},
   "outputs": [],
   "source": [
    "def extract_raster_data(raster_dict):\n",
    "    images_data = {}\n",
    "\n",
    "    # Loop through each pair in the dictionary\n",
    "    for site, paths in raster_dict.items():\n",
    "        bathy_path = paths[0]\n",
    "        s2_path = paths[1]\n",
    "\n",
    "        # --- Step 1: Open Bathymetry Raster ---\n",
    "        with rasterio.open(bathy_path) as bathy:\n",
    "            bathy_data = bathy.read(1)  # Bathymetry band\n",
    "            bathy_nodata = bathy.nodata  # NoData value\n",
    "            bathy_transform = bathy.transform\n",
    "            bathy_shape = bathy.shape\n",
    "\n",
    "        # --- Step 2: Open Sentinel-2 Raster ---\n",
    "        with rasterio.open(s2_path) as s2:\n",
    "            if s2.shape != bathy_shape or s2.transform != bathy_transform:\n",
    "                raise ValueError(\n",
    "                    f\"\\nRaster shape or transform mismatch for site {site}. \"\n",
    "                    f\"\\nBathymetry Shape:\\n{bathy_shape}, \\nSentinel-2 Shape:\\n{s2.shape}.\"\n",
    "                    f\"\\nBathymetry Shape:\\n{bathy_transform}, \\nSentinel-2 Shape:\\n{s2.transform}.\"\n",
    "                    \"\\nEnsure Sentinel-2 and bathymetry rasters have identical extents and resolutions.\"\n",
    "                )\n",
    "\n",
    "            # Read Sentinel-2 bands\n",
    "            red = s2.read(1)  # Red band\n",
    "            green = s2.read(2)  # Green band\n",
    "            blue = s2.read(3)  # Blue band\n",
    "            nir = s2.read(4)  # NIR band\n",
    "            s2_nodata = s2.nodata  # NoData value\n",
    "\n",
    "        # --- Step 3: Flatten Bands ---\n",
    "        flatbands = [band.flatten() for band in [bathy_data, red, green, blue, nir]]\n"
   ]
  },
  {
   "cell_type": "code",
   "execution_count": null,
   "metadata": {},
   "outputs": [],
   "source": [
    "\n",
    "        # --- Step 4: Mask NoData Values ---\n",
    "        valid_mask = (\n",
    "            ~np.isnan(flatbands[0]) &  # Valid bathy pixels\n",
    "            (flatbands[0] != bathy_nodata) &  # Exclude bathy NoData\n",
    "            (flatbands[1] != s2_nodata) &  # Exclude Sentinel-2 NoData\n",
    "            (flatbands[2] != s2_nodata) &\n",
    "            (flatbands[3] != s2_nodata) &\n",
    "            (flatbands[4] != s2_nodata)\n",
    "        )\n",
    "\n",
    "        # Apply the mask\n",
    "        valid_bands = [band[valid_mask] for band in flatbands]\n",
    "\n",
    "        # --- Step 5: Combine Features and Targets ---\n",
    "        site_features = np.column_stack(valid_bands[1:])  # Sentinel-2 bands (R, G, B, NIR)\n",
    "        site_targets = valid_bands[0]  # Bathymetry (target)\n",
    "\n",
    "        images_data[site] = [site_targets, site_features]\n",
    "\n",
    "    return images_data"
   ]
  },
  {
   "cell_type": "markdown",
   "metadata": {},
   "source": [
    "# Establish working directories"
   ]
  },
  {
   "cell_type": "code",
   "execution_count": 28,
   "metadata": {},
   "outputs": [],
   "source": [
    "S2_PATH = '/mnt/d/eHydro/CESWG/s2_rasters'\n",
    "BATHY_PATH = '/mnt/d/eHydro/CESWG/bathy_rasters'"
   ]
  },
  {
   "cell_type": "code",
   "execution_count": 29,
   "metadata": {},
   "outputs": [],
   "source": [
    "surveynames = [f[:-4] for f in os.listdir(BATHY_PATH) if f.endswith('.tif')]"
   ]
  },
  {
   "cell_type": "code",
   "execution_count": 30,
   "metadata": {},
   "outputs": [],
   "source": [
    "# get paths to each image for each eHydro-Sentinel2 image pair\n",
    "\n",
    "images = {}\n",
    "for name in surveynames:\n",
    "    images[name] = [os.path.join(BATHY_PATH, f'{name}.tif'), os.path.join(S2_PATH, f'{name}.tif')]"
   ]
  },
  {
   "cell_type": "code",
   "execution_count": null,
   "metadata": {},
   "outputs": [],
   "source": [
    "# extract the data for each pair into a new data frame. Images stored as arrays for matplotlib, gdal, and rasterio\n",
    "\n",
    "images_data = extract_raster_data(images)"
   ]
  },
  {
   "cell_type": "markdown",
   "metadata": {},
   "source": [
    "# Prepare data for test_train_split\n",
    "- k-fold segmentation for training?\n",
    "- tiling of images or whole images?\n",
    "- try 3 regression models for now: SVM, RF, and XGBoost\n",
    "- may try ElasticNet from cuML, and some shallow NNs"
   ]
  },
  {
   "cell_type": "code",
   "execution_count": null,
   "metadata": {},
   "outputs": [],
   "source": [
    "# import the needed libraries for the models\n",
    "from sklearn.ensemble import RandomForestRegressor\n",
    "from sklearn.svm import SVR\n",
    "from xgboost import XGBRegressor\n"
   ]
  },
  {
   "cell_type": "markdown",
   "metadata": {},
   "source": []
  }
 ],
 "metadata": {
  "kernelspec": {
   "display_name": "py_gis",
   "language": "python",
   "name": "python3"
  },
  "language_info": {
   "codemirror_mode": {
    "name": "ipython",
    "version": 3
   },
   "file_extension": ".py",
   "mimetype": "text/x-python",
   "name": "python",
   "nbconvert_exporter": "python",
   "pygments_lexer": "ipython3",
   "version": "3.9.9"
  }
 },
 "nbformat": 4,
 "nbformat_minor": 2
}
