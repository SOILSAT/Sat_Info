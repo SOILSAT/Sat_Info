{
 "cells": [
  {
   "cell_type": "markdown",
   "metadata": {},
   "source": [
    "# This notebook is going to serve as my workflow for estimating NCF bathymetries using historical eHydro sureys and EO multispectral data. I will train a NN on eHydro bathy surveys to estimate waterway bathymetries using corrected surface reflectances\n",
    "- get bathy surveys from https://services7.arcgis.com/n1YM8pTrFmm7L4hs/ArcGIS/rest/services/eHydro_Survey_Data/FeatureServer/query\n",
    "- S2 imagery from GEE\n",
    "- TF for NN"
   ]
  },
  {
   "cell_type": "code",
   "execution_count": null,
   "metadata": {},
   "outputs": [],
   "source": []
  },
  {
   "cell_type": "markdown",
   "metadata": {},
   "source": [
    "# Query bathy data"
   ]
  },
  {
   "cell_type": "code",
   "execution_count": null,
   "metadata": {},
   "outputs": [],
   "source": [
    "import requests\n",
    "\n",
    "# Define the URL for the ArcGIS REST service\n",
    "url = \"https://services7.arcgis.com/n1YM8pTrFmm7L4hs/ArcGIS/rest/services/eHydro_Survey_Data/FeatureServer/0/query\"\n",
    "\n",
    "# Define the parameters for the query (without geometry)\n",
    "params = {\n",
    "    'where': \"1=1\",  # No filter, retrieve all data\n",
    "    'outFields': '*',  # Retrieve all fields\n",
    "    'f': 'json',  # Output format\n",
    "    'outSR': '4326',  # Output spatial reference (WGS 84 for Lat/Long)\n",
    "}\n",
    "\n",
    "# Send the request\n",
    "response = requests.get(url, params=params)\n",
    "\n",
    "# Check if the request was successful\n",
    "if response.status_code == 200:\n",
    "    # Parse the JSON data\n",
    "    data = response.json()\n",
    "    \n",
    "    # Extract features (bathymetric survey data)\n",
    "    features = data.get('features', [])\n",
    "    \n",
    "    # Iterate through features to extract bathymetric values and coordinates\n",
    "    for feature in features:\n",
    "        geometry = feature.get('geometry', {})\n",
    "        attributes = feature.get('attributes', {})\n",
    "        print(f\"Geometry: {geometry}, Attributes: {attributes}\")\n",
    "else:\n",
    "    print(f\"Failed to retrieve data: {response.status_code}\")"
   ]
  },
  {
   "cell_type": "code",
   "execution_count": null,
   "metadata": {},
   "outputs": [],
   "source": [
    "params['resultOffset'] = 0\n",
    "params['resultRecordCount'] = 1000  # Adjust depending on the number of records you want\n",
    "\n",
    "while True:\n",
    "    response = requests.get(url, params=params)\n",
    "    data = response.json()\n",
    "    features = data.get('features', [])\n",
    "    \n",
    "    if not features:\n",
    "        break  # No more results\n",
    "    \n",
    "    # Process features\n",
    "    for feature in features:\n",
    "        geometry = feature.get('geometry', {})\n",
    "        attributes = feature.get('attributes', {})\n",
    "        print(f\"Geometry: {geometry}, Attributes: {attributes}\")\n",
    "    \n",
    "    # Increment offset for the next batch of records\n",
    "    params['resultOffset'] += 1000\n"
   ]
  },
  {
   "cell_type": "markdown",
   "metadata": {},
   "source": [
    "# Get EE imagery for each survey\n",
    "- Sentinel-2 Surface Reflectance product, test multiple individual bands (red, blue, NIR may be best)\n",
    "- At some point, if S2 results good, try Planet 3m-daily imagery"
   ]
  },
  {
   "cell_type": "code",
   "execution_count": null,
   "metadata": {},
   "outputs": [],
   "source": []
  }
 ],
 "metadata": {
  "language_info": {
   "name": "python"
  }
 },
 "nbformat": 4,
 "nbformat_minor": 2
}
