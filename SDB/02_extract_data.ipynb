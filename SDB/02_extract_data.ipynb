{
 "cells": [
  {
   "cell_type": "markdown",
   "metadata": {},
   "source": [
    "# Use this notebook to extract some of the needed data for training the model. Assuming the bathy data is downloaded from 01_get_data.ipynb, and the imagery is downloaded from Google Drive"
   ]
  },
  {
   "cell_type": "code",
   "execution_count": 183,
   "metadata": {},
   "outputs": [],
   "source": [
    "import os\n",
    "import rasterio\n",
    "from rasterio.warp import calculate_default_transform, reproject, Resampling\n",
    "from rasterio.mask import mask\n",
    "import numpy as np\n",
    "import geopandas as gpd\n",
    "import zipfile\n",
    "from osgeo import gdal"
   ]
  },
  {
   "cell_type": "markdown",
   "metadata": {},
   "source": [
    "# Functions"
   ]
  },
  {
   "cell_type": "code",
   "execution_count": 181,
   "metadata": {},
   "outputs": [],
   "source": [
    "def normalize(array):\n",
    "    return (array - np.nanmin(array)) / (np.nanmax(array) - np.nanmin(array))\n",
    "\n",
    "def interpolate_bathymetry(surveyname, resolution, storage_dir):\n",
    "    folder_path = os.path.join(BATHY_PATH, surveyname)\n",
    "    input_shapefile = [os.path.join(folder_path, f) for f in os.listdir(folder_path) if f.endswith('.gdb')][0]\n",
    "    output_raster = \"/tmp/bathy_interp.tif\"  # Output raster file path\n",
    "    clipped_raster = '/tmp/bath_clip.tif'\n",
    "    resampled_raster = os.path.join(storage_dir, f'{surveyname}.tif')\n",
    "    z_field = \"depthMean\"  # Attribute containing bathymetry or depth values\n",
    "    resolution = 10  # Desired pixel resolution in meters\n",
    "\n",
    "    gdf = gpd.read_file(input_shapefile, layer=\"Bathymetry_Vector\")\n",
    "    xmin, ymin, xmax, ymax = gdf.total_bounds  # Get the extent of the layer\n",
    "\n",
    "    # Calculate raster width and height\n",
    "    width = round((xmax - xmin) / resolution)\n",
    "    height = round((ymax - ymin) / resolution)\n",
    "\n",
    "    # --- Step 3: Create the Raster Using gdal.Grid ---\n",
    "    gdal.Grid(\n",
    "        output_raster,                # Output raster path\n",
    "        input_shapefile,              # Input vector data\n",
    "        format=\"GTiff\",               # Output file format\n",
    "        algorithm=\"invdist\",          # Interpolation method (IDW)\n",
    "        zfield=z_field,               # Attribute containing bathymetry values\n",
    "        outputBounds=[xmin, ymin, xmax, ymax],  # Set bounds\n",
    "        width=width,                  # Number of columns\n",
    "        height=height,                # Number of rows\n",
    "        layers=\"Bathymetry_Vector\",   # Specify the layer\n",
    "        z_multiply=-1                 # Flip depths to negative\n",
    "    )\n",
    "    \n",
    "    # --- Step 4: Clip the Raster to the GDF Geometry ---\n",
    "    # Combine all geometries into a single boundary\n",
    "    geometry = [gdf.geometry.union_all()]\n",
    "\n",
    "    # Open the created raster and clip it using the GDF boundary\n",
    "    with rasterio.open(output_raster) as src:\n",
    "        clipped_image, clipped_transform = mask(\n",
    "            src, geometry, crop=True, nodata=np.nan\n",
    "        )\n",
    "        clipped_meta = src.meta.copy()\n",
    "        clipped_meta.update({\n",
    "            \"driver\": \"GTiff\",\n",
    "            \"height\": clipped_image.shape[1],\n",
    "            \"width\": clipped_image.shape[2],\n",
    "            \"transform\": clipped_transform,\n",
    "            \"nodata\": np.nan\n",
    "        })\n",
    "\n",
    "    # Save the clipped raster to a new file\n",
    "    with rasterio.open(clipped_raster, \"w\", **clipped_meta) as dst:\n",
    "        dst.write(clipped_image[0], 1)  # Access first band\n",
    "\n",
    "    # --- Step 5: Resample the Clipped Raster to 10m Resolution ---\n",
    "    gdal.Warp(\n",
    "        resampled_raster,       # Output resampled raster path\n",
    "        clipped_raster,         # Input clipped raster\n",
    "        xRes=resolution,              # Set pixel size in x direction\n",
    "        yRes=resolution,              # Set pixel size in y direction\n",
    "        resampleAlg=gdal.GRA_Bilinear, # Bilinear interpolation for resampling\n",
    "        targetAlignedPixels=True,     # Align pixels to the grid\n",
    "        dstNodata=np.nan              # Set NoData value to NaN\n",
    "    )\n",
    "\n",
    "    os.remove(output_raster)\n",
    "    os.remove(clipped_raster)\n",
    "    print(f\"Resampled raster saved to: {resampled_raster}\")\n",
    "\n",
    "def reproject_sentinel2(bathy_raster, s2_raster, reprojected_s2):\n",
    "    # Open the bathymetry raster to get its CRS\n",
    "    with rasterio.open(bathy_raster) as bathy_src:\n",
    "        bathy_crs = bathy_src.crs\n",
    "\n",
    "    # Open the Sentinel-2 raster for reprojection\n",
    "    with rasterio.open(s2_raster) as s2_src:\n",
    "        # Calculate the transform, width, and height for the new CRS\n",
    "        transform, width, height = calculate_default_transform(\n",
    "            s2_src.crs, bathy_crs, s2_src.width, s2_src.height, *s2_src.bounds\n",
    "        )\n",
    "\n",
    "        # Update metadata for the reprojected Sentinel-2 raster\n",
    "        new_meta = s2_src.meta.copy()\n",
    "        new_meta.update({\n",
    "            \"crs\": bathy_crs,\n",
    "            \"transform\": transform,\n",
    "            \"width\": width,\n",
    "            \"height\": height\n",
    "        })\n",
    "\n",
    "        # Reproject and save the Sentinel-2 raster\n",
    "        with rasterio.open(reprojected_s2, \"w\", **new_meta) as dst:\n",
    "            for i in range(1, s2_src.count + 1):  # Loop through bands\n",
    "                reproject(\n",
    "                    source=rasterio.band(s2_src, i),\n",
    "                    destination=rasterio.band(dst, i),\n",
    "                    src_transform=s2_src.transform,\n",
    "                    src_crs=s2_src.crs,\n",
    "                    dst_transform=transform,\n",
    "                    dst_crs=bathy_crs,\n",
    "                    resampling=Resampling.cubic_spline  # Cubic spline interpolation\n",
    "                )\n",
    "\n",
    "    print(f\"Reprojected Sentinel-2 raster saved to: {reprojected_s2}\")"
   ]
  },
  {
   "cell_type": "markdown",
   "metadata": {},
   "source": [
    "# Establish working directories"
   ]
  },
  {
   "cell_type": "code",
   "execution_count": 184,
   "metadata": {},
   "outputs": [],
   "source": [
    "s2_path = '/mnt/d/eHydro/tiffs'\n",
    "BATHY_PATH = '/mnt/d/eHydro/bathy'"
   ]
  },
  {
   "cell_type": "code",
   "execution_count": 185,
   "metadata": {},
   "outputs": [],
   "source": [
    "zipnames = [f[:-4] for f in os.listdir(BATHY_PATH) if f.endswith('.zip')]\n",
    "if len(zipnames) > 0:\n",
    "    for name in zipnames:\n",
    "        zipfile_path = os.path.join(BATHY_PATH, f'{name}.zip')\n",
    "        with zipfile.ZipFile(zipfile_path,'r') as zip_ref:\n",
    "            zip_ref.extractall(zipfile_path[:-4])\n",
    "            os.remove(zipfile_path)\n",
    "    surveynames = [f for f in os.listdir(BATHY_PATH)]\n",
    "else:\n",
    "    surveynames = [f for f in os.listdir(BATHY_PATH)]"
   ]
  },
  {
   "cell_type": "markdown",
   "metadata": {},
   "source": [
    "# Extract the needed data for bathymetry rasters from the downloaded .zip files"
   ]
  },
  {
   "cell_type": "code",
   "execution_count": 26,
   "metadata": {},
   "outputs": [],
   "source": [
    "# use this if you need to unzip\n",
    "bathyinfo = {}\n",
    "for name in surveynames:\n",
    "    folder_path = os.path.join(BATHY_PATH, name)\n",
    "    gdb_file = [os.path.join(folder_path, f) for f in os.listdir(folder_path) if f.endswith('.gdb')][0]\n",
    "    bathyvector = gpd.read_file(gdb_file, layer='Bathymetry_Vector')\n",
    "    contours = gpd.read_file(gdb_file, layer=\"ElevationContour_ALL\")\n",
    "\n",
    "    bathyinfo[name] = [bathyvector, contours]\n"
   ]
  },
  {
   "cell_type": "markdown",
   "metadata": {},
   "source": [
    "# Generate 10m pixel resolution bathymetry rasters from the .gdb files\n",
    "Each .zip file comes with required and optional files. One of the required files is the .gdb file. This contains needed bathymetry and geospatial extents. Two files within the .gdb can be used to get the bathymetry: Bathymetry_Vector or ElevationContour_ALL. Bathymetry_Vector is a shapefile containing polygons assigned a mean depth. ElevationContour_ALL is a shapefile containing multipart lines with each line denoting an elevation. This raster generation for the bathymetry is done using the Bathymetry_Vector multipolygon shapefile"
   ]
  },
  {
   "cell_type": "code",
   "execution_count": null,
   "metadata": {},
   "outputs": [],
   "source": [
    "storage_dir = '/mnt/d/eHydro/bathy_rasters'\n",
    "os.makedirs(storage_dir, exist_ok=True)\n",
    "\n",
    "for key in bathyinfo.keys():\n",
    "    interpolate_bathymetry(key, 10, storage_dir)"
   ]
  },
  {
   "cell_type": "markdown",
   "metadata": {},
   "source": [
    "# Reproject GEE Sentinel-2 products from EPSG:4326 to the eHydro CRS"
   ]
  },
  {
   "cell_type": "code",
   "execution_count": null,
   "metadata": {},
   "outputs": [],
   "source": [
    "for name in surveynames:\n",
    "    bathy_raster = os.path.join('/mnt/d/eHydro/bathy_rasters', f'{name}.tif')\n",
    "    s2_raster = os.path.join('/mnt/d/eHydro/tiffs', f'{name}.tif')\n",
    "    reprojected_s2 = os.path.join('/mnt/d/eHydro/s2_rasters', f'{name}.tif')\n",
    "\n",
    "    reproject_sentinel2(bathy_raster, s2_raster, reprojected_s2)"
   ]
  }
 ],
 "metadata": {
  "kernelspec": {
   "display_name": "py_gis",
   "language": "python",
   "name": "python3"
  },
  "language_info": {
   "codemirror_mode": {
    "name": "ipython",
    "version": 3
   },
   "file_extension": ".py",
   "mimetype": "text/x-python",
   "name": "python",
   "nbconvert_exporter": "python",
   "pygments_lexer": "ipython3",
   "version": "3.9.9"
  }
 },
 "nbformat": 4,
 "nbformat_minor": 2
}
