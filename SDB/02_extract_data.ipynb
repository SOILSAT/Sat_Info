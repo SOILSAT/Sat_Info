{
 "cells": [
  {
   "cell_type": "markdown",
   "metadata": {},
   "source": [
    "# Use this notebook to extract some of the needed data for training the model. Assuming the bathy data is downloaded from 01_get_data.ipynb, and the imagery is downloaded from Google Drive"
   ]
  },
  {
   "cell_type": "code",
   "execution_count": 24,
   "metadata": {},
   "outputs": [],
   "source": [
    "import os\n",
    "import matplotlib.pyplot as plt\n",
    "import rasterio\n",
    "from rasterio.warp import calculate_default_transform, reproject, Resampling\n",
    "from rasterio.features import rasterize\n",
    "from rasterio.transform import from_bounds\n",
    "import pandas as pd\n",
    "import numpy as np\n",
    "import geopandas as gpd\n",
    "import fiona\n",
    "from scipy.interpolate import griddata\n",
    "import zipfile"
   ]
  },
  {
   "cell_type": "markdown",
   "metadata": {},
   "source": [
    "# Functions"
   ]
  },
  {
   "cell_type": "code",
   "execution_count": 63,
   "metadata": {},
   "outputs": [],
   "source": [
    "def normalize(array):\n",
    "    return (array - np.nanmin(array)) / (np.nanmax(array) - np.nanmin(array))"
   ]
  },
  {
   "cell_type": "markdown",
   "metadata": {},
   "source": [
    "# Establish working directories"
   ]
  },
  {
   "cell_type": "code",
   "execution_count": 38,
   "metadata": {},
   "outputs": [],
   "source": [
    "s2_path = '/mnt/d/eHydro/tiffs'\n",
    "bathy_path = '/mnt/d/eHydro/bathy'"
   ]
  },
  {
   "cell_type": "code",
   "execution_count": 39,
   "metadata": {},
   "outputs": [],
   "source": [
    "surveynames = os.listdir(bathy_path)"
   ]
  },
  {
   "cell_type": "markdown",
   "metadata": {},
   "source": [
    "# Extract the needed data for bathymetry rasters from the downloaded .zip files"
   ]
  },
  {
   "cell_type": "code",
   "execution_count": null,
   "metadata": {},
   "outputs": [],
   "source": [
    "bathyinfo = {}\n",
    "for name in surveynames:\n",
    "    zipfile_path = os.path.join(bathy_path, f'{name}.zip')\n",
    "    with zipfile.ZipFile(zipfile_path,'r') as zip_ref:\n",
    "        zip_ref.extractall(zipfile_path[:-4])\n",
    "        os.remove(zipfile_path)\n",
    "\n",
    "    gdb_path = os.path.join(bathy_path, f'{name}/{name}.gdb')\n",
    "    bathyvector = gpd.read_file(gdb_path, layer='Bathymetry_Vector')\n",
    "    contours = gpd.read_file(gdb_path, layer=\"ElevationContour_ALL\")\n",
    "\n",
    "    bathyinfo[name] = [bathyvector, contours]"
   ]
  },
  {
   "cell_type": "code",
   "execution_count": null,
   "metadata": {},
   "outputs": [],
   "source": [
    "bathyinfo = {}\n",
    "for name in surveynames:\n",
    "    gdb_path = os.path.join(bathy_path, f'{name}/{name}.gdb')\n",
    "    bathyvector = gpd.read_file(gdb_path, layer='Bathymetry_Vector')\n",
    "    contours = gpd.read_file(gdb_path, layer=\"ElevationContour_ALL\")\n",
    "\n",
    "\n",
    "    bathyinfo[name] = [bathyvector, contours]"
   ]
  },
  {
   "cell_type": "code",
   "execution_count": null,
   "metadata": {},
   "outputs": [],
   "source": [
    "i = 200\n",
    "display(surveynames[i])\n",
    "display(bathyinfo[surveynames[i]][0][['channelAreaIDFK','depthMean', 'geometry']])\n",
    "display(bathyinfo[surveynames[i]][0][['channelAreaIDFK','depthMean', 'geometry']])"
   ]
  },
  {
   "cell_type": "markdown",
   "metadata": {},
   "source": [
    "# Generate 10m pixel resolution bathymetry rasters from the .gdb files\n",
    "Each .zip file comes with required and optional files. One of the required files is the .gdb file. This contains needed bathymetry and geospatial extents. Two files within the .gdb can be used to get the bathymetry: Bathymetry_Vector or ElevationContour_ALL. Bathymetry_Vector is a shapefile containing polygons assigned a mean depth. ElevationContour_ALL is a shapefile containing multipart lines with each line denoting an elevation. Raster generation for the bathymetry can be done using either of the files."
   ]
  },
  {
   "cell_type": "code",
   "execution_count": null,
   "metadata": {},
   "outputs": [],
   "source": [
    "# NEED TO WORK ON THIS FUNCTION MORE, NEED A MORE ACCURATE DEM\n",
    "# ArcPy? GDAL? GRASS?\n",
    "\n",
    "def bathy_contours(contours_file, interpolation_mehod):\n",
    "    depths = []\n",
    "    coords = []\n",
    "\n",
    "    for line, depth in zip(contours_file.geometry, contours_file['contourElevation']): \n",
    "        depth *= -1\n",
    "        if line.geom_type == \"LineString\":\n",
    "            # Single LineString\n",
    "            coords.extend(list(line.coords))\n",
    "            depths.extend([depth] * len(line.coords))\n",
    "        elif line.geom_type == \"MultiLineString\":\n",
    "            # Multi-part LineString\n",
    "            for part in line.geoms:\n",
    "                coords.extend(list(part.coords))\n",
    "                depths.extend([depth] * len(part.coords))\n",
    "\n",
    "\n",
    "    # Define grid bounds and resolution\n",
    "    bounds = contours_file.total_bounds  # [minX, minY, maxX, maxY]\n",
    "    grid_x, grid_y = np.meshgrid(\n",
    "        np.linspace(bounds[0], bounds[2], 500),  # 500 points along X-axis\n",
    "        np.linspace(bounds[1], bounds[3], 500),  # 500 points along Y-axis\n",
    "    )\n",
    "\n",
    "    # Interpolate depth values onto the grid\n",
    "    grid_z = griddata(coords, depths, (grid_x, grid_y), method=interpolation_mehod)  # Use 'linear' or 'nearest' if needed\n",
    "    grid_z = np.nan_to_num(grid_z, nan=np.nan)  # Replace NaN with NoData value\n",
    "\n",
    "    return grid_z"
   ]
  },
  {
   "cell_type": "code",
   "execution_count": null,
   "metadata": {},
   "outputs": [],
   "source": [
    "for key, items in bathyinfo.items():\n",
    "    bathy = bathy_contours(items[1], 'nearest')\n",
    "    bathyinfo[key].append(bathy)"
   ]
  },
  {
   "cell_type": "code",
   "execution_count": null,
   "metadata": {},
   "outputs": [],
   "source": [
    "plt.imshow(bathyinfo[key][-1])\n",
    "plt.plot()"
   ]
  },
  {
   "cell_type": "code",
   "execution_count": 224,
   "metadata": {},
   "outputs": [],
   "source": [
    "# Define raster resolution (grid size in meters)\n",
    "resolution = 10  # Each pixel will cover a 10m x 10m area\n",
    "\n",
    "# Create a transform for the raster\n",
    "transform = from_bounds(bounds[0], bounds[1], bounds[2], bounds[3],\n",
    "                        int((bounds[2] - bounds[0]) / resolution),  # Number of columns\n",
    "                        int((bounds[3] - bounds[1]) / resolution))  # Number of rows"
   ]
  },
  {
   "cell_type": "markdown",
   "metadata": {},
   "source": [
    "# Ensure the corresponding .tif files are in the same projection as the bathymetry tifs"
   ]
  },
  {
   "cell_type": "code",
   "execution_count": null,
   "metadata": {},
   "outputs": [],
   "source": [
    "tif_file = '/mnt/d/eHydro/tiffs/TC_01_BRT_20201225_XA.tif'\n",
    "reprojected_file = '/mnt/d/eHydro/TC_01_BRT_20201225_XA/TC_01_BRT_20201225_XA_reprojected.tif'\n",
    "\n",
    "# Reproject to match bathymetry CRS\n",
    "with rasterio.open(tif_file) as src:\n",
    "    # Get bathymetry CRS\n",
    "    bathy_crs = contours.crs\n",
    "\n",
    "    # Calculate the transform and metadata for the new CRS\n",
    "    transform, width, height = calculate_default_transform(\n",
    "        src.crs, bathy_crs, src.width, src.height, *src.bounds\n",
    "    )\n",
    "    new_meta = src.meta.copy()\n",
    "    new_meta.update({\n",
    "        \"crs\": bathy_crs,\n",
    "        \"transform\": transform,\n",
    "        \"width\": width,\n",
    "        \"height\": height\n",
    "    })\n",
    "\n",
    "    # Reproject and save the raster\n",
    "    with rasterio.open(reprojected_file, \"w\", **new_meta) as dst:\n",
    "        for i in range(1, src.count + 1):  # Loop through bands\n",
    "            reproject(\n",
    "                source=rasterio.band(src, i),\n",
    "                destination=rasterio.band(dst, i),\n",
    "                src_transform=src.transform,\n",
    "                src_crs=src.crs,\n",
    "                dst_transform=transform,\n",
    "                dst_crs=bathy_crs,\n",
    "                resampling=Resampling.cubic_spline\n",
    "            )\n",
    "\n",
    "print(\"Sentinel-2 raster reprojected successfully!\")\n",
    "\n",
    "with rasterio.open(reprojected_file) as src:\n",
    "    meta = src.profile\n",
    "    red = src.read(3)  # Red band\n",
    "    green = src.read(2)  # Green band\n",
    "    blue = src.read(1)  # Blue band\n",
    "    tif_extent = src.bounds  # Get the bounding box for extent\n",
    "    transform = src.transform\n",
    "    extent = [tif_extent.left, tif_extent.right, tif_extent.bottom, tif_extent.top]\n",
    "\n",
    "    rgb = np.dstack([normalize(red),normalize(green),normalize(blue)])"
   ]
  },
  {
   "cell_type": "code",
   "execution_count": null,
   "metadata": {},
   "outputs": [],
   "source": [
    "# Create a mask for valid (non-NaN) pixels in Sentinel-2\n",
    "sentinel_mask = ~np.isnan(red) & ~np.isnan(green) & ~np.isnan(blue)  # Valid pixels in all bands\n",
    "\n",
    "# Find the row/column indices of the valid mask\n",
    "rows, cols = np.where(sentinel_mask)\n",
    "\n",
    "# Calculate the bounding box in pixel indices\n",
    "row_min, row_max = rows.min(), rows.max()\n",
    "col_min, col_max = cols.min(), cols.max()\n",
    "\n",
    "# Convert pixel indices to geospatial coordinates using the transform\n",
    "from rasterio.transform import rowcol, xy\n",
    "\n",
    "# Get bounds in geospatial coordinates\n",
    "xmin, ymin = xy(transform, row_max + 1, col_min)  # Lower-left corner\n",
    "xmax, ymax = xy(transform, row_min, col_max + 1)  # Upper-right corner\n",
    "\n",
    "# Output the new bounds\n",
    "sentinel_bounds = (xmin, xmax, ymin, ymax)\n",
    "\n",
    "# Calculate indices for the bathymetry grid within the Sentinel bounds\n",
    "x_indices = np.where((bounds[0] <= grid_x) & (grid_x <= bounds[2]))[0]\n",
    "y_indices = np.where((bounds[1] <= grid_y) & (grid_y <= bounds[3]))[0]\n",
    "\n",
    "# Subset the grid_z array to these indices\n",
    "clipped_grid_z = grid_z[y_indices.min():y_indices.max() + 1, x_indices.min():x_indices.max() + 1]\n",
    "\n",
    "# Update bounds to match the clipped grid\n",
    "clipped_bounds = (xmin, xmax, ymin, ymax)\n",
    "\n",
    "# Plot the bathymetry data next to the true color composite\n",
    "fig, axes = plt.subplots(1, 2, figsize=(16, 8))\n",
    "\n",
    "# Plot True Color Composite (left)\n",
    "axes[0].imshow(rgb, extent=extent)\n",
    "axes[0].set_title(\"True Color Composite\")\n",
    "axes[0].set_xlabel(\"Easting\")\n",
    "axes[0].set_ylabel(\"Northing\")\n",
    "\n",
    "# Plot Clipped Bathymetry (right)\n",
    "im = axes[1].imshow(\n",
    "    clipped_grid_z,\n",
    "    cmap=\"viridis\",\n",
    "    extent=clipped_bounds,\n",
    "    origin=\"lower\",\n",
    "    vmin=np.nanmin(clipped_grid_z),\n",
    "    vmax=np.nanmax(clipped_grid_z)\n",
    ")\n",
    "axes[1].set_title(\"Clipped Interpolated Bathymetry\")\n",
    "axes[1].set_xlabel(\"Easting\")\n",
    "axes[1].set_ylabel(\"Northing\")\n",
    "\n",
    "# Add color bar\n",
    "cbar = fig.colorbar(im, ax=axes[1], fraction=0.03, pad=0.04)\n",
    "cbar.set_label(\"Depth (feet)\")\n",
    "\n",
    "plt.tight_layout()\n",
    "plt.show()"
   ]
  },
  {
   "cell_type": "code",
   "execution_count": null,
   "metadata": {},
   "outputs": [],
   "source": [
    "# Create a mask where all three bands (red, green, blue) are greater than 0\n",
    "mask = (rgb > 0).all(axis=2)  # Mask shape will be (472, 1183)\n",
    "\n",
    "# Apply the mask to each RGB channel\n",
    "rgb_masked = np.zeros_like(rgb)  # Initialize an empty array with the same shape as `rgb`\n",
    "rgb_masked[:] = np.nan           # Fill with NaN for invalid pixels\n",
    "for i in range(3):               # Apply mask to each channel\n",
    "    rgb_masked[:, :, i] = np.where(mask, rgb[:, :, i], np.nan)\n",
    "\n",
    "# Plot the masked RGB image\n",
    "plt.figure(figsize=(10, 8))\n",
    "plt.imshow(rgb_masked, extent=extent)\n",
    "plt.title(\"RGB Image with Pixels > 0\")\n",
    "plt.xlabel(\"Easting\")\n",
    "plt.ylabel(\"Northing\")\n",
    "plt.show()"
   ]
  }
 ],
 "metadata": {
  "kernelspec": {
   "display_name": "py_gis",
   "language": "python",
   "name": "python3"
  },
  "language_info": {
   "codemirror_mode": {
    "name": "ipython",
    "version": 3
   },
   "file_extension": ".py",
   "mimetype": "text/x-python",
   "name": "python",
   "nbconvert_exporter": "python",
   "pygments_lexer": "ipython3",
   "version": "3.9.9"
  }
 },
 "nbformat": 4,
 "nbformat_minor": 2
}
