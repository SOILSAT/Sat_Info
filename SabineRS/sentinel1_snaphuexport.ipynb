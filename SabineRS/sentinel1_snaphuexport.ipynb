{
 "cells": [
  {
   "cell_type": "markdown",
   "metadata": {},
   "source": [
    "# This notebook will serve as the interactive notebook for leveraging the SNAP Graph Processing Tool using the subprocess library. \n",
    "- Allows for easier bulk processing of many interferograms, which is needed for non-zero closure phase correction (InSAR triplets)\n",
    "- Allows for easier bulk processing of custom GRD-like products (will produce both calibrate and uncalibrated backscatter data for classification)"
   ]
  },
  {
   "cell_type": "code",
   "execution_count": 1,
   "metadata": {},
   "outputs": [],
   "source": [
    "# import dependencies\n",
    "import os\n",
    "from time import perf_counter\n",
    "import subprocess\n",
    "import shutil"
   ]
  },
  {
   "cell_type": "markdown",
   "metadata": {},
   "source": [
    "# Functions"
   ]
  },
  {
   "cell_type": "code",
   "execution_count": null,
   "metadata": {},
   "outputs": [],
   "source": [
    "def project_dir(cwd, project_name):\n",
    "    work_dir = os.path.join(cwd, project_name)\n",
    "    os.makedirs(work_dir, exist_ok=True)\n",
    "    data_dir = os.path.join(work_dir,'0_initial')\n",
    "    os.makedirs(data_dir, exist_ok=True)\n",
    "\n",
    "    return work_dir, data_dir\n",
    "\n",
    "def get_triplets(slc_list):\n",
    "    \"\"\"\n",
    "    this program will generate a dictionary with keys triplet_n, where n is the triplet stack\n",
    "    each triplet_n contains 4 sets. Each set contains (path/to/ref.xml, path/to/sec.xml)\n",
    "    \n",
    "    slc_zips = list of directories containing the topsApp, reference, and secondary .xml files    \n",
    "    created an returned using the project_dir fucntion\n",
    "    \"\"\"\n",
    "    \n",
    "    triplet_dict={}\n",
    "    \n",
    "    for i in range(len(slc_list) - 2):\n",
    "        triplet_dict[f'triplet_{i+1}'] = ((slc_list[i],slc_list[i+1]), (slc_list[i+1],slc_list[i+2]), (slc_list[i+2], slc_list[i]))\n",
    "        if i == 0:\n",
    "            test_triplet = ((slc_list[i],slc_list[i+1]), (slc_list[i+1],slc_list[i+2]), (slc_list[i+2], slc_list[i]), (slc_list[i], slc_list[i+2]))\n",
    "        else:\n",
    "            continue\n",
    "    return triplet_dict, test_triplet\n",
    "\n",
    "def get_sourcebands_tiepointgrids(phasefilter_data_path, polarisation):\n",
    "    individual_date = os.listdir(phasefilter_data_path)[0][11:-4]\n",
    "\n",
    "    sourcebands = f\"i_ifg_{polarisation}_{individual_date},q_ifg_{polarisation}_{individual_date},Intensity_ifg_{polarisation}_{individual_date}_db,Phase_ifg_{polarisation}_{individual_date},coh_{subswath}_{polarisation}_{individual_date}\"\n",
    "    \n",
    "    tiepointgrids = [f[:-4] for f in os.listdir(os.path.join(phasefilter_file[:-4]+'.data', 'tie_point_grids')) if f.endswith('.img')]\n",
    "    tiepointgrids_formatted  = ','.join(tiepointgrids)\n",
    "\n",
    "    return sourcebands, tiepointgrids_formatted"
   ]
  },
  {
   "cell_type": "markdown",
   "metadata": {},
   "source": [
    "# SNAP GPT subprocess functions"
   ]
  },
  {
   "cell_type": "code",
   "execution_count": 88,
   "metadata": {},
   "outputs": [
    {
     "data": {
      "text/html": [
       "\n",
       "            <style>\n",
       "                .geemap-dark {\n",
       "                    --jp-widgets-color: white;\n",
       "                    --jp-widgets-label-color: white;\n",
       "                    --jp-ui-font-color1: white;\n",
       "                    --jp-layout-color2: #454545;\n",
       "                    background-color: #383838;\n",
       "                }\n",
       "\n",
       "                .geemap-dark .jupyter-button {\n",
       "                    --jp-layout-color3: #383838;\n",
       "                }\n",
       "\n",
       "                .geemap-colab {\n",
       "                    background-color: var(--colab-primary-surface-color, white);\n",
       "                }\n",
       "\n",
       "                .geemap-colab .jupyter-button {\n",
       "                    --jp-layout-color3: var(--colab-primary-surface-color, white);\n",
       "                }\n",
       "            </style>\n",
       "            "
      ],
      "text/plain": [
       "<IPython.core.display.HTML object>"
      ]
     },
     "metadata": {},
     "output_type": "display_data"
    }
   ],
   "source": [
    "def split_SLC(sourcefile, subswath, polarization, outfile):\n",
    "    split_cmd = [\n",
    "        GPT_PATH,\n",
    "        \"TOPSAR-Split\", # operation name\n",
    "        f\"-Ssource={sourcefile[6:]}\", # SLC file\n",
    "        f\"-Psubswath={subswath}\", #1, 2, 3\n",
    "        f\"-PselectedPolarisations={polarization}\", # bands being processed\n",
    "        \"-t\", outfile, # keep separate, output file location\n",
    "        \"-q\", str(MAX_CORES),\n",
    "        \"-c\", MAX_MEM\n",
    "    ]\n",
    "\n",
    "    # Run the command\n",
    "    try:\n",
    "        result = subprocess.run(split_cmd, check=True, stdout=subprocess.PIPE, stderr=subprocess.PIPE, text=True)\n",
    "        print(\"Command executed successfully!\")\n",
    "    except subprocess.CalledProcessError as e:\n",
    "        print(f\"Command failed with error code {e.returncode}\")\n",
    "        print(f\"Error message: {e.stderr}\")\n",
    "\n",
    "def orbit_SLC(sourcefile, orbittype, outfile):\n",
    "    orbit_cmd = [\n",
    "        GPT_PATH,\n",
    "        \"Apply-Orbit-File\", # operation name\n",
    "        f\"-Ssource={sourcefile}\",\n",
    "        f\"-PorbitType={orbittype}\",\n",
    "        \"-t\", outfile, # keep separate, output file location\n",
    "        \"-q\", str(MAX_CORES),\n",
    "        \"-c\", MAX_MEM\n",
    "    ]\n",
    "\n",
    "    # Run the command\n",
    "    try:\n",
    "        result = subprocess.run(orbit_cmd, check=True, stdout=subprocess.PIPE, stderr=subprocess.PIPE, text=True)\n",
    "        print(\"Command executed successfully!\")\n",
    "    except subprocess.CalledProcessError as e:\n",
    "        print(f\"Command failed with error code {e.returncode}\")\n",
    "        print(f\"Error message: {e.stderr}\")\n",
    "\n",
    "def geocode_SLC(m_file, s_file, demname, resamplemethod, reramp, maskelev, derampdemod, offset, resampletype, outfile):\n",
    "    geocode_cmd = [\n",
    "        GPT_PATH,\n",
    "        \"Back-Geocoding\", # operation name\n",
    "        f\"-Ssource1={m_file}\",\n",
    "        f\"-Ssource2={s_file}\",\n",
    "        f\"-PdemName={demname}\",\n",
    "        f\"-PdemResamplingMethod={resamplemethod}\",\n",
    "        f\"-PdisableReramp={reramp}\",\n",
    "        f\"-PmaskOutAreaWithoutElevation={maskelev}\",\n",
    "        f\"-PoutputDerampDemodPhase={derampdemod}\",\n",
    "        f\"-PoutputRangeAzimuthOffset={offset}\",\n",
    "        f\"-PresamplingType={resampletype}\",\n",
    "        \"-t\", outfile, # keep separate, output file location\n",
    "        \"-q\", str(MAX_CORES),\n",
    "        \"-c\", MAX_MEM\n",
    "    ]\n",
    "\n",
    "    # Run the command\n",
    "    try:\n",
    "        result = subprocess.run(geocode_cmd, check=True, stdout=subprocess.PIPE, stderr=subprocess.PIPE, text=True)\n",
    "        print(\"Command executed successfully!\")\n",
    "    except subprocess.CalledProcessError as e:\n",
    "        print(f\"Command failed with error code {e.returncode}\")\n",
    "        print(f\"Error message: {e.stderr}\")\n",
    "\n",
    "def esd_SLC(source_file, cohthresh, writetgt, estimator, winaccazimuth, winaccrange, winheight, winoversampling, winwidth, integrationmethod, maxtempbaseline, blocksperlap, tempbaselinetype, usrazimuthshift, ovrazimuthshift, usrrangeshift, ovrrangeshift, shiftweightfunction, xcorrthersh, outfile):\n",
    "    esd_cmd = [\n",
    "        GPT_PATH,\n",
    "        \"Enhanced-Spectral-Diversity\", # operation name\n",
    "        f\"-Ssource={source_file}\",\n",
    "        f\"-PcohThreshold={cohthresh}\",\n",
    "        f\"-PdoNotWriteTargetBands={writetgt}\",\n",
    "        f\"-PesdEstimator={estimator}\",\n",
    "        f\"-PfineWinAccAzimuth={winaccazimuth}\",\n",
    "        f\"-PfineWinAccRange={winaccrange}\",\n",
    "        f\"-PfineWinHeightStr={winheight}\",\n",
    "        f\"-PfineWinOversampling={winoversampling}\",\n",
    "        f\"-PfineWinWidthStr={winwidth}\",\n",
    "        f\"-PintegrationMethod={integrationmethod}\",\n",
    "        f\"-PmaxTemporalBaseline={maxtempbaseline}\",\n",
    "        f\"-PnumBlocksPerOverlap={blocksperlap}\",\n",
    "        f\"-PoverallAzimuthShift={ovrazimuthshift}\",\n",
    "        f\"-PoverallRangeShift={ovrrangeshift}\",\n",
    "        f\"-PtemporalBaselineType={tempbaselinetype}\",\n",
    "        f\"-PuseSuppliedAzimuthShift={usrazimuthshift}\",\n",
    "        f\"-PuseSuppliedRangeShift={usrrangeshift}\",\n",
    "        f\"-PweightFunc={shiftweightfunction}\",\n",
    "        f\"-PxCorrThreshold={xcorrthersh}\",\n",
    "        \"-t\", outfile, # keep separate, output file location\n",
    "        \"-q\", str(MAX_CORES),\n",
    "        \"-c\", MAX_MEM\n",
    "    ]\n",
    "\n",
    "    # Run the command\n",
    "    try:\n",
    "        result = subprocess.run(esd_cmd, check=True, stdout=subprocess.PIPE, stderr=subprocess.PIPE, text=True)\n",
    "        print(\"Command executed successfully!\")\n",
    "    except subprocess.CalledProcessError as e:\n",
    "        print(f\"Command failed with error code {e.returncode}\")\n",
    "        print(f\"Error message: {e.stderr}\")\n",
    "\n",
    "def ifgram_SLC(source_file, azicohwin, rgcohwin, demname, eDEMEGM, eDEMfile, eDEMnoval, includecohband, orbitdegree, outputelevationband, outputFEphase, outputLatLon, outputTopophase, cohsquarepixels, FEphasepoints, FEphasepoly, removeFEphase, removeTopophase, demsimulaton, outfile):\n",
    "    if eDEMfile == 'None':\n",
    "        ifgram_cmd = [\n",
    "            GPT_PATH,\n",
    "            \"Interferogram\", # operation name\n",
    "            f\"-SsourceProduct={source_file}\",\n",
    "            f\"-PcohWinAz={azicohwin}\",\n",
    "            f\"-PcohWinRg={rgcohwin}\",\n",
    "            f\"-PdemName={demname}\",\n",
    "            f\"-PexternalDEMApplyEGM={eDEMEGM}\",\n",
    "            f\"-PincludeCoherence={includecohband}\",\n",
    "            f\"-PorbitDegree={orbitdegree}\",\n",
    "            f\"-PoutputElevation={outputelevationband}\",\n",
    "            f\"-PoutputFlatEarthPhase={outputFEphase}\",\n",
    "            f\"-PoutputLatLon={outputLatLon}\",\n",
    "            f\"-PoutputTopoPhase={outputTopophase}\",\n",
    "            f\"-PsquarePixel={cohsquarepixels}\",\n",
    "            f\"-PsrpNumberPoints={FEphasepoints}\",\n",
    "            f\"-PsrpPolynomialDegree={FEphasepoly}\",\n",
    "            f\"-PsubtractFlatEarthPhase={removeFEphase}\",\n",
    "            f\"-PsubtractTopographicPhase={removeTopophase}\",\n",
    "            f\"-PtileExtensionPercent={demsimulaton}\",\n",
    "            \"-t\", outfile, # keep separate, output file location\n",
    "            \"-q\", str(MAX_CORES),\n",
    "            \"-c\", MAX_MEM\n",
    "        ]\n",
    "    else:\n",
    "        ifgram_cmd = [\n",
    "            GPT_PATH,\n",
    "            \"Interferogram\", # operation name\n",
    "            f\"-SsourceProduct={source_file}\",\n",
    "            f\"-PcohWinAz={azicohwin}\",\n",
    "            f\"-PcohWinRg={rgcohwin}\",\n",
    "            f\"-PdemName={demname}\",\n",
    "            f\"-PexternalDEMApplyEGM={eDEMEGM}\",\n",
    "            f\"-PexternalDEMFile={eDEMfile}\",\n",
    "            f\"-PeternalDEMNoDataValue={eDEMnoval}\",\n",
    "            f\"-PincludeCoherence={includecohband}\",\n",
    "            f\"-PorbitDegree={orbitdegree}\",\n",
    "            f\"-PoutputElevation={outputelevationband}\",\n",
    "            f\"-PoutputFlatEarthPhase={outputFEphase}\",\n",
    "            f\"-PoutputLatLon={outputLatLon}\",\n",
    "            f\"-PoutputTopoPhase={outputTopophase}\",\n",
    "            f\"-PsquarePixel={cohsquarepixels}\",\n",
    "            f\"-PsrpNumberPoints={FEphasepoints}\",\n",
    "            f\"-PsrpPolynomialDegree={FEphasepoly}\",\n",
    "            f\"-PsubtractFlatEarthPhase={removeFEphase}\",\n",
    "            f\"-PsubtractTopographicPhase={removeTopophase}\",\n",
    "            f\"-PtileExtensionPercent={demsimulaton}\",\n",
    "            \"-t\", outfile, # keep separate, output file location\n",
    "            \"-q\", str(MAX_CORES),\n",
    "            \"-c\", MAX_MEM\n",
    "        ]\n",
    "\n",
    "    # Run the command\n",
    "    try:\n",
    "        result = subprocess.run(ifgram_cmd, check=True, stdout=subprocess.PIPE, stderr=subprocess.PIPE, text=True)\n",
    "        print(\"Command executed successfully!\")\n",
    "    except subprocess.CalledProcessError as e:\n",
    "        print(f\"Command failed with error code {e.returncode}\")\n",
    "        print(f\"Error message: {e.stderr}\")\n",
    "\n",
    "def deburst_SLC(source_file, bands, outfile):\n",
    "    deburst_cmd = [\n",
    "        GPT_PATH,\n",
    "        \"TOPSAR-Deburst\", # operation name\n",
    "        f\"-Ssource={source_file}\",\n",
    "        f\"-PselectedPolarisations={bands}\",\n",
    "        \"-t\", outfile, # keep separate, output file location\n",
    "        \"-q\", str(MAX_CORES),\n",
    "        \"-c\", MAX_MEM\n",
    "    ]\n",
    "\n",
    "    # Run the command\n",
    "    try:\n",
    "        result = subprocess.run(deburst_cmd, check=True, stdout=subprocess.PIPE, stderr=subprocess.PIPE, text=True)\n",
    "        print(\"Command executed successfully!\")\n",
    "    except subprocess.CalledProcessError as e:\n",
    "        print(f\"Command failed with error code {e.returncode}\")\n",
    "        print(f\"Error message: {e.stderr}\")\n",
    "\n",
    "def Tphase_SLC(source_file, demname, eDEMfile, eDEMnoval, orbitdegree, outputelevationband, outputLatLon, outputTopophase, demsimulaton, outfile):\n",
    "    if eDEMfile == 'None':\n",
    "        Tphase_cmd = [\n",
    "            GPT_PATH,\n",
    "            \"TopoPhaseRemoval\", # operation name\n",
    "            f\"-SsourceProduct={source_file}\",\n",
    "            f\"-PdemName={demname}\",\n",
    "            f\"-PorbitDegree={orbitdegree}\",\n",
    "            f\"-PoutputElevationBand={outputelevationband}\",\n",
    "            f\"-PoutputLatLonBands={outputLatLon}\",\n",
    "            f\"-PoutputTopoPhaseBand={outputTopophase}\",\n",
    "            f\"-PtileExtensionPercent={demsimulaton}\",\n",
    "            \"-t\", outfile, # keep separate, output file location\n",
    "            \"-q\", str(MAX_CORES),\n",
    "            \"-c\", MAX_MEM\n",
    "        ]\n",
    "    else:\n",
    "        Tphase_cmd = [\n",
    "            GPT_PATH,\n",
    "            \"TopoPhaseRemoval\", # operation name\n",
    "            f\"-SsourceProduct={source_file}\",\n",
    "            f\"-PdemName={demname}\",\n",
    "            f\"-PexternalDEMFile={eDEMfile}\",\n",
    "            f\"-PeternalDEMNoDataValue={eDEMnoval}\",\n",
    "            f\"-PorbitDegree={orbitdegree}\",\n",
    "            f\"-PoutputElevationBand={outputelevationband}\",\n",
    "            f\"-PoutputLatLonBands={outputLatLon}\",\n",
    "            f\"-PoutputTopoPhaseBand={outputTopophase}\",\n",
    "            f\"-PtileExtensionPercent={demsimulaton}\",\n",
    "            \"-t\", outfile, # keep separate, output file location\n",
    "            \"-q\", str(MAX_CORES),\n",
    "            \"-c\", MAX_MEM\n",
    "        ]\n",
    "\n",
    "    # Run the command\n",
    "    try:\n",
    "        result = subprocess.run(Tphase_cmd, check=True, stdout=subprocess.PIPE, stderr=subprocess.PIPE, text=True)\n",
    "        print(\"Command executed successfully!\")\n",
    "    except subprocess.CalledProcessError as e:\n",
    "        print(f\"Command failed with error code {e.returncode}\")\n",
    "        print(f\"Error message: {e.stderr}\")\n",
    "\n",
    "def phasefilter_SLC(source_file, alpha, coherence_threshold, FFTsize, use_coherence_mask, filter_window_size, outfile):\n",
    "    phasefilter_cmd = [\n",
    "        GPT_PATH,\n",
    "        \"GoldsteinPhaseFiltering\", # operation name\n",
    "        f\"-SsourceProduct={source_file}\",\n",
    "        f\"-Palpha={alpha}\",\n",
    "        f\"-PcoherenceThreshold={coherence_threshold}\",\n",
    "        f\"-PFFTSizeString={FFTsize}\",\n",
    "        f\"-PuseCoherenceMask={use_coherence_mask}\",\n",
    "        f\"-PwindowSizeString={filter_window_size}\",\n",
    "        \"-t\", outfile, # keep separate, output file location\n",
    "        \"-q\", str(MAX_CORES),\n",
    "        \"-c\", MAX_MEM\n",
    "    ]\n",
    "\n",
    "    # Run the command\n",
    "    try:\n",
    "        result = subprocess.run(phasefilter_cmd, check=True, stdout=subprocess.PIPE, stderr=subprocess.PIPE, text=True)\n",
    "        print(\"Command executed successfully!\")\n",
    "    except subprocess.CalledProcessError as e:\n",
    "        print(f\"Command failed with error code {e.returncode}\")\n",
    "        print(f\"Error message: {e.stderr}\")\n",
    "\n",
    "def subset_SLC(source_file, copy_metadata, use_full_swath, wkt_region, reference_band, sourcebands, X_subsample, Y_subsample, tiepointgrids, outfile):\n",
    "    subset_cmd = [\n",
    "        GPT_PATH,\n",
    "        \"Subset\", # operation name\n",
    "        f\"-Ssource={source_file}\",\n",
    "        f\"-PcopyMetadata={copy_metadata}\",\n",
    "        f\"-PfullSwath={use_full_swath}\",\n",
    "        f\"-PgeoRegion={wkt_region}\",\n",
    "        f\"-PreferenceBand={reference_band}\",\n",
    "        f\"-PsourceBands={sourcebands}\",\n",
    "        f\"-PsubSamplingX={X_subsample}\",\n",
    "        f\"-PsubSamplingY={Y_subsample}\",\n",
    "        f\"-PtiePointGrids={tiepointgrids}\",\n",
    "        \"-t\", outfile, # keep separate, output file location\n",
    "        \"-q\", str(MAX_CORES),\n",
    "        \"-c\", MAX_MEM\n",
    "    ]\n",
    "\n",
    "    # Run the command\n",
    "    try:\n",
    "        result = subprocess.run(subset_cmd, check=True, stdout=subprocess.PIPE, stderr=subprocess.PIPE, text=True)\n",
    "        print(\"Command executed successfully!\")\n",
    "    except subprocess.CalledProcessError as e:\n",
    "        print(f\"Command failed with error code {e.returncode}\")\n",
    "        print(f\"Error message: {e.stderr}\")"
   ]
  },
  {
   "cell_type": "markdown",
   "metadata": {},
   "source": [
    "# Steps?\n",
    "\n",
    "1. split, orbit, coreg, ESD\n",
    "2. interferogram (topo phase removal, deburst, filter, subset)\n",
    "4. snaphu export unwrap import\n",
    "5. geocode, displacement"
   ]
  },
  {
   "cell_type": "markdown",
   "metadata": {},
   "source": [
    "# Establish needed paths for notebook"
   ]
  },
  {
   "cell_type": "code",
   "execution_count": 4,
   "metadata": {},
   "outputs": [],
   "source": [
    "# directory to where the data is stored, this was established in \"get_slc.ipynb\"\n",
    "# directory to where 'ASCENDING' and 'DESCENDING' are located so we can process both tracks\n",
    "# data_dir = '/mnt/d/SabineRS/Sentinel-1'   #WSL\n",
    "data_dir = '/home/wcc/Desktop/SabineRS/Sentinel-1'  #Linux\n",
    "\n",
    "asc_dir = os.path.join(data_dir, 'ASCENDING')\n",
    "des_dir = os.path.join(data_dir, 'DESCENDING')\n",
    "\n",
    "asc_ini = os.path.join(asc_dir, '0_initial')\n",
    "des_ini = os.path.join(des_dir, '0_initial')"
   ]
  },
  {
   "cell_type": "markdown",
   "metadata": {},
   "source": [
    "# Determine the tracks and frames that are stored in the asc_dir and des_dir\n",
    "- Will use this to form interferograms"
   ]
  },
  {
   "cell_type": "code",
   "execution_count": 5,
   "metadata": {},
   "outputs": [
    {
     "data": {
      "text/plain": [
       "['/home/wcc/Desktop/SabineRS/Sentinel-1/ASCENDING/0_initial',\n",
       " '/home/wcc/Desktop/SabineRS/Sentinel-1/ASCENDING/0_initial/136',\n",
       " '/home/wcc/Desktop/SabineRS/Sentinel-1/ASCENDING/0_initial/136/95',\n",
       " '/home/wcc/Desktop/SabineRS/Sentinel-1/ASCENDING/0_initial/136/91',\n",
       " '/home/wcc/Desktop/SabineRS/Sentinel-1/ASCENDING/0_initial/136/93']"
      ]
     },
     "metadata": {},
     "output_type": "display_data"
    }
   ],
   "source": [
    "# list of ascending track initial orbits and frames found for aoi\n",
    "display([x[0] for x in os.walk(asc_ini)])"
   ]
  },
  {
   "cell_type": "code",
   "execution_count": 6,
   "metadata": {},
   "outputs": [
    {
     "data": {
      "text/plain": [
       "[]"
      ]
     },
     "metadata": {},
     "output_type": "display_data"
    }
   ],
   "source": [
    "# list of ascending track initial orbits and frames found for aoi\n",
    "display([x[0] for x in os.walk(des_ini)])"
   ]
  },
  {
   "cell_type": "markdown",
   "metadata": {},
   "source": [
    "# Choose which track-orbit-frame set you want to process based on above outputs\n",
    "- will work on this later to automatically check number of trackframe pairs, report the number of epochs in each, and then automatically process in order of number of epochs"
   ]
  },
  {
   "cell_type": "code",
   "execution_count": 7,
   "metadata": {},
   "outputs": [],
   "source": [
    "# for example, if I want to process ascending track 136 frame 93\n",
    "trackframe = '136/93'\n",
    "INPUT_DIR = os.path.join(asc_ini, trackframe)  # Directory containing Sentinel-1 SLCs"
   ]
  },
  {
   "cell_type": "markdown",
   "metadata": {},
   "source": [
    "# Establish pre-processing compute parameters"
   ]
  },
  {
   "cell_type": "code",
   "execution_count": 8,
   "metadata": {},
   "outputs": [],
   "source": [
    "# get your path to the SNAP GPT install\n",
    "# typically found in your 'esa-snap' install file in the 'bin' subdirectory\n",
    "# Linux example: ~/esa-snap/bin/gpt\n",
    "# WSL example: /mnt/c/Program Files/bin/gpt\n",
    "\n",
    "# Define paths and parameters\n",
    "# GPT_PATH = '/mnt/c/Program Files/esa-snap/bin/gpt.exe'  # Path to SNAP's gpt executable, WSL example\n",
    "GPT_PATH = '/home/wcc/esa-snap/bin/gpt'\n",
    "\n",
    "MAX_CORES = 20  # Adjust based on system capacity\n",
    "MAX_MEM = '84G'  # Maximum memory for SNAP, can be K, M, G\n",
    "TILE_SIZE = 4096  # Tile size for SNAP"
   ]
  },
  {
   "cell_type": "markdown",
   "metadata": {},
   "source": [
    "# Find all SLC zips for processing"
   ]
  },
  {
   "cell_type": "code",
   "execution_count": 111,
   "metadata": {},
   "outputs": [
    {
     "data": {
      "text/html": [
       "\n",
       "            <style>\n",
       "                .geemap-dark {\n",
       "                    --jp-widgets-color: white;\n",
       "                    --jp-widgets-label-color: white;\n",
       "                    --jp-ui-font-color1: white;\n",
       "                    --jp-layout-color2: #454545;\n",
       "                    background-color: #383838;\n",
       "                }\n",
       "\n",
       "                .geemap-dark .jupyter-button {\n",
       "                    --jp-layout-color3: #383838;\n",
       "                }\n",
       "\n",
       "                .geemap-colab {\n",
       "                    background-color: var(--colab-primary-surface-color, white);\n",
       "                }\n",
       "\n",
       "                .geemap-colab .jupyter-button {\n",
       "                    --jp-layout-color3: var(--colab-primary-surface-color, white);\n",
       "                }\n",
       "            </style>\n",
       "            "
      ],
      "text/plain": [
       "<IPython.core.display.HTML object>"
      ]
     },
     "metadata": {},
     "output_type": "display_data"
    },
    {
     "name": "stdout",
     "output_type": "stream",
     "text": [
      "Available Sentinel-1 SLC Files:\n",
      "1: /home/wcc/Desktop/SabineRS/Sentinel-1/ASCENDING/0_initial/136/93/S1A_IW_SLC__1SDV_20191001T001837_20191001T001904_029258_035306_76D9.zip\n",
      "2: /home/wcc/Desktop/SabineRS/Sentinel-1/ASCENDING/0_initial/136/93/S1A_IW_SLC__1SDV_20191013T001837_20191013T001904_029433_035905_4924.zip\n",
      "3: /home/wcc/Desktop/SabineRS/Sentinel-1/ASCENDING/0_initial/136/93/S1A_IW_SLC__1SDV_20191106T001837_20191106T001904_029783_036530_4CA8.zip\n",
      "4: /home/wcc/Desktop/SabineRS/Sentinel-1/ASCENDING/0_initial/136/93/S1A_IW_SLC__1SDV_20191118T001837_20191118T001904_029958_036B4F_FD42.zip\n",
      "5: /home/wcc/Desktop/SabineRS/Sentinel-1/ASCENDING/0_initial/136/93/S1A_IW_SLC__1SDV_20191130T001837_20191130T001904_030133_03715E_A9CE.zip\n",
      "6: /home/wcc/Desktop/SabineRS/Sentinel-1/ASCENDING/0_initial/136/93/S1A_IW_SLC__1SDV_20191212T001836_20191212T001903_030308_037763_4B09.zip\n",
      "7: /home/wcc/Desktop/SabineRS/Sentinel-1/ASCENDING/0_initial/136/93/S1A_IW_SLC__1SDV_20200117T001835_20200117T001902_030833_03899B_EB9D.zip\n",
      "8: /home/wcc/Desktop/SabineRS/Sentinel-1/ASCENDING/0_initial/136/93/S1A_IW_SLC__1SDV_20200129T001834_20200129T001901_031008_038FC5_3E97.zip\n",
      "9: /home/wcc/Desktop/SabineRS/Sentinel-1/ASCENDING/0_initial/136/93/S1A_IW_SLC__1SDV_20200210T001834_20200210T001901_031183_0395DE_D89E.zip\n",
      "10: /home/wcc/Desktop/SabineRS/Sentinel-1/ASCENDING/0_initial/136/93/S1A_IW_SLC__1SDV_20200317T001834_20200317T001901_031708_03A800_1BFE.zip\n",
      "11: /home/wcc/Desktop/SabineRS/Sentinel-1/ASCENDING/0_initial/136/93/S1A_IW_SLC__1SDV_20200329T001834_20200329T001901_031883_03AE27_23CB.zip\n",
      "12: /home/wcc/Desktop/SabineRS/Sentinel-1/ASCENDING/0_initial/136/93/S1A_IW_SLC__1SDV_20200410T001834_20200410T001902_032058_03B45A_D08A.zip\n",
      "13: /home/wcc/Desktop/SabineRS/Sentinel-1/ASCENDING/0_initial/136/93/S1A_IW_SLC__1SDV_20200422T001835_20200422T001902_032233_03BA79_4D19.zip\n",
      "14: /home/wcc/Desktop/SabineRS/Sentinel-1/ASCENDING/0_initial/136/93/S1A_IW_SLC__1SDV_20200609T001838_20200609T001905_032933_03D092_DF23.zip\n",
      "15: /home/wcc/Desktop/SabineRS/Sentinel-1/ASCENDING/0_initial/136/93/S1A_IW_SLC__1SDV_20200621T001838_20200621T001906_033108_03D5E1_C584.zip\n",
      "16: /home/wcc/Desktop/SabineRS/Sentinel-1/ASCENDING/0_initial/136/93/S1A_IW_SLC__1SDV_20200703T001839_20200703T001906_033283_03DB2E_C71F.zip\n",
      "17: /home/wcc/Desktop/SabineRS/Sentinel-1/ASCENDING/0_initial/136/93/S1A_IW_SLC__1SDV_20200715T001840_20200715T001907_033458_03E085_8341.zip\n",
      "18: /home/wcc/Desktop/SabineRS/Sentinel-1/ASCENDING/0_initial/136/93/S1A_IW_SLC__1SDV_20200727T001841_20200727T001908_033633_03E5E3_82FA.zip\n",
      "19: /home/wcc/Desktop/SabineRS/Sentinel-1/ASCENDING/0_initial/136/93/S1A_IW_SLC__1SDV_20200808T001841_20200808T001908_033808_03EB6D_AC7D.zip\n",
      "20: /home/wcc/Desktop/SabineRS/Sentinel-1/ASCENDING/0_initial/136/93/S1A_IW_SLC__1SDV_20200820T001842_20200820T001909_033983_03F18E_8530.zip\n",
      "21: /home/wcc/Desktop/SabineRS/Sentinel-1/ASCENDING/0_initial/136/93/S1A_IW_SLC__1SDV_20200901T001843_20200901T001910_034158_03F7BC_B964.zip\n",
      "22: /home/wcc/Desktop/SabineRS/Sentinel-1/ASCENDING/0_initial/136/93/S1A_IW_SLC__1SDV_20200913T001843_20200913T001910_034333_03FDDC_3EF8.zip\n",
      "23: /home/wcc/Desktop/SabineRS/Sentinel-1/ASCENDING/0_initial/136/93/S1A_IW_SLC__1SDV_20200925T001843_20200925T001911_034508_040406_CA91.zip\n",
      "24: /home/wcc/Desktop/SabineRS/Sentinel-1/ASCENDING/0_initial/136/93/S1A_IW_SLC__1SDV_20201007T001844_20201007T001911_034683_040A31_4C80.zip\n",
      "25: /home/wcc/Desktop/SabineRS/Sentinel-1/ASCENDING/0_initial/136/93/S1A_IW_SLC__1SDV_20201019T001844_20201019T001911_034858_041057_2289.zip\n",
      "26: /home/wcc/Desktop/SabineRS/Sentinel-1/ASCENDING/0_initial/136/93/S1A_IW_SLC__1SDV_20201031T001844_20201031T001911_035033_041641_7454.zip\n",
      "27: /home/wcc/Desktop/SabineRS/Sentinel-1/ASCENDING/0_initial/136/93/S1A_IW_SLC__1SDV_20201112T001844_20201112T001911_035208_041C65_A308.zip\n",
      "28: /home/wcc/Desktop/SabineRS/Sentinel-1/ASCENDING/0_initial/136/93/S1A_IW_SLC__1SDV_20201124T001843_20201124T001910_035383_04226B_E384.zip\n",
      "29: /home/wcc/Desktop/SabineRS/Sentinel-1/ASCENDING/0_initial/136/93/S1A_IW_SLC__1SDV_20201206T001843_20201206T001910_035558_042874_ADFC.zip\n",
      "30: /home/wcc/Desktop/SabineRS/Sentinel-1/ASCENDING/0_initial/136/93/S1A_IW_SLC__1SDV_20201218T001842_20201218T001909_035733_042E7C_F229.zip\n",
      "31: /home/wcc/Desktop/SabineRS/Sentinel-1/ASCENDING/0_initial/136/93/S1A_IW_SLC__1SDV_20201230T001842_20201230T001909_035908_04349D_FA79.zip\n",
      "32: /home/wcc/Desktop/SabineRS/Sentinel-1/ASCENDING/0_initial/136/93/S1A_IW_SLC__1SDV_20210111T001841_20210111T001908_036083_043AB5_D0E7.zip\n",
      "33: /home/wcc/Desktop/SabineRS/Sentinel-1/ASCENDING/0_initial/136/93/S1A_IW_SLC__1SDV_20210123T001841_20210123T001908_036258_0440D0_9D6E.zip\n",
      "34: /home/wcc/Desktop/SabineRS/Sentinel-1/ASCENDING/0_initial/136/93/S1A_IW_SLC__1SDV_20210204T001840_20210204T001907_036433_0446DF_E3BC.zip\n",
      "35: /home/wcc/Desktop/SabineRS/Sentinel-1/ASCENDING/0_initial/136/93/S1A_IW_SLC__1SDV_20210216T001840_20210216T001907_036608_044CFD_7577.zip\n",
      "36: /home/wcc/Desktop/SabineRS/Sentinel-1/ASCENDING/0_initial/136/93/S1A_IW_SLC__1SDV_20210228T001840_20210228T001907_036783_04530B_1574.zip\n",
      "37: /home/wcc/Desktop/SabineRS/Sentinel-1/ASCENDING/0_initial/136/93/S1A_IW_SLC__1SDV_20210312T001840_20210312T001907_036958_045924_88E3.zip\n",
      "38: /home/wcc/Desktop/SabineRS/Sentinel-1/ASCENDING/0_initial/136/93/S1A_IW_SLC__1SDV_20210324T001840_20210324T001907_037133_045F39_AC0B.zip\n",
      "39: /home/wcc/Desktop/SabineRS/Sentinel-1/ASCENDING/0_initial/136/93/S1A_IW_SLC__1SDV_20210405T001840_20210405T001907_037308_046543_71C1.zip\n",
      "40: /home/wcc/Desktop/SabineRS/Sentinel-1/ASCENDING/0_initial/136/93/S1A_IW_SLC__1SDV_20210417T001841_20210417T001908_037483_046B50_BB8F.zip\n",
      "41: /home/wcc/Desktop/SabineRS/Sentinel-1/ASCENDING/0_initial/136/93/S1A_IW_SLC__1SDV_20210429T001841_20210429T001908_037658_047165_1758.zip\n",
      "42: /home/wcc/Desktop/SabineRS/Sentinel-1/ASCENDING/0_initial/136/93/S1A_IW_SLC__1SDV_20210511T001842_20210511T001909_037833_04771F_194D.zip\n",
      "43: /home/wcc/Desktop/SabineRS/Sentinel-1/ASCENDING/0_initial/136/93/S1A_IW_SLC__1SDV_20210523T001842_20210523T001910_038008_047C64_39CC.zip\n",
      "44: /home/wcc/Desktop/SabineRS/Sentinel-1/ASCENDING/0_initial/136/93/S1A_IW_SLC__1SDV_20210604T001843_20210604T001910_038183_0481A1_4BBB.zip\n",
      "45: /home/wcc/Desktop/SabineRS/Sentinel-1/ASCENDING/0_initial/136/93/S1A_IW_SLC__1SDV_20210616T001844_20210616T001911_038358_0486D5_534D.zip\n",
      "46: /home/wcc/Desktop/SabineRS/Sentinel-1/ASCENDING/0_initial/136/93/S1A_IW_SLC__1SDV_20210628T001845_20210628T001912_038533_048C14_A343.zip\n",
      "47: /home/wcc/Desktop/SabineRS/Sentinel-1/ASCENDING/0_initial/136/93/S1A_IW_SLC__1SDV_20210710T001845_20210710T001912_038708_049154_75B4.zip\n",
      "48: /home/wcc/Desktop/SabineRS/Sentinel-1/ASCENDING/0_initial/136/93/S1A_IW_SLC__1SDV_20210722T001846_20210722T001913_038883_049694_A298.zip\n",
      "49: /home/wcc/Desktop/SabineRS/Sentinel-1/ASCENDING/0_initial/136/93/S1A_IW_SLC__1SDV_20210803T001847_20210803T001914_039058_049BC5_122F.zip\n",
      "50: /home/wcc/Desktop/SabineRS/Sentinel-1/ASCENDING/0_initial/136/93/S1A_IW_SLC__1SDV_20210815T001847_20210815T001914_039233_04A1BE_12A1.zip\n",
      "51: /home/wcc/Desktop/SabineRS/Sentinel-1/ASCENDING/0_initial/136/93/S1A_IW_SLC__1SDV_20210827T001848_20210827T001915_039408_04A7B9_1019.zip\n",
      "52: /home/wcc/Desktop/SabineRS/Sentinel-1/ASCENDING/0_initial/136/93/S1A_IW_SLC__1SDV_20210908T001849_20210908T001916_039583_04ADCD_1BC5.zip\n",
      "53: /home/wcc/Desktop/SabineRS/Sentinel-1/ASCENDING/0_initial/136/93/S1A_IW_SLC__1SDV_20211002T001849_20211002T001916_039933_04B9C3_88B4.zip\n",
      "54: /home/wcc/Desktop/SabineRS/Sentinel-1/ASCENDING/0_initial/136/93/S1A_IW_SLC__1SDV_20211014T001849_20211014T001917_040108_04BFD2_963B.zip\n",
      "55: /home/wcc/Desktop/SabineRS/Sentinel-1/ASCENDING/0_initial/136/93/S1A_IW_SLC__1SDV_20211026T001850_20211026T001917_040283_04C5E9_81CF.zip\n",
      "56: /home/wcc/Desktop/SabineRS/Sentinel-1/ASCENDING/0_initial/136/93/S1A_IW_SLC__1SDV_20211107T001849_20211107T001916_040458_04CC06_9ABB.zip\n",
      "57: /home/wcc/Desktop/SabineRS/Sentinel-1/ASCENDING/0_initial/136/93/S1A_IW_SLC__1SDV_20211119T001849_20211119T001916_040633_04D20A_68D7.zip\n",
      "58: /home/wcc/Desktop/SabineRS/Sentinel-1/ASCENDING/0_initial/136/93/S1A_IW_SLC__1SDV_20211201T001849_20211201T001916_040808_04D826_8A10.zip\n",
      "59: /home/wcc/Desktop/SabineRS/Sentinel-1/ASCENDING/0_initial/136/93/S1A_IW_SLC__1SDV_20211213T001848_20211213T001915_040983_04DE31_9CA2.zip\n",
      "60: /home/wcc/Desktop/SabineRS/Sentinel-1/ASCENDING/0_initial/136/93/S1A_IW_SLC__1SDV_20220106T001847_20220106T001914_041333_04E9EE_873D.zip\n",
      "61: /home/wcc/Desktop/SabineRS/Sentinel-1/ASCENDING/0_initial/136/93/S1A_IW_SLC__1SDV_20220118T001846_20220118T001913_041508_04EFA3_CA02.zip\n",
      "62: /home/wcc/Desktop/SabineRS/Sentinel-1/ASCENDING/0_initial/136/93/S1A_IW_SLC__1SDV_20220130T001846_20220130T001913_041683_04F593_CDB4.zip\n",
      "63: /home/wcc/Desktop/SabineRS/Sentinel-1/ASCENDING/0_initial/136/93/S1A_IW_SLC__1SDV_20220211T001846_20220211T001913_041858_04FBA8_8C7B.zip\n",
      "64: /home/wcc/Desktop/SabineRS/Sentinel-1/ASCENDING/0_initial/136/93/S1A_IW_SLC__1SDV_20220223T001846_20220223T001913_042033_0501C4_2A15.zip\n",
      "65: /home/wcc/Desktop/SabineRS/Sentinel-1/ASCENDING/0_initial/136/93/S1A_IW_SLC__1SDV_20220307T001845_20220307T001912_042208_0507B3_77B1.zip\n",
      "66: /home/wcc/Desktop/SabineRS/Sentinel-1/ASCENDING/0_initial/136/93/S1A_IW_SLC__1SDV_20220319T001845_20220319T001913_042383_050DA2_00E3.zip\n",
      "67: /home/wcc/Desktop/SabineRS/Sentinel-1/ASCENDING/0_initial/136/93/S1A_IW_SLC__1SDV_20220331T001846_20220331T001913_042558_051399_616C.zip\n",
      "68: /home/wcc/Desktop/SabineRS/Sentinel-1/ASCENDING/0_initial/136/93/S1A_IW_SLC__1SDV_20220412T001846_20220412T001913_042733_051978_1923.zip\n",
      "69: /home/wcc/Desktop/SabineRS/Sentinel-1/ASCENDING/0_initial/136/93/S1A_IW_SLC__1SDV_20220424T001847_20220424T001914_042908_051F48_C026.zip\n",
      "70: /home/wcc/Desktop/SabineRS/Sentinel-1/ASCENDING/0_initial/136/93/S1A_IW_SLC__1SDV_20220506T001847_20220506T001914_043083_05250F_7FB0.zip\n",
      "71: /home/wcc/Desktop/SabineRS/Sentinel-1/ASCENDING/0_initial/136/93/S1A_IW_SLC__1SDV_20220518T001848_20220518T001915_043258_052A87_9A5E.zip\n",
      "72: /home/wcc/Desktop/SabineRS/Sentinel-1/ASCENDING/0_initial/136/93/S1A_IW_SLC__1SDV_20220530T001849_20220530T001916_043433_052FB3_4982.zip\n",
      "73: /home/wcc/Desktop/SabineRS/Sentinel-1/ASCENDING/0_initial/136/93/S1A_IW_SLC__1SDV_20220611T001850_20220611T001917_043608_0534DF_0C49.zip\n",
      "74: /home/wcc/Desktop/SabineRS/Sentinel-1/ASCENDING/0_initial/136/93/S1A_IW_SLC__1SDV_20220623T001851_20220623T001918_043783_053A22_9C14.zip\n",
      "75: /home/wcc/Desktop/SabineRS/Sentinel-1/ASCENDING/0_initial/136/93/S1A_IW_SLC__1SDV_20220705T001851_20220705T001918_043958_053F52_CE0E.zip\n",
      "76: /home/wcc/Desktop/SabineRS/Sentinel-1/ASCENDING/0_initial/136/93/S1A_IW_SLC__1SDV_20220717T001852_20220717T001919_044133_05448E_9C40.zip\n",
      "77: /home/wcc/Desktop/SabineRS/Sentinel-1/ASCENDING/0_initial/136/93/S1A_IW_SLC__1SDV_20220729T001853_20220729T001920_044308_0549BB_19D3.zip\n",
      "78: /home/wcc/Desktop/SabineRS/Sentinel-1/ASCENDING/0_initial/136/93/S1A_IW_SLC__1SDV_20220810T001853_20220810T001921_044483_054EEA_19C8.zip\n",
      "79: /home/wcc/Desktop/SabineRS/Sentinel-1/ASCENDING/0_initial/136/93/S1A_IW_SLC__1SDV_20220822T001854_20220822T001921_044658_0554CF_8EFF.zip\n",
      "80: /home/wcc/Desktop/SabineRS/Sentinel-1/ASCENDING/0_initial/136/93/S1A_IW_SLC__1SDV_20220903T001855_20220903T001922_044833_055AB7_01FF.zip\n",
      "81: /home/wcc/Desktop/SabineRS/Sentinel-1/ASCENDING/0_initial/136/93/S1A_IW_SLC__1SDV_20220915T001855_20220915T001922_045008_056098_177A.zip\n",
      "82: /home/wcc/Desktop/SabineRS/Sentinel-1/ASCENDING/0_initial/136/93/S1A_IW_SLC__1SDV_20220927T001855_20220927T001922_045183_05667D_8406.zip\n",
      "83: /home/wcc/Desktop/SabineRS/Sentinel-1/ASCENDING/0_initial/136/93/S1A_IW_SLC__1SDV_20221009T001855_20221009T001923_045358_056C57_0C19.zip\n",
      "84: /home/wcc/Desktop/SabineRS/Sentinel-1/ASCENDING/0_initial/136/93/S1A_IW_SLC__1SDV_20221021T001855_20221021T001922_045533_057184_9C31.zip\n",
      "85: /home/wcc/Desktop/SabineRS/Sentinel-1/ASCENDING/0_initial/136/93/S1A_IW_SLC__1SDV_20221102T001855_20221102T001922_045708_05776E_183E.zip\n",
      "86: /home/wcc/Desktop/SabineRS/Sentinel-1/ASCENDING/0_initial/136/93/S1A_IW_SLC__1SDV_20221114T001855_20221114T001922_045883_057D5C_9A0A.zip\n",
      "87: /home/wcc/Desktop/SabineRS/Sentinel-1/ASCENDING/0_initial/136/93/S1A_IW_SLC__1SDV_20221126T001855_20221126T001922_046058_058341_24D2.zip\n",
      "88: /home/wcc/Desktop/SabineRS/Sentinel-1/ASCENDING/0_initial/136/93/S1A_IW_SLC__1SDV_20221208T001854_20221208T001921_046233_05893F_74C4.zip\n",
      "89: /home/wcc/Desktop/SabineRS/Sentinel-1/ASCENDING/0_initial/136/93/S1A_IW_SLC__1SDV_20221220T001854_20221220T001921_046408_058F3A_64BD.zip\n",
      "90: /home/wcc/Desktop/SabineRS/Sentinel-1/ASCENDING/0_initial/136/93/S1A_IW_SLC__1SDV_20230113T001852_20230113T001919_046758_059B04_0419.zip\n",
      "91: /home/wcc/Desktop/SabineRS/Sentinel-1/ASCENDING/0_initial/136/93/S1A_IW_SLC__1SDV_20230125T001852_20230125T001919_046933_05A0F2_6EAC.zip\n",
      "92: /home/wcc/Desktop/SabineRS/Sentinel-1/ASCENDING/0_initial/136/93/S1A_IW_SLC__1SDV_20230206T001852_20230206T001919_047108_05A6C7_CB1C.zip\n",
      "93: /home/wcc/Desktop/SabineRS/Sentinel-1/ASCENDING/0_initial/136/93/S1A_IW_SLC__1SDV_20230218T001851_20230218T001918_047283_05ACAE_E7E2.zip\n",
      "94: /home/wcc/Desktop/SabineRS/Sentinel-1/ASCENDING/0_initial/136/93/S1A_IW_SLC__1SDV_20230302T001851_20230302T001918_047458_05B29B_7372.zip\n",
      "95: /home/wcc/Desktop/SabineRS/Sentinel-1/ASCENDING/0_initial/136/93/S1A_IW_SLC__1SDV_20230314T001851_20230314T001918_047633_05B889_A7A1.zip\n",
      "96: /home/wcc/Desktop/SabineRS/Sentinel-1/ASCENDING/0_initial/136/93/S1A_IW_SLC__1SDV_20230326T001852_20230326T001919_047808_05BE6E_11E1.zip\n",
      "97: /home/wcc/Desktop/SabineRS/Sentinel-1/ASCENDING/0_initial/136/93/S1A_IW_SLC__1SDV_20230407T001852_20230407T001919_047983_05C453_61D0.zip\n",
      "98: /home/wcc/Desktop/SabineRS/Sentinel-1/ASCENDING/0_initial/136/93/S1A_IW_SLC__1SDV_20230419T001852_20230419T001919_048158_05CA3D_0333.zip\n",
      "99: /home/wcc/Desktop/SabineRS/Sentinel-1/ASCENDING/0_initial/136/93/S1A_IW_SLC__1SDV_20230501T001853_20230501T001920_048333_05D01E_80BC.zip\n",
      "100: /home/wcc/Desktop/SabineRS/Sentinel-1/ASCENDING/0_initial/136/93/S1A_IW_SLC__1SDV_20230513T001853_20230513T001920_048508_05D5BF_764C.zip\n",
      "101: /home/wcc/Desktop/SabineRS/Sentinel-1/ASCENDING/0_initial/136/93/S1A_IW_SLC__1SDV_20230525T001854_20230525T001921_048683_05DAF0_91C4.zip\n",
      "102: /home/wcc/Desktop/SabineRS/Sentinel-1/ASCENDING/0_initial/136/93/S1A_IW_SLC__1SDV_20230606T001854_20230606T001921_048858_05E028_1A28.zip\n",
      "103: /home/wcc/Desktop/SabineRS/Sentinel-1/ASCENDING/0_initial/136/93/S1A_IW_SLC__1SDV_20230618T001855_20230618T001922_049033_05E57F_D6F2.zip\n",
      "104: /home/wcc/Desktop/SabineRS/Sentinel-1/ASCENDING/0_initial/136/93/S1A_IW_SLC__1SDV_20230630T001855_20230630T001923_049208_05EACA_3F46.zip\n",
      "105: /home/wcc/Desktop/SabineRS/Sentinel-1/ASCENDING/0_initial/136/93/S1A_IW_SLC__1SDV_20230712T001857_20230712T001924_049383_05F03B_FB30.zip\n",
      "106: /home/wcc/Desktop/SabineRS/Sentinel-1/ASCENDING/0_initial/136/93/S1A_IW_SLC__1SDV_20230724T001857_20230724T001925_049558_05F58E_2564.zip\n",
      "107: /home/wcc/Desktop/SabineRS/Sentinel-1/ASCENDING/0_initial/136/93/S1A_IW_SLC__1SDV_20230805T001858_20230805T001926_049733_05FAF8_55E0.zip\n",
      "108: /home/wcc/Desktop/SabineRS/Sentinel-1/ASCENDING/0_initial/136/93/S1A_IW_SLC__1SDV_20230817T001859_20230817T001926_049908_0600D3_7727.zip\n",
      "109: /home/wcc/Desktop/SabineRS/Sentinel-1/ASCENDING/0_initial/136/93/S1A_IW_SLC__1SDV_20230829T001859_20230829T001926_050083_0606D3_D35E.zip\n",
      "110: /home/wcc/Desktop/SabineRS/Sentinel-1/ASCENDING/0_initial/136/93/S1A_IW_SLC__1SDV_20230910T001900_20230910T001927_050258_060CC3_4A22.zip\n",
      "111: /home/wcc/Desktop/SabineRS/Sentinel-1/ASCENDING/0_initial/136/93/S1A_IW_SLC__1SDV_20231004T001900_20231004T001927_050608_0618BE_7700.zip\n",
      "112: /home/wcc/Desktop/SabineRS/Sentinel-1/ASCENDING/0_initial/136/93/S1A_IW_SLC__1SDV_20231016T001901_20231016T001928_050783_061EC4_5D07.zip\n",
      "113: /home/wcc/Desktop/SabineRS/Sentinel-1/ASCENDING/0_initial/136/93/S1A_IW_SLC__1SDV_20231028T001900_20231028T001928_050958_0624AD_DE06.zip\n",
      "114: /home/wcc/Desktop/SabineRS/Sentinel-1/ASCENDING/0_initial/136/93/S1A_IW_SLC__1SDV_20231121T001900_20231121T001927_051308_0630C6_4EF4.zip\n",
      "115: /home/wcc/Desktop/SabineRS/Sentinel-1/ASCENDING/0_initial/136/93/S1A_IW_SLC__1SDV_20231203T001859_20231203T001926_051483_0636C0_8E5F.zip\n",
      "116: /home/wcc/Desktop/SabineRS/Sentinel-1/ASCENDING/0_initial/136/93/S1A_IW_SLC__1SDV_20231215T001859_20231215T001926_051658_063CE4_3BF1.zip\n",
      "117: /home/wcc/Desktop/SabineRS/Sentinel-1/ASCENDING/0_initial/136/93/S1A_IW_SLC__1SDV_20240120T001857_20240120T001924_052183_064ED4_F993.zip\n",
      "118: /home/wcc/Desktop/SabineRS/Sentinel-1/ASCENDING/0_initial/136/93/S1A_IW_SLC__1SDV_20240213T001856_20240213T001923_052533_065AA7_46AC.zip\n",
      "119: /home/wcc/Desktop/SabineRS/Sentinel-1/ASCENDING/0_initial/136/93/S1A_IW_SLC__1SDV_20240225T001856_20240225T001923_052708_06609D_6AA1.zip\n",
      "120: /home/wcc/Desktop/SabineRS/Sentinel-1/ASCENDING/0_initial/136/93/S1A_IW_SLC__1SDV_20240320T001857_20240320T001924_053058_066CE3_9900.zip\n",
      "121: /home/wcc/Desktop/SabineRS/Sentinel-1/ASCENDING/0_initial/136/93/S1A_IW_SLC__1SDV_20240401T001857_20240401T001924_053233_067388_5218.zip\n",
      "122: /home/wcc/Desktop/SabineRS/Sentinel-1/ASCENDING/0_initial/136/93/S1A_IW_SLC__1SDV_20240413T001856_20240413T001923_053408_067A6E_FAF7.zip\n",
      "123: /home/wcc/Desktop/SabineRS/Sentinel-1/ASCENDING/0_initial/136/93/S1A_IW_SLC__1SDV_20240425T001857_20240425T001924_053583_068149_C6B9.zip\n",
      "124: /home/wcc/Desktop/SabineRS/Sentinel-1/ASCENDING/0_initial/136/93/S1A_IW_SLC__1SDV_20240519T001858_20240519T001925_053933_068E46_74D5.zip\n",
      "125: /home/wcc/Desktop/SabineRS/Sentinel-1/ASCENDING/0_initial/136/93/S1A_IW_SLC__1SDV_20240531T001857_20240531T001925_054108_069459_8210.zip\n",
      "126: /home/wcc/Desktop/SabineRS/Sentinel-1/ASCENDING/0_initial/136/93/S1A_IW_SLC__1SDV_20240612T001857_20240612T001924_054283_069A65_E2C1.zip\n",
      "127: /home/wcc/Desktop/SabineRS/Sentinel-1/ASCENDING/0_initial/136/93/S1A_IW_SLC__1SDV_20240706T001856_20240706T001923_054633_06A68D_73A2.zip\n",
      "128: /home/wcc/Desktop/SabineRS/Sentinel-1/ASCENDING/0_initial/136/93/S1A_IW_SLC__1SDV_20240718T001855_20240718T001922_054808_06AC9B_AC9C.zip\n",
      "129: /home/wcc/Desktop/SabineRS/Sentinel-1/ASCENDING/0_initial/136/93/S1A_IW_SLC__1SDV_20240730T001855_20240730T001922_054983_06B2B8_5CD4.zip\n",
      "130: /home/wcc/Desktop/SabineRS/Sentinel-1/ASCENDING/0_initial/136/93/S1A_IW_SLC__1SDV_20240811T001855_20240811T001922_055158_06B8DB_3D44.zip\n",
      "131: /home/wcc/Desktop/SabineRS/Sentinel-1/ASCENDING/0_initial/136/93/S1A_IW_SLC__1SDV_20240904T001855_20240904T001922_055508_06C5CE_88B7.zip\n",
      "132: /home/wcc/Desktop/SabineRS/Sentinel-1/ASCENDING/0_initial/136/93/S1A_IW_SLC__1SDV_20240916T001856_20240916T001923_055683_06CCBF_98B1.zip\n",
      "133: /home/wcc/Desktop/SabineRS/Sentinel-1/ASCENDING/0_initial/136/93/S1A_IW_SLC__1SDV_20241010T001857_20241010T001924_056033_06DA8E_F1B6.zip\n",
      "134: /home/wcc/Desktop/SabineRS/Sentinel-1/ASCENDING/0_initial/136/93/S1A_IW_SLC__1SDV_20241022T001857_20241022T001924_056208_06E17D_D4B4.zip\n",
      "135: /home/wcc/Desktop/SabineRS/Sentinel-1/ASCENDING/0_initial/136/93/S1A_IW_SLC__1SDV_20241103T001857_20241103T001924_056383_06E86D_6BF5.zip\n",
      "136: /home/wcc/Desktop/SabineRS/Sentinel-1/ASCENDING/0_initial/136/93/S1A_IW_SLC__1SDV_20241115T001856_20241115T001923_056558_06EF61_C685.zip\n",
      "\n",
      "Selected reference: /home/wcc/Desktop/SabineRS/Sentinel-1/ASCENDING/0_initial/136/93/S1A_IW_SLC__1SDV_20191001T001837_20191001T001904_029258_035306_76D9.zip\n",
      "Selected secondary: /home/wcc/Desktop/SabineRS/Sentinel-1/ASCENDING/0_initial/136/93/S1A_IW_SLC__1SDV_20191013T001837_20191013T001904_029433_035905_4924.zip\n",
      "Interferogram ID: 20191001_20191013\n"
     ]
    }
   ],
   "source": [
    "# List all Sentinel-1 SLC files\n",
    "slc_files = sorted([os.path.join(INPUT_DIR, f) for f in os.listdir(INPUT_DIR) if f.endswith(\".zip\")])\n",
    "print(\"Available Sentinel-1 SLC Files:\")\n",
    "for i, file in enumerate(slc_files):\n",
    "    print(f\"{i + 1}: {file}\")\n",
    "\n",
    "# Select SLC pairs (e.g., manually choose indices for reference and secondary)\n",
    "reference_index = 0  # Update this to the index of the desired reference file\n",
    "secondary_index = 1   # Update this to the index of the desired secondary file\n",
    "\n",
    "reference_file = slc_files[reference_index]\n",
    "secondary_file = slc_files[secondary_index]\n",
    "\n",
    "if_id = f\"{reference_file[-38:-30]}_{secondary_file[-38:-30]}\"\n",
    "\n",
    "print(f\"\\nSelected reference: {reference_file}\")\n",
    "print(f\"Selected secondary: {secondary_file}\")\n",
    "print(f\"Interferogram ID: {if_id}\")"
   ]
  },
  {
   "cell_type": "markdown",
   "metadata": {},
   "source": [
    "# Form triplet dictionaries needed for non-zero closure phase InSAR"
   ]
  },
  {
   "cell_type": "code",
   "execution_count": 10,
   "metadata": {},
   "outputs": [
    {
     "data": {
      "text/plain": [
       "(('/home/wcc/Desktop/SabineRS/Sentinel-1/ASCENDING/0_initial/136/93/S1A_IW_SLC__1SDV_20191001T001837_20191001T001904_029258_035306_76D9.zip',\n",
       "  '/home/wcc/Desktop/SabineRS/Sentinel-1/ASCENDING/0_initial/136/93/S1A_IW_SLC__1SDV_20191013T001837_20191013T001904_029433_035905_4924.zip'),\n",
       " ('/home/wcc/Desktop/SabineRS/Sentinel-1/ASCENDING/0_initial/136/93/S1A_IW_SLC__1SDV_20191013T001837_20191013T001904_029433_035905_4924.zip',\n",
       "  '/home/wcc/Desktop/SabineRS/Sentinel-1/ASCENDING/0_initial/136/93/S1A_IW_SLC__1SDV_20191106T001837_20191106T001904_029783_036530_4CA8.zip'),\n",
       " ('/home/wcc/Desktop/SabineRS/Sentinel-1/ASCENDING/0_initial/136/93/S1A_IW_SLC__1SDV_20191106T001837_20191106T001904_029783_036530_4CA8.zip',\n",
       "  '/home/wcc/Desktop/SabineRS/Sentinel-1/ASCENDING/0_initial/136/93/S1A_IW_SLC__1SDV_20191001T001837_20191001T001904_029258_035306_76D9.zip'),\n",
       " ('/home/wcc/Desktop/SabineRS/Sentinel-1/ASCENDING/0_initial/136/93/S1A_IW_SLC__1SDV_20191001T001837_20191001T001904_029258_035306_76D9.zip',\n",
       "  '/home/wcc/Desktop/SabineRS/Sentinel-1/ASCENDING/0_initial/136/93/S1A_IW_SLC__1SDV_20191106T001837_20191106T001904_029783_036530_4CA8.zip'))"
      ]
     },
     "execution_count": 10,
     "metadata": {},
     "output_type": "execute_result"
    }
   ],
   "source": [
    "triplet_dict, example_triplet = get_triplets(sorted([os.path.join(INPUT_DIR, f) for f in os.listdir(INPUT_DIR) if f.endswith(\".zip\")]))\n",
    "example_triplet"
   ]
  },
  {
   "cell_type": "markdown",
   "metadata": {},
   "source": [
    "# Processing steps below come from the MintPy documentation\n",
    "- https://github.com/insarlab/MintPy/wiki/SNAP-input-data/94265da3b2e6ae4ec420e7a8d6f5e2e937616f85"
   ]
  },
  {
   "cell_type": "markdown",
   "metadata": {},
   "source": [
    "# 1. TOPSAR-Split"
   ]
  },
  {
   "cell_type": "code",
   "execution_count": null,
   "metadata": {},
   "outputs": [
    {
     "name": "stdout",
     "output_type": "stream",
     "text": [
      "Command executed successfully!\n",
      "Command executed successfully!\n"
     ]
    }
   ],
   "source": [
    "# Example TOPSAR-Split cell, use this to build more cells for the other steps needed\n",
    "# may make two notebooks; one for interferograms and the other for the custom backscatter products\n",
    "# os.chdir('/mnt/d')  #WSL\n",
    "os.chdir('/home')   #Linux\n",
    "split_dir = os.path.join(asc_dir, f'1_split/{trackframe}')\n",
    "os.makedirs(split_dir, exist_ok=True)\n",
    "\n",
    "subswath = 'IW3'    # 'IW1', 'IW2' or 'IW3'\n",
    "\n",
    "for i, slc in enumerate(example_triplet[0]):\n",
    "    if i == 0:\n",
    "        split_file = os.path.join(split_dir, 'm_testIW3.dim')\n",
    "    else:\n",
    "        split_file = os.path.join(split_dir, 's_testIW3.dim')\n",
    "    \n",
    "    split_SLC(slc, subswath, 'VV,VH', split_file)"
   ]
  },
  {
   "cell_type": "markdown",
   "metadata": {},
   "source": [
    "# 2. Apply Orbit Files"
   ]
  },
  {
   "cell_type": "code",
   "execution_count": null,
   "metadata": {},
   "outputs": [
    {
     "name": "stdout",
     "output_type": "stream",
     "text": [
      "Command executed successfully!\n",
      "Command executed successfully!\n"
     ]
    }
   ],
   "source": [
    "orbit_dir = os.path.join(asc_dir, f'2_orbit/{trackframe}')\n",
    "os.makedirs(orbit_dir, exist_ok=True)\n",
    "\n",
    "orbit = 'Sentinel Precise (Auto Download)'  # can change this, refer to the GPT Apply-Orbit-File -h command\n",
    "\n",
    "for i , file in enumerate([f for f in os.listdir(split_dir) if f.endswith('.dim')]):\n",
    "    if i == 0:\n",
    "        orbit_file = os.path.join(orbit_dir, 'm_testIW3.dim')\n",
    "    else:\n",
    "        orbit_file = os.path.join(orbit_dir, 's_testIW3.dim')\n",
    "\n",
    "    orbit_SLC(split_file, orbit, orbit_file)\n",
    "\n",
    "\n",
    "shutil.rmtree(os.path.join(asc_dir, '1_split')) # removes previous split data, saving storage on your computer "
   ]
  },
  {
   "cell_type": "markdown",
   "metadata": {},
   "source": [
    "# 3. Back-Geocoding\n",
    "- Pass two -Ssource, m first then s\n",
    "\n",
    "One can pass an external DEM for geocoding, but higher or finer resolution DEMs will not make a difference during geocoding. The external DEM will have an effect during terrain correction steps. Because of this, steps to include the external DEM will only be addressed during terrain correction"
   ]
  },
  {
   "cell_type": "code",
   "execution_count": null,
   "metadata": {},
   "outputs": [
    {
     "name": "stdout",
     "output_type": "stream",
     "text": [
      "Command executed successfully!\n"
     ]
    }
   ],
   "source": [
    "geocode_dir = os.path.join(asc_dir, f'3_geocode/{trackframe}')\n",
    "os.makedirs(geocode_dir, exist_ok=True)\n",
    "\n",
    "geocode_file = os.path.join(geocode_dir, 'testIW3.dim')\n",
    "\n",
    "geocode_SLC([os.path.join(orbit_dir,f) for f in os.listdir(orbit_dir) if f.endswith('.dim')][1],\n",
    "            [os.path.join(orbit_dir,f) for f in os.listdir(orbit_dir) if f.endswith('.dim')][0],\n",
    "            'Copernicus 30m Global DEM',\n",
    "            'CUBIC_CONVOLUTION',    # BICUBIC_INTERPOLATION default; BILINEAR_INTERPOLATION, NEAREST_NEIGHBOR are among others \n",
    "            False,                  # boolean, default is False\n",
    "            True,                   # boolean, default is True\n",
    "            False,                  # boolean, default is False\n",
    "            False,                  # boolean, default is False\n",
    "            'CUBIC_CONVOLUTION',    # BISINC_5_POINT_INTERPOLATION defult; BILINEAR_INTERPOLATION, NEAREST_NEIGHBOR are among others\n",
    "            geocode_file\n",
    "            )\n",
    "\n",
    "shutil.rmtree(os.path.join(asc_dir, '2_orbit')) # removes previous orbit-applied data, saving storage on your computer "
   ]
  },
  {
   "cell_type": "markdown",
   "metadata": {},
   "source": [
    "# 4. ESD\n",
    "- only need this if you have multiple bursts"
   ]
  },
  {
   "cell_type": "code",
   "execution_count": null,
   "metadata": {},
   "outputs": [
    {
     "name": "stdout",
     "output_type": "stream",
     "text": [
      "Command executed successfully!\n"
     ]
    }
   ],
   "source": [
    "esd_dir = os.path.join(asc_dir, f'4_esd/{trackframe}')\n",
    "os.makedirs(esd_dir, exist_ok=True)\n",
    "\n",
    "esd_file = os.path.join(esd_dir, 'testIW3.dim')\n",
    "\n",
    "esd_SLC(geocode_file, \n",
    "        0.2,                    # double, (0,1]\n",
    "        False,                  # boolean, False is default\n",
    "        'Periodogram',          # 'Periodogram' default, 'Average' is other choice\n",
    "        '32',                   # string, '16' default, options include '2', '4', '8', '16', '32', '64'\n",
    "        '32',                   # string, '16' default, options include '2', '4', '8', '16', '32', '64'\n",
    "        '512',                  # string, '512' default, options include '32', '64', '128', '256', '512', '1024', '2048'\n",
    "        '128',                  # string, '128' default, options include '32', '64', '128', '256'\n",
    "        '512',                  # string, '512' default, options include '32', '64', '128', '256', '512', '1024', '2048'\n",
    "        'L1 and L2',            # 'L1 and L2' default, 'L1' and 'L2' are also options\n",
    "        0,                      # integer, default 4, <1 generates network with all possible pairs\n",
    "        10,                     # integer, defaults is 10, [1, 20]\n",
    "        'Number of images',     # 'Number of images' default, can also be 'Number of days'\n",
    "        False,                  # boolean, False is default. If True need to adjust user_azimuth_shift\n",
    "        0.0,                    # double, defult is 0.0. not used if user_user_azimuth_shift=False\n",
    "        False,                  # boolean, False is default. If True need to adjust user_range_shift\n",
    "        0.0,                    # double, defult is 0.0. not used if user_user_range_shift=False\n",
    "        'Inv Quadratic',        # 'Inv Quadratic' default, other options are 'None', 'Linear', 'Quadratic'\n",
    "        0.1,                    # double, (0, *)\n",
    "        esd_file)\n",
    "\n",
    "shutil.rmtree(os.path.join(asc_dir, '3_geocode')) #removes previous back-geocoded data, saving storage on your computer "
   ]
  },
  {
   "cell_type": "markdown",
   "metadata": {},
   "source": [
    "# 5. Interferogram formation\n",
    "- This (or later in Topo Phase Removal Step) is where an external DEM can be used for more accurate results\n",
    "- Keep in mind, Sentinel-1 SLC pixel resolutions are 2.7 to 3.5 m in range and 22 m in azimuth when choosing external DEM\n",
    "- EXTERNAL DEM MUST BE IN EPSG:4326"
   ]
  },
  {
   "cell_type": "code",
   "execution_count": null,
   "metadata": {},
   "outputs": [
    {
     "name": "stdout",
     "output_type": "stream",
     "text": [
      "Command executed successfully!\n"
     ]
    }
   ],
   "source": [
    "if_dir = os.path.join(asc_dir, f'5_interferogram/{trackframe}')\n",
    "os.makedirs(if_dir, exist_ok=True)\n",
    "\n",
    "if_file = os.path.join(if_dir, 'testIW3.dim')\n",
    "\n",
    "ifgram_SLC(esd_file, \n",
    "           10,                      # integer, default is 10. ASIMUTH 22m/pixel\n",
    "           10,                      # integer, default is 10. RANGE 2.7 to 3.5m/pixel\n",
    "           'Copernicus 30m Global DEM',                 # string, DEM name in ESA SNAP\n",
    "           False,                        # boolean, True is default \n",
    "           'None',                    # path to external DEM used for interferogram\n",
    "           0,                   # double, no data value from external DEM, default is 0\n",
    "           True,              # boolean, True is default, NEEDED FOR MINTPY\n",
    "           3,                 # integer, 3 is default, can be 1, 2, 3, 4, or 5\n",
    "           True,         # boolean, default is False, NEEDED FOR MINTPY\n",
    "           False,               # boolean, default is False\n",
    "           False,                # boolean, default is False\n",
    "           False,             # boolean, Default is False, accomplished later in workflow\n",
    "           True,             # boolean, default is True, used to make square windows/tiles for coherence estimation. if False, can change first two integers, otherwise can only change coherence window\n",
    "           601,               # integer, default is 501, number of points used for flat earth polynomial estimation, typically not used\n",
    "           6,                 # integer, default is 5, [1, 8]\n",
    "           True,               # boolean, default is True,\n",
    "           False,             # boolean, default is False. Removes topographic phase delay, will be done in a later step\n",
    "           '100',                # string of an integer, default is 100\n",
    "           if_file\n",
    "           )\n",
    "\n",
    "shutil.rmtree(os.path.join(asc_dir, '4_esd')) #removes previous esd data, saving storage on your computer "
   ]
  },
  {
   "cell_type": "markdown",
   "metadata": {},
   "source": [
    "# 6. TOPSAR-Deburst"
   ]
  },
  {
   "cell_type": "code",
   "execution_count": 14,
   "metadata": {},
   "outputs": [
    {
     "name": "stdout",
     "output_type": "stream",
     "text": [
      "Command executed successfully!\n"
     ]
    }
   ],
   "source": [
    "deburst_dir = os.path.join(asc_dir, f'6_deburst/{trackframe}')\n",
    "os.makedirs(deburst_dir, exist_ok=True)\n",
    "\n",
    "deburst_file = os.path.join(deburst_dir, 'testIW3.dim')\n",
    "\n",
    "deburst_SLC(if_file, \n",
    "            'VV,VH', \n",
    "            deburst_file\n",
    "            )\n",
    "\n",
    "# shutil.rmtree(os.path.join(asc_dir, '5_interferogram')) #removes initial interferogram data, saving storage on your computer "
   ]
  },
  {
   "cell_type": "markdown",
   "metadata": {},
   "source": [
    "# 7. Topographic Phase Removal"
   ]
  },
  {
   "cell_type": "code",
   "execution_count": 17,
   "metadata": {},
   "outputs": [
    {
     "name": "stdout",
     "output_type": "stream",
     "text": [
      "Command executed successfully!\n"
     ]
    }
   ],
   "source": [
    "Tphase_dir = os.path.join(asc_dir, f'7_topo/{trackframe}')\n",
    "os.makedirs(Tphase_dir, exist_ok=True)\n",
    "\n",
    "topo_file = os.path.join(Tphase_dir, 'testIW3.dim')\n",
    "\n",
    "Tphase_SLC(source_file= deburst_file,\n",
    "           demname= 'Copernicus 30m Global DEM',\n",
    "           eDEMfile= 'None',\n",
    "           eDEMnoval= 0,\n",
    "           orbitdegree= 4,\n",
    "           outputelevationband= True,   # boolean, default is False\n",
    "           outputLatLon= False,     #boolean, default is False\n",
    "           outputTopophase= False,  # boolean, default is False\n",
    "           demsimulaton= '100',   # string of an integer\n",
    "           outfile= topo_file\n",
    "           )\n",
    "\n",
    "# shutil.rmtree(os.path.join(asc_dir, '6_deburst')) #removes initial interferogram data, saving storage on your computer "
   ]
  },
  {
   "cell_type": "markdown",
   "metadata": {},
   "source": [
    "# 8. Goldstein Phase Filtering"
   ]
  },
  {
   "cell_type": "code",
   "execution_count": 24,
   "metadata": {},
   "outputs": [
    {
     "name": "stdout",
     "output_type": "stream",
     "text": [
      "Command executed successfully!\n"
     ]
    }
   ],
   "source": [
    "phasefilt_dir = os.path.join(asc_dir, f'8_phasefilt/{trackframe}')\n",
    "os.makedirs(phasefilt_dir, exist_ok=True)\n",
    "\n",
    "phasefilter_file = os.path.join(phasefilt_dir, 'testIW3.dim')\n",
    "\n",
    "phasefilter_SLC(source_file= topo_file,\n",
    "                alpha= 1.0,                 # double (0, 1], adaptive filter exponent\n",
    "                coherence_threshold= 0.2,   # double, [0,1]\n",
    "                FFTsize= '32',              # string of interger, default is '64', other options are '32', '128', and '256'\n",
    "                use_coherence_mask= False,  # boolean, default is False, coherence masking\n",
    "                filter_window_size= '3',    # string of integer, default is '3', other options are '5' and '7'\n",
    "                outfile= phasefilter_file\n",
    "                )\n",
    "\n",
    "# shutil.rmtree(os.path.join(asc_dir, '7_topo')) #removes initial interferogram data, saving storage on your computer "
   ]
  },
  {
   "cell_type": "markdown",
   "metadata": {},
   "source": [
    "# 9. Subset \n",
    "- subset to the aoi of the placements, make sure to include a large enough area where\n",
    "- use geemap to create an aoi in WKT-format for easy subsetting"
   ]
  },
  {
   "cell_type": "code",
   "execution_count": 25,
   "metadata": {},
   "outputs": [
    {
     "data": {
      "application/vnd.jupyter.widget-view+json": {
       "model_id": "ed7466b9a8164f76bcd5715e194e1295",
       "version_major": 2,
       "version_minor": 0
      },
      "text/plain": [
       "Map(center=[20, 0], controls=(WidgetControl(options=['position', 'transparent_bg'], widget=SearchDataGUI(child…"
      ]
     },
     "metadata": {},
     "output_type": "display_data"
    }
   ],
   "source": [
    "## interactive map for you to draw a polygon to signify your aoi\n",
    "import geemap\n",
    "## Create a map centered at a specific location\n",
    "m = geemap.Map(center=[20, 0], zoom=2, basemap='HYBRID')\n",
    "\n",
    "## Add drawing tools\n",
    "m.add_draw_control()\n",
    "\n",
    "## Display the map\n",
    "display(m)"
   ]
  },
  {
   "cell_type": "code",
   "execution_count": 27,
   "metadata": {},
   "outputs": [
    {
     "data": {
      "text/html": [
       "\n",
       "            <style>\n",
       "                .geemap-dark {\n",
       "                    --jp-widgets-color: white;\n",
       "                    --jp-widgets-label-color: white;\n",
       "                    --jp-ui-font-color1: white;\n",
       "                    --jp-layout-color2: #454545;\n",
       "                    background-color: #383838;\n",
       "                }\n",
       "\n",
       "                .geemap-dark .jupyter-button {\n",
       "                    --jp-layout-color3: #383838;\n",
       "                }\n",
       "\n",
       "                .geemap-colab {\n",
       "                    background-color: var(--colab-primary-surface-color, white);\n",
       "                }\n",
       "\n",
       "                .geemap-colab .jupyter-button {\n",
       "                    --jp-layout-color3: var(--colab-primary-surface-color, white);\n",
       "                }\n",
       "            </style>\n",
       "            "
      ],
      "text/plain": [
       "<IPython.core.display.HTML object>"
      ]
     },
     "metadata": {},
     "output_type": "display_data"
    },
    {
     "data": {
      "text/plain": [
       "'POLYGON((-93.5417 29.8739, -93.3206 29.8739, -93.3206 30.1759, -93.5417 30.1759, -93.5417 29.8739))'"
      ]
     },
     "metadata": {},
     "output_type": "display_data"
    }
   ],
   "source": [
    "\n",
    "# get feature you just drew\n",
    "draw_features = m.draw_features[0]\n",
    "\n",
    "# extract the vertices pf the feature\n",
    "vertices = [(coords[0], coords[1]) for i, coords in enumerate(draw_features.getInfo()['geometry']['coordinates'][0])]\n",
    "vertices.reverse()\n",
    "\n",
    "# create POLYGON string to use when searching asf for imagery\n",
    "aoi = \"POLYGON((\" + \", \".join([f'{str(northing)[:-2]} {str(easting)[:-2]}' for northing, easting in vertices[:]]) +\"))\"\n",
    "display(aoi)"
   ]
  },
  {
   "cell_type": "code",
   "execution_count": 86,
   "metadata": {},
   "outputs": [
    {
     "data": {
      "text/html": [
       "\n",
       "            <style>\n",
       "                .geemap-dark {\n",
       "                    --jp-widgets-color: white;\n",
       "                    --jp-widgets-label-color: white;\n",
       "                    --jp-ui-font-color1: white;\n",
       "                    --jp-layout-color2: #454545;\n",
       "                    background-color: #383838;\n",
       "                }\n",
       "\n",
       "                .geemap-dark .jupyter-button {\n",
       "                    --jp-layout-color3: #383838;\n",
       "                }\n",
       "\n",
       "                .geemap-colab {\n",
       "                    background-color: var(--colab-primary-surface-color, white);\n",
       "                }\n",
       "\n",
       "                .geemap-colab .jupyter-button {\n",
       "                    --jp-layout-color3: var(--colab-primary-surface-color, white);\n",
       "                }\n",
       "            </style>\n",
       "            "
      ],
      "text/plain": [
       "<IPython.core.display.HTML object>"
      ]
     },
     "metadata": {},
     "output_type": "display_data"
    }
   ],
   "source": [
    "sourcebands_formatted, tiepointgrids_formatted = get_sourcebands_tiepointgrids(\n",
    "                                        phasefilter_file[:-4]+'.data',\n",
    "                                        'VV'    # string, options include VV, VH, nad HH depending on sensor\n",
    "                                        )"
   ]
  },
  {
   "cell_type": "code",
   "execution_count": 87,
   "metadata": {},
   "outputs": [
    {
     "data": {
      "text/html": [
       "\n",
       "            <style>\n",
       "                .geemap-dark {\n",
       "                    --jp-widgets-color: white;\n",
       "                    --jp-widgets-label-color: white;\n",
       "                    --jp-ui-font-color1: white;\n",
       "                    --jp-layout-color2: #454545;\n",
       "                    background-color: #383838;\n",
       "                }\n",
       "\n",
       "                .geemap-dark .jupyter-button {\n",
       "                    --jp-layout-color3: #383838;\n",
       "                }\n",
       "\n",
       "                .geemap-colab {\n",
       "                    background-color: var(--colab-primary-surface-color, white);\n",
       "                }\n",
       "\n",
       "                .geemap-colab .jupyter-button {\n",
       "                    --jp-layout-color3: var(--colab-primary-surface-color, white);\n",
       "                }\n",
       "            </style>\n",
       "            "
      ],
      "text/plain": [
       "<IPython.core.display.HTML object>"
      ]
     },
     "metadata": {},
     "output_type": "display_data"
    },
    {
     "name": "stdout",
     "output_type": "stream",
     "text": [
      "Command executed successfully!\n"
     ]
    }
   ],
   "source": [
    "subset_dir = os.path.join(asc_dir, f'9_subset/{trackframe}')\n",
    "os.makedirs(subset_dir, exist_ok=True)\n",
    "\n",
    "subset_file = os.path.join(subset_dir, 'testIW3.dim')\n",
    "\n",
    "subset_SLC(source_file= phasefilter_file, \n",
    "           copy_metadata= True,                     # boolean, default is False \n",
    "           use_full_swath= False,                   # boolean, default is False \n",
    "           wkt_region= aoi,                         # aoi you drew earlier, can also use the aoi from 'get_slc.ipynb' \n",
    "           reference_band= 'elevation',          # referance band needed for clipping\n",
    "           sourcebands= sourcebands_formatted,      # target bands being clipped\n",
    "           X_subsample= 1,                          #\n",
    "           Y_subsample= 1,                          #\n",
    "           tiepointgrids= tiepointgrids_formatted, \n",
    "           outfile= subset_file\n",
    "           )"
   ]
  },
  {
   "cell_type": "markdown",
   "metadata": {},
   "source": [
    "# 11. Export to SNAPHU for unwrapping"
   ]
  },
  {
   "cell_type": "code",
   "execution_count": 124,
   "metadata": {},
   "outputs": [
    {
     "data": {
      "text/html": [
       "\n",
       "            <style>\n",
       "                .geemap-dark {\n",
       "                    --jp-widgets-color: white;\n",
       "                    --jp-widgets-label-color: white;\n",
       "                    --jp-ui-font-color1: white;\n",
       "                    --jp-layout-color2: #454545;\n",
       "                    background-color: #383838;\n",
       "                }\n",
       "\n",
       "                .geemap-dark .jupyter-button {\n",
       "                    --jp-layout-color3: #383838;\n",
       "                }\n",
       "\n",
       "                .geemap-colab {\n",
       "                    background-color: var(--colab-primary-surface-color, white);\n",
       "                }\n",
       "\n",
       "                .geemap-colab .jupyter-button {\n",
       "                    --jp-layout-color3: var(--colab-primary-surface-color, white);\n",
       "                }\n",
       "            </style>\n",
       "            "
      ],
      "text/plain": [
       "<IPython.core.display.HTML object>"
      ]
     },
     "metadata": {},
     "output_type": "display_data"
    }
   ],
   "source": [
    "def snaphuexport_SLC(source_file, column_overlap, initialization_method, number_of_processors, number_of_columns, number_of_rows, row_overlap, statistal_cost_mode, cost_threshold, target_folder):\n",
    "    snaphuexport_cmd = [\n",
    "        GPT_PATH,\n",
    "        \"SnaphuExport\", # operation name\n",
    "        f\"-Ssource={source_file}\",\n",
    "        f\"-PcolOverlap={column_overlap}\",\n",
    "        f\"-PinitMethod={initialization_method}\",\n",
    "        f\"-PnumberOfProcessors={number_of_processors}\",\n",
    "        f\"-PnumberOfTileCols={number_of_columns}\",\n",
    "        f\"-PnumberOfTileRows={number_of_rows}\",\n",
    "        f\"-ProwOverlap={row_overlap}\",\n",
    "        f\"-PstatCostMode={statistal_cost_mode}\",\n",
    "        f\"-PtargetFolder={target_folder}\",\n",
    "        f\"-PtileCostThreshold={cost_threshold}\"\n",
    "    ]\n",
    "\n",
    "    # Run the command\n",
    "    try:\n",
    "        result = subprocess.run(snaphuexport_cmd, check=True, stdout=subprocess.PIPE, stderr=subprocess.PIPE, text=True)\n",
    "        print(\"Command executed successfully!\")\n",
    "    except subprocess.CalledProcessError as e:\n",
    "        print(f\"Command failed with error code {e.returncode}\")\n",
    "        print(f\"Error message: {e.stderr}\")"
   ]
  },
  {
   "cell_type": "code",
   "execution_count": 131,
   "metadata": {},
   "outputs": [
    {
     "data": {
      "text/html": [
       "\n",
       "            <style>\n",
       "                .geemap-dark {\n",
       "                    --jp-widgets-color: white;\n",
       "                    --jp-widgets-label-color: white;\n",
       "                    --jp-ui-font-color1: white;\n",
       "                    --jp-layout-color2: #454545;\n",
       "                    background-color: #383838;\n",
       "                }\n",
       "\n",
       "                .geemap-dark .jupyter-button {\n",
       "                    --jp-layout-color3: #383838;\n",
       "                }\n",
       "\n",
       "                .geemap-colab {\n",
       "                    background-color: var(--colab-primary-surface-color, white);\n",
       "                }\n",
       "\n",
       "                .geemap-colab .jupyter-button {\n",
       "                    --jp-layout-color3: var(--colab-primary-surface-color, white);\n",
       "                }\n",
       "            </style>\n",
       "            "
      ],
      "text/plain": [
       "<IPython.core.display.HTML object>"
      ]
     },
     "metadata": {},
     "output_type": "display_data"
    },
    {
     "data": {
      "text/plain": [
       "'/home/wcc/Desktop/SabineRS/Sentinel-1/ASCENDING/10_snaphuexport/136/93/20191001_20191013'"
      ]
     },
     "execution_count": 131,
     "metadata": {},
     "output_type": "execute_result"
    }
   ],
   "source": [
    "snaphuexport_dir = os.path.join(asc_dir, f'10_snaphuexport/{trackframe}/{if_id}')\n",
    "os.makedirs(snaphuexport_dir, exist_ok=True)\n",
    "snaphuexport_dir"
   ]
  },
  {
   "cell_type": "code",
   "execution_count": 132,
   "metadata": {},
   "outputs": [
    {
     "data": {
      "text/html": [
       "\n",
       "            <style>\n",
       "                .geemap-dark {\n",
       "                    --jp-widgets-color: white;\n",
       "                    --jp-widgets-label-color: white;\n",
       "                    --jp-ui-font-color1: white;\n",
       "                    --jp-layout-color2: #454545;\n",
       "                    background-color: #383838;\n",
       "                }\n",
       "\n",
       "                .geemap-dark .jupyter-button {\n",
       "                    --jp-layout-color3: #383838;\n",
       "                }\n",
       "\n",
       "                .geemap-colab {\n",
       "                    background-color: var(--colab-primary-surface-color, white);\n",
       "                }\n",
       "\n",
       "                .geemap-colab .jupyter-button {\n",
       "                    --jp-layout-color3: var(--colab-primary-surface-color, white);\n",
       "                }\n",
       "            </style>\n",
       "            "
      ],
      "text/plain": [
       "<IPython.core.display.HTML object>"
      ]
     },
     "metadata": {},
     "output_type": "display_data"
    },
    {
     "name": "stdout",
     "output_type": "stream",
     "text": [
      "Command failed with error code 1\n",
      "Error message: WARNING: An illegal reflective access operation has occurred\n",
      "WARNING: Illegal reflective access by org.esa.snap.runtime.Engine (file:/home/wcc/esa-snap/snap/modules/ext/org.esa.snap.snap-core/org-esa-snap/snap-runtime.jar) to method java.lang.ClassLoader.initializePath(java.lang.String)\n",
      "WARNING: Please consider reporting this to the maintainers of org.esa.snap.runtime.Engine\n",
      "WARNING: Use --illegal-access=warn to enable warnings of further illegal reflective access operations\n",
      "WARNING: All illegal access operations will be denied in a future release\n",
      "INFO: org.esa.snap.core.gpf.operators.tooladapter.ToolAdapterIO: Initializing external tool adapters\n",
      "INFO: org.esa.snap.core.util.EngineVersionCheckActivator: Please check regularly for new updates for the best SNAP experience.\n",
      "org.esa.snap.core.gpf.OperatorException\n",
      "\tat org.esa.snap.core.gpf.internal.OperatorExecutor$GPFImagingListener.errorOccurred(OperatorExecutor.java:381)\n",
      "\tat com.sun.media.jai.util.SunTileScheduler.sendExceptionToListener(Unknown Source)\n",
      "\tat com.sun.media.jai.util.SunTileScheduler.scheduleTile(Unknown Source)\n",
      "\tat javax.media.jai.OpImage.getTile(Unknown Source)\n",
      "\tat com.sun.media.jai.util.RequestJob.compute(Unknown Source)\n",
      "\tat com.sun.media.jai.util.WorkerThread.run(Unknown Source)\n",
      "Caused by: org.esa.snap.core.gpf.OperatorException\n",
      "\tat org.jlinda.nest.dataio.SnaphuExportOp.computeTile(SnaphuExportOp.java:206)\n",
      "\tat org.esa.snap.core.gpf.internal.OperatorImage.computeRect(OperatorImage.java:82)\n",
      "\tat javax.media.jai.SourcelessOpImage.computeTile(Unknown Source)\n",
      "\t... 4 more\n",
      "Caused by: java.lang.NullPointerException\n",
      "\tat org.jlinda.nest.dataio.SnaphuWriter$PrimarySecondaryBandMapping.<init>(SnaphuWriter.java:663)\n",
      "\tat org.jlinda.nest.dataio.SnaphuWriter.createSnaphuConfFile(SnaphuWriter.java:499)\n",
      "\tat org.jlinda.nest.dataio.SnaphuWriter.writeProductNodesImpl(SnaphuWriter.java:80)\n",
      "\tat org.esa.snap.core.dataio.AbstractProductWriter.writeProductNodes(AbstractProductWriter.java:111)\n",
      "\tat org.jlinda.nest.dataio.SnaphuExportOp.writeHeader(SnaphuExportOp.java:214)\n",
      "\tat org.jlinda.nest.dataio.SnaphuExportOp.computeTile(SnaphuExportOp.java:194)\n",
      "\t... 6 more\n",
      "SEVERE: org.esa.snap.core.util.SystemUtils$SnapImagingListener: JAI error occurred: 'Problem occurs when computing a tile by the owner.' at com.sun.media.jai.util.SunTileScheduler@713f303\n",
      "org.esa.snap.core.gpf.OperatorException\n",
      "\tat org.jlinda.nest.dataio.SnaphuExportOp.computeTile(SnaphuExportOp.java:206)\n",
      "\tat org.esa.snap.core.gpf.internal.OperatorImage.computeRect(OperatorImage.java:82)\n",
      "\tat javax.media.jai.SourcelessOpImage.computeTile(Unknown Source)\n",
      "\tat com.sun.media.jai.util.SunTileScheduler.scheduleTile(Unknown Source)\n",
      "\tat javax.media.jai.OpImage.getTile(Unknown Source)\n",
      "\tat com.sun.media.jai.util.RequestJob.compute(Unknown Source)\n",
      "\tat com.sun.media.jai.util.WorkerThread.run(Unknown Source)\n",
      "Caused by: java.lang.NullPointerException\n",
      "\tat org.jlinda.nest.dataio.SnaphuWriter$PrimarySecondaryBandMapping.<init>(SnaphuWriter.java:663)\n",
      "\tat org.jlinda.nest.dataio.SnaphuWriter.createSnaphuConfFile(SnaphuWriter.java:499)\n",
      "\tat org.jlinda.nest.dataio.SnaphuWriter.writeProductNodesImpl(SnaphuWriter.java:80)\n",
      "\tat org.esa.snap.core.dataio.AbstractProductWriter.writeProductNodes(AbstractProductWriter.java:111)\n",
      "\tat org.jlinda.nest.dataio.SnaphuExportOp.writeHeader(SnaphuExportOp.java:214)\n",
      "\tat org.jlinda.nest.dataio.SnaphuExportOp.computeTile(SnaphuExportOp.java:194)\n",
      "\t... 6 more\n",
      "\n",
      "\n",
      "Error: org.esa.snap.core.gpf.OperatorException\n",
      "org.esa.snap.core.gpf.OperatorException\n",
      "\tat org.esa.snap.core.gpf.internal.OperatorExecutor$GPFImagingListener.errorOccurred(OperatorExecutor.java:381)\n",
      "\tat com.sun.media.jai.util.SunTileScheduler.sendExceptionToListener(Unknown Source)\n",
      "\tat com.sun.media.jai.util.SunTileScheduler.scheduleTile(Unknown Source)\n",
      "\tat javax.media.jai.OpImage.getTile(Unknown Source)\n",
      "\tat com.sun.media.jai.util.RequestJob.compute(Unknown Source)\n",
      "\tat com.sun.media.jai.util.WorkerThread.run(Unknown Source)\n",
      "Caused by: org.esa.snap.core.gpf.OperatorException\n",
      "\tat org.jlinda.nest.dataio.SnaphuExportOp.computeTile(SnaphuExportOp.java:206)\n",
      "\tat org.esa.snap.core.gpf.internal.OperatorImage.computeRect(OperatorImage.java:82)\n",
      "\tat javax.media.jai.SourcelessOpImage.computeTile(Unknown Source)\n",
      "\t... 4 more\n",
      "Caused by: java.lang.NullPointerException\n",
      "\tat org.jlinda.nest.dataio.SnaphuWriter$PrimarySecondaryBandMapping.<init>(SnaphuWriter.java:663)\n",
      "\tat org.jlinda.nest.dataio.SnaphuWriter.createSnaphuConfFile(SnaphuWriter.java:499)\n",
      "\tat org.jlinda.nest.dataio.SnaphuWriter.writeProductNodesImpl(SnaphuWriter.java:80)\n",
      "\tat org.esa.snap.core.dataio.AbstractProductWriter.writeProductNodes(AbstractProductWriter.java:111)\n",
      "\tat org.jlinda.nest.dataio.SnaphuExportOp.writeHeader(SnaphuExportOp.java:214)\n",
      "\tat org.jlinda.nest.dataio.SnaphuExportOp.computeTile(SnaphuExportOp.java:194)\n",
      "\t... 6 more\n",
      "SEVERE: org.esa.snap.core.util.SystemUtils$SnapImagingListener: JAI error occurred: 'Problem occurs when computing a tile by the owner.' at com.sun.media.jai.util.SunTileScheduler@713f303\n",
      "org.esa.snap.core.gpf.OperatorException\n",
      "\tat org.jlinda.nest.dataio.SnaphuExportOp.computeTile(SnaphuExportOp.java:206)\n",
      "\tat org.esa.snap.core.gpf.internal.OperatorImage.computeRect(OperatorImage.java:82)\n",
      "\tat javax.media.jai.SourcelessOpImage.computeTile(Unknown Source)\n",
      "\tat com.sun.media.jai.util.SunTileScheduler.scheduleTile(Unknown Source)\n",
      "\tat javax.media.jai.OpImage.getTile(Unknown Source)\n",
      "\tat com.sun.media.jai.util.RequestJob.compute(Unknown Source)\n",
      "\tat com.sun.media.jai.util.WorkerThread.run(Unknown Source)\n",
      "Caused by: java.lang.NullPointerException\n",
      "\tat org.jlinda.nest.dataio.SnaphuWriter$PrimarySecondaryBandMapping.<init>(SnaphuWriter.java:663)\n",
      "\tat org.jlinda.nest.dataio.SnaphuWriter.createSnaphuConfFile(SnaphuWriter.java:499)\n",
      "\tat org.jlinda.nest.dataio.SnaphuWriter.writeProductNodesImpl(SnaphuWriter.java:80)\n",
      "\tat org.esa.snap.core.dataio.AbstractProductWriter.writeProductNodes(AbstractProductWriter.java:111)\n",
      "\tat org.jlinda.nest.dataio.SnaphuExportOp.writeHeader(SnaphuExportOp.java:214)\n",
      "\tat org.jlinda.nest.dataio.SnaphuExportOp.computeTile(SnaphuExportOp.java:194)\n",
      "\t... 6 more\n",
      "\n",
      "\n"
     ]
    }
   ],
   "source": [
    "\n",
    "\n",
    "snaphuexport_SLC(source_file= subset_file, \n",
    "                column_overlap= 0,        # integer, column overlap of neighboring tiles in pixels\n",
    "                initialization_method= 'MCF',   # string, valid options are 'MST' and 'MCF' \n",
    "                number_of_processors= 20,    # number of cores to use for exporting\n",
    "                number_of_columns= 10,      # integer, default is 10, number of columns to divide image into for parallel processing\n",
    "                number_of_rows= 10,         # integer, default is 10, number of rows to divide image into for parallel processing\n",
    "                row_overlap= 0,           # integer, row overlap of neighboring tiles in pixels \n",
    "                statistal_cost_mode= 'DEFO',    # string, coherence estimation method window in Azimuth, options include 'DEFO', 'TOPO', 'SMOOTH', and 'NOSTATCOSTS'\n",
    "                cost_threshold= 500,          # integer, cost threshold to determine the size of the coherence estimation window\n",
    "                target_folder= snaphuexport_dir\n",
    "                )\n"
   ]
  },
  {
   "cell_type": "code",
   "execution_count": null,
   "metadata": {},
   "outputs": [],
   "source": []
  }
 ],
 "metadata": {
  "kernelspec": {
   "display_name": "gis",
   "language": "python",
   "name": "python3"
  },
  "language_info": {
   "codemirror_mode": {
    "name": "ipython",
    "version": 3
   },
   "file_extension": ".py",
   "mimetype": "text/x-python",
   "name": "python",
   "nbconvert_exporter": "python",
   "pygments_lexer": "ipython3",
   "version": "3.11.10"
  }
 },
 "nbformat": 4,
 "nbformat_minor": 2
}
