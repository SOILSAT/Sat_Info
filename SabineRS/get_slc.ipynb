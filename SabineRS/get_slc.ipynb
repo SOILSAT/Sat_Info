{
 "cells": [
  {
   "cell_type": "markdown",
   "metadata": {},
   "source": [
    "# Notebook used to retreive sentinel-1 SLC data from ASF DAAC"
   ]
  },
  {
   "cell_type": "code",
   "execution_count": null,
   "metadata": {},
   "outputs": [],
   "source": [
    "import os\n",
    "from collections import Counter\n",
    "import asf_search as asf\n",
    "import geemap"
   ]
  },
  {
   "cell_type": "markdown",
   "metadata": {},
   "source": [
    "# Set parameters for search and storage\n",
    "- edit to include flightDirection and perpendicular baseline?"
   ]
  },
  {
   "cell_type": "code",
   "execution_count": null,
   "metadata": {},
   "outputs": [],
   "source": [
    "def project_dir(cwd, project_name):\n",
    "    work_dir = os.path.join(cwd, project_name)\n",
    "    os.makedirs(work_dir, exist_ok=True)\n",
    "    data_dir = os.path.join(work_dir,'0_initial')\n",
    "    os.makedirs(data_dir, exist_ok=True)\n",
    "\n",
    "    return work_dir, data_dir\n",
    "\n",
    "def SLC_search_results(startdate, enddate, wkt_aoi, pform, proclevel, bmode, flightD):\n",
    "    results = asf.search(\n",
    "        platform= pform,\n",
    "        processingLevel=[proclevel],\n",
    "        start = startdate,\n",
    "        end = enddate,\n",
    "        intersectsWith = wkt_aoi,\n",
    "        beamMode= bmode,\n",
    "        flightDirection= flightD\n",
    "    )\n",
    "    \n",
    "    return results.geojson(), results\n",
    "\n",
    "def SLC_download(earthdatausr, earthdatapass, directory, metadata, results, direction):\n",
    "    #establish download session\n",
    "    session = asf.ASFSession().auth_with_creds(earthdatausr, earthdatapass)\n",
    "\n",
    "    #create empty dictionary to store epoch information\n",
    "    epoch_info ={}\n",
    "\n",
    "    # paths, frames, filenames, and asf search products into list\n",
    "    paths = [feature[\"properties\"][\"pathNumber\"] for feature in metadata['features']]\n",
    "    frames = [feature[\"properties\"][\"frameNumber\"] for feature in metadata['features']]\n",
    "    filenames = [feature[\"properties\"][\"fileName\"] for feature in metadata['features']]\n",
    "    asfprods = list(results)\n",
    "\n",
    "    # create directories for each path-frame combination, used to store like epochs (easy processing later)\n",
    "    for path in list(Counter(paths)):\n",
    "        path_dir = os.path.join(directory, f\"{direction}/{path}\")\n",
    "        os.makedirs(path_dir, exist_ok=True)\n",
    "        for frame in list(Counter(frames)):\n",
    "            frame_dir = os.path.join(path_dir, f\"{frame}\")\n",
    "            os.makedirs(frame_dir, exist_ok=True)\n",
    "\n",
    "    # popualate epoch_info\n",
    "    for name, path, frame, asfprod in zip(filenames, paths, frames, asfprods):\n",
    "        epoch_info[name] = [path, frame, asfprod]\n",
    "\n",
    "    # download SLC epochs from ASF vertex to apprroprate directories\n",
    "    for name in epoch_info:\n",
    "        path = epoch_info[name][0]\n",
    "        frame = epoch_info[name][1]\n",
    "        asfprod = epoch_info[name][2]\n",
    "\n",
    "        asfprod.download(\n",
    "            path = os.path.join(directory, f'{path}/{frame}'),\n",
    "            session = session\n",
    "        )"
   ]
  },
  {
   "cell_type": "markdown",
   "metadata": {},
   "source": [
    "# Set working directory"
   ]
  },
  {
   "cell_type": "code",
   "execution_count": null,
   "metadata": {},
   "outputs": [],
   "source": [
    "work_dir, data_dir = project_dir('/home/wcc/Desktop/SabineRS', 'Sentinel-1')"
   ]
  },
  {
   "cell_type": "markdown",
   "metadata": {},
   "source": [
    "# Draw Area of Interest for your data search"
   ]
  },
  {
   "cell_type": "code",
   "execution_count": null,
   "metadata": {},
   "outputs": [],
   "source": [
    "## interactive map for you to draw a polygon to signify your aoi\n",
    "\n",
    "## Create a map centered at a specific location\n",
    "m = geemap.Map(center=[20, 0], zoom=2, basemap='HYBRID')\n",
    "\n",
    "## Add drawing tools\n",
    "m.add_draw_control()\n",
    "\n",
    "## Display the map\n",
    "display(m)"
   ]
  },
  {
   "cell_type": "code",
   "execution_count": null,
   "metadata": {},
   "outputs": [],
   "source": [
    "# get feature you just drew\n",
    "draw_features = m.draw_features[0]\n",
    "\n",
    "# extract the vertices pf the feature\n",
    "vertices = [(coords[0], coords[1]) for i, coords in enumerate(draw_features.getInfo()['geometry']['coordinates'][0])]\n",
    "vertices.reverse()\n",
    "\n",
    "# create POLYGON string to use when searching asf for imagery\n",
    "aoi = \"POLYGON((\" + \", \".join([f'{str(northing)[:-2]} {str(easting)[:-2]}' for northing, easting in vertices[:]]) +\"))\""
   ]
  },
  {
   "cell_type": "markdown",
   "metadata": {},
   "source": [
    "# Find SLC images for processing\n",
    "- Backscatter and GLCM used for training classification model\n",
    "- Phase will be used for subpixel reclassification of the subaqueous land class, resulting in three total classes"
   ]
  },
  {
   "cell_type": "code",
   "execution_count": null,
   "metadata": {},
   "outputs": [],
   "source": [
    "asc_metadata, asc_results = SLC_search_results('2019-10-01', \n",
    "                                       '2024-11-25',\n",
    "                                       aoi, \n",
    "                                       asf.PLATFORM.SENTINEL1A,\n",
    "                                       asf.PRODUCT_TYPE.SLC,\n",
    "                                       asf.BEAMMODE.IW,\n",
    "                                       asf.FLIGHT_DIRECTION.ASCENDING\n",
    "                                       )\n",
    "\n",
    "if len(asc_metadata['features']) == 0:\n",
    "    print('\\nNo ascending track epochs')\n",
    "else:\n",
    "    print(f'\\n{len(asc_metadata[\"features\"])} ascending track epochs')"
   ]
  },
  {
   "cell_type": "code",
   "execution_count": null,
   "metadata": {},
   "outputs": [],
   "source": [
    "des_metadata, des_results = SLC_search_results('2019-10-01', \n",
    "                                       '2024-11-25',\n",
    "                                       aoi, \n",
    "                                       asf.PLATFORM.SENTINEL1A,\n",
    "                                       asf.PRODUCT_TYPE.SLC,\n",
    "                                       asf.BEAMMODE.IW,\n",
    "                                       asf.FLIGHT_DIRECTION.DESCENDING\n",
    "                                       )\n",
    "\n",
    "if len(des_metadata['features']) == 0:\n",
    "    print('\\nNo descending track epochs')\n",
    "else:\n",
    "    print(f'\\n{len(des_metadata[\"features\"])} descending track epochs')"
   ]
  },
  {
   "cell_type": "markdown",
   "metadata": {},
   "source": [
    "# Filter out images along the minority track\n",
    "- only downloads images that are along the same track, easier interpretation\n",
    "- remove this step if want all images"
   ]
  },
  {
   "cell_type": "code",
   "execution_count": null,
   "metadata": {},
   "outputs": [],
   "source": [
    "direction = 'ASCENDING' # or DESCENDING\n",
    "if direction == 'ASCENDING':\n",
    "    directionmetadata = asc_metadata\n",
    "    directionresults = asc_results\n",
    "else:\n",
    "    directionmetadata = des_metadata\n",
    "    directionresults = des_results\n",
    "\n",
    "\n",
    "# put in your NASA Earth Data login info below\n",
    "SLC_download(USERNAME, PASSWORD, data_dir, directionmetadata, directionresults, direction)"
   ]
  },
  {
   "cell_type": "markdown",
   "metadata": {},
   "source": [
    "# Move to sentinel1prep_snap notebook (not created just yet) for processing using ESA SNAP and snapista python wrapper"
   ]
  }
 ],
 "metadata": {
  "kernelspec": {
   "display_name": "gis",
   "language": "python",
   "name": "python3"
  },
  "language_info": {
   "codemirror_mode": {
    "name": "ipython",
    "version": 3
   },
   "file_extension": ".py",
   "mimetype": "text/x-python",
   "name": "python",
   "nbconvert_exporter": "python",
   "pygments_lexer": "ipython3",
   "version": "3.11.10"
  }
 },
 "nbformat": 4,
 "nbformat_minor": 2
}
