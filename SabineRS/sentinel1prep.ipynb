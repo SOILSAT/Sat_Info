{
 "cells": [
  {
   "cell_type": "code",
   "execution_count": 3,
   "metadata": {},
   "outputs": [],
   "source": [
    "import numpy as np\n",
    "import geopandas as gpd\n",
    "import rasterio\n",
    "from rasterio.mask import mask\n",
    "import os\n",
    "from osgeo import gdal, osr\n",
    "from pyproj import CRS\n",
    "from shapely.geometry import box\n",
    "from shapely.geometry import mapping\n",
    "import matplotlib.pyplot as plt\n",
    "import matplotlib.patches as mpatches\n",
    "import matplotlib.ticker as mticker\n",
    "from shapely.geometry import box\n",
    "from matplotlib.patches import Polygon"
   ]
  },
  {
   "cell_type": "markdown",
   "metadata": {},
   "source": [
    "# Functions"
   ]
  },
  {
   "cell_type": "code",
   "execution_count": 59,
   "metadata": {},
   "outputs": [],
   "source": [
    "def get_labels(labelpath):\n",
    "    man_ims = [os.path.join(labelpath, f'manual/{file}') for file in os.listdir(os.path.join(labelpath, f'manual')) if file.endswith('.tif')]\n",
    "    otsu_ims = [os.path.join(labelpath, f'otsu/{file}') for file in os.listdir(os.path.join(labelpath, f'otsu')) if file.endswith('.tif')]\n",
    "    kmeans_ims = [os.path.join(labelpath, f'kmeans/{file}') for file in os.listdir(os.path.join(labelpath, f'kmeans')) if file.endswith('.tif')]\n",
    "    gmm_ims = [os.path.join(labelpath, f'gmm/{file}') for file in os.listdir(os.path.join(labelpath, f'gmm')) if file.endswith('.tif')]\n",
    "\n",
    "    return man_ims, otsu_ims, kmeans_ims, gmm_ims\n",
    "\n",
    "def get_grd(grdpath):\n",
    "    orig_ims = [os.path.join(grdpath, f'original/{file}') for file in os.listdir(os.path.join(grdpath, f'original')) if file.endswith('.tif')]\n",
    "    filt_ims = [os.path.join(grdpath, f'gammamap/{file}') for file in os.listdir(os.path.join(grdpath, f'gammamap')) if file.endswith('.tif')]\n",
    "\n",
    "    return orig_ims, filt_ims\n",
    "\n",
    "def get_glcm(glcmpath):\n",
    "    orig_glcms = [os.path.join(glcmpath, f'original/{file}') for file in os.listdir(os.path.join(glcmpath, f'original')) if file.endswith('.tif')]\n",
    "    filt_glcms = [os.path.join(glcmpath, f'gammamap/{file}') for file in os.listdir(os.path.join(glcmpath, f'gammamap')) if file.endswith('.tif')]\n",
    "\n",
    "    return orig_glcms, filt_glcms\n",
    "\n",
    "# Clip each Sentinel-1 image\n",
    "def clip_sentinel1_image(s1_path, output_path, s2_bounds):\n",
    "    with rasterio.open(s1_path) as src:\n",
    "        # Calculate the window corresponding to the bounding box (extent)\n",
    "        window = rasterio.windows.from_bounds(*s2_bounds, transform=src.transform)\n",
    "        \n",
    "        # Read and clip the Sentinel-1 image\n",
    "        clipped_image = src.read(window=window)\n",
    "        \n",
    "        # Create metadata for the clipped image\n",
    "        out_meta = src.meta.copy()\n",
    "        out_meta.update({\n",
    "            'height': window.height,\n",
    "            'width': window.width,\n",
    "            'transform': src.window_transform(window)\n",
    "        })\n",
    "        \n",
    "        # Write the clipped image to a new file\n",
    "        with rasterio.open(output_path, 'w', **out_meta) as dst:\n",
    "            dst.write(clipped_image)\n",
    "\n",
    "def export_s1images(coll, s2_bounds, type):\n",
    "    \"\"\"\n",
    "    type = str\n",
    "        'original' or 'gammamap'\n",
    "    \n",
    "    \"\"\"\n",
    "\n",
    "    for s1_path in enumerate(coll):\n",
    "        output_path = os.path.join(s1_path[:16], f'Clipped/{type}/{s1_path[-17:]}')\n",
    "        clip_sentinel1_image(s1_path, output_path, s2_bounds)\n",
    "\n",
    "def plot_vv_vh_with_bbox(image_path, bbox):\n",
    "    # Open the image using rasterio (assuming VV and VH are the first two bands)\n",
    "    with rasterio.open(image_path) as src:\n",
    "        # Read the VV and VH bands\n",
    "        vv = src.read(1)  # VV is in the first band\n",
    "        vh = src.read(2)  # VH is in the second band\n",
    "\n",
    "        # Get the extent of the image (top-left and bottom-right coordinates)\n",
    "        transform = src.transform\n",
    "        height, width = vv.shape\n",
    "        top_left = rasterio.transform.xy(transform, 0, 0, offset='center')\n",
    "        bottom_right = rasterio.transform.xy(transform, height - 1, width - 1, offset='center')\n",
    "\n",
    "    # Extract easting and northing from the corners\n",
    "    min_easting, max_northing = top_left\n",
    "    max_easting, min_northing = bottom_right\n",
    "\n",
    "    # Prepare the bounding box as a shapely geometry\n",
    "    bbox_geom = box(*bbox)  # Ensure bbox is an iterable [min_x, min_y, max_x, max_y]\n",
    "\n",
    "    fig, ax = plt.subplots(1, 2, figsize=(14, 6))  # Two subplots for VV and VH bands\n",
    "\n",
    "    # VV raster visualization with bounding box\n",
    "    ax[0].imshow(vv, cmap='gray', extent=[min_easting, max_easting, min_northing, max_northing])\n",
    "    x, y = bbox_geom.exterior.xy  # Extract coordinates for plotting the bounding box\n",
    "    ax[0].plot(x, y, color='red', linewidth=2, label=\"Sentinel-2 Coverage\")\n",
    "    ax[0].set_title('VV Band with Bounding Box')\n",
    "    ax[0].set_xlabel('Easting (meters)')\n",
    "    ax[0].set_ylabel('Northing (meters)')\n",
    "    ax[0].xaxis.set_major_locator(mticker.MaxNLocator(5))  # Reduce x-axis ticks\n",
    "    ax[0].yaxis.set_major_locator(mticker.MaxNLocator(5))  \n",
    "    ax[0].legend(loc='lower right')\n",
    "\n",
    "    # VH raster visualization with bounding box\n",
    "    ax[1].imshow(vh, cmap='gray', extent=[min_easting, max_easting, min_northing, max_northing])\n",
    "    ax[1].plot(x, y, color='red', linewidth=2, label=\"Sentinel-2 Coverage\")\n",
    "    ax[1].set_title('VH Band with Bounding Box')\n",
    "    ax[1].set_xlabel('Easting (meters)')\n",
    "    ax[1].set_ylabel('Northing (meters)')\n",
    "    ax[1].xaxis.set_major_locator(mticker.MaxNLocator(5))  # Reduce x-axis ticks\n",
    "    ax[1].yaxis.set_major_locator(mticker.MaxNLocator(5))  \n",
    "    ax[1].legend(loc='lower right')\n",
    "\n",
    "    # Show the plot with layout adjustments\n",
    "    plt.tight_layout()\n",
    "    plt.show()\n",
    "\n",
    "def get_EPSG(im):\n",
    "    src = gdal.Open(im)\n",
    "    wkt_projection = src.GetProjection()\n",
    "    spatial_ref = osr.SpatialReference()\n",
    "    spatial_ref.ImportFromWkt(wkt_projection)\n",
    "    epsg_code = spatial_ref.GetAttrValue('AUTHORITY', 1)\n",
    "    print(epsg_code)\n",
    "\n",
    "    return epsg_code \n",
    "\n",
    "def reproject_raster(input_raster, output_raster, target_crs='EPSG:32615'):\n",
    "\n",
    "    # Reproject using gdal.Warp\n",
    "    warp_options = gdal.WarpOptions(dstSRS=target_crs)\n",
    "    gdal.Warp(output_raster, input_raster, options=warp_options)\n",
    "\n",
    "def clip_raster_by_bbox(input_raster, output_raster, bbox):\n",
    "    # Define the output bounds (min_x, min_y, max_x, max_y)\n",
    "    min_x, min_y, max_x, max_y = bbox\n",
    "\n",
    "    # Use gdal.Translate to clip the raster by the bounding box\n",
    "    options = gdal.TranslateOptions(projWin=[min_x, max_y, max_x, min_y])  # Note the order: projWin=[min_x, max_y, max_x, min_y]\n",
    "    \n",
    "    # Perform the clipping operation\n",
    "    gdal.Translate(output_raster, input_raster, options=options)"
   ]
  },
  {
   "cell_type": "markdown",
   "metadata": {},
   "source": [
    "# 1. Register Sentinel-1 Imagery to Sentinel-2 labeled data?"
   ]
  },
  {
   "cell_type": "code",
   "execution_count": null,
   "metadata": {},
   "outputs": [],
   "source": [
    "# register all images to first S2 image\n",
    "# use cvs.findTransformECC()\n",
    "\n"
   ]
  },
  {
   "cell_type": "markdown",
   "metadata": {},
   "source": [
    "# 2. Clip the Sentinel-1 bands to the same extent as the Sentinel-2 imagery \n",
    "- need to clip using the bbox from first image\n",
    "- need to stack all GRD and GLCM bands into a single .tif or .vrt for respective dates\n",
    "- stack/include the four labels raster bands as well"
   ]
  },
  {
   "cell_type": "code",
   "execution_count": 6,
   "metadata": {},
   "outputs": [],
   "source": [
    "# set the directory for where your images are located\n",
    "\n",
    "############### WSL #########################\n",
    "# man_ims, otsu_ims, kmeans_ims, gmm_ims = get_labels('/mnt/d/SabineMSI/s2classifications')\n",
    "# orig_ims, filt_ims = get_grd('/mnt/d/SabineGRD/GEE')\n",
    "# orig_glcms, filt_glcms = get_glcm('/mnt/d/SabineGRD/GLCM')\n",
    "\n",
    "############### Linux #########################\n",
    "man_ims, otsu_ims, kmeans_ims, gmm_ims = get_labels('/home/wcc/Desktop/SabineRS/MSI/s2classifications')\n",
    "orig_ims, filt_ims = get_grd('/home/wcc/Desktop/SabineRS/GRD/0_initial/backscatter')\n",
    "orig_glcms, filt_glcms = get_glcm('/home/wcc/Desktop/SabineRS/GRD/0_initial/glcm')"
   ]
  },
  {
   "cell_type": "code",
   "execution_count": null,
   "metadata": {},
   "outputs": [],
   "source": [
    "# the Gamma Map filtered data is in EPSG:4326 and not EPSG:32615\n",
    "\n",
    "label_epsg = get_EPSG(man_ims[0])\n",
    "orig_epsg = get_EPSG(orig_ims[0])\n",
    "filt_epsg = get_EPSG(filt_ims[0])"
   ]
  },
  {
   "cell_type": "code",
   "execution_count": null,
   "metadata": {},
   "outputs": [],
   "source": [
    "src = gdal.Open(man_ims[0])\n",
    "geo_transform = src.GetGeoTransform()\n",
    "# s2_bounds= box(s2_bounds.left, s2_bounds.bottom, s2_bounds.right, s2_bounds.top) #(minx, miny, maxx, maxy)\n",
    "coords = [geo_transform[0], \n",
    "           geo_transform[0] + (src.RasterXSize * geo_transform[1]), \n",
    "           geo_transform[3] + (src.RasterYSize * geo_transform[5]), \n",
    "           geo_transform[3]\n",
    "            ]\n",
    "bbox = [coords[0], coords[2], coords[1], coords[3]]\n",
    "bbox"
   ]
  },
  {
   "cell_type": "code",
   "execution_count": 53,
   "metadata": {},
   "outputs": [],
   "source": [
    "for i , im in enumerate(filt_ims):\n",
    "    reproject_raster(im,os.path.join(im[:30], f'1_reprojected/backscatter/{im[-17:]}'), target_crs='EPSG:32615')\n",
    "    clip_raster_by_bbox(os.path.join(im[:30], f'1_reprojected/backscatter/{im[-17:]}'), os.path.join(im[:30], f'2_clipped/{im[-38:]}'), bbox)\n",
    "\n",
    "    reproject_raster(filt_glcms[i],os.path.join(filt_glcms[i][:30], f'1_reprojected/glcm/{filt_glcms[i][-17:]}'), target_crs='EPSG:32615')\n",
    "    clip_raster_by_bbox(os.path.join(filt_glcms[i][:30], f'1_reprojected/glcm/{filt_glcms[i][-17:]}'), os.path.join(filt_glcms[0][:30], f'2_clipped/{filt_glcms[0][-31:]}'), bbox)\n",
    "\n",
    "    clip_raster_by_bbox(orig_ims[i], os.path.join(orig_ims[i][:30], f'2_clipped/{orig_ims[i][-38:]}'), bbox)\n",
    "\n",
    "    clip_raster_by_bbox(orig_glcms[i], os.path.join(orig_glcms[i][:30], f'2_clipped/{orig_glcms[i][-31:]}'), bbox)"
   ]
  },
  {
   "cell_type": "code",
   "execution_count": null,
   "metadata": {},
   "outputs": [],
   "source": [
    "plot_vv_vh_with_bbox(orig_ims[0], bbox) # before clip\n",
    "plot_vv_vh_with_bbox('/home/wcc/Desktop/SabineRS/GRD/2_clipped/backscatter/original/s1_2020-08-08.tif', bbox) # after clip\n",
    "plot_vv_vh_with_bbox('/home/wcc/Desktop/SabineRS/GRD/2_clipped/backscatter/gammamap/s1_2020-08-08.tif', bbox) # after clip and reprojection for GammaMap filter"
   ]
  },
  {
   "cell_type": "code",
   "execution_count": 61,
   "metadata": {},
   "outputs": [],
   "source": [
    "# get the reprojected and clipped data\n",
    "clip_orig, clip_filt = get_grd('/home/wcc/Desktop/SabineRS/GRD/2_clipped/backscatter')\n",
    "clip_orig_glcms, clip_filt_glcms = get_glcm('/home/wcc/Desktop/SabineRS/GRD/2_clipped/glcm')"
   ]
  },
  {
   "cell_type": "code",
   "execution_count": null,
   "metadata": {},
   "outputs": [],
   "source": [
    "# use gdal.BuildVRT() to create new stacked rasters\n",
    "# will be one raster for each time stamp that S1 and S2 are close in time\n",
    "# will include the VV and VH, GLCM bands, and the four label rasters for each date ()\n",
    "\n",
    "vrt_options = gdal.BuildVRTOptions()\n",
    "gdal.BuildVRT()\n",
    "gdal.Translate(.vrt, .tif)    # use this to go from .vrt to .tif?"
   ]
  },
  {
   "cell_type": "markdown",
   "metadata": {},
   "source": [
    "# 3. Label the Sentinel-1 data as land or water"
   ]
  },
  {
   "cell_type": "code",
   "execution_count": null,
   "metadata": {},
   "outputs": [],
   "source": [
    "# check each labeled image to make sure the Subaerial Land = 1 and Water/Subaqeuous Land = 0\n"
   ]
  },
  {
   "cell_type": "code",
   "execution_count": null,
   "metadata": {},
   "outputs": [],
   "source": [
    "# Label the S1 pixels as 0 or 1 depending on overlap with labeled image from S2\n"
   ]
  },
  {
   "cell_type": "markdown",
   "metadata": {},
   "source": [
    "# 4. Save labeled S1 imagery for training Neural Network"
   ]
  },
  {
   "cell_type": "code",
   "execution_count": null,
   "metadata": {},
   "outputs": [],
   "source": [
    "# save the S1 (original and filtered) with all bands in one image for training NN\n",
    "# include VV, VH, GLCM, and the four classes for each pixel\n"
   ]
  },
  {
   "cell_type": "code",
   "execution_count": 60,
   "metadata": {},
   "outputs": [],
   "source": []
  }
 ],
 "metadata": {
  "kernelspec": {
   "display_name": "gis",
   "language": "python",
   "name": "python3"
  },
  "language_info": {
   "codemirror_mode": {
    "name": "ipython",
    "version": 3
   },
   "file_extension": ".py",
   "mimetype": "text/x-python",
   "name": "python",
   "nbconvert_exporter": "python",
   "pygments_lexer": "ipython3",
   "version": "3.11.10"
  }
 },
 "nbformat": 4,
 "nbformat_minor": 2
}
