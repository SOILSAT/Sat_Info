{
 "cells": [
  {
   "cell_type": "code",
   "execution_count": 34,
   "metadata": {},
   "outputs": [],
   "source": [
    "# Import dependencies\n",
    "\n",
    "import numpy as np\n",
    "import rasterio\n",
    "import os"
   ]
  },
  {
   "cell_type": "markdown",
   "metadata": {},
   "source": [
    "# Functions"
   ]
  },
  {
   "cell_type": "code",
   "execution_count": 75,
   "metadata": {},
   "outputs": [],
   "source": [
    "def get_labels(labelpath):\n",
    "    man_ims = [os.path.join(labelpath, f'manual/{file}') for file in os.listdir(os.path.join(labelpath, f'manual')) if file.endswith('.tif')]\n",
    "    otsu_ims = [os.path.join(labelpath, f'otsu/{file}') for file in os.listdir(os.path.join(labelpath, f'otsu')) if file.endswith('.tif')]\n",
    "    kmeans_ims = [os.path.join(labelpath, f'kmeans/{file}') for file in os.listdir(os.path.join(labelpath, f'kmeans')) if file.endswith('.tif')]\n",
    "    gmm_ims = [os.path.join(labelpath, f'gmm{file}') for file in os.listdir(os.path.join(labelpath, f'gmm')) if file.endswith('.tif')]\n",
    "\n",
    "    return man_ims, otsu_ims, kmeans_ims, gmm_ims\n",
    "\n",
    "def get_grd(grdpath):\n",
    "    orig_ims = [os.path.join(grdpath, f'Original/{file}') for file in os.listdir(os.path.join(grdpath, f'Original')) if file.endswith('.tif')]\n",
    "    filt_ims = [os.path.join(grdpath, f'GammaMap{file}') for file in os.listdir(os.path.join(grdpath, f'GammaMap')) if file.endswith('.tif')]\n",
    "\n",
    "    return orig_ims, filt_ims\n",
    "\n",
    "def get_glcm(glcmpath):\n",
    "    orig_glcms = [os.path.join(glcmpath, f'Original/{file}') for file in os.listdir(os.path.join(glcmpath, f'Original')) if file.endswith('.tif')]\n",
    "    filt_glcms = [os.path.join(glcmpath, f'GammaMap{file}') for file in os.listdir(os.path.join(glcmpath, f'GammaMap')) if file.endswith('.tif')]\n",
    "\n",
    "    return orig_glcms, filt_glcms\n",
    "\n",
    "# Clip each Sentinel-1 image\n",
    "def clip_sentinel1_image(s1_path, output_path, s2_bounds):\n",
    "    with rasterio.open(s1_path) as src:\n",
    "        # Calculate the window corresponding to the bounding box (extent)\n",
    "        window = rasterio.windows.from_bounds(*s2_bounds, transform=src.transform)\n",
    "        \n",
    "        # Read and clip the Sentinel-1 image\n",
    "        clipped_image = src.read(window=window)\n",
    "        \n",
    "        # Create metadata for the clipped image\n",
    "        out_meta = src.meta.copy()\n",
    "        out_meta.update({\n",
    "            'height': window.height,\n",
    "            'width': window.width,\n",
    "            'transform': src.window_transform(window)\n",
    "        })\n",
    "        \n",
    "        # Write the clipped image to a new file\n",
    "        with rasterio.open(output_path, 'w', **out_meta) as dst:\n",
    "            dst.write(clipped_image)\n",
    "\n",
    "def export_s1images(coll, s2_bounds, type):\n",
    "    \"\"\"\n",
    "    type = str\n",
    "        'Original' or 'GammaMap'\n",
    "    \n",
    "    \"\"\"\n",
    "\n",
    "    for s1_path in enumerate(coll):\n",
    "        output_path = os.path.join(s1_path[:16], f'Clipped/{type}/{s1_path[-17:]}')\n",
    "        clip_sentinel1_image(s1_path, output_path, s2_bounds)"
   ]
  },
  {
   "cell_type": "markdown",
   "metadata": {},
   "source": [
    "# 1. Clip the Sentinel-1 bands to the same extent as the Sentinel-2 imagery "
   ]
  },
  {
   "cell_type": "code",
   "execution_count": 72,
   "metadata": {},
   "outputs": [],
   "source": [
    "# set the directory for where your images are located\n",
    "man_ims, otsu_ims, kmeans_ims, gmm_ims = get_labels('/mnt/d/SabineMSI/s2classifications')\n",
    "orig_ims, filt_ims = get_grd('/mnt/d/SabineGRD/GEE')\n",
    "orig_glcms, filt_glcms = get_glcm('/mnt/d/SabineGRD/GLCM')"
   ]
  },
  {
   "cell_type": "code",
   "execution_count": null,
   "metadata": {},
   "outputs": [],
   "source": [
    "# match the S1 images with their closest labels by date\n"
   ]
  },
  {
   "cell_type": "code",
   "execution_count": 73,
   "metadata": {},
   "outputs": [],
   "source": [
    "# Open the Sentinel-2 image (labeled data)\n",
    "with rasterio.open(man_ims[0]) as src:\n",
    "    s2_bounds = src.bounds  # Get the bounding box (extent)"
   ]
  },
  {
   "cell_type": "code",
   "execution_count": 74,
   "metadata": {},
   "outputs": [],
   "source": [
    "# Load the VV or VH band from a Sentinel-1 image_vv\n",
    "with rasterio.open(orig_ims[90]) as src:\n",
    "    image_vv = src.read(1)\n",
    "    image_vh = src.read(2)"
   ]
  },
  {
   "cell_type": "markdown",
   "metadata": {},
   "source": [
    "# 2a. Register Sentinel-1 Imagery to Sentinel-2 labeled data?\n",
    "- should be in same reference system, so not sure if they need to be registered"
   ]
  },
  {
   "cell_type": "code",
   "execution_count": null,
   "metadata": {},
   "outputs": [],
   "source": []
  },
  {
   "cell_type": "markdown",
   "metadata": {},
   "source": [
    "# 2b. Label the Sentinel-1 data as land or water"
   ]
  },
  {
   "cell_type": "code",
   "execution_count": null,
   "metadata": {},
   "outputs": [],
   "source": [
    "# check each labeled image to make sure the Subaerial Land = 1 and Water/Subaqeuous Land = 0\n"
   ]
  },
  {
   "cell_type": "code",
   "execution_count": null,
   "metadata": {},
   "outputs": [],
   "source": [
    "# Label the S1 pixels as 0 or 1 depending on overlap with labeled image from S2\n"
   ]
  },
  {
   "cell_type": "markdown",
   "metadata": {},
   "source": [
    "# 3. Save labeled S1 imagery for training Neural Network"
   ]
  },
  {
   "cell_type": "code",
   "execution_count": null,
   "metadata": {},
   "outputs": [],
   "source": [
    "# save the S1 (original and filtered) with all bands in one image for training NN\n",
    "# include VV, VH, GLCM, and the four classes for each pixel\n"
   ]
  },
  {
   "cell_type": "code",
   "execution_count": 60,
   "metadata": {},
   "outputs": [],
   "source": []
  }
 ],
 "metadata": {
  "kernelspec": {
   "display_name": "py_gis",
   "language": "python",
   "name": "python3"
  },
  "language_info": {
   "codemirror_mode": {
    "name": "ipython",
    "version": 3
   },
   "file_extension": ".py",
   "mimetype": "text/x-python",
   "name": "python",
   "nbconvert_exporter": "python",
   "pygments_lexer": "ipython3",
   "version": "3.9.9"
  }
 },
 "nbformat": 4,
 "nbformat_minor": 2
}
