{
 "cells": [
  {
   "cell_type": "markdown",
   "metadata": {},
   "source": [
    "# Notebook dedicated to getting water mask using isce and mintpy\n",
    "- https://github.com/insarlab/MintPy-tutorial/blob/main/applications/water_mask.ipynb"
   ]
  },
  {
   "cell_type": "code",
   "execution_count": null,
   "metadata": {},
   "outputs": [],
   "source": [
    "%matplotlib inline\n",
    "import os\n",
    "import matplotlib.pyplot as plt\n",
    "from mintpy.cli import view\n",
    "import re"
   ]
  },
  {
   "cell_type": "markdown",
   "metadata": {},
   "source": [
    "# Something interesting I could try:\n",
    "Since I am getting open water, subqeuous, and subaerial classes via temporally registered Sentinel-1 and Sentinel-2 pairs, I could use this labels as their own water mask files. Would be much finer resolution, and could potentially be more accurate. Would need to use geo2rdr to convert similar to below. For now going to stick with this method until everything is up and running for the most part."
   ]
  },
  {
   "cell_type": "markdown",
   "metadata": {},
   "source": [
    "# Retrieve the aoi from the .txt created in 01_get_slc"
   ]
  },
  {
   "cell_type": "code",
   "execution_count": null,
   "metadata": {},
   "outputs": [],
   "source": [
    "isce_aoi_file = open('isceaoi.txt', 'r+')\n",
    "aoi = isce_aoi_file.read()\n",
    "aoi_list = [float(num) for num in re.findall(r'[-+]?\\d*\\.\\d+', aoi)]"
   ]
  },
  {
   "cell_type": "code",
   "execution_count": null,
   "metadata": {},
   "outputs": [],
   "source": [
    "os.chdir('/home/wcc/SabineRS_InSAR')"
   ]
  },
  {
   "cell_type": "code",
   "execution_count": null,
   "metadata": {},
   "outputs": [],
   "source": [
    "!/home/wcc/tools/miniforge/envs/mintpy/lib/python3.8/site-packages/isce/applications/wbd.py {aoi_list[0]} {aoi_list[1]} {aoi_list[2]} {aoi_list[3]}\n",
    "wbd_file = [f for f in os.listdir(os.getcwd()) if f.endswith('.wbd')][0]\n",
    "view.main(f'{wbd_file} -c gray --noverbose'.split())\n",
    "\n",
    "# convert to radar coordinates\n",
    "# need to fix the .rdr files for lat and lon, i think\n",
    "!geocode.py $wbd_file -o waterBody.rdr --lat-file /home/wcc/SabineRS_InSAR/interferometry/work/merged/lat.rdr --lon-file /home/wcc/SabineRS_InSAR/interferometry/work/merged/lon.rdr --geo2radar --fill 255\n",
    "view.main('waterBody.rdr -c gray --flip-lr --noverbose'.split())\n",
    "\n",
    "# adjust for mintpy\n",
    "!generate_mask.py waterBody.rdr --max 0.5 -o waterMask.rdr\n",
    "view.main('waterMask.rdr -c gray --flip-lr --noverbose'.split())"
   ]
  },
  {
   "cell_type": "markdown",
   "metadata": {},
   "source": [
    "# Multilook water mask to same resolution as the end product ifg\n",
    "- i am starting with 1x5 (azi x range) for finest resolution from S1"
   ]
  },
  {
   "cell_type": "code",
   "execution_count": null,
   "metadata": {},
   "outputs": [],
   "source": []
  }
 ],
 "metadata": {
  "kernelspec": {
   "display_name": "mintpy",
   "language": "python",
   "name": "python3"
  },
  "language_info": {
   "codemirror_mode": {
    "name": "ipython",
    "version": 3
   },
   "file_extension": ".py",
   "mimetype": "text/x-python",
   "name": "python",
   "nbconvert_exporter": "python",
   "pygments_lexer": "ipython3",
   "version": "3.8.18"
  }
 },
 "nbformat": 4,
 "nbformat_minor": 2
}
