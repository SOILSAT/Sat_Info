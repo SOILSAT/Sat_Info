{
 "cells": [
  {
   "cell_type": "markdown",
   "metadata": {},
   "source": [
    "# Notebook for implementing ISCE2 interferometry to form Interferograms, and MintPy SBAS Time-Series analysis\n",
    "This notebook will:\n",
    "1. Find scenes from ASF Vertex using the asf_search library\n",
    "2. Download said scenes\n",
    "3. Use scenes to form interferograms using ISCE2\n",
    "4. Utilize the closure phase to improve phase unwrapping\n",
    "5. Create SBAS Time-Series of deformation using the closure phase corrected interferograms\n",
    "6. Relate non-zero closure phase to surface vegatation and mositure changes using NDVI and EO moisture products\n",
    "7. Report on erosion driver events and show relation to deformation and insar velocity from corrected SBAS time-series "
   ]
  },
  {
   "cell_type": "markdown",
   "metadata": {},
   "source": [
    "# To-DO\n",
    "1. Get notebook working first with manually installed SLC images\n",
    "2. Build off 'mintpy_get_isceburst.ipynb' to build interactive for retrieving SLCs"
   ]
  },
  {
   "cell_type": "markdown",
   "metadata": {},
   "source": [
    "https://nbviewer.org/github/isce-framework/isce2-docs/blob/master/Notebooks/UNAVCO_2020/TOPS/topsApp.ipynb"
   ]
  },
  {
   "cell_type": "markdown",
   "metadata": {},
   "source": [
    "# First, some helpful functions"
   ]
  },
  {
   "cell_type": "code",
   "execution_count": 1,
   "metadata": {},
   "outputs": [],
   "source": [
    "# importing needed libraries for the entire notebook in one go\n",
    "# %matplotlib inline\n",
    "# %matplotlib widget\n",
    "import os\n",
    "from dateutil.parser import parse as parse_date\n",
    "from datetime import datetime\n",
    "import pandas as pd\n",
    "import numpy as np\n",
    "from osgeo import gdal, osr\n",
    "import matplotlib.pyplot as plt\n",
    "from typing import List, Union\n",
    "from itertools import combinations\n",
    "import eof\n",
    "import geemap\n",
    "import csv\n",
    "import xml.etree.ElementTree as ET\n",
    "from shapely.geometry import Polygon, box\n",
    "\n",
    "\n",
    "# only need these two if you plan on searching andrequesting for data from within this notebook\n",
    "# in my opinion, while it may take longer, it is much easier to use the ASF Vertex Website\n",
    "# that said, if you are monitoring a reoccuring site and just need more imagery, searching using the notebook would be best\n",
    "import asf_search as asf\n",
    "import hyp3_sdk as sdk"
   ]
  },
  {
   "cell_type": "code",
   "execution_count": 2,
   "metadata": {},
   "outputs": [
    {
     "data": {
      "text/html": [
       "\n",
       "            <style>\n",
       "                .geemap-dark {\n",
       "                    --jp-widgets-color: white;\n",
       "                    --jp-widgets-label-color: white;\n",
       "                    --jp-ui-font-color1: white;\n",
       "                    --jp-layout-color2: #454545;\n",
       "                    background-color: #383838;\n",
       "                }\n",
       "\n",
       "                .geemap-dark .jupyter-button {\n",
       "                    --jp-layout-color3: #383838;\n",
       "                }\n",
       "\n",
       "                .geemap-colab {\n",
       "                    background-color: var(--colab-primary-surface-color, white);\n",
       "                }\n",
       "\n",
       "                .geemap-colab .jupyter-button {\n",
       "                    --jp-layout-color3: var(--colab-primary-surface-color, white);\n",
       "                }\n",
       "            </style>\n",
       "            "
      ],
      "text/plain": [
       "<IPython.core.display.HTML object>"
      ]
     },
     "metadata": {},
     "output_type": "display_data"
    }
   ],
   "source": [
    "def project_dir(proj_name, operatingsys):\n",
    "    \"\"\"\n",
    "    This function reads in a string that you wish to make your working directory \n",
    "    for the InSAR project, and creates a data directory to store the data for ISCE2 and mintpy\n",
    "    proj_name = str\n",
    "        string that contains the name of your project\n",
    "\n",
    "    operatingsys = str\n",
    "        'linux' or 'wsl', the linux operating system you are using will impact where data will be save\n",
    "    \"\"\"\n",
    "\n",
    "    if operatingsys == 'linux':\n",
    "        print('Creating Project Working Directory in your \"~\" directory')\n",
    "        work_dir = os.path.join(os.path.expanduser('~'),f'{proj_name}_InSAR')\n",
    "    elif operatingsys == 'wsl':\n",
    "        print('Creating Project Working Directory on your Windows Desktop')\n",
    "        work_dir = os.path.join('/mnt/c/Users/clayc/Desktop',f'{proj_name}_InSAR')\n",
    "\n",
    "    #creates file on your desktop containing the work of this notebook\n",
    "    os.makedirs(work_dir, exist_ok=True)\n",
    "    \n",
    "    # file inside work_dir for isce2 interferometry\n",
    "    if_dir = os.path.join(work_dir,'interferometry')\n",
    "    os.makedirs(if_dir, exist_ok=True)\n",
    "    \n",
    "    # file inside work_dir for mintpy time-series\n",
    "    ts_dir = os.path.join(work_dir,'time_series')\n",
    "    os.makedirs(ts_dir, exist_ok=True)\n",
    "    \n",
    "\n",
    "    xmls_dir = os.path.join(if_dir,'xmls')\n",
    "    os.makedirs(xmls_dir, exist_ok=True)\n",
    "    \n",
    "    xmldirectories=[]\n",
    "    for dir in ['topsApp', 'reference', 'secondary']:\n",
    "        dirpath = os.path.join(xmls_dir, dir)\n",
    "        os.makedirs(dirpath, exist_ok=True)\n",
    "        xmldirectories.append(dirpath)\n",
    "\n",
    "    ifdirectories=[]\n",
    "    for dir in ['reference', 'secondary', 'orbits', 'work']:\n",
    "        dirpath = os.path.join(if_dir, dir)\n",
    "        os.makedirs(dirpath, exist_ok=True)\n",
    "        ifdirectories.append(dirpath)\n",
    "\n",
    "    tsdirectories=[]\n",
    "    for dir in ['baseline', 'reference', 'merged', 'secondaries', 'mintpy']:\n",
    "        dirpath = os.path.join(ts_dir, dir)\n",
    "        os.makedirs(dirpath, exist_ok=True)\n",
    "        if dir == 'merged':\n",
    "                geomref_dir = os.path.join(dirpath,'geom_reference')\n",
    "                os.makedirs(geomref_dir, exist_ok=True)\n",
    "\n",
    "                interfer_dir = os.path.join(dirpath,'interferograms')\n",
    "                os.makedirs(interfer_dir, exist_ok=True)\n",
    "\n",
    "                tsdirectories.append(geomref_dir)\n",
    "                tsdirectories.append(interfer_dir)\n",
    "\n",
    "        tsdirectories.append(dirpath)\n",
    "\n",
    "    return work_dir, ifdirectories, tsdirectories, xmldirectories"
   ]
  },
  {
   "cell_type": "code",
   "execution_count": 3,
   "metadata": {},
   "outputs": [
    {
     "data": {
      "text/html": [
       "\n",
       "            <style>\n",
       "                .geemap-dark {\n",
       "                    --jp-widgets-color: white;\n",
       "                    --jp-widgets-label-color: white;\n",
       "                    --jp-ui-font-color1: white;\n",
       "                    --jp-layout-color2: #454545;\n",
       "                    background-color: #383838;\n",
       "                }\n",
       "\n",
       "                .geemap-dark .jupyter-button {\n",
       "                    --jp-layout-color3: #383838;\n",
       "                }\n",
       "\n",
       "                .geemap-colab {\n",
       "                    background-color: var(--colab-primary-surface-color, white);\n",
       "                }\n",
       "\n",
       "                .geemap-colab .jupyter-button {\n",
       "                    --jp-layout-color3: var(--colab-primary-surface-color, white);\n",
       "                }\n",
       "            </style>\n",
       "            "
      ],
      "text/plain": [
       "<IPython.core.display.HTML object>"
      ]
     },
     "metadata": {},
     "output_type": "display_data"
    }
   ],
   "source": [
    "def get_triplets(slc_list):\n",
    "    \"\"\"\n",
    "    this program will generate a dictionary with keys triplet_n, where n is the triplet stack\n",
    "    each triplet_n contains 4 sets. Each set contains (path/to/ref.xml, path/to/sec.xml)\n",
    "    \n",
    "    slc_zips = list of directories containing the topsApp, reference, and secondary .xml files    \n",
    "    created an returned using the project_dir fucntion\n",
    "    \"\"\"\n",
    "    \n",
    "    triplet_dict={}\n",
    "    \n",
    "    for i in range(len(slc_list) - 2):\n",
    "        triplet_dict[f'triplet_{i+1}'] = ((slc_list[i],slc_list[i+1]), (slc_list[i+1],slc_list[i+2]), (slc_list[i+2], slc_list[i]))\n",
    "        if i == 0:\n",
    "            test_triplet = ((slc_list[i],slc_list[i+1]), (slc_list[i+1],slc_list[i+2]), (slc_list[i+2], slc_list[i]), (slc_list[i], slc_list[i+2]))\n",
    "        else:\n",
    "            continue\n",
    "    return triplet_dict, test_triplet"
   ]
  },
  {
   "cell_type": "code",
   "execution_count": 4,
   "metadata": {},
   "outputs": [
    {
     "data": {
      "text/html": [
       "\n",
       "            <style>\n",
       "                .geemap-dark {\n",
       "                    --jp-widgets-color: white;\n",
       "                    --jp-widgets-label-color: white;\n",
       "                    --jp-ui-font-color1: white;\n",
       "                    --jp-layout-color2: #454545;\n",
       "                    background-color: #383838;\n",
       "                }\n",
       "\n",
       "                .geemap-dark .jupyter-button {\n",
       "                    --jp-layout-color3: #383838;\n",
       "                }\n",
       "\n",
       "                .geemap-colab {\n",
       "                    background-color: var(--colab-primary-surface-color, white);\n",
       "                }\n",
       "\n",
       "                .geemap-colab .jupyter-button {\n",
       "                    --jp-layout-color3: var(--colab-primary-surface-color, white);\n",
       "                }\n",
       "            </style>\n",
       "            "
      ],
      "text/plain": [
       "<IPython.core.display.HTML object>"
      ]
     },
     "metadata": {},
     "output_type": "display_data"
    }
   ],
   "source": [
    "# function to create the reference and secondary .xml files needed for ISCE2 interferometry\n",
    "# function to write the \n",
    "def ref_sec_xml(slc_zips_list, slc_zips_dirs):\n",
    "    for i in range(len(slc_zips_dirs)):\n",
    "        for j, type in enumerate(['reference', 'secondary']):\n",
    "            imset = ET.Element('component', name=type)\n",
    "            safe = ET.SubElement(imset, 'property', name='safe').text = slc_zips_dirs[i]\n",
    "            out_dir =ET.SubElement(imset, 'property', name='output directory').text = ifdirectories[j]\n",
    "            orbit_dir =ET.SubElement(imset, 'property', name='orbit directory').text = ifdirectories[2]\n",
    "            roi = ET.SubElement(imset, 'property', name='region of interest').text = str(isce_aoi)\n",
    "            tree = ET.ElementTree(imset)\n",
    "            tree.write(os.path.join(xmldirectories[j+1], f'{slc_zips_list[i][17:25]}{type[:3]}.xml'))"
   ]
  },
  {
   "cell_type": "code",
   "execution_count": 5,
   "metadata": {},
   "outputs": [
    {
     "data": {
      "text/html": [
       "\n",
       "            <style>\n",
       "                .geemap-dark {\n",
       "                    --jp-widgets-color: white;\n",
       "                    --jp-widgets-label-color: white;\n",
       "                    --jp-ui-font-color1: white;\n",
       "                    --jp-layout-color2: #454545;\n",
       "                    background-color: #383838;\n",
       "                }\n",
       "\n",
       "                .geemap-dark .jupyter-button {\n",
       "                    --jp-layout-color3: #383838;\n",
       "                }\n",
       "\n",
       "                .geemap-colab {\n",
       "                    background-color: var(--colab-primary-surface-color, white);\n",
       "                }\n",
       "\n",
       "                .geemap-colab .jupyter-button {\n",
       "                    --jp-layout-color3: var(--colab-primary-surface-color, white);\n",
       "                }\n",
       "            </style>\n",
       "            "
      ],
      "text/plain": [
       "<IPython.core.display.HTML object>"
      ]
     },
     "metadata": {},
     "output_type": "display_data"
    }
   ],
   "source": [
    "# function to create the topsApp.xml files for topsInSAR\n",
    "def topsApp_xml(triplet_dict, do_iono):\n",
    "    \"\"\"\n",
    "    do_iono = str\n",
    "        'True' or 'False', does ionospheric correction of the interfoerograms\n",
    "    \"\"\"\n",
    "\n",
    "    for key in triplet_dict:\n",
    "        for pair in triplet_dict[key]:\n",
    "            data = ET.Element('topsApp')\n",
    "            tinsar = ET.SubElement(data, 'component', name='topsinsar')\n",
    "            snsr_name = ET.SubElement(tinsar, 'property', name='Sensor name').text = 'SENTINEL1'\n",
    "            ref_xmlcomp = ET.SubElement(tinsar, 'component', name='reference')\n",
    "            xml_file = ET.SubElement(ref_xmlcomp, 'catalog').text = os.path.join(xmldirectories[1], f\"{pair[0][17:25]}ref.xml\")\n",
    "            sec_xmlcomp = ET.SubElement(tinsar, 'component', name='secondary')\n",
    "            xml_file = ET.SubElement(sec_xmlcomp, 'catalog').text = os.path.join(xmldirectories[2], f\"{pair[1][17:25]}sec.xml\")\n",
    "            \n",
    "            swathnums = ET.SubElement(tinsar, 'property', name='swaths').text=str([1,2])\n",
    "\n",
    "            azi_looks = ET.SubElement(tinsar, 'property', name='azimuth looks').text = str(6)\n",
    "            range_looks = ET.SubElement(tinsar, 'property', name='range looks').text = str(2)\n",
    "            \n",
    "            phasefilt = ET.SubElement(tinsar, 'property', name='filter strength').text = str(0.2)\n",
    "            \n",
    "            \n",
    "            unwrap_yn = ET.SubElement(tinsar, 'property', name='do unwrap').text = str(True) # or False\n",
    "            unwrap_name = ET.SubElement(tinsar, 'property', name='unwrapper name').text = 'snaphu_mcf' # grass, icu, snaphu, snaphu_mcf, downsample_snap\n",
    "            \n",
    "            do_iono_corr = ET.SubElement(tinsar, 'property', name='do ionosphere correction').text = do_iono\n",
    "            apply_iono_corr = ET.SubElement(tinsar, 'property', name='apply ionosphere correction').text = do_iono\n",
    "\n",
    "            if do_iono == 'True':\n",
    "                #choose from: ['subband', 'rawion', 'grd2ion', 'filt_gaussian', 'ionosphere_shift', 'ion2grd', 'esd']\n",
    "                start_iono_corr = ET.SubElement(tinsar, 'property', name='start ionosphere step').text = 'filt_gaussian'\n",
    "                end_iono_corr = ET.SubElement(tinsar, 'property', name='end ionosphere step').text = 'esd'\n",
    "\n",
    "                iono_height = ET.SubElement(tinsar, 'property', name='height of ionosphere layer in km').text = str(200.0)\n",
    "                iono_filt = ET.SubElement(tinsar, 'property', name=\"apply polynomial fit before filtering ionosphere phase\").text = str(True)\n",
    "                max_iono_filt_wind_phase = ET.SubElement(tinsar, 'property', name=\"maximum window size for filtering ionosphere phase\").text = str(200)\n",
    "                min_iono_filt_wind_phase = ET.SubElement(tinsar, 'property', name=\"minimum window size for filtering ionosphere phase\").text = str(100)\n",
    "                max_iono_filt_wind_azishift = ET.SubElement(tinsar, 'property', name=\"maximum window size for filtering ionosphere azimuth shift\").text = str(150)\n",
    "                min_iono_filt_wind_azishift = ET.SubElement(tinsar, 'property', name=\"minimum window size for filtering ionosphere azimuth shift\").text = str(75)\n",
    "\n",
    "                #0: no correction\n",
    "                #1: use mean value of a burst\n",
    "                #2: use full burst\n",
    "                correct_iono_azishift_err = ET.SubElement(tinsar, 'property', name='correct phase error caused by ionosphere azimuth shift').text = str(2)\n",
    "\n",
    "            geocode = ET.SubElement(tinsar, 'property', name='geocode bounding box').text = str(isce_aoi)\n",
    "            \n",
    "            tree = ET.ElementTree(data)\n",
    "            tree.write(os.path.join(xmldirectories[0], f\"{pair[0][17:25]}_{pair[1][17:25]}topsApp.xml\"))"
   ]
  },
  {
   "cell_type": "markdown",
   "metadata": {},
   "source": [
    "# Establish working directroy and data paths"
   ]
  },
  {
   "cell_type": "code",
   "execution_count": 6,
   "metadata": {},
   "outputs": [
    {
     "data": {
      "text/html": [
       "\n",
       "            <style>\n",
       "                .geemap-dark {\n",
       "                    --jp-widgets-color: white;\n",
       "                    --jp-widgets-label-color: white;\n",
       "                    --jp-ui-font-color1: white;\n",
       "                    --jp-layout-color2: #454545;\n",
       "                    background-color: #383838;\n",
       "                }\n",
       "\n",
       "                .geemap-dark .jupyter-button {\n",
       "                    --jp-layout-color3: #383838;\n",
       "                }\n",
       "\n",
       "                .geemap-colab {\n",
       "                    background-color: var(--colab-primary-surface-color, white);\n",
       "                }\n",
       "\n",
       "                .geemap-colab .jupyter-button {\n",
       "                    --jp-layout-color3: var(--colab-primary-surface-color, white);\n",
       "                }\n",
       "            </style>\n",
       "            "
      ],
      "text/plain": [
       "<IPython.core.display.HTML object>"
      ]
     },
     "metadata": {},
     "output_type": "display_data"
    },
    {
     "name": "stdout",
     "output_type": "stream",
     "text": [
      "Creating Project Working Directory in your \"~\" directory\n"
     ]
    }
   ],
   "source": [
    "# Establish working directories, and locate Sentinel-1 SLC .zip files\n",
    "proj_name = 'Harris_etal_2023'\n",
    "work_dir, ifdirectories, tsdirectories, xmldirectories = project_dir(proj_name, 'linux')"
   ]
  },
  {
   "cell_type": "code",
   "execution_count": 7,
   "metadata": {},
   "outputs": [
    {
     "data": {
      "text/html": [
       "\n",
       "            <style>\n",
       "                .geemap-dark {\n",
       "                    --jp-widgets-color: white;\n",
       "                    --jp-widgets-label-color: white;\n",
       "                    --jp-ui-font-color1: white;\n",
       "                    --jp-layout-color2: #454545;\n",
       "                    background-color: #383838;\n",
       "                }\n",
       "\n",
       "                .geemap-dark .jupyter-button {\n",
       "                    --jp-layout-color3: #383838;\n",
       "                }\n",
       "\n",
       "                .geemap-colab {\n",
       "                    background-color: var(--colab-primary-surface-color, white);\n",
       "                }\n",
       "\n",
       "                .geemap-colab .jupyter-button {\n",
       "                    --jp-layout-color3: var(--colab-primary-surface-color, white);\n",
       "                }\n",
       "            </style>\n",
       "            "
      ],
      "text/plain": [
       "<IPython.core.display.HTML object>"
      ]
     },
     "metadata": {},
     "output_type": "display_data"
    }
   ],
   "source": [
    "# assuming you have downloaded .zip files covering your AOI from ASF Vertex\n",
    "# enter the file directory below\n",
    "slc_zips = '/home/wcc/Documents/InSAR/Brians_Paper/Harrisetal_slcs/2017_2018'\n",
    "\n",
    "slc_zips_list = sorted(os.listdir(slc_zips), key=lambda x: datetime.strptime(x[17:25], '%Y%m%d'))\n",
    "slc_zips_dirs = [os.path.join(slc_zips, slc) for slc in slc_zips_list]\n",
    "slc_zips_dates = [slc[17:25] for slc in slc_zips_list]\n",
    "\n",
    "triplet_dict, test_triplet = get_triplets(slc_zips_list)"
   ]
  },
  {
   "cell_type": "code",
   "execution_count": 8,
   "metadata": {},
   "outputs": [
    {
     "data": {
      "text/html": [
       "\n",
       "            <style>\n",
       "                .geemap-dark {\n",
       "                    --jp-widgets-color: white;\n",
       "                    --jp-widgets-label-color: white;\n",
       "                    --jp-ui-font-color1: white;\n",
       "                    --jp-layout-color2: #454545;\n",
       "                    background-color: #383838;\n",
       "                }\n",
       "\n",
       "                .geemap-dark .jupyter-button {\n",
       "                    --jp-layout-color3: #383838;\n",
       "                }\n",
       "\n",
       "                .geemap-colab {\n",
       "                    background-color: var(--colab-primary-surface-color, white);\n",
       "                }\n",
       "\n",
       "                .geemap-colab .jupyter-button {\n",
       "                    --jp-layout-color3: var(--colab-primary-surface-color, white);\n",
       "                }\n",
       "            </style>\n",
       "            "
      ],
      "text/plain": [
       "<IPython.core.display.HTML object>"
      ]
     },
     "metadata": {},
     "output_type": "display_data"
    },
    {
     "name": "stdout",
     "output_type": "stream",
     "text": [
      "\n",
      "Pair 1:('S1A_IW_SLC__1SDV_20180208T001821_20180208T001848_020508_023144_A39F.zip', 'S1A_IW_SLC__1SDV_20180220T001821_20180220T001848_020683_0236D8_9211.zip')\n",
      "Pair 2:('S1A_IW_SLC__1SDV_20180220T001821_20180220T001848_020683_0236D8_9211.zip', 'S1A_IW_SLC__1SDV_20180328T001822_20180328T001849_021208_024782_46FD.zip')\n",
      "Pair 3:('S1A_IW_SLC__1SDV_20180328T001822_20180328T001849_021208_024782_46FD.zip', 'S1A_IW_SLC__1SDV_20180208T001821_20180208T001848_020508_023144_A39F.zip')\n"
     ]
    }
   ],
   "source": [
    "# examine each triplet if you would like\n",
    "# this shows the tuple that stores the string filenmem of the SLC .zip files\n",
    "# in each triplet there will be 4 SLC pairs = 4 interferograms\n",
    "# the first makes if_ij = the multilooked wrapped interferometric phase between SLC i and j\n",
    "# the second makes if_jk = the multilooked wrapped interferometric phase between SLC j and k\n",
    "# the third makes if_ki = the multilooked wrapped interferometric phase between SLC k and i\n",
    "# where i, j, k are a time-series of SLC images\n",
    "# choose a triplet to examine its pairs\n",
    "# closure phase = if_ij+if_jk+if_ki\n",
    "\n",
    "# triplet_choice = 'triple_1'\n",
    "triplet_choice = f'triplet_{len(triplet_dict)}'  # uncomment to just check the last triplet in the dict\n",
    "\n",
    "if_ij = triplet_dict[triplet_choice][0]\n",
    "if_jk = triplet_dict[triplet_choice][1]\n",
    "if_ki = triplet_dict[triplet_choice][2]\n",
    "\n",
    "print()\n",
    "print(f'Pair 1:{if_ij}')\n",
    "print(f'Pair 2:{if_jk}')\n",
    "print(f'Pair 3:{if_ki}')"
   ]
  },
  {
   "cell_type": "markdown",
   "metadata": {},
   "source": [
    "# Get bbox for your area of interest in the SLC images, faster processing with less data"
   ]
  },
  {
   "cell_type": "code",
   "execution_count": 48,
   "metadata": {},
   "outputs": [
    {
     "data": {
      "text/html": [
       "\n",
       "            <style>\n",
       "                .geemap-dark {\n",
       "                    --jp-widgets-color: white;\n",
       "                    --jp-widgets-label-color: white;\n",
       "                    --jp-ui-font-color1: white;\n",
       "                    --jp-layout-color2: #454545;\n",
       "                    background-color: #383838;\n",
       "                }\n",
       "\n",
       "                .geemap-dark .jupyter-button {\n",
       "                    --jp-layout-color3: #383838;\n",
       "                }\n",
       "\n",
       "                .geemap-colab {\n",
       "                    background-color: var(--colab-primary-surface-color, white);\n",
       "                }\n",
       "\n",
       "                .geemap-colab .jupyter-button {\n",
       "                    --jp-layout-color3: var(--colab-primary-surface-color, white);\n",
       "                }\n",
       "            </style>\n",
       "            "
      ],
      "text/plain": [
       "<IPython.core.display.HTML object>"
      ]
     },
     "metadata": {},
     "output_type": "display_data"
    },
    {
     "data": {
      "application/vnd.jupyter.widget-view+json": {
       "model_id": "3ea996702f0642f0b26205f6eea6e84e",
       "version_major": 2,
       "version_minor": 0
      },
      "text/plain": [
       "Map(center=[20, 0], controls=(WidgetControl(options=['position', 'transparent_bg'], widget=SearchDataGUI(child…"
      ]
     },
     "metadata": {},
     "output_type": "display_data"
    }
   ],
   "source": [
    "## interactive map for you to draw a polygon to signify your aoi\n",
    "\n",
    "## Create a map centered at a specific location\n",
    "m = geemap.Map(center=[20, 0], zoom=2, basemap='HYBRID')\n",
    "\n",
    "## Add drawing tools\n",
    "m.add_draw_control()\n",
    "\n",
    "## Display the map\n",
    "display(m)"
   ]
  },
  {
   "cell_type": "code",
   "execution_count": null,
   "metadata": {},
   "outputs": [],
   "source": [
    "# extract the vertices pf the feature\n",
    "vertices = [(coords[0], coords[1]) for i, coords in enumerate(m.draw_features[0].getInfo()['geometry']['coordinates'][0])]\n",
    "\n",
    "# create POLYGON string to use when searching asf for imagery\n",
    "isce_aoi_polygon = Polygon(vertices)\n",
    "\n",
    "#create isce compatibile bbox\n",
    "isce_aoi = [min([easting for northing, easting in vertices[:]]), max([easting for northing, easting in vertices[:]]), min([northing for northing, easting in vertices[:]]), max([northing for northing, easting in vertices[:]])]\n",
    "print(isce_aoi)"
   ]
  },
  {
   "cell_type": "code",
   "execution_count": 9,
   "metadata": {},
   "outputs": [
    {
     "data": {
      "text/html": [
       "\n",
       "            <style>\n",
       "                .geemap-dark {\n",
       "                    --jp-widgets-color: white;\n",
       "                    --jp-widgets-label-color: white;\n",
       "                    --jp-ui-font-color1: white;\n",
       "                    --jp-layout-color2: #454545;\n",
       "                    background-color: #383838;\n",
       "                }\n",
       "\n",
       "                .geemap-dark .jupyter-button {\n",
       "                    --jp-layout-color3: #383838;\n",
       "                }\n",
       "\n",
       "                .geemap-colab {\n",
       "                    background-color: var(--colab-primary-surface-color, white);\n",
       "                }\n",
       "\n",
       "                .geemap-colab .jupyter-button {\n",
       "                    --jp-layout-color3: var(--colab-primary-surface-color, white);\n",
       "                }\n",
       "            </style>\n",
       "            "
      ],
      "text/plain": [
       "<IPython.core.display.HTML object>"
      ]
     },
     "metadata": {},
     "output_type": "display_data"
    }
   ],
   "source": [
    "isce_aoi = [29.813242, 30.089296, -93.544464, -93.309631]"
   ]
  },
  {
   "cell_type": "markdown",
   "metadata": {},
   "source": [
    "# Get s-1 orbit files (.EOF) using sentineleof library"
   ]
  },
  {
   "cell_type": "code",
   "execution_count": 10,
   "metadata": {},
   "outputs": [
    {
     "data": {
      "text/html": [
       "\n",
       "            <style>\n",
       "                .geemap-dark {\n",
       "                    --jp-widgets-color: white;\n",
       "                    --jp-widgets-label-color: white;\n",
       "                    --jp-ui-font-color1: white;\n",
       "                    --jp-layout-color2: #454545;\n",
       "                    background-color: #383838;\n",
       "                }\n",
       "\n",
       "                .geemap-dark .jupyter-button {\n",
       "                    --jp-layout-color3: #383838;\n",
       "                }\n",
       "\n",
       "                .geemap-colab {\n",
       "                    background-color: var(--colab-primary-surface-color, white);\n",
       "                }\n",
       "\n",
       "                .geemap-colab .jupyter-button {\n",
       "                    --jp-layout-color3: var(--colab-primary-surface-color, white);\n",
       "                }\n",
       "            </style>\n",
       "            "
      ],
      "text/plain": [
       "<IPython.core.display.HTML object>"
      ]
     },
     "metadata": {},
     "output_type": "display_data"
    }
   ],
   "source": [
    "#below downloads orbit files for your S1 SLC imagery to orbits_dir created with project_dir\n",
    "for i,slc in enumerate(slc_zips_list):\n",
    "    eof.download.download_eofs(\n",
    "        orbit_dts=slc_zips_dates[i],  # slc date in str YYYYMMDD format\n",
    "        missions=['S1A', 'S1B'],        # gets both S1 missions, third was just launched (2024) so may need updating\n",
    "        sentinel_file=slc,              # image name\n",
    "        save_dir=ifdirectories[2],      # orbits_dir\n",
    "        orbit_type='precise'            # can be 'precise' or 'restituted'\n",
    "    )"
   ]
  },
  {
   "cell_type": "markdown",
   "metadata": {},
   "source": [
    "# Create Sentinel-1 SLC .xml files\n",
    "- One reference and one secondary for each image"
   ]
  },
  {
   "cell_type": "code",
   "execution_count": 11,
   "metadata": {},
   "outputs": [
    {
     "data": {
      "text/html": [
       "\n",
       "            <style>\n",
       "                .geemap-dark {\n",
       "                    --jp-widgets-color: white;\n",
       "                    --jp-widgets-label-color: white;\n",
       "                    --jp-ui-font-color1: white;\n",
       "                    --jp-layout-color2: #454545;\n",
       "                    background-color: #383838;\n",
       "                }\n",
       "\n",
       "                .geemap-dark .jupyter-button {\n",
       "                    --jp-layout-color3: #383838;\n",
       "                }\n",
       "\n",
       "                .geemap-colab {\n",
       "                    background-color: var(--colab-primary-surface-color, white);\n",
       "                }\n",
       "\n",
       "                .geemap-colab .jupyter-button {\n",
       "                    --jp-layout-color3: var(--colab-primary-surface-color, white);\n",
       "                }\n",
       "            </style>\n",
       "            "
      ],
      "text/plain": [
       "<IPython.core.display.HTML object>"
      ]
     },
     "metadata": {},
     "output_type": "display_data"
    }
   ],
   "source": [
    "ref_sec_xml(slc_zips_list, slc_zips_dirs)"
   ]
  },
  {
   "cell_type": "markdown",
   "metadata": {},
   "source": [
    "# Create topsApp.xml file\n",
    "- one for each interferogram in each triplet\n",
    "- (N_triplets * 4) - (N_triplets - 1)   ??"
   ]
  },
  {
   "cell_type": "code",
   "execution_count": 12,
   "metadata": {},
   "outputs": [
    {
     "data": {
      "text/html": [
       "\n",
       "            <style>\n",
       "                .geemap-dark {\n",
       "                    --jp-widgets-color: white;\n",
       "                    --jp-widgets-label-color: white;\n",
       "                    --jp-ui-font-color1: white;\n",
       "                    --jp-layout-color2: #454545;\n",
       "                    background-color: #383838;\n",
       "                }\n",
       "\n",
       "                .geemap-dark .jupyter-button {\n",
       "                    --jp-layout-color3: #383838;\n",
       "                }\n",
       "\n",
       "                .geemap-colab {\n",
       "                    background-color: var(--colab-primary-surface-color, white);\n",
       "                }\n",
       "\n",
       "                .geemap-colab .jupyter-button {\n",
       "                    --jp-layout-color3: var(--colab-primary-surface-color, white);\n",
       "                }\n",
       "            </style>\n",
       "            "
      ],
      "text/plain": [
       "<IPython.core.display.HTML object>"
      ]
     },
     "metadata": {},
     "output_type": "display_data"
    }
   ],
   "source": [
    "topsApp_xml(triplet_dict, 'False') # stores these in xmldirectories[0]"
   ]
  },
  {
   "cell_type": "code",
   "execution_count": 13,
   "metadata": {},
   "outputs": [
    {
     "data": {
      "text/html": [
       "\n",
       "            <style>\n",
       "                .geemap-dark {\n",
       "                    --jp-widgets-color: white;\n",
       "                    --jp-widgets-label-color: white;\n",
       "                    --jp-ui-font-color1: white;\n",
       "                    --jp-layout-color2: #454545;\n",
       "                    background-color: #383838;\n",
       "                }\n",
       "\n",
       "                .geemap-dark .jupyter-button {\n",
       "                    --jp-layout-color3: #383838;\n",
       "                }\n",
       "\n",
       "                .geemap-colab {\n",
       "                    background-color: var(--colab-primary-surface-color, white);\n",
       "                }\n",
       "\n",
       "                .geemap-colab .jupyter-button {\n",
       "                    --jp-layout-color3: var(--colab-primary-surface-color, white);\n",
       "                }\n",
       "            </style>\n",
       "            "
      ],
      "text/plain": [
       "<IPython.core.display.HTML object>"
      ]
     },
     "metadata": {},
     "output_type": "display_data"
    }
   ],
   "source": [
    "# check to make sure all topsApp.xml files were created\n",
    "# if the cell prints somehting, not all topsApp.xmls were created\n",
    "\n",
    "topsAppxml_triplet_dict = {}\n",
    "for key, triplets in triplet_dict.items():\n",
    "    topsapppairs = (f'{triplets[0][0][17:25]}_{triplets[0][1][17:25]}topsApp.xml', \n",
    "             f'{triplets[1][0][17:25]}_{triplets[1][1][17:25]}topsApp.xml', \n",
    "             f'{triplets[2][0][17:25]}_{triplets[2][1][17:25]}topsApp.xml'\n",
    "             )\n",
    "    topsAppxml_triplet_dict[key] = topsapppairs\n",
    "\n",
    "\n",
    "for i in range(1, len(triplet_dict)+1):\n",
    "    topsapptrip = topsAppxml_triplet_dict[f'triplet_{i}']\n",
    "    slctrip = triplet_dict[f'triplet_{i}']\n",
    "    for j, slcpair in enumerate(slctrip):\n",
    "        slcdate = f'{slcpair[0][17:25]}_{slcpair[1][17:25]}'\n",
    "        topsappdate = topsapptrip[j][:-11]\n",
    "        if slcdate != topsappdate:\n",
    "            print(slcdate, topsappdate)"
   ]
  },
  {
   "cell_type": "markdown",
   "metadata": {},
   "source": [
    "# topsApp interferometry (finally!)"
   ]
  },
  {
   "cell_type": "code",
   "execution_count": 14,
   "metadata": {},
   "outputs": [
    {
     "data": {
      "text/html": [
       "\n",
       "            <style>\n",
       "                .geemap-dark {\n",
       "                    --jp-widgets-color: white;\n",
       "                    --jp-widgets-label-color: white;\n",
       "                    --jp-ui-font-color1: white;\n",
       "                    --jp-layout-color2: #454545;\n",
       "                    background-color: #383838;\n",
       "                }\n",
       "\n",
       "                .geemap-dark .jupyter-button {\n",
       "                    --jp-layout-color3: #383838;\n",
       "                }\n",
       "\n",
       "                .geemap-colab {\n",
       "                    background-color: var(--colab-primary-surface-color, white);\n",
       "                }\n",
       "\n",
       "                .geemap-colab .jupyter-button {\n",
       "                    --jp-layout-color3: var(--colab-primary-surface-color, white);\n",
       "                }\n",
       "            </style>\n",
       "            "
      ],
      "text/plain": [
       "<IPython.core.display.HTML object>"
      ]
     },
     "metadata": {},
     "output_type": "display_data"
    },
    {
     "data": {
      "text/plain": [
       "'2.6.3'"
      ]
     },
     "execution_count": 14,
     "metadata": {},
     "output_type": "execute_result"
    }
   ],
   "source": [
    "# should import isce toolbox and print the version of it here\n",
    "# if nothing prints or nothing imports, you need to reinstall isce2\n",
    "\n",
    "import isce\n",
    "isce.version.release_version"
   ]
  },
  {
   "cell_type": "markdown",
   "metadata": {},
   "source": [
    "Below is the cell that performs the InSAR processing. Still need to work on a couple things:\n",
    "\n",
    "1. ISCE2 CLI allows for running separate steps and saving pickles between steps, want to figure out how to do that in the IDE\n",
    "2. Iterating through each .xml to create the interferograms\n",
    "3. Saving XMLs to appropriate storage locations for MintPy time-series\n",
    "4. runnings prep_isce.py from mintPy to prep the topsApp results\n",
    "\n",
    "Need to look into the difference between topsStack and topsApp results, as Mintpy docs only specified topsStack. Presumably, topsStack stacks the interferograms in an easier to use format for mintpy, compared to the individual interferograms generated by topsApp"
   ]
  },
  {
   "cell_type": "code",
   "execution_count": 15,
   "metadata": {},
   "outputs": [
    {
     "data": {
      "text/html": [
       "\n",
       "            <style>\n",
       "                .geemap-dark {\n",
       "                    --jp-widgets-color: white;\n",
       "                    --jp-widgets-label-color: white;\n",
       "                    --jp-ui-font-color1: white;\n",
       "                    --jp-layout-color2: #454545;\n",
       "                    background-color: #383838;\n",
       "                }\n",
       "\n",
       "                .geemap-dark .jupyter-button {\n",
       "                    --jp-layout-color3: #383838;\n",
       "                }\n",
       "\n",
       "                .geemap-colab {\n",
       "                    background-color: var(--colab-primary-surface-color, white);\n",
       "                }\n",
       "\n",
       "                .geemap-colab .jupyter-button {\n",
       "                    --jp-layout-color3: var(--colab-primary-surface-color, white);\n",
       "                }\n",
       "            </style>\n",
       "            "
      ],
      "text/plain": [
       "<IPython.core.display.HTML object>"
      ]
     },
     "metadata": {},
     "output_type": "display_data"
    },
    {
     "name": "stdout",
     "output_type": "stream",
     "text": [
      "/home/wcc/Harris_etal_2023_InSAR/interferometry/work\n"
     ]
    }
   ],
   "source": [
    "# this is used to change directory into the storage directory for all interferograms\n",
    "# should be used, else will save results to github repo\n",
    "os.chdir(ifdirectories[3])\n",
    "print(ifdirectories[3])"
   ]
  },
  {
   "cell_type": "code",
   "execution_count": 22,
   "metadata": {},
   "outputs": [
    {
     "data": {
      "text/html": [
       "\n",
       "            <style>\n",
       "                .geemap-dark {\n",
       "                    --jp-widgets-color: white;\n",
       "                    --jp-widgets-label-color: white;\n",
       "                    --jp-ui-font-color1: white;\n",
       "                    --jp-layout-color2: #454545;\n",
       "                    background-color: #383838;\n",
       "                }\n",
       "\n",
       "                .geemap-dark .jupyter-button {\n",
       "                    --jp-layout-color3: #383838;\n",
       "                }\n",
       "\n",
       "                .geemap-colab {\n",
       "                    background-color: var(--colab-primary-surface-color, white);\n",
       "                }\n",
       "\n",
       "                .geemap-colab .jupyter-button {\n",
       "                    --jp-layout-color3: var(--colab-primary-surface-color, white);\n",
       "                }\n",
       "            </style>\n",
       "            "
      ],
      "text/plain": [
       "<IPython.core.display.HTML object>"
      ]
     },
     "metadata": {},
     "output_type": "display_data"
    },
    {
     "name": "stdout",
     "output_type": "stream",
     "text": [
      "2024-09-24 17:54:53,000 - isce.insar - INFO - ISCE VERSION = 2.6.3, RELEASE_SVN_REVISION = ,RELEASE_DATE = 20230418, CURRENT_SVN_REVISION = \n",
      "ISCE VERSION = 2.6.3, RELEASE_SVN_REVISION = ,RELEASE_DATE = 20230418, CURRENT_SVN_REVISION = \n"
     ]
    }
   ],
   "source": [
    "from topsApp import TopsInSAR\n",
    "insar = TopsInSAR(name=\"topsApp\", cmdline=os.path.join(xmldirectories[0], os.listdir(xmldirectories[0])[0]))\n",
    "insar.configure()"
   ]
  },
  {
   "cell_type": "markdown",
   "metadata": {},
   "source": [
    "Steps include:\n",
    "- runPreprocessor\n",
    "- runComputeBaseline\n",
    "- verifyDEM\n",
    "- verifyGeocodeDEM\n",
    "- runTopo\n",
    "- runSubsetOverlaps\n",
    "- runCoarseOffsets\n",
    "- runCoarseResamp\n",
    "- runOverlapIfg\n",
    "- runPrepESD\n",
    "- runESD\n",
    "- runRangeCoreg\n",
    "- runFineOffsets\n",
    "- runFineResamp\n",
    "- runIon\n",
    "- runBurstIfg\n",
    "- runMergeBursts\n",
    "- runFilter\n",
    "- runGeocode\n",
    "- runDenseOffsets\n",
    "- runOffsetFilter\n",
    "\n",
    "I think mine is breaking at runfilter, reinstalled isce2 to check"
   ]
  },
  {
   "cell_type": "code",
   "execution_count": 24,
   "metadata": {},
   "outputs": [
    {
     "data": {
      "text/html": [
       "\n",
       "            <style>\n",
       "                .geemap-dark {\n",
       "                    --jp-widgets-color: white;\n",
       "                    --jp-widgets-label-color: white;\n",
       "                    --jp-ui-font-color1: white;\n",
       "                    --jp-layout-color2: #454545;\n",
       "                    background-color: #383838;\n",
       "                }\n",
       "\n",
       "                .geemap-dark .jupyter-button {\n",
       "                    --jp-layout-color3: #383838;\n",
       "                }\n",
       "\n",
       "                .geemap-colab {\n",
       "                    background-color: var(--colab-primary-surface-color, white);\n",
       "                }\n",
       "\n",
       "                .geemap-colab .jupyter-button {\n",
       "                    --jp-layout-color3: var(--colab-primary-surface-color, white);\n",
       "                }\n",
       "            </style>\n",
       "            "
      ],
      "text/plain": [
       "<IPython.core.display.HTML object>"
      ]
     },
     "metadata": {},
     "output_type": "display_data"
    },
    {
     "name": "stdout",
     "output_type": "stream",
     "text": [
      "None\n",
      "The currently supported sensors are:  ['SENTINEL1']\n"
     ]
    }
   ],
   "source": [
    "insar.startup()"
   ]
  },
  {
   "cell_type": "code",
   "execution_count": 25,
   "metadata": {},
   "outputs": [
    {
     "data": {
      "text/html": [
       "\n",
       "            <style>\n",
       "                .geemap-dark {\n",
       "                    --jp-widgets-color: white;\n",
       "                    --jp-widgets-label-color: white;\n",
       "                    --jp-ui-font-color1: white;\n",
       "                    --jp-layout-color2: #454545;\n",
       "                    background-color: #383838;\n",
       "                }\n",
       "\n",
       "                .geemap-dark .jupyter-button {\n",
       "                    --jp-layout-color3: #383838;\n",
       "                }\n",
       "\n",
       "                .geemap-colab {\n",
       "                    background-color: var(--colab-primary-surface-color, white);\n",
       "                }\n",
       "\n",
       "                .geemap-colab .jupyter-button {\n",
       "                    --jp-layout-color3: var(--colab-primary-surface-color, white);\n",
       "                }\n",
       "            </style>\n",
       "            "
      ],
      "text/plain": [
       "<IPython.core.display.HTML object>"
      ]
     },
     "metadata": {},
     "output_type": "display_data"
    },
    {
     "name": "stdout",
     "output_type": "stream",
     "text": [
      "Input XML files:  ['/vsizip//home/wcc/Documents/InSAR/Brians_Paper/Harrisetal_slcs/2017_2018/S1A_IW_SLC__1SDV_20170601T001818_20170601T001845_016833_01BFC6_9708.zip/S1A_IW_SLC__1SDV_20170601T001818_20170601T001845_016833_01BFC6_9708.SAFE/annotation/s1a-iw1-slc-vv-20170601t001818-20170601t001843-016833-01bfc6-004.xml']\n",
      "Input TIFF files:  ['/vsizip//home/wcc/Documents/InSAR/Brians_Paper/Harrisetal_slcs/2017_2018/S1A_IW_SLC__1SDV_20170601T001818_20170601T001845_016833_01BFC6_9708.zip/S1A_IW_SLC__1SDV_20170601T001818_20170601T001845_016833_01BFC6_9708.SAFE/measurement/s1a-iw1-slc-vv-20170601t001818-20170601t001843-016833-01bfc6-004.tiff']\n",
      "Manifest files:  ['/vsizip//home/wcc/Documents/InSAR/Brians_Paper/Harrisetal_slcs/2017_2018/S1A_IW_SLC__1SDV_20170601T001818_20170601T001845_016833_01BFC6_9708.zip/S1A_IW_SLC__1SDV_20170601T001818_20170601T001845_016833_01BFC6_9708.SAFE/manifest.safe']\n",
      "MANS:  /home/wcc/Documents/InSAR/Brians_Paper/Harrisetal_slcs/2017_2018/S1A_IW_SLC__1SDV_20170601T001818_20170601T001845_016833_01BFC6_9708.zip S1A_IW_SLC__1SDV_20170601T001818_20170601T001845_016833_01BFC6_9708.SAFE/manifest.safe\n",
      "Setting IPF version to :  002.82\n",
      "Extracting orbit from Orbit File:  /home/wcc/Harris_etal_2023_InSAR/interferometry/orbits/S1A_OPER_AUX_POEORB_OPOD_20210302T214053_V20170530T225942_20170601T005942.EOF\n",
      "WARNING: State Vector at time 2017-06-01 00:17:22 tagged as DEGRADED-MANOEUVRE in orbit file /home/wcc/Harris_etal_2023_InSAR/interferometry/orbits/S1A_OPER_AUX_POEORB_OPOD_20210302T214053_V20170530T225942_20170601T005942.EOF\n",
      "WARNING: State Vector at time 2017-06-01 00:17:32 tagged as DEGRADED-MANOEUVRE in orbit file /home/wcc/Harris_etal_2023_InSAR/interferometry/orbits/S1A_OPER_AUX_POEORB_OPOD_20210302T214053_V20170530T225942_20170601T005942.EOF\n",
      "WARNING: State Vector at time 2017-06-01 00:17:42 tagged as DEGRADED-MANOEUVRE in orbit file /home/wcc/Harris_etal_2023_InSAR/interferometry/orbits/S1A_OPER_AUX_POEORB_OPOD_20210302T214053_V20170530T225942_20170601T005942.EOF\n",
      "WARNING: State Vector at time 2017-06-01 00:17:52 tagged as DEGRADED-MANOEUVRE in orbit file /home/wcc/Harris_etal_2023_InSAR/interferometry/orbits/S1A_OPER_AUX_POEORB_OPOD_20210302T214053_V20170530T225942_20170601T005942.EOF\n",
      "WARNING: State Vector at time 2017-06-01 00:18:02 tagged as DEGRADED-MANOEUVRE in orbit file /home/wcc/Harris_etal_2023_InSAR/interferometry/orbits/S1A_OPER_AUX_POEORB_OPOD_20210302T214053_V20170530T225942_20170601T005942.EOF\n",
      "WARNING: State Vector at time 2017-06-01 00:18:12 tagged as DEGRADED-MANOEUVRE in orbit file /home/wcc/Harris_etal_2023_InSAR/interferometry/orbits/S1A_OPER_AUX_POEORB_OPOD_20210302T214053_V20170530T225942_20170601T005942.EOF\n",
      "WARNING: State Vector at time 2017-06-01 00:18:22 tagged as DEGRADED-MANOEUVRE in orbit file /home/wcc/Harris_etal_2023_InSAR/interferometry/orbits/S1A_OPER_AUX_POEORB_OPOD_20210302T214053_V20170530T225942_20170601T005942.EOF\n",
      "WARNING: State Vector at time 2017-06-01 00:18:32 tagged as DEGRADED-MANOEUVRE in orbit file /home/wcc/Harris_etal_2023_InSAR/interferometry/orbits/S1A_OPER_AUX_POEORB_OPOD_20210302T214053_V20170530T225942_20170601T005942.EOF\n",
      "WARNING: State Vector at time 2017-06-01 00:18:42 tagged as DEGRADED-MANOEUVRE in orbit file /home/wcc/Harris_etal_2023_InSAR/interferometry/orbits/S1A_OPER_AUX_POEORB_OPOD_20210302T214053_V20170530T225942_20170601T005942.EOF\n",
      "WARNING: State Vector at time 2017-06-01 00:18:52 tagged as DEGRADED-MANOEUVRE in orbit file /home/wcc/Harris_etal_2023_InSAR/interferometry/orbits/S1A_OPER_AUX_POEORB_OPOD_20210302T214053_V20170530T225942_20170601T005942.EOF\n",
      "WARNING: State Vector at time 2017-06-01 00:19:02 tagged as DEGRADED-MANOEUVRE in orbit file /home/wcc/Harris_etal_2023_InSAR/interferometry/orbits/S1A_OPER_AUX_POEORB_OPOD_20210302T214053_V20170530T225942_20170601T005942.EOF\n",
      "WARNING: State Vector at time 2017-06-01 00:19:12 tagged as DEGRADED-MANOEUVRE in orbit file /home/wcc/Harris_etal_2023_InSAR/interferometry/orbits/S1A_OPER_AUX_POEORB_OPOD_20210302T214053_V20170530T225942_20170601T005942.EOF\n",
      "WARNING: State Vector at time 2017-06-01 00:19:22 tagged as DEGRADED-MANOEUVRE in orbit file /home/wcc/Harris_etal_2023_InSAR/interferometry/orbits/S1A_OPER_AUX_POEORB_OPOD_20210302T214053_V20170530T225942_20170601T005942.EOF\n",
      "WARNING: State Vector at time 2017-06-01 00:19:32 tagged as DEGRADED-MANOEUVRE in orbit file /home/wcc/Harris_etal_2023_InSAR/interferometry/orbits/S1A_OPER_AUX_POEORB_OPOD_20210302T214053_V20170530T225942_20170601T005942.EOF\n",
      "WARNING: State Vector at time 2017-06-01 00:19:42 tagged as DEGRADED-MANOEUVRE in orbit file /home/wcc/Harris_etal_2023_InSAR/interferometry/orbits/S1A_OPER_AUX_POEORB_OPOD_20210302T214053_V20170530T225942_20170601T005942.EOF\n",
      "Updating burst number from 1 to 1\n",
      "Updating burst number from 2 to 2\n",
      "Updating burst number from 3 to 3\n",
      "Updating burst number from 4 to 4\n",
      "Updating burst number from 5 to 5\n",
      "Updating burst number from 6 to 6\n",
      "Updating burst number from 7 to 7\n",
      "Updating burst number from 8 to 8\n",
      "Updating burst number from 9 to 9\n",
      "Input XML files:  ['/vsizip//home/wcc/Documents/InSAR/Brians_Paper/Harrisetal_slcs/2017_2018/S1A_IW_SLC__1SDV_20170508T001817_20170508T001844_016483_01B503_49B5.zip/S1A_IW_SLC__1SDV_20170508T001817_20170508T001844_016483_01B503_49B5.SAFE/annotation/s1a-iw1-slc-vv-20170508t001817-20170508t001842-016483-01b503-004.xml']\n",
      "Input TIFF files:  ['/vsizip//home/wcc/Documents/InSAR/Brians_Paper/Harrisetal_slcs/2017_2018/S1A_IW_SLC__1SDV_20170508T001817_20170508T001844_016483_01B503_49B5.zip/S1A_IW_SLC__1SDV_20170508T001817_20170508T001844_016483_01B503_49B5.SAFE/measurement/s1a-iw1-slc-vv-20170508t001817-20170508t001842-016483-01b503-004.tiff']\n",
      "Manifest files:  ['/vsizip//home/wcc/Documents/InSAR/Brians_Paper/Harrisetal_slcs/2017_2018/S1A_IW_SLC__1SDV_20170508T001817_20170508T001844_016483_01B503_49B5.zip/S1A_IW_SLC__1SDV_20170508T001817_20170508T001844_016483_01B503_49B5.SAFE/manifest.safe']\n",
      "MANS:  /home/wcc/Documents/InSAR/Brians_Paper/Harrisetal_slcs/2017_2018/S1A_IW_SLC__1SDV_20170508T001817_20170508T001844_016483_01B503_49B5.zip S1A_IW_SLC__1SDV_20170508T001817_20170508T001844_016483_01B503_49B5.SAFE/manifest.safe\n",
      "Setting IPF version to :  002.82\n",
      "Extracting orbit from Orbit File:  /home/wcc/Harris_etal_2023_InSAR/interferometry/orbits/S1A_OPER_AUX_POEORB_OPOD_20210302T140232_V20170506T225942_20170508T005942.EOF\n",
      "Updating burst number from 1 to 1\n",
      "Updating burst number from 2 to 2\n",
      "Updating burst number from 3 to 3\n",
      "Updating burst number from 4 to 4\n",
      "Updating burst number from 5 to 5\n",
      "Updating burst number from 6 to 6\n",
      "Updating burst number from 7 to 7\n",
      "Updating burst number from 8 to 8\n",
      "Updating burst number from 9 to 9\n",
      "Input XML files:  ['/vsizip//home/wcc/Documents/InSAR/Brians_Paper/Harrisetal_slcs/2017_2018/S1A_IW_SLC__1SDV_20170601T001818_20170601T001845_016833_01BFC6_9708.zip/S1A_IW_SLC__1SDV_20170601T001818_20170601T001845_016833_01BFC6_9708.SAFE/annotation/s1a-iw2-slc-vv-20170601t001819-20170601t001844-016833-01bfc6-005.xml']\n",
      "Input TIFF files:  ['/vsizip//home/wcc/Documents/InSAR/Brians_Paper/Harrisetal_slcs/2017_2018/S1A_IW_SLC__1SDV_20170601T001818_20170601T001845_016833_01BFC6_9708.zip/S1A_IW_SLC__1SDV_20170601T001818_20170601T001845_016833_01BFC6_9708.SAFE/measurement/s1a-iw2-slc-vv-20170601t001819-20170601t001844-016833-01bfc6-005.tiff']\n",
      "Manifest files:  ['/vsizip//home/wcc/Documents/InSAR/Brians_Paper/Harrisetal_slcs/2017_2018/S1A_IW_SLC__1SDV_20170601T001818_20170601T001845_016833_01BFC6_9708.zip/S1A_IW_SLC__1SDV_20170601T001818_20170601T001845_016833_01BFC6_9708.SAFE/manifest.safe']\n",
      "MANS:  /home/wcc/Documents/InSAR/Brians_Paper/Harrisetal_slcs/2017_2018/S1A_IW_SLC__1SDV_20170601T001818_20170601T001845_016833_01BFC6_9708.zip S1A_IW_SLC__1SDV_20170601T001818_20170601T001845_016833_01BFC6_9708.SAFE/manifest.safe\n",
      "Setting IPF version to :  002.82\n",
      "Extracting orbit from Orbit File:  /home/wcc/Harris_etal_2023_InSAR/interferometry/orbits/S1A_OPER_AUX_POEORB_OPOD_20210302T214053_V20170530T225942_20170601T005942.EOF\n",
      "WARNING: State Vector at time 2017-06-01 00:17:22 tagged as DEGRADED-MANOEUVRE in orbit file /home/wcc/Harris_etal_2023_InSAR/interferometry/orbits/S1A_OPER_AUX_POEORB_OPOD_20210302T214053_V20170530T225942_20170601T005942.EOF\n",
      "WARNING: State Vector at time 2017-06-01 00:17:32 tagged as DEGRADED-MANOEUVRE in orbit file /home/wcc/Harris_etal_2023_InSAR/interferometry/orbits/S1A_OPER_AUX_POEORB_OPOD_20210302T214053_V20170530T225942_20170601T005942.EOF\n",
      "WARNING: State Vector at time 2017-06-01 00:17:42 tagged as DEGRADED-MANOEUVRE in orbit file /home/wcc/Harris_etal_2023_InSAR/interferometry/orbits/S1A_OPER_AUX_POEORB_OPOD_20210302T214053_V20170530T225942_20170601T005942.EOF\n",
      "WARNING: State Vector at time 2017-06-01 00:17:52 tagged as DEGRADED-MANOEUVRE in orbit file /home/wcc/Harris_etal_2023_InSAR/interferometry/orbits/S1A_OPER_AUX_POEORB_OPOD_20210302T214053_V20170530T225942_20170601T005942.EOF\n",
      "WARNING: State Vector at time 2017-06-01 00:18:02 tagged as DEGRADED-MANOEUVRE in orbit file /home/wcc/Harris_etal_2023_InSAR/interferometry/orbits/S1A_OPER_AUX_POEORB_OPOD_20210302T214053_V20170530T225942_20170601T005942.EOF\n",
      "WARNING: State Vector at time 2017-06-01 00:18:12 tagged as DEGRADED-MANOEUVRE in orbit file /home/wcc/Harris_etal_2023_InSAR/interferometry/orbits/S1A_OPER_AUX_POEORB_OPOD_20210302T214053_V20170530T225942_20170601T005942.EOF\n",
      "WARNING: State Vector at time 2017-06-01 00:18:22 tagged as DEGRADED-MANOEUVRE in orbit file /home/wcc/Harris_etal_2023_InSAR/interferometry/orbits/S1A_OPER_AUX_POEORB_OPOD_20210302T214053_V20170530T225942_20170601T005942.EOF\n",
      "WARNING: State Vector at time 2017-06-01 00:18:32 tagged as DEGRADED-MANOEUVRE in orbit file /home/wcc/Harris_etal_2023_InSAR/interferometry/orbits/S1A_OPER_AUX_POEORB_OPOD_20210302T214053_V20170530T225942_20170601T005942.EOF\n",
      "WARNING: State Vector at time 2017-06-01 00:18:42 tagged as DEGRADED-MANOEUVRE in orbit file /home/wcc/Harris_etal_2023_InSAR/interferometry/orbits/S1A_OPER_AUX_POEORB_OPOD_20210302T214053_V20170530T225942_20170601T005942.EOF\n",
      "WARNING: State Vector at time 2017-06-01 00:18:52 tagged as DEGRADED-MANOEUVRE in orbit file /home/wcc/Harris_etal_2023_InSAR/interferometry/orbits/S1A_OPER_AUX_POEORB_OPOD_20210302T214053_V20170530T225942_20170601T005942.EOF\n",
      "WARNING: State Vector at time 2017-06-01 00:19:02 tagged as DEGRADED-MANOEUVRE in orbit file /home/wcc/Harris_etal_2023_InSAR/interferometry/orbits/S1A_OPER_AUX_POEORB_OPOD_20210302T214053_V20170530T225942_20170601T005942.EOF\n",
      "WARNING: State Vector at time 2017-06-01 00:19:12 tagged as DEGRADED-MANOEUVRE in orbit file /home/wcc/Harris_etal_2023_InSAR/interferometry/orbits/S1A_OPER_AUX_POEORB_OPOD_20210302T214053_V20170530T225942_20170601T005942.EOF\n",
      "WARNING: State Vector at time 2017-06-01 00:19:22 tagged as DEGRADED-MANOEUVRE in orbit file /home/wcc/Harris_etal_2023_InSAR/interferometry/orbits/S1A_OPER_AUX_POEORB_OPOD_20210302T214053_V20170530T225942_20170601T005942.EOF\n",
      "WARNING: State Vector at time 2017-06-01 00:19:32 tagged as DEGRADED-MANOEUVRE in orbit file /home/wcc/Harris_etal_2023_InSAR/interferometry/orbits/S1A_OPER_AUX_POEORB_OPOD_20210302T214053_V20170530T225942_20170601T005942.EOF\n",
      "WARNING: State Vector at time 2017-06-01 00:19:42 tagged as DEGRADED-MANOEUVRE in orbit file /home/wcc/Harris_etal_2023_InSAR/interferometry/orbits/S1A_OPER_AUX_POEORB_OPOD_20210302T214053_V20170530T225942_20170601T005942.EOF\n",
      "Updating burst number from 1 to 1\n",
      "Updating burst number from 2 to 2\n",
      "Updating burst number from 3 to 3\n",
      "Updating burst number from 4 to 4\n",
      "Updating burst number from 5 to 5\n",
      "Updating burst number from 6 to 6\n",
      "Updating burst number from 7 to 7\n",
      "Updating burst number from 8 to 8\n",
      "Updating burst number from 9 to 9\n",
      "Input XML files:  ['/vsizip//home/wcc/Documents/InSAR/Brians_Paper/Harrisetal_slcs/2017_2018/S1A_IW_SLC__1SDV_20170508T001817_20170508T001844_016483_01B503_49B5.zip/S1A_IW_SLC__1SDV_20170508T001817_20170508T001844_016483_01B503_49B5.SAFE/annotation/s1a-iw2-slc-vv-20170508t001818-20170508t001843-016483-01b503-005.xml']\n",
      "Input TIFF files:  ['/vsizip//home/wcc/Documents/InSAR/Brians_Paper/Harrisetal_slcs/2017_2018/S1A_IW_SLC__1SDV_20170508T001817_20170508T001844_016483_01B503_49B5.zip/S1A_IW_SLC__1SDV_20170508T001817_20170508T001844_016483_01B503_49B5.SAFE/measurement/s1a-iw2-slc-vv-20170508t001818-20170508t001843-016483-01b503-005.tiff']\n",
      "Manifest files:  ['/vsizip//home/wcc/Documents/InSAR/Brians_Paper/Harrisetal_slcs/2017_2018/S1A_IW_SLC__1SDV_20170508T001817_20170508T001844_016483_01B503_49B5.zip/S1A_IW_SLC__1SDV_20170508T001817_20170508T001844_016483_01B503_49B5.SAFE/manifest.safe']\n",
      "MANS:  /home/wcc/Documents/InSAR/Brians_Paper/Harrisetal_slcs/2017_2018/S1A_IW_SLC__1SDV_20170508T001817_20170508T001844_016483_01B503_49B5.zip S1A_IW_SLC__1SDV_20170508T001817_20170508T001844_016483_01B503_49B5.SAFE/manifest.safe\n",
      "Setting IPF version to :  002.82\n",
      "Extracting orbit from Orbit File:  /home/wcc/Harris_etal_2023_InSAR/interferometry/orbits/S1A_OPER_AUX_POEORB_OPOD_20210302T140232_V20170506T225942_20170508T005942.EOF\n",
      "Updating burst number from 1 to 1\n",
      "Updating burst number from 2 to 2\n",
      "Updating burst number from 3 to 3\n",
      "Updating burst number from 4 to 4\n",
      "Updating burst number from 5 to 5\n",
      "Updating burst number from 6 to 6\n",
      "Updating burst number from 7 to 7\n",
      "Updating burst number from 8 to 8\n",
      "Updating burst number from 9 to 9\n",
      "2024-09-24 17:55:14,684 - isce.topsinsar.runPreprocessor - INFO - \n",
      "####################################################################################################\n",
      "    runPreprocessor\n",
      "----------------------------------------------------------------------------------------------------\n",
      "common.Input list of swaths to process:  = [1, 2]\n",
      "reference.burstLength_1 = 1492\n",
      "reference.burstLength_2 = 1503\n",
      "reference.burstWidth_1 = 21401\n",
      "reference.burstWidth_2 = 25333\n",
      "reference.numberOfBursts_1 = 9\n",
      "reference.numberOfBursts_2 = 9\n",
      "reference.sensor.ascendingnodetime = 2017-06-01 00:10:29.281446\n",
      "reference.sensor.family = topsswathslc\n",
      "reference.sensor.folder = None\n",
      "reference.sensor.imagingmode = TOPS\n",
      "reference.sensor.mission = S1A\n",
      "reference.sensor.name = topsswathslc_name\n",
      "reference.sensor.numberofbursts = 9\n",
      "reference.sensor.processingfacility = Airbus DS-Newport, United Kingdom\n",
      "reference.sensor.processingsoftwareversion = 002.82\n",
      "reference.sensor.processingsystem = Sentinel-1 IPF\n",
      "reference.sensor.spacecraftname = Sentinel-1\n",
      "secondary.burstLength_1 = 1492\n",
      "secondary.burstLength_2 = 1503\n",
      "secondary.burstWidth_1 = 21489\n",
      "secondary.burstWidth_2 = 25416\n",
      "secondary.numberOfBursts_1 = 9\n",
      "secondary.numberOfBursts_2 = 9\n",
      "secondary.sensor.ascendingnodetime = 2017-05-08 00:10:28.133775\n",
      "secondary.sensor.family = topsswathslc\n",
      "secondary.sensor.folder = None\n",
      "secondary.sensor.imagingmode = TOPS\n",
      "secondary.sensor.mission = S1A\n",
      "secondary.sensor.name = topsswathslc_name\n",
      "secondary.sensor.numberofbursts = 9\n",
      "secondary.sensor.processingfacility = Airbus DS-Newport, United Kingdom\n",
      "secondary.sensor.processingsoftwareversion = 002.82\n",
      "secondary.sensor.processingsystem = Sentinel-1 IPF\n",
      "secondary.sensor.spacecraftname = Sentinel-1\n",
      "####################################################################################################\n"
     ]
    }
   ],
   "source": [
    "insar.runPreprocessor()"
   ]
  },
  {
   "cell_type": "code",
   "execution_count": 26,
   "metadata": {},
   "outputs": [
    {
     "data": {
      "text/html": [
       "\n",
       "            <style>\n",
       "                .geemap-dark {\n",
       "                    --jp-widgets-color: white;\n",
       "                    --jp-widgets-label-color: white;\n",
       "                    --jp-ui-font-color1: white;\n",
       "                    --jp-layout-color2: #454545;\n",
       "                    background-color: #383838;\n",
       "                }\n",
       "\n",
       "                .geemap-dark .jupyter-button {\n",
       "                    --jp-layout-color3: #383838;\n",
       "                }\n",
       "\n",
       "                .geemap-colab {\n",
       "                    background-color: var(--colab-primary-surface-color, white);\n",
       "                }\n",
       "\n",
       "                .geemap-colab .jupyter-button {\n",
       "                    --jp-layout-color3: var(--colab-primary-surface-color, white);\n",
       "                }\n",
       "            </style>\n",
       "            "
      ],
      "text/plain": [
       "<IPython.core.display.HTML object>"
      ]
     },
     "metadata": {},
     "output_type": "display_data"
    },
    {
     "name": "stdout",
     "output_type": "stream",
     "text": [
      "Estimated burst offset:  0\n",
      "Polynomial Order: 0 - by - 0 \n",
      "0\t\n",
      "Polynomial Order: 0 - by - 0 \n",
      "0\t\n",
      "Estimated burst offset:  0\n",
      "Polynomial Order: 0 - by - 0 \n",
      "0\t\n",
      "Polynomial Order: 0 - by - 0 \n",
      "0\t\n",
      "2024-09-24 17:55:15,233 - isce.topsinsar.runPreprocessor - INFO - \n",
      "####################################################################################################\n",
      "    runComputeBaseline\n",
      "----------------------------------------------------------------------------------------------------\n",
      "baseline.IW-1 Bpar at midrange for first common burst = -39.6352604864038\n",
      "baseline.IW-1 Bpar at midrange for last common burst = -37.32465596659518\n",
      "baseline.IW-1 Bperp at midrange for first common burst = 76.0456386716753\n",
      "baseline.IW-1 Bperp at midrange for last common burst = 72.21274432563119\n",
      "baseline.IW-1 First common burst in reference = 0\n",
      "baseline.IW-1 First common burst in secondary = 0\n",
      "baseline.IW-1 Last common burst in reference = 9\n",
      "baseline.IW-1 Last common burst in secondary = 9\n",
      "baseline.IW-1 Number of bursts in reference = 9\n",
      "baseline.IW-1 Number of bursts in secondary = 9\n",
      "baseline.IW-1 Number of common bursts = 9\n",
      "baseline.IW-2 Bpar at midrange for first common burst = -45.539902727831084\n",
      "baseline.IW-2 Bpar at midrange for last common burst = -42.93014153028115\n",
      "baseline.IW-2 Bperp at midrange for first common burst = 72.43787515398215\n",
      "baseline.IW-2 Bperp at midrange for last common burst = 68.79851875352182\n",
      "baseline.IW-2 First common burst in reference = 0\n",
      "baseline.IW-2 First common burst in secondary = 0\n",
      "baseline.IW-2 Last common burst in reference = 9\n",
      "baseline.IW-2 Last common burst in secondary = 9\n",
      "baseline.IW-2 Number of bursts in reference = 9\n",
      "baseline.IW-2 Number of bursts in secondary = 9\n",
      "baseline.IW-2 Number of common bursts = 9\n",
      "####################################################################################################\n"
     ]
    }
   ],
   "source": [
    "insar.runComputeBaseline()"
   ]
  },
  {
   "cell_type": "code",
   "execution_count": 27,
   "metadata": {},
   "outputs": [
    {
     "data": {
      "text/html": [
       "\n",
       "            <style>\n",
       "                .geemap-dark {\n",
       "                    --jp-widgets-color: white;\n",
       "                    --jp-widgets-label-color: white;\n",
       "                    --jp-ui-font-color1: white;\n",
       "                    --jp-layout-color2: #454545;\n",
       "                    background-color: #383838;\n",
       "                }\n",
       "\n",
       "                .geemap-dark .jupyter-button {\n",
       "                    --jp-layout-color3: #383838;\n",
       "                }\n",
       "\n",
       "                .geemap-colab {\n",
       "                    background-color: var(--colab-primary-surface-color, white);\n",
       "                }\n",
       "\n",
       "                .geemap-colab .jupyter-button {\n",
       "                    --jp-layout-color3: var(--colab-primary-surface-color, white);\n",
       "                }\n",
       "            </style>\n",
       "            "
      ],
      "text/plain": [
       "<IPython.core.display.HTML object>"
      ]
     },
     "metadata": {},
     "output_type": "display_data"
    },
    {
     "name": "stdout",
     "output_type": "stream",
     "text": [
      "command = curl -n  -L -c $HOME/.earthdatacookie -b $HOME/.earthdatacookie -k -f -O https://e4ftl01.cr.usgs.gov/MEASURES/SRTMGL1.003/2000.02.11/N30W096.SRTMGL1.hgt.zip\n"
     ]
    },
    {
     "name": "stderr",
     "output_type": "stream",
     "text": [
      "  % Total    % Received % Xferd  Average Speed   Time    Time     Time  Current\n",
      "                                 Dload  Upload   Total   Spent    Left  Speed\n",
      "100 6681k  100 6681k    0     0  6094k      0  0:00:01  0:00:01 --:--:-- 6096k\n",
      "  % Total    % Received % Xferd  Average Speed   Time    Time     Time  Current\n",
      "                                 Dload  Upload   Total   Spent    Left  Speed\n",
      "  0     0    0     0    0     0      0      0 --:--:-- --:--:-- --:--:--     0"
     ]
    },
    {
     "name": "stdout",
     "output_type": "stream",
     "text": [
      "command = curl -n  -L -c $HOME/.earthdatacookie -b $HOME/.earthdatacookie -k -f -O https://e4ftl01.cr.usgs.gov/MEASURES/SRTMGL1.003/2000.02.11/N30W095.SRTMGL1.hgt.zip\n"
     ]
    },
    {
     "name": "stderr",
     "output_type": "stream",
     "text": [
      "100 6573k  100 6573k    0     0  5370k      0  0:00:01  0:00:01 --:--:-- 5374k\n",
      "  % Total    % Received % Xferd  Average Speed   Time    Time     Time  Current\n",
      "                                 Dload  Upload   Total   Spent    Left  Speed\n",
      "  0     0    0     0    0     0      0      0 --:--:-- --:--:-- --:--:--     0"
     ]
    },
    {
     "name": "stdout",
     "output_type": "stream",
     "text": [
      "command = curl -n  -L -c $HOME/.earthdatacookie -b $HOME/.earthdatacookie -k -f -O https://e4ftl01.cr.usgs.gov/MEASURES/SRTMGL1.003/2000.02.11/N30W094.SRTMGL1.hgt.zip\n"
     ]
    },
    {
     "name": "stderr",
     "output_type": "stream",
     "text": [
      "100 6224k  100 6224k    0     0  5850k      0  0:00:01  0:00:01 --:--:-- 5855k\n"
     ]
    },
    {
     "name": "stdout",
     "output_type": "stream",
     "text": [
      "command = curl -n  -L -c $HOME/.earthdatacookie -b $HOME/.earthdatacookie -k -f -O https://e4ftl01.cr.usgs.gov/MEASURES/SRTMGL1.003/2000.02.11/N29W096.SRTMGL1.hgt.zip\n"
     ]
    },
    {
     "name": "stderr",
     "output_type": "stream",
     "text": [
      "  % Total    % Received % Xferd  Average Speed   Time    Time     Time  Current\n",
      "                                 Dload  Upload   Total   Spent    Left  Speed\n",
      "100 5477k  100 5477k    0     0  5315k      0  0:00:01  0:00:01 --:--:-- 5317k\n"
     ]
    },
    {
     "name": "stdout",
     "output_type": "stream",
     "text": [
      "command = curl -n  -L -c $HOME/.earthdatacookie -b $HOME/.earthdatacookie -k -f -O https://e4ftl01.cr.usgs.gov/MEASURES/SRTMGL1.003/2000.02.11/N29W095.SRTMGL1.hgt.zip\n"
     ]
    },
    {
     "name": "stderr",
     "output_type": "stream",
     "text": [
      "  % Total    % Received % Xferd  Average Speed   Time    Time     Time  Current\n",
      "                                 Dload  Upload   Total   Spent    Left  Speed\n",
      "100 2190k  100 2190k    0     0  3157k      0 --:--:-- --:--:-- --:--:-- 3155k\n"
     ]
    },
    {
     "name": "stdout",
     "output_type": "stream",
     "text": [
      "command = curl -n  -L -c $HOME/.earthdatacookie -b $HOME/.earthdatacookie -k -f -O https://e4ftl01.cr.usgs.gov/MEASURES/SRTMGL1.003/2000.02.11/N29W094.SRTMGL1.hgt.zip\n"
     ]
    },
    {
     "name": "stderr",
     "output_type": "stream",
     "text": [
      "  % Total    % Received % Xferd  Average Speed   Time    Time     Time  Current\n",
      "                                 Dload  Upload   Total   Spent    Left  Speed\n",
      "100 1070k  100 1070k    0     0  1953k      0 --:--:-- --:--:-- --:--:-- 1956k\n"
     ]
    },
    {
     "name": "stdout",
     "output_type": "stream",
     "text": [
      "API open (R): demLat_N29_N31_Lon_W096_W093.dem\n",
      "API close:  demLat_N29_N31_Lon_W096_W093.dem\n",
      "Writing geotrans to VRT for demLat_N29_N31_Lon_W096_W093.dem\n",
      "GDAL open (R): demLat_N29_N31_Lon_W096_W093.dem.vrt\n",
      "API open (WR): demLat_N29_N31_Lon_W096_W093.dem.wgs84\n",
      "\n",
      "    << Geoid Correction I2 SRTM>>\n",
      "\n",
      "Jet Propulsion Laboratory - Radar Science and Engineering\n",
      "\n",
      "\n",
      "Sampling Geoid at grid points -  Longitude Samples:    33 Latitude Lines:    23\n",
      "Corner Geoid Heights (m) =  -25.80 -28.35 -27.24 -27.34\n",
      "\n",
      "Correcting data to geoid height...\n",
      "\n",
      "At line:      512\n",
      "At line:     1024\n",
      "At line:     1536\n",
      "At line:     2048\n",
      "At line:     2560\n",
      "At line:     3072\n",
      "At line:     3584\n",
      "At line:     4096\n",
      "At line:     4608\n",
      "At line:     5120\n",
      "At line:     5632\n",
      "At line:     6144\n",
      "At line:     6656\n",
      "At line:     7168\n",
      "GDAL close: demLat_N29_N31_Lon_W096_W093.dem.vrt\n",
      "API close:  demLat_N29_N31_Lon_W096_W093.dem.wgs84\n",
      "API open (R): demLat_N29_N31_Lon_W096_W093.dem.wgs84\n",
      "API close:  demLat_N29_N31_Lon_W096_W093.dem.wgs84\n",
      "Writing geotrans to VRT for demLat_N29_N31_Lon_W096_W093.dem.wgs84\n"
     ]
    },
    {
     "data": {
      "text/plain": [
       "'demLat_N29_N31_Lon_W096_W093.dem.wgs84'"
      ]
     },
     "execution_count": 27,
     "metadata": {},
     "output_type": "execute_result"
    }
   ],
   "source": [
    "#Verify whether user defined  a dem component.  If not, then download\n",
    "# SRTM DEM.\n",
    "\n",
    "#probably where I enter custom DEM, for now not worrying about it\n",
    "\n",
    "insar.verifyDEM()"
   ]
  },
  {
   "cell_type": "code",
   "execution_count": 28,
   "metadata": {},
   "outputs": [
    {
     "data": {
      "text/html": [
       "\n",
       "            <style>\n",
       "                .geemap-dark {\n",
       "                    --jp-widgets-color: white;\n",
       "                    --jp-widgets-label-color: white;\n",
       "                    --jp-ui-font-color1: white;\n",
       "                    --jp-layout-color2: #454545;\n",
       "                    background-color: #383838;\n",
       "                }\n",
       "\n",
       "                .geemap-dark .jupyter-button {\n",
       "                    --jp-layout-color3: #383838;\n",
       "                }\n",
       "\n",
       "                .geemap-colab {\n",
       "                    background-color: var(--colab-primary-surface-color, white);\n",
       "                }\n",
       "\n",
       "                .geemap-colab .jupyter-button {\n",
       "                    --jp-layout-color3: var(--colab-primary-surface-color, white);\n",
       "                }\n",
       "            </style>\n",
       "            "
      ],
      "text/plain": [
       "<IPython.core.display.HTML object>"
      ]
     },
     "metadata": {},
     "output_type": "display_data"
    },
    {
     "data": {
      "text/plain": [
       "'demLat_N29_N31_Lon_W096_W093.dem.wgs84'"
      ]
     },
     "execution_count": 28,
     "metadata": {},
     "output_type": "execute_result"
    }
   ],
   "source": [
    "insar.verifyGeocodeDEM()"
   ]
  },
  {
   "cell_type": "code",
   "execution_count": 29,
   "metadata": {},
   "outputs": [
    {
     "data": {
      "text/html": [
       "\n",
       "            <style>\n",
       "                .geemap-dark {\n",
       "                    --jp-widgets-color: white;\n",
       "                    --jp-widgets-label-color: white;\n",
       "                    --jp-ui-font-color1: white;\n",
       "                    --jp-layout-color2: #454545;\n",
       "                    background-color: #383838;\n",
       "                }\n",
       "\n",
       "                .geemap-dark .jupyter-button {\n",
       "                    --jp-layout-color3: #383838;\n",
       "                }\n",
       "\n",
       "                .geemap-colab {\n",
       "                    background-color: var(--colab-primary-surface-color, white);\n",
       "                }\n",
       "\n",
       "                .geemap-colab .jupyter-button {\n",
       "                    --jp-layout-color3: var(--colab-primary-surface-color, white);\n",
       "                }\n",
       "            </style>\n",
       "            "
      ],
      "text/plain": [
       "<IPython.core.display.HTML object>"
      ]
     },
     "metadata": {},
     "output_type": "display_data"
    },
    {
     "name": "stdout",
     "output_type": "stream",
     "text": [
      "2024-09-24 17:55:26,003 - isce.zerodop.topozero - WARNING - Default Peg heading set to: -0.22132091182996402\n"
     ]
    }
   ],
   "source": [
    "insar.runTopo()"
   ]
  },
  {
   "cell_type": "code",
   "execution_count": null,
   "metadata": {},
   "outputs": [],
   "source": [
    "insar.runSubsetOverlaps()"
   ]
  },
  {
   "cell_type": "code",
   "execution_count": null,
   "metadata": {},
   "outputs": [],
   "source": [
    "insar.runCoarseOffsets()"
   ]
  },
  {
   "cell_type": "code",
   "execution_count": null,
   "metadata": {},
   "outputs": [],
   "source": [
    "insar.runCoarseResamp()"
   ]
  },
  {
   "cell_type": "code",
   "execution_count": null,
   "metadata": {},
   "outputs": [],
   "source": [
    "insar.runOverlapIfg()"
   ]
  },
  {
   "cell_type": "code",
   "execution_count": null,
   "metadata": {},
   "outputs": [],
   "source": [
    "##Prepare for ESD\n",
    "insar.runPrepESD()"
   ]
  },
  {
   "cell_type": "code",
   "execution_count": null,
   "metadata": {},
   "outputs": [],
   "source": [
    "# run ESD\n",
    "insar.runESD()"
   ]
  },
  {
   "cell_type": "code",
   "execution_count": null,
   "metadata": {},
   "outputs": [],
   "source": [
    "###Estimate range misregistration\n",
    "insar.runRangeCoreg()"
   ]
  },
  {
   "cell_type": "code",
   "execution_count": null,
   "metadata": {},
   "outputs": [],
   "source": [
    "###Estimate fine offsets\n",
    "insar.runFineOffsets()"
   ]
  },
  {
   "cell_type": "code",
   "execution_count": null,
   "metadata": {},
   "outputs": [],
   "source": [
    "###Resample secondary bursts\n",
    "insar.runFineResamp()"
   ]
  },
  {
   "cell_type": "code",
   "execution_count": null,
   "metadata": {},
   "outputs": [],
   "source": [
    "###calculate ionospheric phase\n",
    "\n",
    "### need to figure this out\n",
    "### where should it be place during processing? all that\n",
    "\n",
    "insar.runIon()"
   ]
  },
  {
   "cell_type": "code",
   "execution_count": null,
   "metadata": {},
   "outputs": [],
   "source": [
    "###Create burst interferograms\n",
    "insar.runBurstIfg()"
   ]
  },
  {
   "cell_type": "code",
   "execution_count": null,
   "metadata": {},
   "outputs": [],
   "source": [
    "####Merge bursts into single files\n",
    "\n",
    "#could see if I even need to merge them at all?\n",
    "\n",
    "insar.runMergeBursts()"
   ]
  },
  {
   "cell_type": "code",
   "execution_count": null,
   "metadata": {},
   "outputs": [],
   "source": [
    "###Filter the interferogram\n",
    "insar.runFilter()"
   ]
  },
  {
   "cell_type": "code",
   "execution_count": null,
   "metadata": {},
   "outputs": [],
   "source": [
    "#add water mask to coherence and interferogram\n",
    "#insar.runMaskImages()"
   ]
  },
  {
   "cell_type": "code",
   "execution_count": null,
   "metadata": {},
   "outputs": [],
   "source": [
    "# Unwrap ?\n",
    "insar.runUnwrapper()"
   ]
  },
  {
   "cell_type": "code",
   "execution_count": null,
   "metadata": {},
   "outputs": [],
   "source": [
    "# Geocode\n",
    "insar.runGeocode(insar.geocode_list, insar.do_unwrap, insar.geocode_bbox)"
   ]
  },
  {
   "cell_type": "code",
   "execution_count": null,
   "metadata": {},
   "outputs": [],
   "source": [
    "#Dense offsets\n",
    "insar.runDenseOffsets()"
   ]
  },
  {
   "cell_type": "code",
   "execution_count": null,
   "metadata": {},
   "outputs": [],
   "source": [
    "#Filter offsets\n",
    "insar.runOffsetFilter()"
   ]
  },
  {
   "cell_type": "code",
   "execution_count": null,
   "metadata": {},
   "outputs": [],
   "source": [
    "#Geocode offsets\n",
    "insar.runGeocode(insar.off_geocode_list, False, insar.geocode_bbox, True)"
   ]
  },
  {
   "cell_type": "code",
   "execution_count": null,
   "metadata": {},
   "outputs": [],
   "source": [
    "insar.endup()"
   ]
  },
  {
   "cell_type": "code",
   "execution_count": null,
   "metadata": {},
   "outputs": [],
   "source": [
    "# maybe put something here that will move the files generated\n",
    "# put them into the example directory that Mintpy needs for topsStack\n",
    "\n"
   ]
  },
  {
   "cell_type": "markdown",
   "metadata": {},
   "source": [
    "# Working to make it so that the above saves into needed file directories for Mintpy\n",
    "\n",
    "https://mintpy.readthedocs.io/en/stable/dir_structure/\n",
    "\n",
    "Essentially just needs another function for:\n",
    "1. runnings prep_isce.py on the data produced above\n",
    "2. move all needed data created from ISCE2 into the tsdirectories according to the above link\n",
    "\n",
    "(this may need to be done in the mintpy environment, so I may end up including this in the time series ipynb, or a short .py to run on it's own)"
   ]
  },
  {
   "cell_type": "code",
   "execution_count": null,
   "metadata": {},
   "outputs": [],
   "source": []
  }
 ],
 "metadata": {
  "kernelspec": {
   "display_name": "isce2",
   "language": "python",
   "name": "python3"
  },
  "language_info": {
   "codemirror_mode": {
    "name": "ipython",
    "version": 3
   },
   "file_extension": ".py",
   "mimetype": "text/x-python",
   "name": "python",
   "nbconvert_exporter": "python",
   "pygments_lexer": "ipython3",
   "version": "3.11.6"
  }
 },
 "nbformat": 4,
 "nbformat_minor": 2
}
