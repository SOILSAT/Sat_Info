{
 "cells": [
  {
   "cell_type": "markdown",
   "metadata": {},
   "source": [
    "# Notebook for implementing ISCE2 interferometry to form Interferograms, and MintPy SBAS Time-Series analysis\n",
    "This notebook will:\n",
    "1. Find scenes from ASF Vertex using the asf_search library\n",
    "2. Download said scenes\n",
    "3. Use scenes to form interferograms using ISCE2\n",
    "4. Utilize the closure phase to improve phase unwrapping\n",
    "5. Create SBAS Time-Series of deformation using the closure phase corrected interferograms\n",
    "6. Relate non-zero closure phase to surface vegatation and mositure changes using NDVI and EO moisture products\n",
    "7. Report on erosion driver events and show relation to deformation and insar velocity from corrected SBAS time-series "
   ]
  },
  {
   "cell_type": "markdown",
   "metadata": {},
   "source": [
    "# To-DO\n",
    "1. Get notebook working first with manually installed SLC images\n",
    "2. Build off 'mintpy_get_isceburst.ipynb' to build interactive for retrieving SLCs"
   ]
  },
  {
   "cell_type": "markdown",
   "metadata": {},
   "source": [
    "https://nbviewer.org/github/isce-framework/isce2-docs/blob/master/Notebooks/UNAVCO_2020/TOPS/topsApp.ipynb"
   ]
  },
  {
   "cell_type": "markdown",
   "metadata": {},
   "source": [
    "# First, some helpful functions"
   ]
  },
  {
   "cell_type": "code",
   "execution_count": 360,
   "metadata": {},
   "outputs": [
    {
     "data": {
      "text/html": [
       "\n",
       "            <style>\n",
       "                .geemap-dark {\n",
       "                    --jp-widgets-color: white;\n",
       "                    --jp-widgets-label-color: white;\n",
       "                    --jp-ui-font-color1: white;\n",
       "                    --jp-layout-color2: #454545;\n",
       "                    background-color: #383838;\n",
       "                }\n",
       "\n",
       "                .geemap-dark .jupyter-button {\n",
       "                    --jp-layout-color3: #383838;\n",
       "                }\n",
       "\n",
       "                .geemap-colab {\n",
       "                    background-color: var(--colab-primary-surface-color, white);\n",
       "                }\n",
       "\n",
       "                .geemap-colab .jupyter-button {\n",
       "                    --jp-layout-color3: var(--colab-primary-surface-color, white);\n",
       "                }\n",
       "            </style>\n",
       "            "
      ],
      "text/plain": [
       "<IPython.core.display.HTML object>"
      ]
     },
     "metadata": {},
     "output_type": "display_data"
    }
   ],
   "source": [
    "# importing needed libraries for the entire notebook in one go\n",
    "%matplotlib inline\n",
    "%matplotlib widget\n",
    "import os\n",
    "from pathlib import Path\n",
    "from dateutil.parser import parse as parse_date\n",
    "from datetime import datetime\n",
    "import pandas as pd\n",
    "import numpy as np\n",
    "from osgeo import gdal, osr\n",
    "import matplotlib.pyplot as plt\n",
    "from typing import List, Union\n",
    "from mintpy.cli import view, tsview\n",
    "from itertools import combinations\n",
    "import eof\n",
    "import geemap\n",
    "import csv\n",
    "from isceobj.XmlUtil import FastXML as xml\n",
    "\n",
    "\n",
    "# only need these two if you plan on searching andrequesting for data from within this notebook\n",
    "# in my opinion, while it may take longer, it is much easier to use the ASF Vertex Website\n",
    "# that said, if you are monitoring a reoccuring site and just need more imagery, searching using the notebook would be best\n",
    "import asf_search as asf\n",
    "import hyp3_sdk as sdk"
   ]
  },
  {
   "cell_type": "code",
   "execution_count": 361,
   "metadata": {},
   "outputs": [
    {
     "data": {
      "text/html": [
       "\n",
       "            <style>\n",
       "                .geemap-dark {\n",
       "                    --jp-widgets-color: white;\n",
       "                    --jp-widgets-label-color: white;\n",
       "                    --jp-ui-font-color1: white;\n",
       "                    --jp-layout-color2: #454545;\n",
       "                    background-color: #383838;\n",
       "                }\n",
       "\n",
       "                .geemap-dark .jupyter-button {\n",
       "                    --jp-layout-color3: #383838;\n",
       "                }\n",
       "\n",
       "                .geemap-colab {\n",
       "                    background-color: var(--colab-primary-surface-color, white);\n",
       "                }\n",
       "\n",
       "                .geemap-colab .jupyter-button {\n",
       "                    --jp-layout-color3: var(--colab-primary-surface-color, white);\n",
       "                }\n",
       "            </style>\n",
       "            "
      ],
      "text/plain": [
       "<IPython.core.display.HTML object>"
      ]
     },
     "metadata": {},
     "output_type": "display_data"
    }
   ],
   "source": [
    "def project_dir(proj_name):\n",
    "    \"\"\"\n",
    "    This function reads in a string that you wish to make your working directory \n",
    "    for the InSAR project, and creates a data directory to store the data for ISCE2 and mintpy\n",
    "    \"\"\"\n",
    "\n",
    "    #creates file on your desktop containing the work of this notebook\n",
    "    work_dir = Path.home() / 'Desktop' / proj_name\n",
    "    work_dir.mkdir(parents=True, exist_ok=True)\n",
    "    \n",
    "    # file inside work_dir for isce2 interferometry\n",
    "    if_dir = work_dir / 'interferometry'\n",
    "    if_dir.mkdir(parents=True, exist_ok=True)\n",
    "    \n",
    "    # file inside work_dir for mintpy time-series\n",
    "    ts_dir = work_dir / 'time_series'\n",
    "    ts_dir.mkdir(parents=True, exist_ok=True)\n",
    "    \n",
    "    \n",
    "    ######### ISCE2 Directories for interferometry\n",
    "    xmls_dir = if_dir / 'xmls'\n",
    "    xmls_dir.mkdir(parents=True, exist_ok=True)\n",
    "    \n",
    "    topsxml_dir = xmls_dir / 'topsApp'\n",
    "    topsxml_dir.mkdir(parents=True, exist_ok=True)\n",
    "    \n",
    "    refxml_dir = xmls_dir / 'reference'\n",
    "    refxml_dir.mkdir(parents=True, exist_ok=True)\n",
    "    \n",
    "    secxml_dir = xmls_dir / 'secondary'\n",
    "    secxml_dir.mkdir(parents=True, exist_ok=True)\n",
    "    \n",
    "    xmldirectories = [topsxml_dir, refxml_dir, secxml_dir]\n",
    "    \n",
    "    isceref_dir = if_dir / 'reference'\n",
    "    isceref_dir.mkdir(parents=True, exist_ok=True)\n",
    "    \n",
    "    iscesec_dir = if_dir / 'secondary'\n",
    "    iscesec_dir.mkdir(parents=True, exist_ok=True)\n",
    "    \n",
    "    orbits_dir = if_dir / 'orbits'\n",
    "    orbits_dir.mkdir(parents=True, exist_ok=True)\n",
    "    \n",
    "    ifdirectories = [isceref_dir, iscesec_dir, orbits_dir]\n",
    "    \n",
    "    ######### MinPy Directories for time-series\n",
    "    baseline_dir = ts_dir / 'baseline'\n",
    "    baseline_dir.mkdir(parents=True, exist_ok=True)\n",
    "    \n",
    "    ref_dir = ts_dir / 'reference'\n",
    "    ref_dir.mkdir(parents=True, exist_ok=True)\n",
    "    \n",
    "    merged_dir = ts_dir / 'merged'\n",
    "    merged_dir.mkdir(parents=True, exist_ok=True)\n",
    "    \n",
    "    geomref_dir = merged_dir / 'geom_reference'\n",
    "    geomref_dir.mkdir(parents=True, exist_ok=True)\n",
    "    \n",
    "    interfer_dir = merged_dir / 'interferograms'\n",
    "    interfer_dir.mkdir(parents=True, exist_ok=True)\n",
    "    \n",
    "    sec_dir = ts_dir / 'secondaries'\n",
    "    sec_dir.mkdir(parents=True, exist_ok=True)\n",
    "\n",
    "    mintpy_dir = ts_dir / 'mintpy'\n",
    "    mintpy_dir.mkdir(parents=True, exist_ok=True)\n",
    "    \n",
    "    tsdirectories = [baseline_dir, ref_dir, merged_dir, geomref_dir, interfer_dir, sec_dir, mintpy_dir]\n",
    "\n",
    "    return work_dir, ifdirectories, tsdirectories, xmldirectories"
   ]
  },
  {
   "cell_type": "code",
   "execution_count": 422,
   "metadata": {},
   "outputs": [
    {
     "data": {
      "text/html": [
       "\n",
       "            <style>\n",
       "                .geemap-dark {\n",
       "                    --jp-widgets-color: white;\n",
       "                    --jp-widgets-label-color: white;\n",
       "                    --jp-ui-font-color1: white;\n",
       "                    --jp-layout-color2: #454545;\n",
       "                    background-color: #383838;\n",
       "                }\n",
       "\n",
       "                .geemap-dark .jupyter-button {\n",
       "                    --jp-layout-color3: #383838;\n",
       "                }\n",
       "\n",
       "                .geemap-colab {\n",
       "                    background-color: var(--colab-primary-surface-color, white);\n",
       "                }\n",
       "\n",
       "                .geemap-colab .jupyter-button {\n",
       "                    --jp-layout-color3: var(--colab-primary-surface-color, white);\n",
       "                }\n",
       "            </style>\n",
       "            "
      ],
      "text/plain": [
       "<IPython.core.display.HTML object>"
      ]
     },
     "metadata": {},
     "output_type": "display_data"
    }
   ],
   "source": [
    "def get_triplets(slc_zips):\n",
    "    \"\"\"\n",
    "    this program will generate a dictionary with keys triplet_n, where n is the triplet stack\n",
    "    each triplet_n contains 4 sets. Each set contains (path/to/ref.xml, path/to/sec.xml)\n",
    "    \n",
    "    slc_zips = list of directories containing the topsApp, reference, and secondary .xml files    \n",
    "    created an returned using the project_dir fucntion\n",
    "    \"\"\"\n",
    "    \n",
    "    triplet_dict={}\n",
    "    slc_list = sorted(os.listdir(slc_zips), key=lambda x: datetime.strptime(x[17:25], '%Y%m%d'))\n",
    "    slc_list =[im for im in slc_list]\n",
    "    \n",
    "    for i in range(len(slc_list) - 2):\n",
    "        triplet_dict[f'triplet_{i+1}'] = ((slc_list[i],slc_list[i+1]), (slc_list[i+1],slc_list[i+2]), (slc_list[i+2], slc_list[i]), (slc_list[i], slc_list[i+2]))\n",
    "    return triplet_dict"
   ]
  },
  {
   "cell_type": "code",
   "execution_count": 362,
   "metadata": {},
   "outputs": [
    {
     "data": {
      "text/html": [
       "\n",
       "            <style>\n",
       "                .geemap-dark {\n",
       "                    --jp-widgets-color: white;\n",
       "                    --jp-widgets-label-color: white;\n",
       "                    --jp-ui-font-color1: white;\n",
       "                    --jp-layout-color2: #454545;\n",
       "                    background-color: #383838;\n",
       "                }\n",
       "\n",
       "                .geemap-dark .jupyter-button {\n",
       "                    --jp-layout-color3: #383838;\n",
       "                }\n",
       "\n",
       "                .geemap-colab {\n",
       "                    background-color: var(--colab-primary-surface-color, white);\n",
       "                }\n",
       "\n",
       "                .geemap-colab .jupyter-button {\n",
       "                    --jp-layout-color3: var(--colab-primary-surface-color, white);\n",
       "                }\n",
       "            </style>\n",
       "            "
      ],
      "text/plain": [
       "<IPython.core.display.HTML object>"
      ]
     },
     "metadata": {},
     "output_type": "display_data"
    }
   ],
   "source": [
    "# put template file generator here, look for examples for the templates\n",
    "def config_file(outName, CONFIG_TXT): \n",
    "    \"\"\"\n",
    "    Write configuration files for MintPy to process ISCE2 product\n",
    "    outName can be something like proj_name    \n",
    "    \"\"\"\n",
    "    if os.path.isfile(outName):\n",
    "        with open(outName, \"w\") as fid:\n",
    "            fid.write(CONFIG_TXT)\n",
    "\n",
    "    else:\n",
    "        with open(outName, \"a\") as fid:\n",
    "            fid.write(\"\\n\" + CONFIG_TXT)\n"
   ]
  },
  {
   "cell_type": "code",
   "execution_count": 364,
   "metadata": {},
   "outputs": [
    {
     "data": {
      "text/html": [
       "\n",
       "            <style>\n",
       "                .geemap-dark {\n",
       "                    --jp-widgets-color: white;\n",
       "                    --jp-widgets-label-color: white;\n",
       "                    --jp-ui-font-color1: white;\n",
       "                    --jp-layout-color2: #454545;\n",
       "                    background-color: #383838;\n",
       "                }\n",
       "\n",
       "                .geemap-dark .jupyter-button {\n",
       "                    --jp-layout-color3: #383838;\n",
       "                }\n",
       "\n",
       "                .geemap-colab {\n",
       "                    background-color: var(--colab-primary-surface-color, white);\n",
       "                }\n",
       "\n",
       "                .geemap-colab .jupyter-button {\n",
       "                    --jp-layout-color3: var(--colab-primary-surface-color, white);\n",
       "                }\n",
       "            </style>\n",
       "            "
      ],
      "text/plain": [
       "<IPython.core.display.HTML object>"
      ]
     },
     "metadata": {},
     "output_type": "display_data"
    }
   ],
   "source": [
    "# function to create the reference and secondary .xml files needed for ISCE2 interferometry\n",
    "def ref_sec_xmls(subswaths, slc_zips_dirs, ifdirectories, xmldirectories, isce_aoi):\n",
    "  \"\"\"\n",
    "  subswaths = list(int), a list containing the int subswaths (1, 2, 3)\n",
    "  slc_zip_dirs = list containing the paths to each SLC.zip file from ASF\n",
    "  ifdirectories = list containing the paths to the directories used for ISCE2\n",
    "  xmldirectories = list containing paths to the directories where the xmls will be stored\n",
    "  isce_aoi = the area of interest drawn in the bbox section\n",
    "  \"\"\"\n",
    "\n",
    "\n",
    "  # subswaths = [1,2]\n",
    "  for slc in slc_zips_dirs:\n",
    "      slc_date = slc[-38:-30]\n",
    "      filetype = ['reference', 'secondary']\n",
    "      for file in ['reference', 'secondary']:\n",
    "        if file == 'reference':\n",
    "          CONFIG_TXT=f\"\"\"<?xml version=\"1.0\" encoding=\"UTF-8\"?>\n",
    "<component name=\"reference\">\n",
    "  <property name=\"safe\">{slc}</property>\n",
    "  <property name=\"swath number\">{subswaths}</property>\n",
    "  <!-- Be careful. Metadata for unpacked product will be stored in \"output directory\".xml file. So don't use the same name for input catalog file and output directory. You will end up overwriting the input catalog. We use referencedir to ensure we dont overwrite reference.xml -->\n",
    "  <property name=\"output directory\">{ifdirectories[0]}</property>\n",
    "  <property name=\"orbit directory\">{ifdirectories[2]}</property>\n",
    "  <property name=\"region of interest\">{isce_aoi}</property>\n",
    "</component>\n",
    "\"\"\"\n",
    "          configName = os.path.join(xmldirectories[1], \"{}.xml\".format(f'{slc_date}ref'))\n",
    "          config_file(configName, CONFIG_TXT)\n",
    "        \n",
    "        else:\n",
    "          CONFIG_TXT=f\"\"\"<?xml version=\"1.0\" encoding=\"UTF-8\"?>\n",
    "<component name=\"secondary\">\n",
    "  <property name=\"safe\">{slc}</property>\n",
    "  <property name=\"swath number\">{subswaths}</property>\n",
    "  <!-- Be careful. Metadata for unpacked product will be stored in \"output directory\".xml file. So don't use the same name for input catalog file and output directory. You will end up overwriting the input catalog. We use referencedir to ensure we dont overwrite reference.xml -->\n",
    "  <property name=\"output directory\">{ifdirectories[0]}</property>\n",
    "  <property name=\"orbit directory\">{ifdirectories[2]}</property>\n",
    "  <property name=\"region of interest\">{isce_aoi}</property>\n",
    "</component>\n",
    "\"\"\"\n",
    "          configName = os.path.join(xmldirectories[2], \"{}.xml\".format(f'{slc_date}sec'))\n",
    "          config_file(configName, CONFIG_TXT)"
   ]
  },
  {
   "cell_type": "code",
   "execution_count": 348,
   "metadata": {},
   "outputs": [
    {
     "data": {
      "text/html": [
       "\n",
       "            <style>\n",
       "                .geemap-dark {\n",
       "                    --jp-widgets-color: white;\n",
       "                    --jp-widgets-label-color: white;\n",
       "                    --jp-ui-font-color1: white;\n",
       "                    --jp-layout-color2: #454545;\n",
       "                    background-color: #383838;\n",
       "                }\n",
       "\n",
       "                .geemap-dark .jupyter-button {\n",
       "                    --jp-layout-color3: #383838;\n",
       "                }\n",
       "\n",
       "                .geemap-colab {\n",
       "                    background-color: var(--colab-primary-surface-color, white);\n",
       "                }\n",
       "\n",
       "                .geemap-colab .jupyter-button {\n",
       "                    --jp-layout-color3: var(--colab-primary-surface-color, white);\n",
       "                }\n",
       "            </style>\n",
       "            "
      ],
      "text/plain": [
       "<IPython.core.display.HTML object>"
      ]
     },
     "metadata": {},
     "output_type": "display_data"
    }
   ],
   "source": [
    "# function to create the triplets dictionary and the topsApp.xml files for topsInSAR\n",
    "\n",
    "def topsAppxml(xmldirectories):\n",
    "    \"\"\"\n",
    "    this program will generate a dictionary with keys triplet_n, where n is the triplet stack\n",
    "    each triplet_n contains 4 sets. Each set contains (path/to/ref.xml, path/to/sec.xml)\n",
    "    \n",
    "    xmldirectories = list of directories containing the topsApp, reference, and secondary .xml files    \n",
    "    created an returned using the project_dir fucntion\n",
    "    \"\"\"\n",
    "\n",
    "    for key in triplet_dict:\n",
    "        triplet = triplet_dict[key]\n",
    "        for i, intf in enumerate(triplet):\n",
    "            insarxmlname = f'{triplet[i][0][-15:-7]}_{triplet[i][1][-15:-7]}topsApp'\n",
    "            CONFIG_TXT=f\"\"\"<?xml version=\"1.0\" encoding=\"UTF-8\"?>\n",
    "<topsApp>\n",
    "  <component name=\"topsinsar\">\n",
    "    <property name=\"Sensor name\">SENTINEL1</property>\n",
    "    <component name=\"reference\">\n",
    "      <catalog>['{triplet[i][0]}']</catalog>\n",
    "    </component>\n",
    "    <component name=\"secondary\">\n",
    "      <catalog>['{triplet[i][1]}']</catalog>\n",
    "    </component>\n",
    "    <property name=\"range looks\">6</property>\n",
    "    <property name=\"azimuth looks\">2</property>\n",
    "    <property name=\"filter strength\">0.4</property>\n",
    "    <property name=\"do unwrap\">True</property>\n",
    "    <property name=\"unwrapper name\">snaphu_mcf</property>\n",
    "  </component>\n",
    "</topsApp>\n",
    "\"\"\"\n",
    "\n",
    "            configName = os.path.join(xmldirectories[0], \"{}.xml\".format(insarxmlname))\n",
    "            config_file(configName, CONFIG_TXT)\n",
    "    \n",
    "    topsapp_list = [os.path.join(xmldirectories[0], name) for name in os.listdir(xmldirectories[0])]\n",
    "    # topsapp_list = os.listdir(xmldirectories[0])\n",
    "    return triplet_dict, topsapp_list"
   ]
  },
  {
   "cell_type": "markdown",
   "metadata": {},
   "source": [
    "# Establish working directroy and data paths"
   ]
  },
  {
   "cell_type": "code",
   "execution_count": 365,
   "metadata": {},
   "outputs": [
    {
     "data": {
      "text/html": [
       "\n",
       "            <style>\n",
       "                .geemap-dark {\n",
       "                    --jp-widgets-color: white;\n",
       "                    --jp-widgets-label-color: white;\n",
       "                    --jp-ui-font-color1: white;\n",
       "                    --jp-layout-color2: #454545;\n",
       "                    background-color: #383838;\n",
       "                }\n",
       "\n",
       "                .geemap-dark .jupyter-button {\n",
       "                    --jp-layout-color3: #383838;\n",
       "                }\n",
       "\n",
       "                .geemap-colab {\n",
       "                    background-color: var(--colab-primary-surface-color, white);\n",
       "                }\n",
       "\n",
       "                .geemap-colab .jupyter-button {\n",
       "                    --jp-layout-color3: var(--colab-primary-surface-color, white);\n",
       "                }\n",
       "            </style>\n",
       "            "
      ],
      "text/plain": [
       "<IPython.core.display.HTML object>"
      ]
     },
     "metadata": {},
     "output_type": "display_data"
    }
   ],
   "source": [
    "# Establish working directories, and locate Sentinel-1 SLC .zip files\n",
    "proj_name = 'Harris_etal_2023'\n",
    "work_dir, ifdirectories, tsdirectories, xmldirectories = project_dir(proj_name)"
   ]
  },
  {
   "cell_type": "code",
   "execution_count": 409,
   "metadata": {},
   "outputs": [
    {
     "data": {
      "text/html": [
       "\n",
       "            <style>\n",
       "                .geemap-dark {\n",
       "                    --jp-widgets-color: white;\n",
       "                    --jp-widgets-label-color: white;\n",
       "                    --jp-ui-font-color1: white;\n",
       "                    --jp-layout-color2: #454545;\n",
       "                    background-color: #383838;\n",
       "                }\n",
       "\n",
       "                .geemap-dark .jupyter-button {\n",
       "                    --jp-layout-color3: #383838;\n",
       "                }\n",
       "\n",
       "                .geemap-colab {\n",
       "                    background-color: var(--colab-primary-surface-color, white);\n",
       "                }\n",
       "\n",
       "                .geemap-colab .jupyter-button {\n",
       "                    --jp-layout-color3: var(--colab-primary-surface-color, white);\n",
       "                }\n",
       "            </style>\n",
       "            "
      ],
      "text/plain": [
       "<IPython.core.display.HTML object>"
      ]
     },
     "metadata": {},
     "output_type": "display_data"
    }
   ],
   "source": [
    "# assuming you have downloaded .zip files covering your AOI from ASF Vertex\n",
    "# enter the file directory below\n",
    "slc_zips = '/home/wcc/Documents/InSAR/Brians_Paper/Harrisetal_slcs/2019_2020/'\n",
    "\n",
    "slc_zips_list = sorted(os.listdir(slc_zips), key=lambda x: datetime.strptime(x[17:25], '%Y%m%d'))\n",
    "slc_zips_dirs = [os.path.join(slc_zips, slc) for slc in slc_zips_list]\n",
    "slc_zips_dates = [slc[17:25] for slc in slc_zips_list]\n",
    "\n",
    "triplet_dict = get_triplets(slc_zips)"
   ]
  },
  {
   "cell_type": "code",
   "execution_count": 429,
   "metadata": {},
   "outputs": [
    {
     "data": {
      "text/html": [
       "\n",
       "            <style>\n",
       "                .geemap-dark {\n",
       "                    --jp-widgets-color: white;\n",
       "                    --jp-widgets-label-color: white;\n",
       "                    --jp-ui-font-color1: white;\n",
       "                    --jp-layout-color2: #454545;\n",
       "                    background-color: #383838;\n",
       "                }\n",
       "\n",
       "                .geemap-dark .jupyter-button {\n",
       "                    --jp-layout-color3: #383838;\n",
       "                }\n",
       "\n",
       "                .geemap-colab {\n",
       "                    background-color: var(--colab-primary-surface-color, white);\n",
       "                }\n",
       "\n",
       "                .geemap-colab .jupyter-button {\n",
       "                    --jp-layout-color3: var(--colab-primary-surface-color, white);\n",
       "                }\n",
       "            </style>\n",
       "            "
      ],
      "text/plain": [
       "<IPython.core.display.HTML object>"
      ]
     },
     "metadata": {},
     "output_type": "display_data"
    }
   ],
   "source": [
    "from xml.etree.ElementTree import Element, SubElement, tostring, ElementTree"
   ]
  },
  {
   "cell_type": "markdown",
   "metadata": {},
   "source": [
    "# Get bbox for your area of interest in the SLC images, faster processing with less data"
   ]
  },
  {
   "cell_type": "code",
   "execution_count": 349,
   "metadata": {},
   "outputs": [
    {
     "data": {
      "text/html": [
       "\n",
       "            <style>\n",
       "                .geemap-dark {\n",
       "                    --jp-widgets-color: white;\n",
       "                    --jp-widgets-label-color: white;\n",
       "                    --jp-ui-font-color1: white;\n",
       "                    --jp-layout-color2: #454545;\n",
       "                    background-color: #383838;\n",
       "                }\n",
       "\n",
       "                .geemap-dark .jupyter-button {\n",
       "                    --jp-layout-color3: #383838;\n",
       "                }\n",
       "\n",
       "                .geemap-colab {\n",
       "                    background-color: var(--colab-primary-surface-color, white);\n",
       "                }\n",
       "\n",
       "                .geemap-colab .jupyter-button {\n",
       "                    --jp-layout-color3: var(--colab-primary-surface-color, white);\n",
       "                }\n",
       "            </style>\n",
       "            "
      ],
      "text/plain": [
       "<IPython.core.display.HTML object>"
      ]
     },
     "metadata": {},
     "output_type": "display_data"
    },
    {
     "data": {
      "application/vnd.jupyter.widget-view+json": {
       "model_id": "37b77b63491c4509a9fe3e978ae96a85",
       "version_major": 2,
       "version_minor": 0
      },
      "text/plain": [
       "Map(center=[20, 0], controls=(WidgetControl(options=['position', 'transparent_bg'], widget=SearchDataGUI(child…"
      ]
     },
     "metadata": {},
     "output_type": "display_data"
    }
   ],
   "source": [
    "## interactive map for you to draw a polygon to signify your aoi\n",
    "\n",
    "## Create a map centered at a specific location\n",
    "m = geemap.Map(center=[20, 0], zoom=2, basemap='HYBRID')\n",
    "\n",
    "## Add drawing tools\n",
    "m.add_draw_control()\n",
    "\n",
    "## Display the map\n",
    "display(m)"
   ]
  },
  {
   "cell_type": "code",
   "execution_count": 350,
   "metadata": {},
   "outputs": [
    {
     "data": {
      "text/html": [
       "\n",
       "            <style>\n",
       "                .geemap-dark {\n",
       "                    --jp-widgets-color: white;\n",
       "                    --jp-widgets-label-color: white;\n",
       "                    --jp-ui-font-color1: white;\n",
       "                    --jp-layout-color2: #454545;\n",
       "                    background-color: #383838;\n",
       "                }\n",
       "\n",
       "                .geemap-dark .jupyter-button {\n",
       "                    --jp-layout-color3: #383838;\n",
       "                }\n",
       "\n",
       "                .geemap-colab {\n",
       "                    background-color: var(--colab-primary-surface-color, white);\n",
       "                }\n",
       "\n",
       "                .geemap-colab .jupyter-button {\n",
       "                    --jp-layout-color3: var(--colab-primary-surface-color, white);\n",
       "                }\n",
       "            </style>\n",
       "            "
      ],
      "text/plain": [
       "<IPython.core.display.HTML object>"
      ]
     },
     "metadata": {},
     "output_type": "display_data"
    },
    {
     "name": "stdout",
     "output_type": "stream",
     "text": [
      "[29.823966, 30.086919, -93.543091, -93.306885]\n"
     ]
    }
   ],
   "source": [
    "# extract the vertices pf the feature\n",
    "vertices = [(coords[0], coords[1]) for i, coords in enumerate(m.draw_features[0].getInfo()['geometry']['coordinates'][0])]\n",
    "\n",
    "# create POLYGON string to use when searching asf for imagery\n",
    "aoi = \"POLYGON((\" + \", \".join([f'{northing} {easting}' for northing, easting in vertices[:]]) +\"))\"\n",
    "\n",
    "#create isce compatibile bbox\n",
    "isce_aoi = [min([easting for northing, easting in vertices[:]]), max([easting for northing, easting in vertices[:]]), min([northing for northing, easting in vertices[:]]), max([northing for northing, easting in vertices[:]])]\n",
    "print(isce_aoi)"
   ]
  },
  {
   "cell_type": "markdown",
   "metadata": {},
   "source": [
    "# Get s-1 orbit files (.EOF) using sentineleof library"
   ]
  },
  {
   "cell_type": "code",
   "execution_count": 353,
   "metadata": {},
   "outputs": [
    {
     "data": {
      "text/html": [
       "\n",
       "            <style>\n",
       "                .geemap-dark {\n",
       "                    --jp-widgets-color: white;\n",
       "                    --jp-widgets-label-color: white;\n",
       "                    --jp-ui-font-color1: white;\n",
       "                    --jp-layout-color2: #454545;\n",
       "                    background-color: #383838;\n",
       "                }\n",
       "\n",
       "                .geemap-dark .jupyter-button {\n",
       "                    --jp-layout-color3: #383838;\n",
       "                }\n",
       "\n",
       "                .geemap-colab {\n",
       "                    background-color: var(--colab-primary-surface-color, white);\n",
       "                }\n",
       "\n",
       "                .geemap-colab .jupyter-button {\n",
       "                    --jp-layout-color3: var(--colab-primary-surface-color, white);\n",
       "                }\n",
       "            </style>\n",
       "            "
      ],
      "text/plain": [
       "<IPython.core.display.HTML object>"
      ]
     },
     "metadata": {},
     "output_type": "display_data"
    }
   ],
   "source": [
    "#below downloads orbit files for your S1 SLC imagery to orbits_dir created with project_dir\n",
    "for i,slc in enumerate(slc_zips_list):\n",
    "    eof.download.download_eofs(\n",
    "        orbit_dts=slc_zips_dates[i],  # slc date in str YYYYMMDD format\n",
    "        missions=['S1A', 'S1B'],        # gets both S1 missions, third was just launched (2024) so may need updating\n",
    "        sentinel_file=slc,              # image name\n",
    "        save_dir=ifdirectories[2],      # orbits_dir\n",
    "        orbit_type='precise'            # can be 'precise' or 'restituted'\n",
    "    )"
   ]
  },
  {
   "cell_type": "markdown",
   "metadata": {},
   "source": [
    "# Create reference and secondary .xml files"
   ]
  },
  {
   "cell_type": "code",
   "execution_count": 354,
   "metadata": {},
   "outputs": [
    {
     "data": {
      "text/html": [
       "\n",
       "            <style>\n",
       "                .geemap-dark {\n",
       "                    --jp-widgets-color: white;\n",
       "                    --jp-widgets-label-color: white;\n",
       "                    --jp-ui-font-color1: white;\n",
       "                    --jp-layout-color2: #454545;\n",
       "                    background-color: #383838;\n",
       "                }\n",
       "\n",
       "                .geemap-dark .jupyter-button {\n",
       "                    --jp-layout-color3: #383838;\n",
       "                }\n",
       "\n",
       "                .geemap-colab {\n",
       "                    background-color: var(--colab-primary-surface-color, white);\n",
       "                }\n",
       "\n",
       "                .geemap-colab .jupyter-button {\n",
       "                    --jp-layout-color3: var(--colab-primary-surface-color, white);\n",
       "                }\n",
       "            </style>\n",
       "            "
      ],
      "text/plain": [
       "<IPython.core.display.HTML object>"
      ]
     },
     "metadata": {},
     "output_type": "display_data"
    }
   ],
   "source": [
    "ref_sec_xmls([1,2], slc_zips_dirs, ifdirectories, xmldirectories, isce_aoi)"
   ]
  },
  {
   "cell_type": "markdown",
   "metadata": {},
   "source": [
    "# Create topsApp.xml file"
   ]
  },
  {
   "cell_type": "code",
   "execution_count": null,
   "metadata": {},
   "outputs": [
    {
     "data": {
      "text/html": [
       "\n",
       "            <style>\n",
       "                .geemap-dark {\n",
       "                    --jp-widgets-color: white;\n",
       "                    --jp-widgets-label-color: white;\n",
       "                    --jp-ui-font-color1: white;\n",
       "                    --jp-layout-color2: #454545;\n",
       "                    background-color: #383838;\n",
       "                }\n",
       "\n",
       "                .geemap-dark .jupyter-button {\n",
       "                    --jp-layout-color3: #383838;\n",
       "                }\n",
       "\n",
       "                .geemap-colab {\n",
       "                    background-color: var(--colab-primary-surface-color, white);\n",
       "                }\n",
       "\n",
       "                .geemap-colab .jupyter-button {\n",
       "                    --jp-layout-color3: var(--colab-primary-surface-color, white);\n",
       "                }\n",
       "            </style>\n",
       "            "
      ],
      "text/plain": [
       "<IPython.core.display.HTML object>"
      ]
     },
     "metadata": {},
     "output_type": "display_data"
    },
    {
     "ename": "TypeError",
     "evalue": "write() argument must be str, not list",
     "output_type": "error",
     "traceback": [
      "\u001b[0;31m---------------------------------------------------------------------------\u001b[0m\n",
      "\u001b[0;31mAttributeError\u001b[0m                            Traceback (most recent call last)\n",
      "File \u001b[0;32m~/tools/miniforge/envs/insar/lib/python3.11/xml/etree/ElementTree.py:757\u001b[0m, in \u001b[0;36m_get_writer\u001b[0;34m(file_or_filename, encoding)\u001b[0m\n",
      "\u001b[1;32m    756\u001b[0m \u001b[38;5;28;01mtry\u001b[39;00m:\n",
      "\u001b[0;32m--> 757\u001b[0m     write \u001b[38;5;241m=\u001b[39m \u001b[43mfile_or_filename\u001b[49m\u001b[38;5;241;43m.\u001b[39;49m\u001b[43mwrite\u001b[49m\n",
      "\u001b[1;32m    758\u001b[0m \u001b[38;5;28;01mexcept\u001b[39;00m \u001b[38;5;167;01mAttributeError\u001b[39;00m:\n",
      "\u001b[1;32m    759\u001b[0m     \u001b[38;5;66;03m# file_or_filename is a file name\u001b[39;00m\n",
      "\n",
      "\u001b[0;31mAttributeError\u001b[0m: 'str' object has no attribute 'write'\n",
      "\n",
      "During handling of the above exception, another exception occurred:\n",
      "\n",
      "\u001b[0;31mTypeError\u001b[0m                                 Traceback (most recent call last)\n",
      "Cell \u001b[0;32mIn[462], line 62\u001b[0m\n",
      "\u001b[1;32m     60\u001b[0m tree \u001b[38;5;241m=\u001b[39m ElementTree(topsApp)\n",
      "\u001b[1;32m     61\u001b[0m \u001b[38;5;66;03m# xml_filename = os.path.join('/home/wcc', 'topsApp.xml')\u001b[39;00m\n",
      "\u001b[0;32m---> 62\u001b[0m \u001b[43mtree\u001b[49m\u001b[38;5;241;43m.\u001b[39;49m\u001b[43mwrite\u001b[49m\u001b[43m(\u001b[49m\u001b[38;5;124;43m'\u001b[39;49m\u001b[38;5;124;43mtopsApp.xml\u001b[39;49m\u001b[38;5;124;43m'\u001b[39;49m\u001b[43m,\u001b[49m\u001b[43m \u001b[49m\u001b[43mencoding\u001b[49m\u001b[38;5;241;43m=\u001b[39;49m\u001b[38;5;124;43m\"\u001b[39;49m\u001b[38;5;124;43mutf-8\u001b[39;49m\u001b[38;5;124;43m\"\u001b[39;49m\u001b[43m,\u001b[49m\u001b[43m \u001b[49m\u001b[43mxml_declaration\u001b[49m\u001b[38;5;241;43m=\u001b[39;49m\u001b[38;5;28;43;01mTrue\u001b[39;49;00m\u001b[43m)\u001b[49m\n",
      "\n",
      "File \u001b[0;32m~/tools/miniforge/envs/insar/lib/python3.11/xml/etree/ElementTree.py:743\u001b[0m, in \u001b[0;36mElementTree.write\u001b[0;34m(self, file_or_filename, encoding, xml_declaration, default_namespace, method, short_empty_elements)\u001b[0m\n",
      "\u001b[1;32m    741\u001b[0m qnames, namespaces \u001b[38;5;241m=\u001b[39m _namespaces(\u001b[38;5;28mself\u001b[39m\u001b[38;5;241m.\u001b[39m_root, default_namespace)\n",
      "\u001b[1;32m    742\u001b[0m serialize \u001b[38;5;241m=\u001b[39m _serialize[method]\n",
      "\u001b[0;32m--> 743\u001b[0m \u001b[43mserialize\u001b[49m\u001b[43m(\u001b[49m\u001b[43mwrite\u001b[49m\u001b[43m,\u001b[49m\u001b[43m \u001b[49m\u001b[38;5;28;43mself\u001b[39;49m\u001b[38;5;241;43m.\u001b[39;49m\u001b[43m_root\u001b[49m\u001b[43m,\u001b[49m\u001b[43m \u001b[49m\u001b[43mqnames\u001b[49m\u001b[43m,\u001b[49m\u001b[43m \u001b[49m\u001b[43mnamespaces\u001b[49m\u001b[43m,\u001b[49m\n",
      "\u001b[1;32m    744\u001b[0m \u001b[43m          \u001b[49m\u001b[43mshort_empty_elements\u001b[49m\u001b[38;5;241;43m=\u001b[39;49m\u001b[43mshort_empty_elements\u001b[49m\u001b[43m)\u001b[49m\n",
      "\n",
      "File \u001b[0;32m~/tools/miniforge/envs/insar/lib/python3.11/xml/etree/ElementTree.py:906\u001b[0m, in \u001b[0;36m_serialize_xml\u001b[0;34m(write, elem, qnames, namespaces, short_empty_elements, **kwargs)\u001b[0m\n",
      "\u001b[1;32m    904\u001b[0m         write(_escape_cdata(text))\n",
      "\u001b[1;32m    905\u001b[0m     \u001b[38;5;28;01mfor\u001b[39;00m e \u001b[38;5;129;01min\u001b[39;00m elem:\n",
      "\u001b[0;32m--> 906\u001b[0m         \u001b[43m_serialize_xml\u001b[49m\u001b[43m(\u001b[49m\u001b[43mwrite\u001b[49m\u001b[43m,\u001b[49m\u001b[43m \u001b[49m\u001b[43me\u001b[49m\u001b[43m,\u001b[49m\u001b[43m \u001b[49m\u001b[43mqnames\u001b[49m\u001b[43m,\u001b[49m\u001b[43m \u001b[49m\u001b[38;5;28;43;01mNone\u001b[39;49;00m\u001b[43m,\u001b[49m\n",
      "\u001b[1;32m    907\u001b[0m \u001b[43m                       \u001b[49m\u001b[43mshort_empty_elements\u001b[49m\u001b[38;5;241;43m=\u001b[39;49m\u001b[43mshort_empty_elements\u001b[49m\u001b[43m)\u001b[49m\n",
      "\u001b[1;32m    908\u001b[0m     write(\u001b[38;5;124m\"\u001b[39m\u001b[38;5;124m</\u001b[39m\u001b[38;5;124m\"\u001b[39m \u001b[38;5;241m+\u001b[39m tag \u001b[38;5;241m+\u001b[39m \u001b[38;5;124m\"\u001b[39m\u001b[38;5;124m>\u001b[39m\u001b[38;5;124m\"\u001b[39m)\n",
      "\u001b[1;32m    909\u001b[0m \u001b[38;5;28;01melse\u001b[39;00m:\n",
      "\n",
      "File \u001b[0;32m~/tools/miniforge/envs/insar/lib/python3.11/xml/etree/ElementTree.py:906\u001b[0m, in \u001b[0;36m_serialize_xml\u001b[0;34m(write, elem, qnames, namespaces, short_empty_elements, **kwargs)\u001b[0m\n",
      "\u001b[1;32m    904\u001b[0m         write(_escape_cdata(text))\n",
      "\u001b[1;32m    905\u001b[0m     \u001b[38;5;28;01mfor\u001b[39;00m e \u001b[38;5;129;01min\u001b[39;00m elem:\n",
      "\u001b[0;32m--> 906\u001b[0m         \u001b[43m_serialize_xml\u001b[49m\u001b[43m(\u001b[49m\u001b[43mwrite\u001b[49m\u001b[43m,\u001b[49m\u001b[43m \u001b[49m\u001b[43me\u001b[49m\u001b[43m,\u001b[49m\u001b[43m \u001b[49m\u001b[43mqnames\u001b[49m\u001b[43m,\u001b[49m\u001b[43m \u001b[49m\u001b[38;5;28;43;01mNone\u001b[39;49;00m\u001b[43m,\u001b[49m\n",
      "\u001b[1;32m    907\u001b[0m \u001b[43m                       \u001b[49m\u001b[43mshort_empty_elements\u001b[49m\u001b[38;5;241;43m=\u001b[39;49m\u001b[43mshort_empty_elements\u001b[49m\u001b[43m)\u001b[49m\n",
      "\u001b[1;32m    908\u001b[0m     write(\u001b[38;5;124m\"\u001b[39m\u001b[38;5;124m</\u001b[39m\u001b[38;5;124m\"\u001b[39m \u001b[38;5;241m+\u001b[39m tag \u001b[38;5;241m+\u001b[39m \u001b[38;5;124m\"\u001b[39m\u001b[38;5;124m>\u001b[39m\u001b[38;5;124m\"\u001b[39m)\n",
      "\u001b[1;32m    909\u001b[0m \u001b[38;5;28;01melse\u001b[39;00m:\n",
      "\n",
      "File \u001b[0;32m~/tools/miniforge/envs/insar/lib/python3.11/xml/etree/ElementTree.py:906\u001b[0m, in \u001b[0;36m_serialize_xml\u001b[0;34m(write, elem, qnames, namespaces, short_empty_elements, **kwargs)\u001b[0m\n",
      "\u001b[1;32m    904\u001b[0m         write(_escape_cdata(text))\n",
      "\u001b[1;32m    905\u001b[0m     \u001b[38;5;28;01mfor\u001b[39;00m e \u001b[38;5;129;01min\u001b[39;00m elem:\n",
      "\u001b[0;32m--> 906\u001b[0m         \u001b[43m_serialize_xml\u001b[49m\u001b[43m(\u001b[49m\u001b[43mwrite\u001b[49m\u001b[43m,\u001b[49m\u001b[43m \u001b[49m\u001b[43me\u001b[49m\u001b[43m,\u001b[49m\u001b[43m \u001b[49m\u001b[43mqnames\u001b[49m\u001b[43m,\u001b[49m\u001b[43m \u001b[49m\u001b[38;5;28;43;01mNone\u001b[39;49;00m\u001b[43m,\u001b[49m\n",
      "\u001b[1;32m    907\u001b[0m \u001b[43m                       \u001b[49m\u001b[43mshort_empty_elements\u001b[49m\u001b[38;5;241;43m=\u001b[39;49m\u001b[43mshort_empty_elements\u001b[49m\u001b[43m)\u001b[49m\n",
      "\u001b[1;32m    908\u001b[0m     write(\u001b[38;5;124m\"\u001b[39m\u001b[38;5;124m</\u001b[39m\u001b[38;5;124m\"\u001b[39m \u001b[38;5;241m+\u001b[39m tag \u001b[38;5;241m+\u001b[39m \u001b[38;5;124m\"\u001b[39m\u001b[38;5;124m>\u001b[39m\u001b[38;5;124m\"\u001b[39m)\n",
      "\u001b[1;32m    909\u001b[0m \u001b[38;5;28;01melse\u001b[39;00m:\n",
      "\n",
      "File \u001b[0;32m~/tools/miniforge/envs/insar/lib/python3.11/xml/etree/ElementTree.py:904\u001b[0m, in \u001b[0;36m_serialize_xml\u001b[0;34m(write, elem, qnames, namespaces, short_empty_elements, **kwargs)\u001b[0m\n",
      "\u001b[1;32m    902\u001b[0m write(\u001b[38;5;124m\"\u001b[39m\u001b[38;5;124m>\u001b[39m\u001b[38;5;124m\"\u001b[39m)\n",
      "\u001b[1;32m    903\u001b[0m \u001b[38;5;28;01mif\u001b[39;00m text:\n",
      "\u001b[0;32m--> 904\u001b[0m     write(_escape_cdata(text))\n",
      "\u001b[1;32m    905\u001b[0m \u001b[38;5;28;01mfor\u001b[39;00m e \u001b[38;5;129;01min\u001b[39;00m elem:\n",
      "\u001b[1;32m    906\u001b[0m     _serialize_xml(write, e, qnames, \u001b[38;5;28;01mNone\u001b[39;00m,\n",
      "\u001b[1;32m    907\u001b[0m                    short_empty_elements\u001b[38;5;241m=\u001b[39mshort_empty_elements)\n",
      "\n",
      "\u001b[0;31mTypeError\u001b[0m: write() argument must be str, not list"
     ]
    }
   ],
   "source": [
    "topsApp = Element('topsApp')\n",
    "component = SubElement(topsApp, 'component', name='topsinsar')\n",
    "\n",
    "sensor_name = SubElement(component, 'property', name='Sensor name')\n",
    "sensor_name.text = 'SENTINEL1'\n",
    "\n",
    "####### Reference.xml\n",
    "ref = SubElement(component, 'component', name='reference')\n",
    "\n",
    "safe1 = SubElement(ref, 'property', name='safe')\n",
    "safe1.text = os.path.join(slc_zips, triplet_dict['triplet_1'][0][0])\n",
    "\n",
    "swath_num = SubElement(ref, 'property', name='swath number')\n",
    "swath_num.text = [1,2]\n",
    "\n",
    "ref_out = SubElement(ref, 'property', name='output directort')\n",
    "ref_out = xmldirectories[1]\n",
    "\n",
    "ref_orbit = SubElement(ref, 'property', name='orbit directory')\n",
    "ref_orbit.text = ifdirectories[2]\n",
    "\n",
    "roi = SubElement(ref, 'property', name='region of interest')\n",
    "roi.text = isce_aoi\n",
    "\n",
    "########## Secondary.xml\n",
    "sec = SubElement(component, 'component', name='reference')\n",
    "\n",
    "safe1 = SubElement(sec, 'property', name='safe')\n",
    "safe1.text = os.path.join(slc_zips, triplet_dict['triplet_1'][0][1])\n",
    "\n",
    "swath_num = SubElement(sec, 'property', name='swath number')\n",
    "swath_num.text = [1, 2]\n",
    "\n",
    "sec_out = SubElement(sec, 'property', name='output directort')\n",
    "sec_out = xmldirectories[2]\n",
    "\n",
    "sec_orbit = SubElement(sec, 'property', name='orbit directory')\n",
    "sec_orbit.text = ifdirectories[2]\n",
    "\n",
    "roi = SubElement(sec, 'property', name='region of interest')\n",
    "roi.text = isce_aoi\n",
    "\n",
    "########## topsApp.xml\n",
    "range_looks = SubElement(component, 'property', name='range looks')\n",
    "range_looks.text = 6\n",
    "\n",
    "azi_looks = SubElement(component, 'property', name='azimuth looks')\n",
    "azi_looks.text = 2\n",
    "\n",
    "do_unwrap = SubElement(component, 'property', name='do unwrap')\n",
    "do_unwrap.text = 'True'\n",
    "\n",
    "unwrap_name = SubElement(component, 'property', name='unwrapper name')\n",
    "unwrap_name.text ='snaphu_mcf'\n",
    "\n",
    "# Create XML tree and save to file\n",
    "tree = ElementTree(topsApp)\n",
    "# xml_filename = os.path.join('/home/wcc', 'topsApp.xml')\n",
    "tree.write('topsApp.xml', encoding=\"utf-8\", xml_declaration=True)"
   ]
  },
  {
   "cell_type": "code",
   "execution_count": null,
   "metadata": {},
   "outputs": [],
   "source": [
    "\n",
    "# Function to create a topsApp.xml for each SLC pair\n",
    "def create_topsapp_xml(slc1_dir, slc2_dir, output_dir):\n",
    "    topsApp = Element('topsApp')\n",
    "    component = SubElement(topsApp, 'component', name='topsinsar')\n",
    "    \n",
    "    sensor_name = SubElement(component, 'property', name='sensor name')\n",
    "    sensor_name.text = 'SENTINEL1'\n",
    "    \n",
    "    safe1 = SubElement(component, 'property', name='safe')\n",
    "    safe1.text = slc1_dir\n",
    "    \n",
    "    safe2 = SubElement(component, 'property', name='safe')\n",
    "    safe2.text = slc2_dir\n",
    "    \n",
    "    output_directory = SubElement(component, 'property', name='output directory')\n",
    "    output_directory.text = output_dir\n",
    "    \n",
    "    do_unwrap = SubElement(component, 'property', name='do unwrap')\n",
    "    do_unwrap.text = 'True'\n",
    "    \n",
    "    # Create XML tree and save to file\n",
    "    tree = ElementTree(topsApp)\n",
    "    xml_filename = os.path.join(output_dir, 'topsApp.xml')\n",
    "    tree.write(xml_filename)\n",
    "\n",
    "# Example usage for each pair\n",
    "for idx, (slc1_dir, slc2_dir) in enumerate([(\"SLC1_folder\", \"SLC2_folder\"), (\"SLC2_folder\", \"SLC3_folder\")]):\n",
    "    output_dir = f\"interferogram_{idx+1}\"\n",
    "    os.makedirs(output_dir, exist_ok=True)\n",
    "    create_topsapp_xml(slc1_dir, slc2_dir, output_dir)\n"
   ]
  },
  {
   "cell_type": "code",
   "execution_count": 355,
   "metadata": {},
   "outputs": [
    {
     "data": {
      "text/html": [
       "\n",
       "            <style>\n",
       "                .geemap-dark {\n",
       "                    --jp-widgets-color: white;\n",
       "                    --jp-widgets-label-color: white;\n",
       "                    --jp-ui-font-color1: white;\n",
       "                    --jp-layout-color2: #454545;\n",
       "                    background-color: #383838;\n",
       "                }\n",
       "\n",
       "                .geemap-dark .jupyter-button {\n",
       "                    --jp-layout-color3: #383838;\n",
       "                }\n",
       "\n",
       "                .geemap-colab {\n",
       "                    background-color: var(--colab-primary-surface-color, white);\n",
       "                }\n",
       "\n",
       "                .geemap-colab .jupyter-button {\n",
       "                    --jp-layout-color3: var(--colab-primary-surface-color, white);\n",
       "                }\n",
       "            </style>\n",
       "            "
      ],
      "text/plain": [
       "<IPython.core.display.HTML object>"
      ]
     },
     "metadata": {},
     "output_type": "display_data"
    }
   ],
   "source": [
    "# create new triplets dictionary with new triplets list\n",
    "# triplets list will be [ifij, ifjk, ifki, ifik]\n",
    "# which could be [(refi.xml, seck.xml), (refj.xml, seck.xml), (refk.xml, seci.xml), (refi.xml, seck.xml)]\n",
    "\n"
   ]
  },
  {
   "cell_type": "code",
   "execution_count": 301,
   "metadata": {},
   "outputs": [
    {
     "data": {
      "text/html": [
       "\n",
       "            <style>\n",
       "                .geemap-dark {\n",
       "                    --jp-widgets-color: white;\n",
       "                    --jp-widgets-label-color: white;\n",
       "                    --jp-ui-font-color1: white;\n",
       "                    --jp-layout-color2: #454545;\n",
       "                    background-color: #383838;\n",
       "                }\n",
       "\n",
       "                .geemap-dark .jupyter-button {\n",
       "                    --jp-layout-color3: #383838;\n",
       "                }\n",
       "\n",
       "                .geemap-colab {\n",
       "                    background-color: var(--colab-primary-surface-color, white);\n",
       "                }\n",
       "\n",
       "                .geemap-colab .jupyter-button {\n",
       "                    --jp-layout-color3: var(--colab-primary-surface-color, white);\n",
       "                }\n",
       "            </style>\n",
       "            "
      ],
      "text/plain": [
       "<IPython.core.display.HTML object>"
      ]
     },
     "metadata": {},
     "output_type": "display_data"
    }
   ],
   "source": [
    "#for future reference\n",
    "if_ij = triplet_dict['triplet_1'][0]\n",
    "if_jk = triplet_dict['triplet_1'][1]\n",
    "if_ki = triplet_dict['triplet_1'][2]\n",
    "if_ik = triplet_dict['triplet_1'][3]"
   ]
  },
  {
   "cell_type": "markdown",
   "metadata": {},
   "source": [
    "# topsApp interferometry (finally!)"
   ]
  },
  {
   "cell_type": "code",
   "execution_count": null,
   "metadata": {},
   "outputs": [],
   "source": [
    "# %%   batch run topsApp.py\n",
    "ifg_pairs = load_interferogram_pairs(pair_file)\n",
    "mapper = mapper_date_data(sar_dir, suffix='zip')\n",
    "\n",
    "for i, ifg in enumerate(tqdm(ifg_pairs)):\n",
    "    reference, secondary = ifg\n",
    "    reference_file = os.path.join(sar_dir, mapper[reference])\n",
    "    secondary_file = os.path.join(sar_dir, mapper[secondary])\n",
    "\n",
    "    ifg_name = f'{reference}_{secondary}'\n",
    "    ifg_dir = home_dir / f'interferogams/{ifg_name}'\n",
    "    if not ifg_dir.is_dir():\n",
    "        ifg_dir.mkdir(parents=True)\n",
    "\n",
    "    # create xml file\n",
    "    reference_dir = ifg_dir / f'{reference}'\n",
    "    secondary_dir = ifg_dir / f'{secondary}'\n",
    "    xml_file = ifg_dir / 'topsApp.xml'\n",
    "\n",
    "    generate_topsApp_xml(reference_dir, secondary_dir,\n",
    "                         reference_file, secondary_file, roi, xml_file)\n",
    "\n",
    "    # cd ifg folder\n",
    "    os.chdir(ifg_dir)\n",
    "\n",
    "    # link dem file to current folder\n",
    "    print(ifg_name)\n",
    "    cmd_link = f'ln -sf {str(Path(dem).parent)}/* ./'\n",
    "    os.system(cmd_link)\n",
    "\n",
    "    # execute topsApp.py\n",
    "    cmd_tops = f'topsApp.py {xml_file} --start=startup'\n",
    "    logger.info(cmd_tops)\n",
    "    os.system(cmd_tops)"
   ]
  },
  {
   "cell_type": "code",
   "execution_count": 356,
   "metadata": {},
   "outputs": [
    {
     "data": {
      "text/html": [
       "\n",
       "            <style>\n",
       "                .geemap-dark {\n",
       "                    --jp-widgets-color: white;\n",
       "                    --jp-widgets-label-color: white;\n",
       "                    --jp-ui-font-color1: white;\n",
       "                    --jp-layout-color2: #454545;\n",
       "                    background-color: #383838;\n",
       "                }\n",
       "\n",
       "                .geemap-dark .jupyter-button {\n",
       "                    --jp-layout-color3: #383838;\n",
       "                }\n",
       "\n",
       "                .geemap-colab {\n",
       "                    background-color: var(--colab-primary-surface-color, white);\n",
       "                }\n",
       "\n",
       "                .geemap-colab .jupyter-button {\n",
       "                    --jp-layout-color3: var(--colab-primary-surface-color, white);\n",
       "                }\n",
       "            </style>\n",
       "            "
      ],
      "text/plain": [
       "<IPython.core.display.HTML object>"
      ]
     },
     "metadata": {},
     "output_type": "display_data"
    },
    {
     "name": "stdout",
     "output_type": "stream",
     "text": [
      "/home/wcc/Desktop/Harris_etal_2023/interferometry/xmls/topsApp/20200410_20200422topsApp.xml\n"
     ]
    }
   ],
   "source": [
    "print(topsapp_list[0])"
   ]
  },
  {
   "cell_type": "code",
   "execution_count": 303,
   "metadata": {},
   "outputs": [
    {
     "data": {
      "text/html": [
       "\n",
       "            <style>\n",
       "                .geemap-dark {\n",
       "                    --jp-widgets-color: white;\n",
       "                    --jp-widgets-label-color: white;\n",
       "                    --jp-ui-font-color1: white;\n",
       "                    --jp-layout-color2: #454545;\n",
       "                    background-color: #383838;\n",
       "                }\n",
       "\n",
       "                .geemap-dark .jupyter-button {\n",
       "                    --jp-layout-color3: #383838;\n",
       "                }\n",
       "\n",
       "                .geemap-colab {\n",
       "                    background-color: var(--colab-primary-surface-color, white);\n",
       "                }\n",
       "\n",
       "                .geemap-colab .jupyter-button {\n",
       "                    --jp-layout-color3: var(--colab-primary-surface-color, white);\n",
       "                }\n",
       "            </style>\n",
       "            "
      ],
      "text/plain": [
       "<IPython.core.display.HTML object>"
      ]
     },
     "metadata": {},
     "output_type": "display_data"
    },
    {
     "ename": "AttributeError",
     "evalue": "'NoneType' object has no attribute 'step_list_help'",
     "output_type": "error",
     "traceback": [
      "\u001b[0;31m---------------------------------------------------------------------------\u001b[0m",
      "\u001b[0;31mAttributeError\u001b[0m                            Traceback (most recent call last)",
      "Cell \u001b[0;32mIn[303], line 3\u001b[0m\n\u001b[1;32m      1\u001b[0m \u001b[38;5;28;01mimport\u001b[39;00m \u001b[38;5;21;01misce\u001b[39;00m\n\u001b[1;32m      2\u001b[0m \u001b[38;5;28;01mfrom\u001b[39;00m \u001b[38;5;21;01mtopsApp\u001b[39;00m \u001b[38;5;28;01mimport\u001b[39;00m TopsInSAR\n\u001b[0;32m----> 3\u001b[0m a\u001b[38;5;241m=\u001b[39m \u001b[43mTopsInSAR\u001b[49m\u001b[38;5;241;43m.\u001b[39;49m\u001b[43mstep\u001b[49m\u001b[43m(\u001b[49m\u001b[43ma\u001b[49m\u001b[43m,\u001b[49m\u001b[43m \u001b[49m\u001b[43mname\u001b[49m\u001b[43m \u001b[49m\u001b[38;5;241;43m=\u001b[39;49m\u001b[38;5;124;43m'\u001b[39;49m\u001b[38;5;124;43mstartup\u001b[39;49m\u001b[38;5;124;43m'\u001b[39;49m\u001b[43m)\u001b[49m\n",
      "File \u001b[0;32m~/tools/miniforge/envs/insar/lib/python3.11/site-packages/isce/components/iscesys/Component/Application.py:237\u001b[0m, in \u001b[0;36mApplication.step\u001b[0;34m(self, name, attr, local, func, args, delayed_args, kwargs, dostep, doc)\u001b[0m\n\u001b[1;32m    235\u001b[0m \u001b[38;5;66;03m#add valid step names to the help list\u001b[39;00m\n\u001b[1;32m    236\u001b[0m \u001b[38;5;28;01mif\u001b[39;00m \u001b[38;5;28misinstance\u001b[39m(name, \u001b[38;5;28mstr\u001b[39m):\n\u001b[0;32m--> 237\u001b[0m     \u001b[38;5;28;43mself\u001b[39;49m\u001b[38;5;241;43m.\u001b[39;49m\u001b[43mstep_list_help\u001b[49m\u001b[38;5;241m.\u001b[39mappend(name)\n\u001b[1;32m    238\u001b[0m \u001b[38;5;66;03m#add valid step names for which dostep==True to the list of steps\u001b[39;00m\n\u001b[1;32m    239\u001b[0m \u001b[38;5;28;01mif\u001b[39;00m \u001b[38;5;28misinstance\u001b[39m(name, \u001b[38;5;28mstr\u001b[39m) \u001b[38;5;129;01mand\u001b[39;00m dostep:\n",
      "\u001b[0;31mAttributeError\u001b[0m: 'NoneType' object has no attribute 'step_list_help'"
     ]
    }
   ],
   "source": [
    "import isce\n",
    "from topsApp import TopsInSAR\n",
    "a= TopsInSAR.step(a, name ='startup')"
   ]
  },
  {
   "cell_type": "code",
   "execution_count": 358,
   "metadata": {},
   "outputs": [
    {
     "data": {
      "text/html": [
       "\n",
       "            <style>\n",
       "                .geemap-dark {\n",
       "                    --jp-widgets-color: white;\n",
       "                    --jp-widgets-label-color: white;\n",
       "                    --jp-ui-font-color1: white;\n",
       "                    --jp-layout-color2: #454545;\n",
       "                    background-color: #383838;\n",
       "                }\n",
       "\n",
       "                .geemap-dark .jupyter-button {\n",
       "                    --jp-layout-color3: #383838;\n",
       "                }\n",
       "\n",
       "                .geemap-colab {\n",
       "                    background-color: var(--colab-primary-surface-color, white);\n",
       "                }\n",
       "\n",
       "                .geemap-colab .jupyter-button {\n",
       "                    --jp-layout-color3: var(--colab-primary-surface-color, white);\n",
       "                }\n",
       "            </style>\n",
       "            "
      ],
      "text/plain": [
       "<IPython.core.display.HTML object>"
      ]
     },
     "metadata": {},
     "output_type": "display_data"
    },
    {
     "name": "stdout",
     "output_type": "stream",
     "text": [
      "2024-09-13 14:20:01,248 - root - ERROR - Error. catalog must be a filename or  a dictionary\n"
     ]
    },
    {
     "ename": "RuntimeError",
     "evalue": "No active exception to reraise",
     "output_type": "error",
     "traceback": [
      "\u001b[0;31m---------------------------------------------------------------------------\u001b[0m",
      "\u001b[0;31mRuntimeError\u001b[0m                              Traceback (most recent call last)",
      "File \u001b[0;32m~/tools/miniforge/envs/insar/lib/python3.11/site-packages/isce/applications/topsApp.py:1075\u001b[0m\n\u001b[1;32m   1073\u001b[0m \u001b[38;5;28;01mif\u001b[39;00m \u001b[38;5;18m__name__\u001b[39m \u001b[38;5;241m==\u001b[39m \u001b[38;5;124m\"\u001b[39m\u001b[38;5;124m__main__\u001b[39m\u001b[38;5;124m\"\u001b[39m:\n\u001b[1;32m   1074\u001b[0m     \u001b[38;5;28;01mimport\u001b[39;00m \u001b[38;5;21;01msys\u001b[39;00m\n\u001b[0;32m-> 1075\u001b[0m     insar \u001b[38;5;241m=\u001b[39m \u001b[43mTopsInSAR\u001b[49m\u001b[43m(\u001b[49m\u001b[43mname\u001b[49m\u001b[38;5;241;43m=\u001b[39;49m\u001b[38;5;124;43m\"\u001b[39;49m\u001b[38;5;124;43mtopsApp\u001b[39;49m\u001b[38;5;124;43m\"\u001b[39;49m\u001b[43m)\u001b[49m\n\u001b[1;32m   1076\u001b[0m     insar\u001b[38;5;241m.\u001b[39mconfigure()\n\u001b[1;32m   1077\u001b[0m     insar\u001b[38;5;241m.\u001b[39mrun()\n",
      "File \u001b[0;32m~/tools/miniforge/envs/insar/lib/python3.11/site-packages/isce/applications/topsApp.py:715\u001b[0m, in \u001b[0;36mTopsInSAR.__init__\u001b[0;34m(self, family, name, cmdline)\u001b[0m\n\u001b[1;32m    712\u001b[0m \u001b[38;5;28;01mfrom\u001b[39;00m \u001b[38;5;21;01misceobj\u001b[39;00m\u001b[38;5;21;01m.\u001b[39;00m\u001b[38;5;21;01mTopsProc\u001b[39;00m \u001b[38;5;28;01mimport\u001b[39;00m TopsProc\n\u001b[1;32m    713\u001b[0m \u001b[38;5;28;01mfrom\u001b[39;00m \u001b[38;5;21;01miscesys\u001b[39;00m\u001b[38;5;21;01m.\u001b[39;00m\u001b[38;5;21;01mStdOEL\u001b[39;00m\u001b[38;5;21;01m.\u001b[39;00m\u001b[38;5;21;01mStdOELPy\u001b[39;00m \u001b[38;5;28;01mimport\u001b[39;00m create_writer\n\u001b[0;32m--> 715\u001b[0m \u001b[38;5;28;43msuper\u001b[39;49m\u001b[43m(\u001b[49m\u001b[43m)\u001b[49m\u001b[38;5;241;43m.\u001b[39;49m\u001b[38;5;21;43m__init__\u001b[39;49m\u001b[43m(\u001b[49m\n\u001b[1;32m    716\u001b[0m \u001b[43m    \u001b[49m\u001b[43mfamily\u001b[49m\u001b[38;5;241;43m=\u001b[39;49m\u001b[43mfamily\u001b[49m\u001b[43m \u001b[49m\u001b[38;5;28;43;01mif\u001b[39;49;00m\u001b[43m \u001b[49m\u001b[43mfamily\u001b[49m\u001b[43m \u001b[49m\u001b[38;5;28;43;01melse\u001b[39;49;00m\u001b[43m  \u001b[49m\u001b[38;5;28;43mself\u001b[39;49m\u001b[38;5;241;43m.\u001b[39;49m\u001b[38;5;18;43m__class__\u001b[39;49m\u001b[38;5;241;43m.\u001b[39;49m\u001b[43mfamily\u001b[49m\u001b[43m,\u001b[49m\u001b[43m \u001b[49m\u001b[43mname\u001b[49m\u001b[38;5;241;43m=\u001b[39;49m\u001b[43mname\u001b[49m\u001b[43m,\u001b[49m\n\u001b[1;32m    717\u001b[0m \u001b[43m    \u001b[49m\u001b[43mcmdline\u001b[49m\u001b[38;5;241;43m=\u001b[39;49m\u001b[43mcmdline\u001b[49m\u001b[43m)\u001b[49m\n\u001b[1;32m    719\u001b[0m \u001b[38;5;28mself\u001b[39m\u001b[38;5;241m.\u001b[39m_stdWriter \u001b[38;5;241m=\u001b[39m create_writer(\u001b[38;5;124m\"\u001b[39m\u001b[38;5;124mlog\u001b[39m\u001b[38;5;124m\"\u001b[39m, \u001b[38;5;124m\"\u001b[39m\u001b[38;5;124m\"\u001b[39m, \u001b[38;5;28;01mTrue\u001b[39;00m, filename\u001b[38;5;241m=\u001b[39m\u001b[38;5;124m\"\u001b[39m\u001b[38;5;124mtopsinsar.log\u001b[39m\u001b[38;5;124m\"\u001b[39m)\n\u001b[1;32m    720\u001b[0m \u001b[38;5;28mself\u001b[39m\u001b[38;5;241m.\u001b[39m_add_methods()\n",
      "File \u001b[0;32m~/tools/miniforge/envs/insar/lib/python3.11/site-packages/isce/components/iscesys/Component/Application.py:431\u001b[0m, in \u001b[0;36mApplication.__init__\u001b[0;34m(self, family, name, cmdline)\u001b[0m\n\u001b[1;32m    429\u001b[0m \u001b[38;5;28mself\u001b[39m\u001b[38;5;241m.\u001b[39mstep_list \u001b[38;5;241m=\u001b[39m []\n\u001b[1;32m    430\u001b[0m \u001b[38;5;28mself\u001b[39m\u001b[38;5;241m.\u001b[39mstep_list_help \u001b[38;5;241m=\u001b[39m []\n\u001b[0;32m--> 431\u001b[0m \u001b[38;5;28;43mself\u001b[39;49m\u001b[38;5;241;43m.\u001b[39;49m\u001b[43m_processCommandLine\u001b[49m\u001b[43m(\u001b[49m\u001b[43mcmdline\u001b[49m\u001b[43m)\u001b[49m\n\u001b[1;32m    432\u001b[0m \u001b[38;5;28msuper\u001b[39m(Application, \u001b[38;5;28mself\u001b[39m)\u001b[38;5;241m.\u001b[39m\u001b[38;5;21m__init__\u001b[39m(family\u001b[38;5;241m=\u001b[39mfamily, name\u001b[38;5;241m=\u001b[39mname)\n\u001b[1;32m    435\u001b[0m \u001b[38;5;28;01mreturn\u001b[39;00m\n",
      "File \u001b[0;32m~/tools/miniforge/envs/insar/lib/python3.11/site-packages/isce/components/iscesys/Component/Application.py:177\u001b[0m, in \u001b[0;36mApplication._processCommandLine\u001b[0;34m(self, cmdline)\u001b[0m\n\u001b[1;32m    170\u001b[0m \u001b[38;5;66;03m#process the command line and return a dictionary of dictionaries with\u001b[39;00m\n\u001b[1;32m    171\u001b[0m \u001b[38;5;66;03m# components per each node.\u001b[39;00m\n\u001b[1;32m    172\u001b[0m \u001b[38;5;66;03m# propDict contains the property for each component.\u001b[39;00m\n\u001b[1;32m    173\u001b[0m \u001b[38;5;66;03m# factDict contains the info for the component factory.\u001b[39;00m\n\u001b[1;32m    174\u001b[0m \u001b[38;5;66;03m# miscDict might contain doc and units. opts are the command lines\u001b[39;00m\n\u001b[1;32m    175\u001b[0m \u001b[38;5;66;03m# preceeded by --\u001b[39;00m\n\u001b[1;32m    176\u001b[0m PA \u001b[38;5;241m=\u001b[39m Parser()\n\u001b[0;32m--> 177\u001b[0m propDict, factDict, miscDict, \u001b[38;5;28mself\u001b[39m\u001b[38;5;241m.\u001b[39m_argopts \u001b[38;5;241m=\u001b[39m \u001b[43mPA\u001b[49m\u001b[38;5;241;43m.\u001b[39;49m\u001b[43mcommandLineParser\u001b[49m\u001b[43m(\u001b[49m\n\u001b[1;32m    178\u001b[0m \u001b[43m    \u001b[49m\u001b[38;5;28;43mself\u001b[39;49m\u001b[38;5;241;43m.\u001b[39;49m\u001b[43mcmdline\u001b[49m\n\u001b[1;32m    179\u001b[0m \u001b[43m    \u001b[49m\u001b[43m)\u001b[49m\n\u001b[1;32m    181\u001b[0m CmdLinePropDict()\u001b[38;5;241m.\u001b[39mupdate(propDict)\n\u001b[1;32m    182\u001b[0m CmdLineFactDict()\u001b[38;5;241m.\u001b[39mupdate(factDict)\n",
      "File \u001b[0;32m~/tools/miniforge/envs/insar/lib/python3.11/site-packages/isce/components/iscesys/Parsers/Parser.py:89\u001b[0m, in \u001b[0;36mParser.commandLineParser\u001b[0;34m(self, args)\u001b[0m\n\u001b[1;32m     87\u001b[0m \u001b[38;5;28;01mfrom\u001b[39;00m \u001b[38;5;21;01miscesys\u001b[39;00m\u001b[38;5;21;01m.\u001b[39;00m\u001b[38;5;21;01mParsers\u001b[39;00m\u001b[38;5;21;01m.\u001b[39;00m\u001b[38;5;21;01mFileParserFactory\u001b[39;00m \u001b[38;5;28;01mimport\u001b[39;00m createFileParser\n\u001b[1;32m     88\u001b[0m FP \u001b[38;5;241m=\u001b[39m createFileParser(filetype)\n\u001b[0;32m---> 89\u001b[0m tmpProp, tmpFact, tmpMisc \u001b[38;5;241m=\u001b[39m \u001b[43mFP\u001b[49m\u001b[38;5;241;43m.\u001b[39;49m\u001b[43mparse\u001b[49m\u001b[43m(\u001b[49m\u001b[43marg\u001b[49m\u001b[43m)\u001b[49m\n\u001b[1;32m     91\u001b[0m \u001b[38;5;28;01mif\u001b[39;00m tmpProp:\n\u001b[1;32m     92\u001b[0m     DU\u001b[38;5;241m.\u001b[39mupdateDictionary(propDict, tmpProp, replace\u001b[38;5;241m=\u001b[39m\u001b[38;5;28;01mTrue\u001b[39;00m)\n",
      "File \u001b[0;32m~/tools/miniforge/envs/insar/lib/python3.11/site-packages/isce/components/iscesys/Parsers/XmlParser.py:47\u001b[0m, in \u001b[0;36mXmlParser.parse\u001b[0;34m(self, filename)\u001b[0m\n\u001b[1;32m     45\u001b[0m PA \u001b[38;5;241m=\u001b[39m Parser()\n\u001b[1;32m     46\u001b[0m PA\u001b[38;5;241m.\u001b[39m_metafile \u001b[38;5;241m=\u001b[39m filename\n\u001b[0;32m---> 47\u001b[0m \u001b[43mPA\u001b[49m\u001b[38;5;241;43m.\u001b[39;49m\u001b[43mparseComponent\u001b[49m\u001b[43m(\u001b[49m\u001b[43mroot\u001b[49m\u001b[43m,\u001b[49m\u001b[43mpropDict\u001b[49m\u001b[43m,\u001b[49m\u001b[43mfactDict\u001b[49m\u001b[43m,\u001b[49m\u001b[43mmiscDict\u001b[49m\u001b[43m)\u001b[49m\n\u001b[1;32m     48\u001b[0m \u001b[38;5;28;01mreturn\u001b[39;00m (propDict,factDict,miscDict)\n",
      "File \u001b[0;32m~/tools/miniforge/envs/insar/lib/python3.11/site-packages/isce/components/iscesys/Parsers/Parser.py:286\u001b[0m, in \u001b[0;36mParser.parseComponent\u001b[0;34m(self, root, dictIn, dictFact, dictMisc, metafile)\u001b[0m\n\u001b[1;32m    284\u001b[0m \u001b[38;5;66;03m#add the attribute metalocation to the object paramenter\u001b[39;00m\n\u001b[1;32m    285\u001b[0m tmpDict[\u001b[38;5;124m'\u001b[39m\u001b[38;5;124mmetadata_location\u001b[39m\u001b[38;5;124m'\u001b[39m] \u001b[38;5;241m=\u001b[39m os\u001b[38;5;241m.\u001b[39mpath\u001b[38;5;241m.\u001b[39mabspath(\u001b[38;5;28mself\u001b[39m\u001b[38;5;241m.\u001b[39m_metafile)\n\u001b[0;32m--> 286\u001b[0m \u001b[38;5;28;43mself\u001b[39;49m\u001b[38;5;241;43m.\u001b[39;49m\u001b[43mparseComponent\u001b[49m\u001b[43m(\u001b[49m\u001b[43mnode\u001b[49m\u001b[43m,\u001b[49m\u001b[43mtmpDict\u001b[49m\u001b[43m,\u001b[49m\u001b[43mtmpDictFact\u001b[49m\u001b[43m,\u001b[49m\u001b[43mtmpDictMisc\u001b[49m\u001b[43m)\u001b[49m\n\u001b[1;32m    287\u001b[0m \u001b[38;5;28;01mif\u001b[39;00m \u001b[38;5;129;01mnot\u001b[39;00m tmpDict \u001b[38;5;241m==\u001b[39m {}:\n\u001b[1;32m    288\u001b[0m     \u001b[38;5;28;01mif\u001b[39;00m \u001b[38;5;129;01mnot\u001b[39;00m name \u001b[38;5;129;01min\u001b[39;00m dictIn:\n",
      "File \u001b[0;32m~/tools/miniforge/envs/insar/lib/python3.11/site-packages/isce/components/iscesys/Parsers/Parser.py:277\u001b[0m, in \u001b[0;36mParser.parseComponent\u001b[0;34m(self, root, dictIn, dictFact, dictMisc, metafile)\u001b[0m\n\u001b[1;32m    275\u001b[0m         \u001b[38;5;28;01melse\u001b[39;00m:\n\u001b[1;32m    276\u001b[0m             logging\u001b[38;5;241m.\u001b[39merror(\u001b[38;5;124m\"\u001b[39m\u001b[38;5;124mError. catalog must be a filename or  a dictionary\u001b[39m\u001b[38;5;124m\"\u001b[39m)\n\u001b[0;32m--> 277\u001b[0m             \u001b[38;5;28;01mraise\u001b[39;00m\n\u001b[1;32m    279\u001b[0m tmpDict \u001b[38;5;241m=\u001b[39m {}\n\u001b[1;32m    280\u001b[0m tmpDict[const_key] \u001b[38;5;241m=\u001b[39m dictIn[const_key] \u001b[38;5;66;03m#pass the constants down\u001b[39;00m\n",
      "\u001b[0;31mRuntimeError\u001b[0m: No active exception to reraise"
     ]
    }
   ],
   "source": [
    "%run ~/tools/miniforge//envs/insar/lib/python3.11/site-packages/isce/applications/topsApp.py /home/wcc/Desktop/Harris_etal_2023/interferometry/xmls/topsApp/20200410_20200422topsApp.xml"
   ]
  },
  {
   "cell_type": "code",
   "execution_count": 340,
   "metadata": {},
   "outputs": [
    {
     "data": {
      "text/html": [
       "\n",
       "            <style>\n",
       "                .geemap-dark {\n",
       "                    --jp-widgets-color: white;\n",
       "                    --jp-widgets-label-color: white;\n",
       "                    --jp-ui-font-color1: white;\n",
       "                    --jp-layout-color2: #454545;\n",
       "                    background-color: #383838;\n",
       "                }\n",
       "\n",
       "                .geemap-dark .jupyter-button {\n",
       "                    --jp-layout-color3: #383838;\n",
       "                }\n",
       "\n",
       "                .geemap-colab {\n",
       "                    background-color: var(--colab-primary-surface-color, white);\n",
       "                }\n",
       "\n",
       "                .geemap-colab .jupyter-button {\n",
       "                    --jp-layout-color3: var(--colab-primary-surface-color, white);\n",
       "                }\n",
       "            </style>\n",
       "            "
      ],
      "text/plain": [
       "<IPython.core.display.HTML object>"
      ]
     },
     "metadata": {},
     "output_type": "display_data"
    },
    {
     "name": "stdout",
     "output_type": "stream",
     "text": [
      "2024-09-13 14:13:45,893 - isce.insar - INFO - ISCE VERSION = 2.6.3, RELEASE_SVN_REVISION = ,RELEASE_DATE = 20230418, CURRENT_SVN_REVISION = \n",
      "ISCE VERSION = 2.6.3, RELEASE_SVN_REVISION = ,RELEASE_DATE = 20230418, CURRENT_SVN_REVISION = \n",
      "Step processing\n",
      "Running step preprocess\n"
     ]
    },
    {
     "ename": "TypeError",
     "evalue": "expected str, bytes or os.PathLike object, not NoneType",
     "output_type": "error",
     "traceback": [
      "\u001b[0;31m---------------------------------------------------------------------------\u001b[0m",
      "\u001b[0;31mTypeError\u001b[0m                                 Traceback (most recent call last)",
      "File \u001b[0;32m~/tools/miniforge/envs/insar/lib/python3.11/site-packages/isce/applications/topsApp.py:1077\u001b[0m\n\u001b[1;32m   1075\u001b[0m insar \u001b[38;5;241m=\u001b[39m TopsInSAR(name\u001b[38;5;241m=\u001b[39m\u001b[38;5;124m\"\u001b[39m\u001b[38;5;124mtopsApp\u001b[39m\u001b[38;5;124m\"\u001b[39m)\n\u001b[1;32m   1076\u001b[0m insar\u001b[38;5;241m.\u001b[39mconfigure()\n\u001b[0;32m-> 1077\u001b[0m \u001b[43minsar\u001b[49m\u001b[38;5;241;43m.\u001b[39;49m\u001b[43mrun\u001b[49m\u001b[43m(\u001b[49m\u001b[43m)\u001b[49m\n",
      "File \u001b[0;32m~/tools/miniforge/envs/insar/lib/python3.11/site-packages/isce/components/iscesys/Component/Application.py:142\u001b[0m, in \u001b[0;36mApplication.run\u001b[0;34m(self, *cmdLine)\u001b[0m\n\u001b[1;32m    140\u001b[0m     \u001b[38;5;28mprint\u001b[39m(\u001b[38;5;124m\"\u001b[39m\u001b[38;5;124mStep processing\u001b[39m\u001b[38;5;124m\"\u001b[39m)\n\u001b[1;32m    141\u001b[0m     \u001b[38;5;28mself\u001b[39m\u001b[38;5;241m.\u001b[39m_steps()\n\u001b[0;32m--> 142\u001b[0m     exitStatus \u001b[38;5;241m=\u001b[39m \u001b[38;5;28;43mself\u001b[39;49m\u001b[38;5;241;43m.\u001b[39;49m\u001b[43m_processSteps\u001b[49m\u001b[43m(\u001b[49m\u001b[43m)\u001b[49m\n\u001b[1;32m    143\u001b[0m \u001b[38;5;28;01melse\u001b[39;00m:\n\u001b[1;32m    144\u001b[0m     exitStatus \u001b[38;5;241m=\u001b[39m \u001b[38;5;28mself\u001b[39m\u001b[38;5;241m.\u001b[39mmain()\n",
      "File \u001b[0;32m~/tools/miniforge/envs/insar/lib/python3.11/site-packages/isce/components/iscesys/Component/Application.py:405\u001b[0m, in \u001b[0;36mApplication._processSteps\u001b[0;34m(self)\u001b[0m\n\u001b[1;32m    402\u001b[0m         \u001b[38;5;28;01mpass\u001b[39;00m\n\u001b[1;32m    403\u001b[0m     \u001b[38;5;28;01mpass\u001b[39;00m\n\u001b[0;32m--> 405\u001b[0m result \u001b[38;5;241m=\u001b[39m \u001b[43mfunc\u001b[49m\u001b[43m(\u001b[49m\u001b[38;5;241;43m*\u001b[39;49m\u001b[43mpargs\u001b[49m\u001b[43m,\u001b[49m\u001b[43m \u001b[49m\u001b[38;5;241;43m*\u001b[39;49m\u001b[38;5;241;43m*\u001b[39;49m\u001b[43mkwargs\u001b[49m\u001b[43m)\u001b[49m\n\u001b[1;32m    406\u001b[0m \u001b[38;5;28;01mif\u001b[39;00m locvar:\n\u001b[1;32m    407\u001b[0m     \u001b[38;5;28mlocals\u001b[39m()[locvar] \u001b[38;5;241m=\u001b[39m result\n",
      "File \u001b[0;32m~/tools/miniforge/envs/insar/lib/python3.11/site-packages/isce/components/isceobj/TopsProc/Factories.py:40\u001b[0m, in \u001b[0;36m_RunWrapper.__call__\u001b[0;34m(self, *args, **kwargs)\u001b[0m\n\u001b[1;32m     39\u001b[0m \u001b[38;5;28;01mdef\u001b[39;00m \u001b[38;5;21m__call__\u001b[39m(\u001b[38;5;28mself\u001b[39m, \u001b[38;5;241m*\u001b[39margs, \u001b[38;5;241m*\u001b[39m\u001b[38;5;241m*\u001b[39mkwargs):\n\u001b[0;32m---> 40\u001b[0m     \u001b[38;5;28;01mreturn\u001b[39;00m \u001b[38;5;28;43mself\u001b[39;49m\u001b[38;5;241;43m.\u001b[39;49m\u001b[43mmethod\u001b[49m\u001b[43m(\u001b[49m\u001b[38;5;28;43mself\u001b[39;49m\u001b[38;5;241;43m.\u001b[39;49m\u001b[43mother\u001b[49m\u001b[43m,\u001b[49m\u001b[43m \u001b[49m\u001b[38;5;241;43m*\u001b[39;49m\u001b[43margs\u001b[49m\u001b[43m,\u001b[49m\u001b[43m \u001b[49m\u001b[38;5;241;43m*\u001b[39;49m\u001b[38;5;241;43m*\u001b[39;49m\u001b[43mkwargs\u001b[49m\u001b[43m)\u001b[49m\n",
      "File \u001b[0;32m~/tools/miniforge/envs/insar/lib/python3.11/site-packages/isce/components/isceobj/TopsProc/runPreprocessor.py:35\u001b[0m, in \u001b[0;36mrunPreprocessor\u001b[0;34m(self)\u001b[0m\n\u001b[1;32m     33\u001b[0m frame \u001b[38;5;241m=\u001b[39m copy\u001b[38;5;241m.\u001b[39mdeepcopy(\u001b[38;5;28mself\u001b[39m\u001b[38;5;241m.\u001b[39mreference)\n\u001b[1;32m     34\u001b[0m frame\u001b[38;5;241m.\u001b[39mswathNumber \u001b[38;5;241m=\u001b[39m swath\n\u001b[0;32m---> 35\u001b[0m frame\u001b[38;5;241m.\u001b[39moutput \u001b[38;5;241m=\u001b[39m \u001b[43mos\u001b[49m\u001b[38;5;241;43m.\u001b[39;49m\u001b[43mpath\u001b[49m\u001b[38;5;241;43m.\u001b[39;49m\u001b[43mjoin\u001b[49m\u001b[43m(\u001b[49m\u001b[43mframe\u001b[49m\u001b[38;5;241;43m.\u001b[39;49m\u001b[43moutput\u001b[49m\u001b[43m,\u001b[49m\u001b[43m \u001b[49m\u001b[38;5;124;43m'\u001b[39;49m\u001b[38;5;124;43mIW\u001b[39;49m\u001b[38;5;132;43;01m{0}\u001b[39;49;00m\u001b[38;5;124;43m'\u001b[39;49m\u001b[38;5;241;43m.\u001b[39;49m\u001b[43mformat\u001b[49m\u001b[43m(\u001b[49m\u001b[43mswath\u001b[49m\u001b[43m)\u001b[49m\u001b[43m)\u001b[49m\n\u001b[1;32m     36\u001b[0m frame\u001b[38;5;241m.\u001b[39mregionOfInterest \u001b[38;5;241m=\u001b[39m \u001b[38;5;28mself\u001b[39m\u001b[38;5;241m.\u001b[39mregionOfInterest\n\u001b[1;32m     38\u001b[0m \u001b[38;5;28;01mtry\u001b[39;00m:\n",
      "File \u001b[0;32m<frozen posixpath>:76\u001b[0m, in \u001b[0;36mjoin\u001b[0;34m(a, *p)\u001b[0m\n",
      "\u001b[0;31mTypeError\u001b[0m: expected str, bytes or os.PathLike object, not NoneType"
     ]
    }
   ],
   "source": [
    "%run ~/tools/miniforge//envs/insar/lib/python3.11/site-packages/isce/applications/topsApp.py --dostep='preprocess'"
   ]
  },
  {
   "cell_type": "code",
   "execution_count": 339,
   "metadata": {},
   "outputs": [
    {
     "data": {
      "text/html": [
       "\n",
       "            <style>\n",
       "                .geemap-dark {\n",
       "                    --jp-widgets-color: white;\n",
       "                    --jp-widgets-label-color: white;\n",
       "                    --jp-ui-font-color1: white;\n",
       "                    --jp-layout-color2: #454545;\n",
       "                    background-color: #383838;\n",
       "                }\n",
       "\n",
       "                .geemap-dark .jupyter-button {\n",
       "                    --jp-layout-color3: #383838;\n",
       "                }\n",
       "\n",
       "                .geemap-colab {\n",
       "                    background-color: var(--colab-primary-surface-color, white);\n",
       "                }\n",
       "\n",
       "                .geemap-colab .jupyter-button {\n",
       "                    --jp-layout-color3: var(--colab-primary-surface-color, white);\n",
       "                }\n",
       "            </style>\n",
       "            "
      ],
      "text/plain": [
       "<IPython.core.display.HTML object>"
      ]
     },
     "metadata": {},
     "output_type": "display_data"
    },
    {
     "name": "stdout",
     "output_type": "stream",
     "text": [
      "\n",
      "Type AmpImage: constructor requires no arguments\n",
      "\n",
      "Type Attitude: constructor requires no arguments\n",
      "\n",
      "Type Correct: constructor requires no arguments\n",
      "\n",
      "Type Correct_geoid_i2_srtm: constructor requires no arguments\n",
      "\n",
      "Type DataManager: Constructor requires arguments described in the\n",
      "table below. Use the -a option with the mandatory arguments\n",
      "to ask for more help. Run iscehelp.py -h for more info on the -a option.\n",
      "\n",
      "name              type       argtype    mandatory  values               default   \n",
      "================= ========== ========== ========== ==================== ==========\n",
      "0                 str        positional True       dem1                 None      \n",
      "                                                   dem2                           \n",
      "                                                   wbd                            \n",
      "\n",
      "\n",
      "Type DataRetriever: constructor requires no arguments\n",
      "\n",
      "Type DataTileManager: constructor requires no arguments\n",
      "\n",
      "Type DemImage: constructor requires no arguments\n",
      "\n",
      "Type DemStitcher: Constructor requires arguments described in the\n",
      "table below. Use the -a option with the mandatory arguments\n",
      "to ask for more help. Run iscehelp.py -h for more info on the -a option.\n",
      "\n",
      "name              type       argtype    mandatory  values               default   \n",
      "================= ========== ========== ========== ==================== ==========\n",
      "type              str        keyword    False      version2             version3  \n",
      "                                                   version3                       \n",
      "\n",
      "\n",
      "Type DemsStitcher: constructor requires no arguments\n",
      "\n",
      "Type DopIQ: constructor requires no arguments\n",
      "\n",
      "Type Doppler: Constructor requires arguments described in the\n",
      "table below. Use the -a option with the mandatory arguments\n",
      "to ask for more help. Run iscehelp.py -h for more info on the -a option.\n",
      "\n",
      "name              type       argtype    mandatory  values               default   \n",
      "================= ========== ========== ========== ==================== ==========\n",
      "doppler           str        keyword    True       USEDOPIQ             Not set   \n",
      "                                                   USECALCDOP                     \n",
      "                                                   USEDOPPLER                     \n",
      "                                                   USEDEFAULT                     \n",
      "\n",
      "\n",
      "Type FormSLC: Constructor requires arguments described in the\n",
      "table below. Use the -a option with the mandatory arguments\n",
      "to ask for more help. Run iscehelp.py -h for more info on the -a option.\n",
      "\n",
      "name              type       argtype    mandatory  values               default   \n",
      "================= ========== ========== ========== ==================== ==========\n",
      "sensor            str        keyword    False      None                 None      \n",
      "                                                   uavsar                         \n",
      "                                                   terrasarx                      \n",
      "                                                   cosmo_skymed_slc               \n",
      "                                                   radarsat2                      \n",
      "                                                   sentinel1a                     \n",
      "                                                   tandemx                        \n",
      "                                                   kompsat5                       \n",
      "                                                   risat1_slc                     \n",
      "                                                   alos2                          \n",
      "                                                   ers_slc                        \n",
      "                                                   alos_slc                       \n",
      "                                                   envisat_slc                    \n",
      "                                                   saocom_slc                     \n",
      "\n",
      "\n",
      "Type GRDSensor: Constructor requires arguments described in the\n",
      "table below. Use the -a option with the mandatory arguments\n",
      "to ask for more help. Run iscehelp.py -h for more info on the -a option.\n",
      "\n",
      "name              type       argtype    mandatory  values               default   \n",
      "================= ========== ========== ========== ==================== ==========\n",
      "sensor            str        keyword    True       SENTINEL1            Not set   \n",
      "                                                   RADARSAT2                      \n",
      "                                                   TERRASARX                      \n",
      "\n",
      "\n",
      "Type Image: constructor requires no arguments\n",
      "\n",
      "Type ImageCoordinate: constructor requires no arguments\n",
      "\n",
      "Type Insar: constructor requires no arguments\n",
      "\n",
      "Type IntImage: constructor requires no arguments\n",
      "\n",
      "Type MultiModeSensor: Constructor requires arguments described in the\n",
      "table below. Use the -a option with the mandatory arguments\n",
      "to ask for more help. Run iscehelp.py -h for more info on the -a option.\n",
      "\n",
      "name              type       argtype    mandatory  values               default   \n",
      "================= ========== ========== ========== ==================== ==========\n",
      "sensor            str        keyword    True       ALOS2                Not set   \n",
      "\n",
      "\n",
      "Type OffsetImage: constructor requires no arguments\n",
      "\n",
      "Type Orbit: constructor requires no arguments\n",
      "\n",
      "Type RawIQImage: constructor requires no arguments\n",
      "\n",
      "Type RawImage: constructor requires no arguments\n",
      "\n",
      "Type Resamp: constructor requires no arguments\n",
      "\n",
      "Type Resamp_image: constructor requires no arguments\n",
      "\n",
      "Type RgImage: constructor requires no arguments\n",
      "\n",
      "Type SWBDStitcher: constructor requires no arguments\n",
      "\n",
      "Type Sensor: Constructor requires arguments described in the\n",
      "table below. Use the -a option with the mandatory arguments\n",
      "to ask for more help. Run iscehelp.py -h for more info on the -a option.\n",
      "\n",
      "name              type       argtype    mandatory  values               default   \n",
      "================= ========== ========== ========== ==================== ==========\n",
      "sensor            str        keyword    True       ALOS                 Not set   \n",
      "                                                   ALOS_SLC                       \n",
      "                                                   ALOS2                          \n",
      "                                                   COSMO_SKYMED                   \n",
      "                                                   COSMO_SKYMED_SLC               \n",
      "                                                   ENVISAT                        \n",
      "                                                   ERS                            \n",
      "                                                   ERS_SLC                        \n",
      "                                                   KOMPSAT5                       \n",
      "                                                   RADARSAT1                      \n",
      "                                                   RADARSAT2                      \n",
      "                                                   ROI_PAC                        \n",
      "                                                   TERRASARX                      \n",
      "                                                   RISAT1                         \n",
      "                                                   RISAT1_SLC                     \n",
      "                                                   UAVSAR_RPI                     \n",
      "                                                   UAVSAR_STACK                   \n",
      "                                                   UAVSAR_POLSAR                  \n",
      "                                                   SENTINEL1                      \n",
      "                                                   ENVISAT_SLC                    \n",
      "                                                   ERS_ENVISAT                    \n",
      "                                                   ERS_ENVISAT_SLC                \n",
      "                                                   SICD_RGZERO                    \n",
      "                                                   ICEYE_SLC                      \n",
      "                                                   UAVSAR_HDF5_SLC                \n",
      "                                                   SAOCOM_SLC                     \n",
      "\n",
      "\n",
      "Type SlcImage: constructor requires no arguments\n",
      "\n",
      "Type Snaphu: constructor requires no arguments\n",
      "\n",
      "Type Stitcher: constructor requires no arguments\n",
      "\n",
      "Type StreamImage: constructor requires no arguments\n",
      "\n",
      "Type TOPSSensor: Constructor requires arguments described in the\n",
      "table below. Use the -a option with the mandatory arguments\n",
      "to ask for more help. Run iscehelp.py -h for more info on the -a option.\n",
      "\n",
      "name              type       argtype    mandatory  values               default   \n",
      "================= ========== ========== ========== ==================== ==========\n",
      "sensor            str        keyword    True       SENTINEL1            Not set   \n",
      "\n",
      "\n",
      "Type Topo: constructor requires no arguments\n",
      "\n",
      "Type UnwImage: constructor requires no arguments\n",
      "\n",
      "Type UnwrapComp: constructor requires no arguments\n",
      "\n",
      "Type WbdsStitcher: constructor requires no arguments\n"
     ]
    }
   ],
   "source": [
    "%run ~/tools/miniforge//envs/insar/lib/python3.11/site-packages/isce/applications/iscehelp.py -i"
   ]
  },
  {
   "cell_type": "code",
   "execution_count": 279,
   "metadata": {},
   "outputs": [
    {
     "data": {
      "text/html": [
       "\n",
       "            <style>\n",
       "                .geemap-dark {\n",
       "                    --jp-widgets-color: white;\n",
       "                    --jp-widgets-label-color: white;\n",
       "                    --jp-ui-font-color1: white;\n",
       "                    --jp-layout-color2: #454545;\n",
       "                    background-color: #383838;\n",
       "                }\n",
       "\n",
       "                .geemap-dark .jupyter-button {\n",
       "                    --jp-layout-color3: #383838;\n",
       "                }\n",
       "\n",
       "                .geemap-colab {\n",
       "                    background-color: var(--colab-primary-surface-color, white);\n",
       "                }\n",
       "\n",
       "                .geemap-colab .jupyter-button {\n",
       "                    --jp-layout-color3: var(--colab-primary-surface-color, white);\n",
       "                }\n",
       "            </style>\n",
       "            "
      ],
      "text/plain": [
       "<IPython.core.display.HTML object>"
      ]
     },
     "metadata": {},
     "output_type": "display_data"
    },
    {
     "name": "stdout",
     "output_type": "stream",
     "text": [
      "None\n"
     ]
    }
   ],
   "source": [
    "print(a)"
   ]
  },
  {
   "cell_type": "code",
   "execution_count": null,
   "metadata": {},
   "outputs": [],
   "source": [
    "a = Insar(name='topsApp', cmdline=f'{topsapp_list[0]}') # different XML for each interferogram? Will need a lot to form all the triplets\n",
    "a.configure()\n",
    "# a.run()"
   ]
  },
  {
   "cell_type": "markdown",
   "metadata": {},
   "source": []
  },
  {
   "cell_type": "code",
   "execution_count": 1,
   "metadata": {},
   "outputs": [],
   "source": [
    "# use something to replicate wget https://sar-mpc.eu/download/ca97845e-1314-4817-91d8-f39afbeff74d/ -O S1A_AUX_CAL_V20140908T000000_G20190626T100201.SAFE.zip\n",
    "# iterate through all .zip files\n",
    "from mintpy import prep_isce"
   ]
  },
  {
   "cell_type": "code",
   "execution_count": 29,
   "metadata": {},
   "outputs": [
    {
     "data": {
      "text/html": [
       "\n",
       "            <style>\n",
       "                .geemap-dark {\n",
       "                    --jp-widgets-color: white;\n",
       "                    --jp-widgets-label-color: white;\n",
       "                    --jp-ui-font-color1: white;\n",
       "                    --jp-layout-color2: #454545;\n",
       "                    background-color: #383838;\n",
       "                }\n",
       "\n",
       "                .geemap-dark .jupyter-button {\n",
       "                    --jp-layout-color3: #383838;\n",
       "                }\n",
       "\n",
       "                .geemap-colab {\n",
       "                    background-color: var(--colab-primary-surface-color, white);\n",
       "                }\n",
       "\n",
       "                .geemap-colab .jupyter-button {\n",
       "                    --jp-layout-color3: var(--colab-primary-surface-color, white);\n",
       "                }\n",
       "            </style>\n",
       "            "
      ],
      "text/plain": [
       "<IPython.core.display.HTML object>"
      ]
     },
     "metadata": {},
     "output_type": "display_data"
    },
    {
     "name": "stdout",
     "output_type": "stream",
     "text": [
      "<module 'isce.applications' from '/home/wcc/tools/miniforge/envs/insar/lib/python3.11/site-packages/isce/applications/__init__.py'>\n"
     ]
    }
   ],
   "source": [
    "import isce.applications\n",
    "\n",
    "\n",
    "print(isce.applications)"
   ]
  },
  {
   "cell_type": "code",
   "execution_count": 37,
   "metadata": {},
   "outputs": [
    {
     "data": {
      "text/html": [
       "\n",
       "            <style>\n",
       "                .geemap-dark {\n",
       "                    --jp-widgets-color: white;\n",
       "                    --jp-widgets-label-color: white;\n",
       "                    --jp-ui-font-color1: white;\n",
       "                    --jp-layout-color2: #454545;\n",
       "                    background-color: #383838;\n",
       "                }\n",
       "\n",
       "                .geemap-dark .jupyter-button {\n",
       "                    --jp-layout-color3: #383838;\n",
       "                }\n",
       "\n",
       "                .geemap-colab {\n",
       "                    background-color: var(--colab-primary-surface-color, white);\n",
       "                }\n",
       "\n",
       "                .geemap-colab .jupyter-button {\n",
       "                    --jp-layout-color3: var(--colab-primary-surface-color, white);\n",
       "                }\n",
       "            </style>\n",
       "            "
      ],
      "text/plain": [
       "<IPython.core.display.HTML object>"
      ]
     },
     "metadata": {},
     "output_type": "display_data"
    },
    {
     "name": "stdout",
     "output_type": "stream",
     "text": [
      "python: can't open file '/home/wcc/tools/isce2/src/isce2/contrib/topsStack/stackSentinel.py': [Errno 2] No such file or directory\n"
     ]
    }
   ],
   "source": [
    "!python ~/tools/isce2/src/isce2/contrib/topsStack/stackSentinel.py -h"
   ]
  },
  {
   "cell_type": "code",
   "execution_count": null,
   "metadata": {},
   "outputs": [],
   "source": [
    "stackSentinel.py"
   ]
  },
  {
   "cell_type": "code",
   "execution_count": 35,
   "metadata": {},
   "outputs": [
    {
     "data": {
      "text/html": [
       "\n",
       "            <style>\n",
       "                .geemap-dark {\n",
       "                    --jp-widgets-color: white;\n",
       "                    --jp-widgets-label-color: white;\n",
       "                    --jp-ui-font-color1: white;\n",
       "                    --jp-layout-color2: #454545;\n",
       "                    background-color: #383838;\n",
       "                }\n",
       "\n",
       "                .geemap-dark .jupyter-button {\n",
       "                    --jp-layout-color3: #383838;\n",
       "                }\n",
       "\n",
       "                .geemap-colab {\n",
       "                    background-color: var(--colab-primary-surface-color, white);\n",
       "                }\n",
       "\n",
       "                .geemap-colab .jupyter-button {\n",
       "                    --jp-layout-color3: var(--colab-primary-surface-color, white);\n",
       "                }\n",
       "            </style>\n",
       "            "
      ],
      "text/plain": [
       "<IPython.core.display.HTML object>"
      ]
     },
     "metadata": {},
     "output_type": "display_data"
    },
    {
     "ename": "ImportError",
     "evalue": "cannot import name 'contrib' from 'isce' (/home/wcc/tools/miniforge/envs/insar/lib/python3.11/site-packages/isce/__init__.py)",
     "output_type": "error",
     "traceback": [
      "\u001b[0;31m---------------------------------------------------------------------------\u001b[0m",
      "\u001b[0;31mImportError\u001b[0m                               Traceback (most recent call last)",
      "Cell \u001b[0;32mIn[35], line 1\u001b[0m\n\u001b[0;32m----> 1\u001b[0m \u001b[38;5;28;01mfrom\u001b[39;00m \u001b[38;5;21;01misce\u001b[39;00m \u001b[38;5;28;01mimport\u001b[39;00m contrib\n",
      "\u001b[0;31mImportError\u001b[0m: cannot import name 'contrib' from 'isce' (/home/wcc/tools/miniforge/envs/insar/lib/python3.11/site-packages/isce/__init__.py)"
     ]
    }
   ],
   "source": [
    "from isce import contrib"
   ]
  },
  {
   "cell_type": "code",
   "execution_count": null,
   "metadata": {},
   "outputs": [],
   "source": []
  }
 ],
 "metadata": {
  "kernelspec": {
   "display_name": "Python 3",
   "language": "python",
   "name": "python3"
  },
  "language_info": {
   "codemirror_mode": {
    "name": "ipython",
    "version": 3
   },
   "file_extension": ".py",
   "mimetype": "text/x-python",
   "name": "python",
   "nbconvert_exporter": "python",
   "pygments_lexer": "ipython3",
   "version": "3.11.6"
  }
 },
 "nbformat": 4,
 "nbformat_minor": 2
}
