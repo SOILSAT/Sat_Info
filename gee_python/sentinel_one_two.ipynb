{
 "cells": [
  {
   "cell_type": "code",
   "execution_count": null,
   "metadata": {},
   "outputs": [],
   "source": [
    "## before anything you need to visit the site below and make sure you have a google earth engine account\n",
    "## this is so you can access Sentinel-1 GRD and Sentinel-2 TOA and SR products, as well as other sensor packages and data types\n",
    "\n",
    "## visit the below website below to setup an earth engine account, enable a cloud project, and enable the ee API \n",
    "## https://developers.google.com/earth-engine/cloud/earthengine_cloud_project_setup#get-access-to-earth-engine"
   ]
  },
  {
   "cell_type": "code",
   "execution_count": null,
   "metadata": {},
   "outputs": [],
   "source": [
    "import ee\n",
    "import geemap"
   ]
  },
  {
   "cell_type": "code",
   "execution_count": null,
   "metadata": {},
   "outputs": [],
   "source": [
    "## only need to run this once\n",
    "## after authenticating with google earth engine you will only need to initialize each session\n",
    "\n",
    "## https://developers.google.com/earth-engine/guides/auth\n",
    "ee.Authenticate(auth_mode = 'notebook')"
   ]
  },
  {
   "cell_type": "code",
   "execution_count": null,
   "metadata": {},
   "outputs": [],
   "source": [
    "## init ee cloud project you made during initial setup\n",
    "ee.Initialize(project = your cloud project) ##enter your project name here as a string to initialize exchanges with ee api"
   ]
  },
  {
   "cell_type": "markdown",
   "metadata": {},
   "source": [
    "# Some functions for a bit easier mapping\n",
    "super simple for now, might make them better later"
   ]
  },
  {
   "cell_type": "code",
   "execution_count": null,
   "metadata": {},
   "outputs": [],
   "source": [
    "## Function to add RGB images to the map.\n",
    "def add_rgb_to_map(image, map_object):\n",
    "\n",
    "    date = ee.Date(image.get('date')).format('YYYY-MM-dd').getInfo()\n",
    "    for band in s2_10m.first().bandNames().getInfo(): ## all images if small enough image collection\n",
    "        map_object.addLayer(image, {'min': 0, 'max': 2000, 'bands': ['B4', 'B3', 'B2']}, f'{date}_rgb')\n",
    "    # if date[:8] == '20200106': ## can put specific dates here in YYYYMMDD\n",
    "        # map_object.addLayer(image, {'min': 0, 'max': 2000, 'bands': ['B4', 'B3', 'B2']}, f'{date}_rgb')\n",
    "    # elif date[:8] == '20191224': ## can put specific dates here in YYYYMMDD\n",
    "        # map_object.addLayer(image, {'min': 0, 'max': 2000, 'bands': ['B4', 'B3', 'B2']}, f'{date}_rgb')\n",
    "    # map_object.addLayer(image, {'min': 0, 'max': 2000, 'bands': ['B4', 'B3', 'B2']}, f'{date}_rgb')\n",
    "    # print(date[:8])\n",
    "\n",
    "\n",
    "## Function to add spectral indices images to the map.\n",
    "def add_ind_to_map(image, map_object):\n",
    "\n",
    "    date = ee.Date(image.get('date')).format('YYYY-MM-dd').getInfo()\n",
    "    for band in s2_10m_ind.first().bandNames().getInfo():\n",
    "        if band =='NDWI':\n",
    "            map_object.addLayer(image, {'min': -1, 'max': 1, 'bands': band, 'palette': ['00FFFF', '0000FF']}, f'{date}_{band}')\n",
    "        elif band =='NDVI': \n",
    "            map_object.addLayer(image, {'min': -1, 'max': 1, 'bands': band, 'palette': ['FF0000', '008000']}, f'{date}_{band}')\n",
    "        # if date[:8] == '20200106':\n",
    "        #     if band =='NDWI':\n",
    "        #         map_object.addLayer(image, {'min': -1, 'max': 1, 'bands': band, 'palette': ['00FFFF', '0000FF']}, f'{date}_{band}')\n",
    "        #     elif band =='NDVI': \n",
    "        #         map_object.addLayer(image, {'min': -1, 'max': 1, 'bands': band, 'palette': ['FF0000', '008000']}, f'{date}_{band}')\n",
    "        # elif date[:8] == '20191224':\n",
    "        #     if band == 'NDWI':\n",
    "        #         map_object.addLayer(image, {'min': -1, 'max': 1, 'bands': band, 'palette': ['00FFFF', '0000FF']}, f'{date}_{band}')\n",
    "        #     elif band =='NDVI': \n",
    "        #         map_object.addLayer(image, {'min': -1, 'max': 1, 'bands': band, 'palette': ['FF0000', '008000']}, f'{date}_{band}')"
   ]
  },
  {
   "cell_type": "code",
   "execution_count": null,
   "metadata": {},
   "outputs": [],
   "source": [
    "## functiont to create three important and popular spectral indices\n",
    "## ndvi = Normalized Difference Vegetation Index, good for vegetation health and cover\n",
    "## ndwi = Normalized Difference Water Index, good for identifying water bodies and mositure in surface\n",
    "def s2_10m_target_indices(image):\n",
    "    ndvi = image.normalizedDifference(['B8', 'B4']).rename('NDVI')\n",
    "    ndwi = image.normalizedDifference(['B3', 'B8']).rename('NDWI')\n",
    "    return image.addBands([ndvi, ndwi])\n",
    "\n",
    "## collects sentinel-1 GRD (radar, no phase) and Sentinel-2 SR (multispectral, adjusted for top of atmosphere reflectance)\n",
    "def get_sentinel_imagery(aoi, start_date, end_date, s2_cloud_cov, orbit):\n",
    "    ## Sentinel-1 ImageCollection\n",
    "    s1 = (ee.ImageCollection('COPERNICUS/S1_GRD_FLOAT')\n",
    "               .filterBounds(aoi)\n",
    "               .filterDate(ee.Date(start_date), ee.Date(end_date))\n",
    "               .map(lambda img: img.set('date', ee.Date(img.date()).format('YYYYMMdd')))\n",
    "               .filter(ee.Filter.eq('orbitProperties_pass', orbit))\n",
    "               .select(['VV', 'VH'])\n",
    "               .sort('date')\n",
    "    )\n",
    "\n",
    "    ## Clip all images in the collection to the AOI\n",
    "    s1 = s1.map(lambda img: img.clip(aoi))\n",
    "    ## Sentinel-2 Surface Reflectance Harmonized ImageCollection\n",
    "    s2_10m = (ee.ImageCollection('COPERNICUS/S2_SR_HARMONIZED')\n",
    "               .filterBounds(aoi)\n",
    "               .filterDate(ee.Date(start_date), ee.Date(end_date))\n",
    "               .map(lambda img: img.set('date', ee.Date(img.date()).format('YYYYMMdd')))\n",
    "               .filter(ee.Filter.lt('CLOUDY_PIXEL_PERCENTAGE', s2_cloud_cov))\n",
    "               .sort('date')\n",
    "               .select(['B2', 'B3', 'B4', 'B8'])\n",
    "    )\n",
    "    ## Clip all images in the collection to the AOI\n",
    "    s2_10m = s2_10m.map(lambda img: img.clip(aoi))\n",
    "    ## Apply indices to the Sentinel-2 images\n",
    "    s2_10m_ind = s2_10m.map(s2_10m_target_indices).select(['NDVI', 'NDWI'])\n",
    "\n",
    "    return s1, s2_10m, s2_10m_ind\n"
   ]
  },
  {
   "cell_type": "code",
   "execution_count": null,
   "metadata": {},
   "outputs": [],
   "source": [
    "## fucntion to get the date of each image in the image collection\n",
    "def get_date(image):\n",
    "    return ee.Feature(None, {'date': image.date().format('YYYY-MM-dd')})"
   ]
  },
  {
   "cell_type": "code",
   "execution_count": null,
   "metadata": {},
   "outputs": [],
   "source": [
    "def export_image_to_drive(collection, image, index):\n",
    "    # Define the description for the export, incorporating the index for uniqueness\n",
    "    if collection == s2_10m:\n",
    "        description = f's2_{index}'\n",
    "    elif collection == s2_10m_ind:\n",
    "        description = f's2_ind_{index}'\n",
    "    else:\n",
    "        description = f's1_{index}'\n",
    "    \n",
    "    # Setup the export task\n",
    "    task = ee.batch.Export.image.toDrive(\n",
    "        image=image,\n",
    "        description=description,\n",
    "        region=aoi,  # Make sure the geometry is defined earlier\n",
    "        fileFormat='GeoTIFF',\n",
    "        scale = 10\n",
    "    )\n",
    "    task.start()\n",
    "    print(f'Exporting {description} to Drive...')\n",
    "\n",
    "def export_all_images(collection):\n",
    "    image_list = collection.toList(collection.size())  # Convert ImageCollection to List\n",
    "    num_images = image_list.size().getInfo()  # Get the number of images\n",
    "\n",
    "    if collection == s2_10m:\n",
    "        for i, date in enumerate(s2_date_list):\n",
    "            image = ee.Image(image_list.get(i))\n",
    "            export_image_to_drive(collection, image, date[:10])\n",
    "            # if date[:10] == '2019-12-24' or date[:10] == '2020-01-06': ## can be target dates you are specifically looking for\n",
    "            #     image = ee.Image(image_list.get(i))  # Get the image from the list\n",
    "            #     export_image_to_drive(collection, image, date[:-9])  # Export this image\n",
    "\n",
    "    elif collection == s2_10m_ind:\n",
    "        for i, date in enumerate(s2_date_list):\n",
    "            image = ee.Image(image_list.get(i))\n",
    "            export_image_to_drive(collection, image, date[:10])\n",
    "            # if date[:10] == '2019-12-24' or date[:10] == '2020-01-06': ## can be target dates you are specifically looking for\n",
    "            #     image = ee.Image(image_list.get(i))  # Get the image from the list\n",
    "            #     export_image_to_drive(collection, image, date[:-9])  # Export this image\n",
    "    else:\n",
    "        for i, date in enumerate(s1_date_list):\n",
    "            image = ee.Image(image_list.get(i))\n",
    "            export_image_to_drive(collection, image, date[:10])\n",
    "            # if date[:10] == '2019-12-24' or date[:10] == '2020-01-06': ## can be target dates you are specifically looking for\n",
    "            #     image = ee.Image(image_list.get(i))  # Get the image from the list\n",
    "            #     export_image_to_drive(collection, image, date[:-9])  # Export this image"
   ]
  },
  {
   "cell_type": "markdown",
   "metadata": {},
   "source": [
    "# Get area of interest"
   ]
  },
  {
   "cell_type": "code",
   "execution_count": null,
   "metadata": {},
   "outputs": [],
   "source": [
    "## interactive map for you to draw a polygon to signify your aoi\n",
    "\n",
    "## Create a map centered at a specific location\n",
    "m = geemap.Map(center=[20, 0], zoom=2, basemap='OPENSTREETMAP')\n",
    "## Add drawing tools\n",
    "m.add_draw_control()\n",
    "## Display the map\n",
    "display(m)"
   ]
  },
  {
   "cell_type": "code",
   "execution_count": null,
   "metadata": {},
   "outputs": [],
   "source": [
    "## Get the drawn features\n",
    "draw_features = m.draw_features[0]\n",
    "## Establish ee.Polygon from drawn area of interest to collect imagery\n",
    "aoi = ee.Geometry.Polygon(draw_features.getInfo()['geometry']['coordinates'][0])"
   ]
  },
  {
   "cell_type": "markdown",
   "metadata": {},
   "source": [
    "# Get Imagery"
   ]
  },
  {
   "cell_type": "code",
   "execution_count": null,
   "metadata": {},
   "outputs": [],
   "source": [
    "start_date = '2020-06-29' ## start date of search window\n",
    "end_date = '2020-07-13' ## end date of search window\n",
    "s2_cloud_cov = 20 ## percentage of clouds in sentinel-2 multispectral imagery, less means you see more surface\n",
    "orbit = 'ASCENDING' ## orbit for imagery\n",
    "\n",
    "s1, s2_10m, s2_10m_ind = get_sentinel_imagery(aoi, start_date, end_date, s2_cloud_cov, orbit)"
   ]
  },
  {
   "cell_type": "code",
   "execution_count": null,
   "metadata": {},
   "outputs": [],
   "source": [
    "s1_dates = s1.map(get_date)\n",
    "s2_dates = s2_10m.map(get_date)\n",
    "\n",
    "# Convert to a list\n",
    "s1_date_list = s1_dates.aggregate_array('date').getInfo()\n",
    "s2_date_list = s2_dates.aggregate_array('date').getInfo()"
   ]
  },
  {
   "cell_type": "code",
   "execution_count": null,
   "metadata": {},
   "outputs": [],
   "source": [
    "display(f's1 date list: {s1_date_list}')\n",
    "display(f's2 date list: {s2_date_list}')"
   ]
  },
  {
   "cell_type": "markdown",
   "metadata": {},
   "source": [
    "# Map imagery"
   ]
  },
  {
   "cell_type": "code",
   "execution_count": null,
   "metadata": {},
   "outputs": [],
   "source": [
    "Map = geemap.Map()\n",
    "\n",
    "# Visualize each image in the ImageCollection.\n",
    "s1_images = s2_10m.toList(s2_10m.size())\n",
    "for i in range(s2_10m.size().getInfo()):\n",
    "    image = ee.Image(s1_images.get(i))\n",
    "    add_rgb_to_map(image, Map)\n",
    "\n",
    "# Display the map.\n",
    "Map.addLayerControl(position = 'topright')\n",
    "Map"
   ]
  },
  {
   "cell_type": "code",
   "execution_count": null,
   "metadata": {},
   "outputs": [],
   "source": [
    "Map_ind = geemap.Map()\n",
    "\n",
    "# Visualize each image in the ImageCollection.\n",
    "s1_images = s2_10m_ind.toList(s2_10m_ind.size())\n",
    "for i in range(s2_10m_ind.size().getInfo()):\n",
    "    image = ee.Image(s1_images.get(i))\n",
    "    add_ind_to_map(image, Map_ind)\n",
    "\n",
    "# Display the map.\n",
    "Map_ind.addLayerControl(position = 'topright')\n",
    "Map_ind"
   ]
  },
  {
   "cell_type": "markdown",
   "metadata": {},
   "source": [
    "# Export imagery to google drive"
   ]
  },
  {
   "cell_type": "code",
   "execution_count": null,
   "metadata": {},
   "outputs": [],
   "source": [
    "# Call the function to start the export\n",
    "for col in [s1, s2_10m, s2_10m_ind]:\n",
    "    export_all_images(col)"
   ]
  }
 ],
 "metadata": {
  "kernelspec": {
   "display_name": "base",
   "language": "python",
   "name": "python3"
  },
  "language_info": {
   "codemirror_mode": {
    "name": "ipython",
    "version": 3
   },
   "file_extension": ".py",
   "mimetype": "text/x-python",
   "name": "python",
   "nbconvert_exporter": "python",
   "pygments_lexer": "ipython3",
   "version": "3.12.4"
  }
 },
 "nbformat": 4,
 "nbformat_minor": 2
}
