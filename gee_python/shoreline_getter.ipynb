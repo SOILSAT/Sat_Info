{
 "cells": [
  {
   "cell_type": "markdown",
   "metadata": {},
   "source": [
    "Main goal of this notebook is to use the google earth engine to identify and create features that represent the shoreline/waterline of the wetland projects based on different parameters like NDWI, VV and VH backscatter, and individual mutispectral bands"
   ]
  },
  {
   "cell_type": "code",
   "execution_count": null,
   "metadata": {},
   "outputs": [],
   "source": [
    "## before anything you need to visit the site below and make sure you have a google earth engine account\n",
    "## this is so you can access Sentinel-1 GRD and Sentinel-2 TOA and SR products, as well as other sensor packages and data types\n",
    "\n",
    "## visit the below website below to setup an earth engine account, enable a cloud project, and enable the ee API \n",
    "## https://developers.google.com/earth-engine/cloud/earthengine_cloud_project_setup#get-access-to-earth-engine"
   ]
  },
  {
   "cell_type": "code",
   "execution_count": 1,
   "metadata": {},
   "outputs": [],
   "source": [
    "import ee\n",
    "import geemap\n",
    "import geemap.colormaps as cm\n",
    "import matplotlib.pyplot as plt\n",
    "import numpy as np"
   ]
  },
  {
   "cell_type": "code",
   "execution_count": null,
   "metadata": {},
   "outputs": [],
   "source": [
    "## only need to run this once\n",
    "## after authenticating with google earth engine you will only need to initialize each session\n",
    "\n",
    "## https://developers.google.com/earth-engine/guides/auth\n",
    "ee.Authenticate()"
   ]
  },
  {
   "cell_type": "code",
   "execution_count": 2,
   "metadata": {},
   "outputs": [
    {
     "data": {
      "text/html": [
       "\n",
       "            <style>\n",
       "                .geemap-dark {\n",
       "                    --jp-widgets-color: white;\n",
       "                    --jp-widgets-label-color: white;\n",
       "                    --jp-ui-font-color1: white;\n",
       "                    --jp-layout-color2: #454545;\n",
       "                    background-color: #383838;\n",
       "                }\n",
       "\n",
       "                .geemap-dark .jupyter-button {\n",
       "                    --jp-layout-color3: #383838;\n",
       "                }\n",
       "\n",
       "                .geemap-colab {\n",
       "                    background-color: var(--colab-primary-surface-color, white);\n",
       "                }\n",
       "\n",
       "                .geemap-colab .jupyter-button {\n",
       "                    --jp-layout-color3: var(--colab-primary-surface-color, white);\n",
       "                }\n",
       "            </style>\n",
       "            "
      ],
      "text/plain": [
       "<IPython.core.display.HTML object>"
      ]
     },
     "metadata": {},
     "output_type": "display_data"
    }
   ],
   "source": [
    "## init ee cloud project you made during initial setup\n",
    "ee.Initialize(project = '') ##enter your project name here as a string to initialize exchanges with ee api"
   ]
  },
  {
   "cell_type": "markdown",
   "metadata": {},
   "source": [
    "# Some functions for a bit easier mapping\n",
    "super simple for now, might make them better later"
   ]
  },
  {
   "cell_type": "code",
   "execution_count": 3,
   "metadata": {},
   "outputs": [
    {
     "data": {
      "text/html": [
       "\n",
       "            <style>\n",
       "                .geemap-dark {\n",
       "                    --jp-widgets-color: white;\n",
       "                    --jp-widgets-label-color: white;\n",
       "                    --jp-ui-font-color1: white;\n",
       "                    --jp-layout-color2: #454545;\n",
       "                    background-color: #383838;\n",
       "                }\n",
       "\n",
       "                .geemap-dark .jupyter-button {\n",
       "                    --jp-layout-color3: #383838;\n",
       "                }\n",
       "\n",
       "                .geemap-colab {\n",
       "                    background-color: var(--colab-primary-surface-color, white);\n",
       "                }\n",
       "\n",
       "                .geemap-colab .jupyter-button {\n",
       "                    --jp-layout-color3: var(--colab-primary-surface-color, white);\n",
       "                }\n",
       "            </style>\n",
       "            "
      ],
      "text/plain": [
       "<IPython.core.display.HTML object>"
      ]
     },
     "metadata": {},
     "output_type": "display_data"
    }
   ],
   "source": [
    "## Function to add RGB images to the map.\n",
    "def add_rgb_to_map(image, map_object, coll):\n",
    "\n",
    "    date = ee.Date(image.get('date')).format('YYYY-MM-dd').getInfo()\n",
    "    for band in coll.first().bandNames().getInfo(): ## all images if small enough image collection\n",
    "        map_object.addLayer(image, {'min': 0, 'max': 2000, 'bands': ['B4', 'B3', 'B2']}, f'{date}_rgb')\n",
    "\n",
    "## Function to add spectral indices images to the map.\n",
    "def add_ind_to_map(image, map_object, coll):\n",
    "\n",
    "    date = ee.Date(image.get('date')).format('YYYY-MM-dd').getInfo()\n",
    "    for band in coll.first().bandNames().getInfo():\n",
    "        if band =='NDWI':\n",
    "            map_object.addLayer(image, {'min': -1, 'max': 1, 'bands': band, 'palette': ['00FFFF', '0000FF']}, f'{date}_{band}')\n",
    "        elif band =='NDVI': \n",
    "            map_object.addLayer(image, {'min': -1, 'max': 1, 'bands': band, 'palette': ['FF0000', '008000']}, f'{date}_{band}')\n",
    "\n",
    "## Function to add spectral indices images to the map.\n",
    "def add_sar_to_map(image, map_object, coll, target_band):\n",
    "\n",
    "    date = ee.Date(image.get('date')).format('YYYY-MM-dd').getInfo()\n",
    "    for band in coll.first().bandNames().getInfo():\n",
    "        if band == target_band:\n",
    "            map_object.addLayer(image, {'min': -50, 'max': 1, 'bands': band}, f'{date}_{band}')"
   ]
  },
  {
   "cell_type": "code",
   "execution_count": 4,
   "metadata": {},
   "outputs": [
    {
     "data": {
      "text/html": [
       "\n",
       "            <style>\n",
       "                .geemap-dark {\n",
       "                    --jp-widgets-color: white;\n",
       "                    --jp-widgets-label-color: white;\n",
       "                    --jp-ui-font-color1: white;\n",
       "                    --jp-layout-color2: #454545;\n",
       "                    background-color: #383838;\n",
       "                }\n",
       "\n",
       "                .geemap-dark .jupyter-button {\n",
       "                    --jp-layout-color3: #383838;\n",
       "                }\n",
       "\n",
       "                .geemap-colab {\n",
       "                    background-color: var(--colab-primary-surface-color, white);\n",
       "                }\n",
       "\n",
       "                .geemap-colab .jupyter-button {\n",
       "                    --jp-layout-color3: var(--colab-primary-surface-color, white);\n",
       "                }\n",
       "            </style>\n",
       "            "
      ],
      "text/plain": [
       "<IPython.core.display.HTML object>"
      ]
     },
     "metadata": {},
     "output_type": "display_data"
    }
   ],
   "source": [
    "## functiont to create three important and popular spectral indices\n",
    "## ndvi = Normalized Difference Vegetation Index, good for vegetation health and cover\n",
    "## ndwi = Normalized Difference Water Index, good for identifying water bodies and mositure in surface\n",
    "def s2_10m_target_indices(image):\n",
    "    ndvi = image.normalizedDifference(['B8', 'B4']).rename('NDVI')\n",
    "    ndwi = image.normalizedDifference(['B3', 'B8']).rename('NDWI')\n",
    "    return image.addBands([ndvi, ndwi])\n",
    "\n",
    "## collects sentinel-1 GRD (radar, no phase) and Sentinel-2 SR (multispectral, adjusted for top of atmosphere reflectance)\n",
    "def get_sentinel_imagery(aoi, start_date, end_date, s2_cloud_cov, orbit):\n",
    "    ## Sentinel-1 ImageCollection\n",
    "    s1_VV = (ee.ImageCollection('COPERNICUS/S1_GRD')\n",
    "               .filterBounds(aoi)\n",
    "               .filterDate(ee.Date(start_date), ee.Date(end_date))\n",
    "               .map(lambda img: img.set('date', ee.Date(img.date()).format('YYYYMMdd')))\n",
    "               .filter(ee.Filter.eq('orbitProperties_pass', orbit))\n",
    "               .select(['VV'])\n",
    "               .sort('date')\n",
    "    )\n",
    "\n",
    "    s1_VH = (ee.ImageCollection('COPERNICUS/S1_GRD')\n",
    "               .filterBounds(aoi)\n",
    "               .filterDate(ee.Date(start_date), ee.Date(end_date))\n",
    "               .map(lambda img: img.set('date', ee.Date(img.date()).format('YYYYMMdd')))\n",
    "               .filter(ee.Filter.eq('orbitProperties_pass', orbit))\n",
    "               .select(['VH'])\n",
    "               .sort('date')\n",
    "    )\n",
    "\n",
    "    ## Clip all images in the collection to the AOI\n",
    "    s1_VV = s1_VV.map(lambda img: img.clip(aoi))\n",
    "    s1_VH = s1_VH.map(lambda img:img.clip(aoi))\n",
    "    ## Sentinel-2 Surface Reflectance Harmonized ImageCollection\n",
    "    s2_10m = (ee.ImageCollection('COPERNICUS/S2_SR_HARMONIZED')\n",
    "               .filterBounds(aoi)\n",
    "               .filterDate(ee.Date(start_date), ee.Date(end_date))\n",
    "               .map(lambda img: img.set('date', ee.Date(img.date()).format('YYYYMMdd')))\n",
    "               .filter(ee.Filter.lt('CLOUDY_PIXEL_PERCENTAGE', s2_cloud_cov))\n",
    "               .sort('date')\n",
    "               .select(['B2', 'B3', 'B4', 'B8'])\n",
    "    )\n",
    "    ## Clip all images in the collection to the AOI\n",
    "    s2_10m = s2_10m.map(lambda img: img.clip(aoi))\n",
    "    ## Apply indices to the Sentinel-2 images\n",
    "    s2_10m_ndvi = s2_10m.map(s2_10m_target_indices).select(['NDVI'])\n",
    "    s2_10m_ndwi = s2_10m.map(s2_10m_target_indices).select(['NDWI'])\n",
    "    \n",
    "    return s1_VV, s1_VH, s2_10m, s2_10m_ndvi, s2_10m_ndwi\n"
   ]
  },
  {
   "cell_type": "code",
   "execution_count": 5,
   "metadata": {},
   "outputs": [
    {
     "data": {
      "text/html": [
       "\n",
       "            <style>\n",
       "                .geemap-dark {\n",
       "                    --jp-widgets-color: white;\n",
       "                    --jp-widgets-label-color: white;\n",
       "                    --jp-ui-font-color1: white;\n",
       "                    --jp-layout-color2: #454545;\n",
       "                    background-color: #383838;\n",
       "                }\n",
       "\n",
       "                .geemap-dark .jupyter-button {\n",
       "                    --jp-layout-color3: #383838;\n",
       "                }\n",
       "\n",
       "                .geemap-colab {\n",
       "                    background-color: var(--colab-primary-surface-color, white);\n",
       "                }\n",
       "\n",
       "                .geemap-colab .jupyter-button {\n",
       "                    --jp-layout-color3: var(--colab-primary-surface-color, white);\n",
       "                }\n",
       "            </style>\n",
       "            "
      ],
      "text/plain": [
       "<IPython.core.display.HTML object>"
      ]
     },
     "metadata": {},
     "output_type": "display_data"
    }
   ],
   "source": [
    "## fucntion to get the date of each image in the image collection\n",
    "def get_date(image):\n",
    "    return ee.Feature(None, {'date': image.date().format('YYYY-MM-dd')})"
   ]
  },
  {
   "cell_type": "code",
   "execution_count": 6,
   "metadata": {},
   "outputs": [
    {
     "data": {
      "text/html": [
       "\n",
       "            <style>\n",
       "                .geemap-dark {\n",
       "                    --jp-widgets-color: white;\n",
       "                    --jp-widgets-label-color: white;\n",
       "                    --jp-ui-font-color1: white;\n",
       "                    --jp-layout-color2: #454545;\n",
       "                    background-color: #383838;\n",
       "                }\n",
       "\n",
       "                .geemap-dark .jupyter-button {\n",
       "                    --jp-layout-color3: #383838;\n",
       "                }\n",
       "\n",
       "                .geemap-colab {\n",
       "                    background-color: var(--colab-primary-surface-color, white);\n",
       "                }\n",
       "\n",
       "                .geemap-colab .jupyter-button {\n",
       "                    --jp-layout-color3: var(--colab-primary-surface-color, white);\n",
       "                }\n",
       "            </style>\n",
       "            "
      ],
      "text/plain": [
       "<IPython.core.display.HTML object>"
      ]
     },
     "metadata": {},
     "output_type": "display_data"
    }
   ],
   "source": [
    "def export_image_to_drive(collection, collname, image, index):\n",
    "    # Define the description for the export, incorporating the index for uniqueness\n",
    "\n",
    "    if collname == 's1_VV':\n",
    "        description = f\"s1_VV_{index}\"\n",
    "    elif collname == 's1_VH':\n",
    "        description = f's1_VH_{index}'\n",
    "    elif collname == 'rgb':\n",
    "        description = f's2_10m_{index}'\n",
    "    elif collname == 'ndvi':\n",
    "        description = f's2_10m_ndvi_{index}'\n",
    "    else:\n",
    "        description = f's2_10m_ndwi_{index}'\n",
    "\n",
    "    # Setup the export task\n",
    "    task = ee.batch.Export.image.toDrive(\n",
    "        image=image,\n",
    "        description=description,\n",
    "        region=aoi,  # Make sure the geometry is defined earlier\n",
    "        fileFormat='GeoTIFF',\n",
    "        scale = 10\n",
    "    )\n",
    "    task.start()\n",
    "    print(f'Exporting {description} to Drive...')\n",
    "\n",
    "def export_all_images(collection, collname):\n",
    "    image_list = collection.toList(collection.size())  # Convert ImageCollection to List\n",
    "    num_images = image_list.size().getInfo()  # Get the number of images\n",
    "\n",
    "    if collname[:2] == 's1':\n",
    "        for i, date in enumerate(s1_date_list):\n",
    "            image = ee.Image(image_list.get(i))\n",
    "            export_image_to_drive(collection, collname, image, date[:10])\n",
    "\n",
    "    else:\n",
    "        for i, date in enumerate(s2_date_list):\n",
    "            image = ee.Image(image_list.get(i))\n",
    "            export_image_to_drive(collection, collname, image, date[:10])"
   ]
  },
  {
   "cell_type": "code",
   "execution_count": 7,
   "metadata": {},
   "outputs": [
    {
     "data": {
      "text/html": [
       "\n",
       "            <style>\n",
       "                .geemap-dark {\n",
       "                    --jp-widgets-color: white;\n",
       "                    --jp-widgets-label-color: white;\n",
       "                    --jp-ui-font-color1: white;\n",
       "                    --jp-layout-color2: #454545;\n",
       "                    background-color: #383838;\n",
       "                }\n",
       "\n",
       "                .geemap-dark .jupyter-button {\n",
       "                    --jp-layout-color3: #383838;\n",
       "                }\n",
       "\n",
       "                .geemap-colab {\n",
       "                    background-color: var(--colab-primary-surface-color, white);\n",
       "                }\n",
       "\n",
       "                .geemap-colab .jupyter-button {\n",
       "                    --jp-layout-color3: var(--colab-primary-surface-color, white);\n",
       "                }\n",
       "            </style>\n",
       "            "
      ],
      "text/plain": [
       "<IPython.core.display.HTML object>"
      ]
     },
     "metadata": {},
     "output_type": "display_data"
    }
   ],
   "source": [
    "# Define a function to get histogram of NDWI for each image\n",
    "def get_histogram(image, scale, bucket_num, band_name):\n",
    "    \"\"\"\n",
    "    Used to create ndwi histograms for the imagery\n",
    "\n",
    "    image = ee.Image\n",
    "        NDWI image to determine the shoreline from\n",
    "    scale = int\n",
    "        scale to estimate the histogram from, typically 10 to match the resolution of the RGB imagery\n",
    "    bucket_num = int\n",
    "        number of buckets to put the data into for histogram\n",
    "    band_name = str\n",
    "        the name of your target band in the image\n",
    "    \"\"\"\n",
    "\n",
    "\n",
    "    # Reduce the image to get a histogram over the region of interest (ROI)\n",
    "    hist = image.reduceRegion(\n",
    "        reducer=ee.Reducer.histogram(maxBuckets=bucket_num),  # Adjust the number of buckets as needed\n",
    "        geometry=aoi,\n",
    "        scale=scale,  # Adjust based on image resolution\n",
    "        maxPixels=1e8\n",
    "    )\n",
    "    \n",
    "    # Get the histogram data for NDWI\n",
    "    histogram = ee.Dictionary(hist.get(band_name)).getInfo() \n",
    "    \n",
    "    return histogram"
   ]
  },
  {
   "cell_type": "code",
   "execution_count": 8,
   "metadata": {},
   "outputs": [
    {
     "data": {
      "text/html": [
       "\n",
       "            <style>\n",
       "                .geemap-dark {\n",
       "                    --jp-widgets-color: white;\n",
       "                    --jp-widgets-label-color: white;\n",
       "                    --jp-ui-font-color1: white;\n",
       "                    --jp-layout-color2: #454545;\n",
       "                    background-color: #383838;\n",
       "                }\n",
       "\n",
       "                .geemap-dark .jupyter-button {\n",
       "                    --jp-layout-color3: #383838;\n",
       "                }\n",
       "\n",
       "                .geemap-colab {\n",
       "                    background-color: var(--colab-primary-surface-color, white);\n",
       "                }\n",
       "\n",
       "                .geemap-colab .jupyter-button {\n",
       "                    --jp-layout-color3: var(--colab-primary-surface-color, white);\n",
       "                }\n",
       "            </style>\n",
       "            "
      ],
      "text/plain": [
       "<IPython.core.display.HTML object>"
      ]
     },
     "metadata": {},
     "output_type": "display_data"
    }
   ],
   "source": [
    "def otsu_trimodal_from_histogram(histogram):\n",
    "    # Extract histogram and means from the provided NDWI histogram\n",
    "    counts = np.array(histogram['histogram'])\n",
    "    means = np.array(histogram['bucketMeans'])\n",
    "    total = np.sum(counts)\n",
    "    sum_values = np.sum(means * counts)\n",
    "    overall_mean = sum_values / total\n",
    "    size = len(means)\n",
    "\n",
    "    # Define a function to compute the between-class variance (BSS)\n",
    "    def compute_intervariance(i, k):\n",
    "        # Compute for first region (A)\n",
    "        aCounts = counts[:i]\n",
    "        aCount = np.sum(aCounts)\n",
    "        aMeans = means[:i]\n",
    "        aMean = np.sum(aMeans * aCounts) / aCount if aCount != 0 else 0\n",
    "\n",
    "        # Compute for second region (B)\n",
    "        bCounts = counts[i:k]\n",
    "        bCount = np.sum(bCounts)\n",
    "        bMeans = means[i:k]\n",
    "        bMean = np.sum(bMeans * bCounts) / bCount if bCount != 0 else 0\n",
    "\n",
    "        # Compute for third region (C)\n",
    "        cCounts = counts[k:]\n",
    "        cCount = np.sum(cCounts)\n",
    "        cMeans = means[k:]\n",
    "        cMean = np.sum(cMeans * cCounts) / cCount if cCount != 0 else 0\n",
    "\n",
    "        # Return combined BSS\n",
    "        return aCount * (aMean - overall_mean) ** 2 + \\\n",
    "               bCount * (bMean - overall_mean) ** 2 + \\\n",
    "               cCount * (cMean - overall_mean) ** 2\n",
    "\n",
    "    # Initialize an empty list for BSS values\n",
    "    bss_values = []\n",
    "    \n",
    "    # Iterate through potential thresholds\n",
    "    for i in range(1, size - 1):  # Start at 1, and stop before the last element\n",
    "        for k in range(i + 1, size):  # Ensure k is always greater than i\n",
    "            bss_values.append(compute_intervariance(i, k))\n",
    "\n",
    "    # Convert BSS values to a NumPy array\n",
    "    bss_array = np.array(bss_values)\n",
    "\n",
    "    # Find indices of maximum BSS\n",
    "    max_bss_index = np.argmax(bss_array)\n",
    "    \n",
    "    # Convert the flat index back to i and k values\n",
    "    i_max = max_bss_index // (size - 1)\n",
    "    k_max = max_bss_index % (size - 1)\n",
    "\n",
    "    # Return corresponding means for the threshold\n",
    "    return means[i_max], means[k_max]"
   ]
  },
  {
   "cell_type": "code",
   "execution_count": 9,
   "metadata": {},
   "outputs": [
    {
     "data": {
      "text/html": [
       "\n",
       "            <style>\n",
       "                .geemap-dark {\n",
       "                    --jp-widgets-color: white;\n",
       "                    --jp-widgets-label-color: white;\n",
       "                    --jp-ui-font-color1: white;\n",
       "                    --jp-layout-color2: #454545;\n",
       "                    background-color: #383838;\n",
       "                }\n",
       "\n",
       "                .geemap-dark .jupyter-button {\n",
       "                    --jp-layout-color3: #383838;\n",
       "                }\n",
       "\n",
       "                .geemap-colab {\n",
       "                    background-color: var(--colab-primary-surface-color, white);\n",
       "                }\n",
       "\n",
       "                .geemap-colab .jupyter-button {\n",
       "                    --jp-layout-color3: var(--colab-primary-surface-color, white);\n",
       "                }\n",
       "            </style>\n",
       "            "
      ],
      "text/plain": [
       "<IPython.core.display.HTML object>"
      ]
     },
     "metadata": {},
     "output_type": "display_data"
    }
   ],
   "source": [
    "def extract_shoreline(coll, datelist):\n",
    "    shorelines = []\n",
    "    \n",
    "    image_list = coll.toList(coll.size())  # Convert ImageCollection to List\n",
    "    for i, date in enumerate(datelist):\n",
    "        im = ee.Image(image_list.get(i))\n",
    "        hist = get_histogram(im, 10, 150, 'NDWI')\n",
    "    \n",
    "        t1, t2 = otsu_trimodal_from_histogram(hist)\n",
    "        if t1 < t2:\n",
    "            ndwi_thresh = [t1, t2]\n",
    "        else:\n",
    "            ndwi_thresh = [t2, t1]\n",
    "        \n",
    "        water_mask = im.lt(ee.Number(ndwi_thresh[0]))\n",
    "        land_mask = im.gt(ee.Number(ndwi_thresh[1]))\n",
    "        water_land_mask = water_mask.Not().add(land_mask).divide(2)\n",
    "        shores = water_land_mask.updateMask(water_land_mask.gt(0.0))\n",
    "    \n",
    "        binary_mask = im.updateMask(im.gte(0.0)).mask()\n",
    "        dilated_mask = binary_mask.focal_max(radius=1, units = 'meters')\n",
    "        eroded_mask = binary_mask.focal_min(radius=1, units = 'meters')\n",
    "        border_mask = dilated_mask.subtract(eroded_mask)\n",
    "        shoreline = shores.updateMask(border_mask) ###should be shoreline\n",
    "\n",
    "        shorelines.append(shoreline)\n",
    "\n",
    "    return ee.ImageCollection(shorelines)\n",
    "\n",
    "def extract_vegline(coll, datelist):\n",
    "    veglines = []\n",
    "    \n",
    "    image_list = coll.toList(coll.size())  # Convert ImageCollection to List\n",
    "    for i, date in enumerate(datelist):\n",
    "        im = ee.Image(image_list.get(i))\n",
    "        hist = get_histogram(im, 10, 150, 'NDVI')\n",
    "    \n",
    "        t1, t2 = otsu_trimodal_from_histogram(hist)\n",
    "        if t1 < t2:\n",
    "            ndvi_thresh = [t1, t2]\n",
    "        else:\n",
    "            ndvi_thresh = [t2, t1]\n",
    "        \n",
    "        fv_mask = im.lt(ee.Number(ndvi_thresh[0]))\n",
    "        dv_mask = im.gt(ee.Number(ndvi_thresh[1]))\n",
    "        veg_land_mask = fv_mask.Not().add(dv_mask).divide(2)\n",
    "        veg = veg_land_mask.updateMask(veg_land_mask.gt(0.0))\n",
    "    \n",
    "        binary_mask = im.updateMask(im.gte(0.5)).mask()\n",
    "        dilated_mask = binary_mask.focal_max(radius=1, units = 'meters')\n",
    "        eroded_mask = binary_mask.focal_min(radius=1, units = 'meters')\n",
    "        border_mask = dilated_mask.subtract(eroded_mask)\n",
    "        vegline = veg.updateMask(border_mask) ###should be shoreline\n",
    "\n",
    "        veglines.append(vegline)\n",
    "\n",
    "    return ee.ImageCollection(veglines)\n"
   ]
  },
  {
   "cell_type": "markdown",
   "metadata": {},
   "source": [
    "# Get area of interest"
   ]
  },
  {
   "cell_type": "code",
   "execution_count": 10,
   "metadata": {},
   "outputs": [
    {
     "data": {
      "text/html": [
       "\n",
       "            <style>\n",
       "                .geemap-dark {\n",
       "                    --jp-widgets-color: white;\n",
       "                    --jp-widgets-label-color: white;\n",
       "                    --jp-ui-font-color1: white;\n",
       "                    --jp-layout-color2: #454545;\n",
       "                    background-color: #383838;\n",
       "                }\n",
       "\n",
       "                .geemap-dark .jupyter-button {\n",
       "                    --jp-layout-color3: #383838;\n",
       "                }\n",
       "\n",
       "                .geemap-colab {\n",
       "                    background-color: var(--colab-primary-surface-color, white);\n",
       "                }\n",
       "\n",
       "                .geemap-colab .jupyter-button {\n",
       "                    --jp-layout-color3: var(--colab-primary-surface-color, white);\n",
       "                }\n",
       "            </style>\n",
       "            "
      ],
      "text/plain": [
       "<IPython.core.display.HTML object>"
      ]
     },
     "metadata": {},
     "output_type": "display_data"
    },
    {
     "data": {
      "application/vnd.jupyter.widget-view+json": {
       "model_id": "2f7befe762bf498294d65b35844db20c",
       "version_major": 2,
       "version_minor": 0
      },
      "text/plain": [
       "Map(center=[20, 0], controls=(WidgetControl(options=['position', 'transparent_bg'], widget=SearchDataGUI(child…"
      ]
     },
     "metadata": {},
     "output_type": "display_data"
    }
   ],
   "source": [
    "## interactive map for you to draw a polygon to signify your aoi\n",
    "\n",
    "## Create a map centered at a specific location\n",
    "m = geemap.Map(center=[20, 0], zoom=2, basemap='HYBRID')\n",
    "## Add drawing tools\n",
    "m.add_draw_control()\n",
    "## Display the map\n",
    "display(m)"
   ]
  },
  {
   "cell_type": "code",
   "execution_count": 11,
   "metadata": {},
   "outputs": [
    {
     "data": {
      "text/html": [
       "\n",
       "            <style>\n",
       "                .geemap-dark {\n",
       "                    --jp-widgets-color: white;\n",
       "                    --jp-widgets-label-color: white;\n",
       "                    --jp-ui-font-color1: white;\n",
       "                    --jp-layout-color2: #454545;\n",
       "                    background-color: #383838;\n",
       "                }\n",
       "\n",
       "                .geemap-dark .jupyter-button {\n",
       "                    --jp-layout-color3: #383838;\n",
       "                }\n",
       "\n",
       "                .geemap-colab {\n",
       "                    background-color: var(--colab-primary-surface-color, white);\n",
       "                }\n",
       "\n",
       "                .geemap-colab .jupyter-button {\n",
       "                    --jp-layout-color3: var(--colab-primary-surface-color, white);\n",
       "                }\n",
       "            </style>\n",
       "            "
      ],
      "text/plain": [
       "<IPython.core.display.HTML object>"
      ]
     },
     "metadata": {},
     "output_type": "display_data"
    }
   ],
   "source": [
    "## Get the drawn features\n",
    "draw_features = m.draw_features[0]\n",
    "## Establish ee.Polygon from drawn area of interest to collect imagery\n",
    "aoi = ee.Geometry.Polygon(draw_features.getInfo()['geometry']['coordinates'][0])"
   ]
  },
  {
   "cell_type": "markdown",
   "metadata": {},
   "source": [
    "# Get Imagery"
   ]
  },
  {
   "cell_type": "code",
   "execution_count": 12,
   "metadata": {},
   "outputs": [
    {
     "data": {
      "text/html": [
       "\n",
       "            <style>\n",
       "                .geemap-dark {\n",
       "                    --jp-widgets-color: white;\n",
       "                    --jp-widgets-label-color: white;\n",
       "                    --jp-ui-font-color1: white;\n",
       "                    --jp-layout-color2: #454545;\n",
       "                    background-color: #383838;\n",
       "                }\n",
       "\n",
       "                .geemap-dark .jupyter-button {\n",
       "                    --jp-layout-color3: #383838;\n",
       "                }\n",
       "\n",
       "                .geemap-colab {\n",
       "                    background-color: var(--colab-primary-surface-color, white);\n",
       "                }\n",
       "\n",
       "                .geemap-colab .jupyter-button {\n",
       "                    --jp-layout-color3: var(--colab-primary-surface-color, white);\n",
       "                }\n",
       "            </style>\n",
       "            "
      ],
      "text/plain": [
       "<IPython.core.display.HTML object>"
      ]
     },
     "metadata": {},
     "output_type": "display_data"
    }
   ],
   "source": [
    "start_date = '2019-09-01' ## start date of search window\n",
    "end_date = '2024-09-01' ## end date of search window\n",
    "s2_cloud_cov = 10 ## percentage of clouds in sentinel-2 multispectral imagery, less means you see more surface\n",
    "orbit = 'ASCENDING' ## orbit for imagery\n",
    "\n",
    "collections = {}\n",
    "for i in range(int(start_date[:4]), int(end_date[:4])):\n",
    "    collections[f's1_VV_{i}_{i+1}'], collections[f's1_VH_{i}_{i+1}'], collections[f's2_10m_{i}_{i+1}'], collections[f's2_10m_ndvi_{i}_{i+1}'], collections[f's2_10m_ndwi_{i}_{i+1}'] = get_sentinel_imagery(aoi, f'{i}{start_date[4:]}', f'{i+1}{end_date[4:]}', s2_cloud_cov, orbit)"
   ]
  },
  {
   "cell_type": "code",
   "execution_count": 13,
   "metadata": {},
   "outputs": [
    {
     "data": {
      "text/html": [
       "\n",
       "            <style>\n",
       "                .geemap-dark {\n",
       "                    --jp-widgets-color: white;\n",
       "                    --jp-widgets-label-color: white;\n",
       "                    --jp-ui-font-color1: white;\n",
       "                    --jp-layout-color2: #454545;\n",
       "                    background-color: #383838;\n",
       "                }\n",
       "\n",
       "                .geemap-dark .jupyter-button {\n",
       "                    --jp-layout-color3: #383838;\n",
       "                }\n",
       "\n",
       "                .geemap-colab {\n",
       "                    background-color: var(--colab-primary-surface-color, white);\n",
       "                }\n",
       "\n",
       "                .geemap-colab .jupyter-button {\n",
       "                    --jp-layout-color3: var(--colab-primary-surface-color, white);\n",
       "                }\n",
       "            </style>\n",
       "            "
      ],
      "text/plain": [
       "<IPython.core.display.HTML object>"
      ]
     },
     "metadata": {},
     "output_type": "display_data"
    },
    {
     "name": "stdout",
     "output_type": "stream",
     "text": [
      "0: s1_VV_2019_2020\n",
      "1: s1_VH_2019_2020\n",
      "2: s2_10m_2019_2020\n",
      "3: s2_10m_ndvi_2019_2020\n",
      "4: s2_10m_ndwi_2019_2020\n",
      "5: s1_VV_2020_2021\n",
      "6: s1_VH_2020_2021\n",
      "7: s2_10m_2020_2021\n",
      "8: s2_10m_ndvi_2020_2021\n",
      "9: s2_10m_ndwi_2020_2021\n",
      "10: s1_VV_2021_2022\n",
      "11: s1_VH_2021_2022\n",
      "12: s2_10m_2021_2022\n",
      "13: s2_10m_ndvi_2021_2022\n",
      "14: s2_10m_ndwi_2021_2022\n",
      "15: s1_VV_2022_2023\n",
      "16: s1_VH_2022_2023\n",
      "17: s2_10m_2022_2023\n",
      "18: s2_10m_ndvi_2022_2023\n",
      "19: s2_10m_ndwi_2022_2023\n",
      "20: s1_VV_2023_2024\n",
      "21: s1_VH_2023_2024\n",
      "22: s2_10m_2023_2024\n",
      "23: s2_10m_ndvi_2023_2024\n",
      "24: s2_10m_ndwi_2023_2024\n"
     ]
    }
   ],
   "source": [
    "colls = []\n",
    "for i, coll in enumerate(collections):\n",
    "    if collections[coll].size().getInfo() != 0: # removes image collections that are empty\n",
    "        colls.append(coll)\n",
    "\n",
    "for i, coll in enumerate(colls):\n",
    "    print(f'{i}: {coll}')"
   ]
  },
  {
   "cell_type": "markdown",
   "metadata": {},
   "source": [
    "# Visualize Distribution of NDWI Values for Select Images"
   ]
  },
  {
   "cell_type": "code",
   "execution_count": 14,
   "metadata": {},
   "outputs": [
    {
     "data": {
      "text/html": [
       "\n",
       "            <style>\n",
       "                .geemap-dark {\n",
       "                    --jp-widgets-color: white;\n",
       "                    --jp-widgets-label-color: white;\n",
       "                    --jp-ui-font-color1: white;\n",
       "                    --jp-layout-color2: #454545;\n",
       "                    background-color: #383838;\n",
       "                }\n",
       "\n",
       "                .geemap-dark .jupyter-button {\n",
       "                    --jp-layout-color3: #383838;\n",
       "                }\n",
       "\n",
       "                .geemap-colab {\n",
       "                    background-color: var(--colab-primary-surface-color, white);\n",
       "                }\n",
       "\n",
       "                .geemap-colab .jupyter-button {\n",
       "                    --jp-layout-color3: var(--colab-primary-surface-color, white);\n",
       "                }\n",
       "            </style>\n",
       "            "
      ],
      "text/plain": [
       "<IPython.core.display.HTML object>"
      ]
     },
     "metadata": {},
     "output_type": "display_data"
    },
    {
     "data": {
      "image/png": "[encoded data removed]",
      "text/plain": [
       "<Figure size 1000x600 with 1 Axes>"
      ]
     },
     "metadata": {},
     "output_type": "display_data"
    },
    {
     "name": "stdout",
     "output_type": "stream",
     "text": [
      "NDWI Thershold 1 2022-09-15= -0.5429778599835194\n",
      "NDWI Thershold 2 2022-09-15= -0.48836739808457497\n",
      "NDWI Thershold 1 2023-09-10= -0.41803146728021895\n",
      "NDWI Thershold 2 2023-09-10= 0.2226445283028718\n"
     ]
    }
   ],
   "source": [
    "# no mask\n",
    "\n",
    "# all I need for segmenting images into coastlines would be\n",
    "# Need to make this applicable for each image in image collection\n",
    "# it will read in a specified band of a passed image collection, then segment it using Otsu's method\n",
    "# It should create a new image collection of \n",
    "#   1) Water Bodies, 2) Land Bodies, 3) Shorelines\n",
    "# those can then be used to measure horizontal changes in shoreline over time\n",
    "\n",
    "# Get the first image in the collection (or map over the collection if needed)\n",
    "s2_date_list = collections[colls[19]].map(get_date).aggregate_array('date').getInfo()\n",
    "ndwi_image = collections[colls[19]].first()\n",
    "\n",
    "ndwi_date = s2_date_list[0]\n",
    "ndwi_histogram = get_histogram(ndwi_image, 10, 150, 'NDWI')\n",
    "\n",
    "# Extract the histogram values for plotting\n",
    "ndwi_values = ndwi_histogram['bucketMeans']\n",
    "ndwi_counts = ndwi_histogram['histogram']\n",
    "\n",
    "\n",
    "# second date\n",
    "# Get the first image in the collection (or map over the collection if needed)\n",
    "s2_date_list2 = collections[colls[24]].map(get_date).aggregate_array('date').getInfo()\n",
    "ndwi_image2 = collections[colls[24]].first()\n",
    "\n",
    "ndwi_date2 = s2_date_list2[0]\n",
    "ndwi_histogram2 = get_histogram(ndwi_image2, 10, 150, 'NDWI')\n",
    "\n",
    "# Extract the histogram values for plotting\n",
    "ndwi_values2 = ndwi_histogram2['bucketMeans']\n",
    "ndwi_counts2 = ndwi_histogram2['histogram']\n",
    "\n",
    "# Plot the histogram using Matplotlib\n",
    "plt.figure(figsize=(10, 6))\n",
    "plt.bar(ndwi_values, ndwi_counts, width=0.02, color='blue', alpha=0.7, label = ndwi_date)\n",
    "plt.bar(ndwi_values2, ndwi_counts2, width=0.02, color='red', alpha=0.4, label = ndwi_date2)\n",
    "plt.title(f\"NDWI Histogram\")\n",
    "plt.xlabel(\"NDWI Values\")\n",
    "plt.ylabel(\"Frequency\")\n",
    "plt.legend()\n",
    "plt.grid(True)\n",
    "plt.show()\n",
    "\n",
    "edge_i, edge_k = otsu_trimodal_from_histogram(ndwi_histogram)\n",
    "print(f'NDWI Thershold 1 {ndwi_date}= {edge_i}')\n",
    "print(f'NDWI Thershold 2 {ndwi_date}= {edge_k}')\n",
    "\n",
    "if edge_i < edge_k:\n",
    "    ndwi_thresh = [edge_i, edge_k]\n",
    "else:\n",
    "    ndwi_thresh = [edge_k, edge_i]\n",
    "\n",
    "edge_i2, edge_k2 = otsu_trimodal_from_histogram(ndwi_histogram2)\n",
    "print(f'NDWI Thershold 1 {ndwi_date2}= {edge_i2}')\n",
    "print(f'NDWI Thershold 2 {ndwi_date2}= {edge_k2}')\n",
    "\n",
    "if edge_i2 < edge_k2:\n",
    "    ndwi_thresh2 = [edge_i2, edge_k2]\n",
    "else:\n",
    "    ndwi_thresh2 = [edge_k2, edge_i2]"
   ]
  },
  {
   "cell_type": "code",
   "execution_count": 15,
   "metadata": {},
   "outputs": [
    {
     "data": {
      "text/html": [
       "\n",
       "            <style>\n",
       "                .geemap-dark {\n",
       "                    --jp-widgets-color: white;\n",
       "                    --jp-widgets-label-color: white;\n",
       "                    --jp-ui-font-color1: white;\n",
       "                    --jp-layout-color2: #454545;\n",
       "                    background-color: #383838;\n",
       "                }\n",
       "\n",
       "                .geemap-dark .jupyter-button {\n",
       "                    --jp-layout-color3: #383838;\n",
       "                }\n",
       "\n",
       "                .geemap-colab {\n",
       "                    background-color: var(--colab-primary-surface-color, white);\n",
       "                }\n",
       "\n",
       "                .geemap-colab .jupyter-button {\n",
       "                    --jp-layout-color3: var(--colab-primary-surface-color, white);\n",
       "                }\n",
       "            </style>\n",
       "            "
      ],
      "text/plain": [
       "<IPython.core.display.HTML object>"
      ]
     },
     "metadata": {},
     "output_type": "display_data"
    },
    {
     "data": {
      "image/png": "[encoded data removed]",
      "text/plain": [
       "<Figure size 1000x600 with 1 Axes>"
      ]
     },
     "metadata": {},
     "output_type": "display_data"
    },
    {
     "name": "stdout",
     "output_type": "stream",
     "text": [
      "NDVI Thersholds for 2022-09-15 = [np.float64(0.28327285636514926), np.float64(0.681636356595065)]\n",
      "NDVI Thersholds for 2023-09-10 = [np.float64(0.13473733247631361), np.float64(0.23627570408838133)]\n"
     ]
    }
   ],
   "source": [
    "# no mask\n",
    "\n",
    "# all I need for segmenting images into coastlines would be\n",
    "# Need to make this applicable for each image in image collection\n",
    "# it will read in a specified band of a passed image collection, then segment it using Otsu's method\n",
    "# It should create a new image collection of \n",
    "#   1) Water Bodies, 0) Land Bodies, 18) Shorelines\n",
    "# those can then be used to measure horizontal changes in shoreline over time\n",
    "\n",
    "# Get the first image in the collection (or map over the collection if needed)\n",
    "s2_date_list = collections[colls[18]].map(get_date).aggregate_array('date').getInfo()\n",
    "ndvi_image = collections[colls[18]].first()\n",
    "ndvi_image = ndvi_image.updateMask(ndvi_image.gte(0.0))     ### mask to remove the water and low vegetation areas\n",
    "\n",
    "ndvi_date = s2_date_list[0]\n",
    "ndvi_histogram = get_histogram(ndvi_image, 10, 150, 'NDVI')\n",
    "\n",
    "# Extract the histogram values for plotting\n",
    "ndvi_values = ndvi_histogram['bucketMeans']\n",
    "ndvi_counts = ndvi_histogram['histogram']\n",
    "\n",
    "\n",
    "# second date\n",
    "# Get the first image in the collection (or map over the collection if needed)\n",
    "s1_date_list2 = collections[colls[23]].map(get_date).aggregate_array('date').getInfo()\n",
    "ndvi_image2 = collections[colls[23]].first()\n",
    "ndvi_image2 = ndvi_image2.updateMask(ndvi_image2.gte(0.0))\n",
    "\n",
    "ndvi_date2 = s1_date_list2[0]\n",
    "ndvi_histogram2 = get_histogram(ndvi_image2, 10, 150, 'NDVI')\n",
    "\n",
    "# Extract the histogram values for plotting\n",
    "ndvi_values2 = ndvi_histogram2['bucketMeans']\n",
    "ndvi_counts2 = ndvi_histogram2['histogram']\n",
    "\n",
    "# Plot the histogram using Matplotlib\n",
    "plt.figure(figsize=(10, 6))\n",
    "plt.bar(ndvi_values, ndvi_counts, width=0.02, color='blue', alpha=0.7, label = ndvi_date)\n",
    "plt.bar(ndvi_values2, ndvi_counts2, width=0.02, color='red', alpha=0.4, label = ndvi_date2)\n",
    "plt.title(f\"NDVI Histogram\")\n",
    "plt.xlabel(\"NDVI Values\")\n",
    "plt.ylabel(\"Frequency\")\n",
    "plt.legend()\n",
    "plt.grid(True)\n",
    "plt.show()\n",
    "\n",
    "edge_i, edge_k = otsu_trimodal_from_histogram(ndvi_histogram)\n",
    "if edge_i < edge_k:\n",
    "    ndvi_thresh = [edge_i, edge_k]\n",
    "else:\n",
    "    ndvi_thresh = [edge_k, edge_i]\n",
    "\n",
    "edge_i2, edge_k2 = otsu_trimodal_from_histogram(ndvi_histogram2)\n",
    "if edge_i2 < edge_k2:\n",
    "    ndvi_thresh2 = [edge_i2, edge_k2]\n",
    "else:\n",
    "    ndvi_thresh2 = [edge_k2, edge_i2]\n",
    "\n",
    "print(f'NDVI Thersholds for {ndvi_date} = {ndvi_thresh}')\n",
    "print(f'NDVI Thersholds for {ndvi_date2} = {ndvi_thresh2}')"
   ]
  },
  {
   "cell_type": "markdown",
   "metadata": {},
   "source": [
    "# Shoreline and Veg line detection based on Otsu Trimodal Thresholds"
   ]
  },
  {
   "cell_type": "markdown",
   "metadata": {},
   "source": [
    "Get info of specific areas of information\n",
    "- can be specific areas where change has occurred, in my application probably sediment enrichment\n",
    "- (working) get a time series of NDVI and NDWI for the area delineated by the drawn aois and shoreline"
   ]
  },
  {
   "cell_type": "code",
   "execution_count": 16,
   "metadata": {},
   "outputs": [
    {
     "data": {
      "text/html": [
       "\n",
       "            <style>\n",
       "                .geemap-dark {\n",
       "                    --jp-widgets-color: white;\n",
       "                    --jp-widgets-label-color: white;\n",
       "                    --jp-ui-font-color1: white;\n",
       "                    --jp-layout-color2: #454545;\n",
       "                    background-color: #383838;\n",
       "                }\n",
       "\n",
       "                .geemap-dark .jupyter-button {\n",
       "                    --jp-layout-color3: #383838;\n",
       "                }\n",
       "\n",
       "                .geemap-colab {\n",
       "                    background-color: var(--colab-primary-surface-color, white);\n",
       "                }\n",
       "\n",
       "                .geemap-colab .jupyter-button {\n",
       "                    --jp-layout-color3: var(--colab-primary-surface-color, white);\n",
       "                }\n",
       "            </style>\n",
       "            "
      ],
      "text/plain": [
       "<IPython.core.display.HTML object>"
      ]
     },
     "metadata": {},
     "output_type": "display_data"
    },
    {
     "data": {
      "application/vnd.jupyter.widget-view+json": {
       "model_id": "6d2c6c3756a94a4cbafbf78ec6558a05",
       "version_major": 2,
       "version_minor": 0
      },
      "text/plain": [
       "Map(center=[29.933508249063262, -93.40490349999736], controls=(WidgetControl(options=['position', 'transparent…"
      ]
     },
     "metadata": {},
     "output_type": "display_data"
    }
   ],
   "source": [
    "## Create a map centered at a specific location\n",
    "m = geemap.Map()\n",
    "m.centerObject(aoi, 12)\n",
    "\n",
    "# Add the original NDWI image for context\n",
    "m.addLayer(collections[colls[2]].first(), {'min': 0, 'max': 2000, 'bands': ['B4', 'B3', 'B2']}, f'{ndwi_date} RGB')\n",
    "\n",
    "\n",
    "m.addLayerControl()\n",
    "display(m)\n"
   ]
  },
  {
   "cell_type": "code",
   "execution_count": 18,
   "metadata": {},
   "outputs": [
    {
     "data": {
      "text/html": [
       "\n",
       "            <style>\n",
       "                .geemap-dark {\n",
       "                    --jp-widgets-color: white;\n",
       "                    --jp-widgets-label-color: white;\n",
       "                    --jp-ui-font-color1: white;\n",
       "                    --jp-layout-color2: #454545;\n",
       "                    background-color: #383838;\n",
       "                }\n",
       "\n",
       "                .geemap-dark .jupyter-button {\n",
       "                    --jp-layout-color3: #383838;\n",
       "                }\n",
       "\n",
       "                .geemap-colab {\n",
       "                    background-color: var(--colab-primary-surface-color, white);\n",
       "                }\n",
       "\n",
       "                .geemap-colab .jupyter-button {\n",
       "                    --jp-layout-color3: var(--colab-primary-surface-color, white);\n",
       "                }\n",
       "            </style>\n",
       "            "
      ],
      "text/plain": [
       "<IPython.core.display.HTML object>"
      ]
     },
     "metadata": {},
     "output_type": "display_data"
    }
   ],
   "source": [
    "# want to add another \n",
    "## Get the drawn features\n",
    "drawn_features = m.draw_features\n",
    "\n",
    "sites = {}\n",
    "for i, site in enumerate(drawn_features):\n",
    "    sites[f'Site {i}'] = ee.Geometry.Polygon(site.getInfo()['geometry']['coordinates'][0])\n",
    "\n",
    "    \n",
    "## Establish ee.Polygon from drawn area of interest to collect imagery\n",
    "# site = ee.Geometry.Polygon(draw_features.getInfo()['geometry']['coordinates'][0])"
   ]
  },
  {
   "cell_type": "code",
   "execution_count": 19,
   "metadata": {},
   "outputs": [
    {
     "data": {
      "text/html": [
       "\n",
       "            <style>\n",
       "                .geemap-dark {\n",
       "                    --jp-widgets-color: white;\n",
       "                    --jp-widgets-label-color: white;\n",
       "                    --jp-ui-font-color1: white;\n",
       "                    --jp-layout-color2: #454545;\n",
       "                    background-color: #383838;\n",
       "                }\n",
       "\n",
       "                .geemap-dark .jupyter-button {\n",
       "                    --jp-layout-color3: #383838;\n",
       "                }\n",
       "\n",
       "                .geemap-colab {\n",
       "                    background-color: var(--colab-primary-surface-color, white);\n",
       "                }\n",
       "\n",
       "                .geemap-colab .jupyter-button {\n",
       "                    --jp-layout-color3: var(--colab-primary-surface-color, white);\n",
       "                }\n",
       "            </style>\n",
       "            "
      ],
      "text/plain": [
       "<IPython.core.display.HTML object>"
      ]
     },
     "metadata": {},
     "output_type": "display_data"
    }
   ],
   "source": [
    "# for coll in collections\n",
    "\n",
    "###FIND A WAY TO CLIP THE RESULTS BELOW TO ONLY THE drawn_features###\n",
    "\n",
    "s2_date_list = collections[colls[19]].map(get_date).aggregate_array('date').getInfo()\n",
    "shoreline_collection = extract_shoreline(coll = collections[colls[19]] , datelist =s2_date_list)\n",
    "vegline_collection = extract_vegline(coll = collections[colls[18]], datelist = s2_date_list )"
   ]
  },
  {
   "cell_type": "code",
   "execution_count": 21,
   "metadata": {},
   "outputs": [
    {
     "data": {
      "text/html": [
       "\n",
       "            <style>\n",
       "                .geemap-dark {\n",
       "                    --jp-widgets-color: white;\n",
       "                    --jp-widgets-label-color: white;\n",
       "                    --jp-ui-font-color1: white;\n",
       "                    --jp-layout-color2: #454545;\n",
       "                    background-color: #383838;\n",
       "                }\n",
       "\n",
       "                .geemap-dark .jupyter-button {\n",
       "                    --jp-layout-color3: #383838;\n",
       "                }\n",
       "\n",
       "                .geemap-colab {\n",
       "                    background-color: var(--colab-primary-surface-color, white);\n",
       "                }\n",
       "\n",
       "                .geemap-colab .jupyter-button {\n",
       "                    --jp-layout-color3: var(--colab-primary-surface-color, white);\n",
       "                }\n",
       "            </style>\n",
       "            "
      ],
      "text/plain": [
       "<IPython.core.display.HTML object>"
      ]
     },
     "metadata": {},
     "output_type": "display_data"
    },
    {
     "data": {
      "application/vnd.jupyter.widget-view+json": {
       "model_id": "51bd86d2200f4a4ca67160f1f8b29715",
       "version_major": 2,
       "version_minor": 0
      },
      "text/plain": [
       "Map(center=[29.933508249063262, -93.40490349999736], controls=(WidgetControl(options=['position', 'transparent…"
      ]
     },
     "metadata": {},
     "output_type": "display_data"
    }
   ],
   "source": [
    "m_ts = geemap.Map()\n",
    "m_ts.centerObject(aoi, 12)\n",
    "\n",
    "\n",
    "# Visualize each image in the ImageCollection.\n",
    "shorelines = shoreline_collection.toList(shoreline_collection.size())\n",
    "for i in range(shoreline_collection.size().getInfo()//5):\n",
    "    image = ee.Image(shorelines.get(i))\n",
    "    m_ts.addLayer(ee.Image(collections[colls[17]].toList(collections[colls[17]].size()).get(i)), {'min': 0, 'max': 2000, 'bands': ['B4', 'B3', 'B2']}, f'{s2_date_list[i]} RGB')\n",
    "    m_ts.addLayer(image, {'palette': 'black'}, f'{s2_date_list[i]} shore')\n",
    "    m_ts.addLayer(ee.Image(vegline_collection.toList(vegline_collection.size()).get(i)), {'palette': 'white'}, f'{s2_date_list[i]} vegetation')\n",
    "\n",
    "\n",
    "# m_ts.add_draw_control()\n",
    "# Display the map\n",
    "m_ts.addLayerControl()\n",
    "\n",
    "## Display the map\n",
    "display(m_ts)"
   ]
  },
  {
   "cell_type": "markdown",
   "metadata": {},
   "source": [
    "# Testing\n",
    "- Going to try vectorizing and smoothing in GDAL?\n",
    "- working on making function to get new image collection containing the shorelines for all images in a feature collection\n",
    "- determine either area or horinzontal changes from shoreline changes\n",
    "- examinge NDWI and NWVI changes for land mass to show shanges in surface vegetation and moisture of the placed sediment "
   ]
  },
  {
   "cell_type": "markdown",
   "metadata": {},
   "source": [
    "1. extracting horizontal changes in shoreline and veg line across times for the drawn_features above\n",
    "2. estimating horizontal change in m and area changes in m2\n",
    "3. Transect drawing (lines) to estimate time series along said line"
   ]
  },
  {
   "cell_type": "code",
   "execution_count": null,
   "metadata": {},
   "outputs": [],
   "source": []
  },
  {
   "cell_type": "markdown",
   "metadata": {},
   "source": [
    "# Export Shoreline information"
   ]
  },
  {
   "cell_type": "code",
   "execution_count": null,
   "metadata": {},
   "outputs": [],
   "source": [
    "# Export the shoreline vector as GeoJSON for use in QGIS or GDAL\n",
    "task = ee.batch.Export.table.toDrive(\n",
    "    collection=vector_shoreline,\n",
    "    description='Shoreline_Export',\n",
    "    fileFormat='GeoJSON',  # GeoJSON is well-supported in QGIS and GDAL\n",
    "    fileNamePrefix='shoreline'\n",
    ")\n",
    "\n",
    "# Start the export task\n",
    "task.start()\n",
    "print(\"Shoreline extraction task started, check Google Earth Engine tasks for progress.\")"
   ]
  },
  {
   "cell_type": "code",
   "execution_count": null,
   "metadata": {},
   "outputs": [],
   "source": [
    "Export.image.toDrive({\n",
    "    'image': first_edge_image,\n",
    "    'description': 'Canny_Edges_Example',\n",
    "    'scale': 10,  # Adjust the scale according to the dataset resolution\n",
    "    'region': aoi,\n",
    "    'maxPixels': 1e8\n",
    "})"
   ]
  }
 ],
 "metadata": {
  "kernelspec": {
   "display_name": "gis",
   "language": "python",
   "name": "python3"
  },
  "language_info": {
   "codemirror_mode": {
    "name": "ipython",
    "version": 3
   },
   "file_extension": ".py",
   "mimetype": "text/x-python",
   "name": "python",
   "nbconvert_exporter": "python",
   "pygments_lexer": "ipython3",
   "version": "3.11.10"
  }
 },
 "nbformat": 4,
 "nbformat_minor": 2
}
