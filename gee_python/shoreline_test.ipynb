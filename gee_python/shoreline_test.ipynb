{
 "cells": [
  {
   "cell_type": "markdown",
   "metadata": {},
   "source": [
    "Main goal of this notebook is to use the google earth engine to identify and create features that represent the shoreline/waterline of the wetland projects based on different parameters like NDWI, VV and VH backscatter, and individual mutispectral bands"
   ]
  },
  {
   "cell_type": "code",
   "execution_count": null,
   "metadata": {},
   "outputs": [],
   "source": [
    "## before anything you need to visit the site below and make sure you have a google earth engine account\n",
    "## this is so you can access Sentinel-1 GRD and Sentinel-2 TOA and SR products, as well as other sensor packages and data types\n",
    "\n",
    "## visit the below website below to setup an earth engine account, enable a cloud project, and enable the ee API \n",
    "## https://developers.google.com/earth-engine/cloud/earthengine_cloud_project_setup#get-access-to-earth-engine"
   ]
  },
  {
   "cell_type": "code",
   "execution_count": 1,
   "metadata": {},
   "outputs": [],
   "source": [
    "import ee\n",
    "import geemap\n",
    "import matplotlib.pyplot as plt\n",
    "import numpy as np"
   ]
  },
  {
   "cell_type": "code",
   "execution_count": null,
   "metadata": {},
   "outputs": [],
   "source": [
    "## only need to run this once\n",
    "## after authenticating with google earth engine you will only need to initialize each session\n",
    "\n",
    "## https://developers.google.com/earth-engine/guides/auth\n",
    "ee.Authenticate()"
   ]
  },
  {
   "cell_type": "code",
   "execution_count": null,
   "metadata": {},
   "outputs": [],
   "source": [
    "## init ee cloud project you made during initial setup\n",
    "ee.Initialize(project = 'ee-claycaldgsl') ##enter your project name here as a string to initialize exchanges with ee api"
   ]
  },
  {
   "cell_type": "markdown",
   "metadata": {},
   "source": [
    "# Some functions for a bit easier mapping\n",
    "super simple for now, might make them better later"
   ]
  },
  {
   "cell_type": "code",
   "execution_count": null,
   "metadata": {},
   "outputs": [],
   "source": [
    "## Function to add RGB images to the map.\n",
    "def add_rgb_to_map(image, map_object, coll):\n",
    "\n",
    "    date = ee.Date(image.get('date')).format('YYYY-MM-dd').getInfo()\n",
    "    for band in coll.first().bandNames().getInfo(): ## all images if small enough image collection\n",
    "        map_object.addLayer(image, {'min': 0, 'max': 2000, 'bands': ['B4', 'B3', 'B2']}, f'{date}_rgb')\n",
    "\n",
    "## Function to add spectral indices images to the map.\n",
    "def add_ind_to_map(image, map_object, coll):\n",
    "\n",
    "    date = ee.Date(image.get('date')).format('YYYY-MM-dd').getInfo()\n",
    "    for band in coll.first().bandNames().getInfo():\n",
    "        if band =='NDWI':\n",
    "            map_object.addLayer(image, {'min': -1, 'max': 1, 'bands': band, 'palette': ['00FFFF', '0000FF']}, f'{date}_{band}')\n",
    "        elif band =='NDVI': \n",
    "            map_object.addLayer(image, {'min': -1, 'max': 1, 'bands': band, 'palette': ['FF0000', '008000']}, f'{date}_{band}')\n",
    "\n",
    "## Function to add spectral indices images to the map.\n",
    "def add_sar_to_map(image, map_object, coll, target_band):\n",
    "\n",
    "    date = ee.Date(image.get('date')).format('YYYY-MM-dd').getInfo()\n",
    "    for band in coll.first().bandNames().getInfo():\n",
    "        if band == target_band:\n",
    "            map_object.addLayer(image, {'min': -50, 'max': 1, 'bands': band}, f'{date}_{band}')"
   ]
  },
  {
   "cell_type": "code",
   "execution_count": null,
   "metadata": {},
   "outputs": [],
   "source": [
    "## functiont to create three important and popular spectral indices\n",
    "## ndvi = Normalized Difference Vegetation Index, good for vegetation health and cover\n",
    "## ndwi = Normalized Difference Water Index, good for identifying water bodies and mositure in surface\n",
    "def s2_10m_target_indices(image):\n",
    "    ndvi = image.normalizedDifference(['B8', 'B4']).rename('NDVI')\n",
    "    ndwi = image.normalizedDifference(['B3', 'B8']).rename('NDWI')\n",
    "    return image.addBands([ndvi, ndwi])\n",
    "\n",
    "## collects sentinel-1 GRD (radar, no phase) and Sentinel-2 SR (multispectral, adjusted for top of atmosphere reflectance)\n",
    "def get_sentinel_imagery(aoi, start_date, end_date, s2_cloud_cov, orbit):\n",
    "    ## Sentinel-1 ImageCollection\n",
    "    s1_VV = (ee.ImageCollection('COPERNICUS/S1_GRD')\n",
    "               .filterBounds(aoi)\n",
    "               .filterDate(ee.Date(start_date), ee.Date(end_date))\n",
    "               .map(lambda img: img.set('date', ee.Date(img.date()).format('YYYYMMdd')))\n",
    "               .filter(ee.Filter.eq('orbitProperties_pass', orbit))\n",
    "               .select(['VV'])\n",
    "               .sort('date')\n",
    "    )\n",
    "\n",
    "    s1_VH = (ee.ImageCollection('COPERNICUS/S1_GRD')\n",
    "               .filterBounds(aoi)\n",
    "               .filterDate(ee.Date(start_date), ee.Date(end_date))\n",
    "               .map(lambda img: img.set('date', ee.Date(img.date()).format('YYYYMMdd')))\n",
    "               .filter(ee.Filter.eq('orbitProperties_pass', orbit))\n",
    "               .select(['VH'])\n",
    "               .sort('date')\n",
    "    )\n",
    "\n",
    "    ## Clip all images in the collection to the AOI\n",
    "    s1_VV = s1_VV.map(lambda img: img.clip(aoi))\n",
    "    s1_VH = s1_VH.map(lambda img:img.clip(aoi))\n",
    "    ## Sentinel-2 Surface Reflectance Harmonized ImageCollection\n",
    "    s2_10m = (ee.ImageCollection('COPERNICUS/S2_SR_HARMONIZED')\n",
    "               .filterBounds(aoi)\n",
    "               .filterDate(ee.Date(start_date), ee.Date(end_date))\n",
    "               .map(lambda img: img.set('date', ee.Date(img.date()).format('YYYYMMdd')))\n",
    "               .filter(ee.Filter.lt('CLOUDY_PIXEL_PERCENTAGE', s2_cloud_cov))\n",
    "               .sort('date')\n",
    "               .select(['B2', 'B3', 'B4', 'B8'])\n",
    "    )\n",
    "    ## Clip all images in the collection to the AOI\n",
    "    s2_10m = s2_10m.map(lambda img: img.clip(aoi))\n",
    "    ## Apply indices to the Sentinel-2 images\n",
    "    s2_10m_ndvi = s2_10m.map(s2_10m_target_indices).select(['NDVI'])\n",
    "    s2_10m_ndwi = s2_10m.map(s2_10m_target_indices).select(['NDWI'])\n",
    "    \n",
    "    return s1_VV, s1_VH, s2_10m, s2_10m_ndvi, s2_10m_ndwi\n"
   ]
  },
  {
   "cell_type": "code",
   "execution_count": null,
   "metadata": {},
   "outputs": [],
   "source": [
    "## fucntion to get the date of each image in the image collection\n",
    "def get_date(image):\n",
    "    return ee.Feature(None, {'date': image.date().format('YYYY-MM-dd')})"
   ]
  },
  {
   "cell_type": "code",
   "execution_count": null,
   "metadata": {},
   "outputs": [],
   "source": [
    "def export_image_to_drive(collection, collname, image, index):\n",
    "    # Define the description for the export, incorporating the index for uniqueness\n",
    "\n",
    "    if collname == 's1_VV':\n",
    "        description = f\"s1_VV_{index}\"\n",
    "    elif collname == 's1_VH':\n",
    "        description = f's1_VH_{index}'\n",
    "    elif collname == 'rgb':\n",
    "        description = f's2_10m_{index}'\n",
    "    elif collname == 'ndvi':\n",
    "        description = f's2_10m_ndvi_{index}'\n",
    "    else:\n",
    "        description = f's2_10m_ndwi_{index}'\n",
    "\n",
    "    # Setup the export task\n",
    "    task = ee.batch.Export.image.toDrive(\n",
    "        image=image,\n",
    "        description=description,\n",
    "        region=aoi,  # Make sure the geometry is defined earlier\n",
    "        fileFormat='GeoTIFF',\n",
    "        scale = 10\n",
    "    )\n",
    "    task.start()\n",
    "    print(f'Exporting {description} to Drive...')\n",
    "\n",
    "def export_all_images(collection, collname):\n",
    "    image_list = collection.toList(collection.size())  # Convert ImageCollection to List\n",
    "    num_images = image_list.size().getInfo()  # Get the number of images\n",
    "\n",
    "    if collname[:2] == 's1':\n",
    "        for i, date in enumerate(s1_date_list):\n",
    "            image = ee.Image(image_list.get(i))\n",
    "            export_image_to_drive(collection, collname, image, date[:10])\n",
    "\n",
    "    else:\n",
    "        for i, date in enumerate(s2_date_list):\n",
    "            image = ee.Image(image_list.get(i))\n",
    "            export_image_to_drive(collection, collname, image, date[:10])"
   ]
  },
  {
   "cell_type": "code",
   "execution_count": null,
   "metadata": {},
   "outputs": [],
   "source": [
    "## fucntion to get the date of each image in the image collection\n",
    "def get_date(image):\n",
    "    return ee.Feature(None, {'date': image.date().format('YYYY-MM-dd')})"
   ]
  },
  {
   "cell_type": "code",
   "execution_count": null,
   "metadata": {},
   "outputs": [],
   "source": [
    "# Define a function to get histogram of NDWI for each image\n",
    "def get_histogram(image, scale, bucket_num, band_name):\n",
    "    \"\"\"\n",
    "    Used to create ndwi histograms for the imagery\n",
    "\n",
    "    image = ee.Image\n",
    "        NDWI image to determine the shoreline from\n",
    "    scale = int\n",
    "        scale to estimate the histogram from, typically 10 to match the resolution of the RGB imagery\n",
    "    bucket_num = int\n",
    "        number of buckets to put the data into for histogram\n",
    "    band_name = str\n",
    "        the name of your target band in the image\n",
    "    \"\"\"\n",
    "\n",
    "\n",
    "    # Reduce the image to get a histogram over the region of interest (ROI)\n",
    "    hist = image.reduceRegion(\n",
    "        reducer=ee.Reducer.histogram(maxBuckets=bucket_num),  # Adjust the number of buckets as needed\n",
    "        geometry=aoi,\n",
    "        scale=scale,  # Adjust based on image resolution\n",
    "        maxPixels=1e8\n",
    "    )\n",
    "    \n",
    "    # Get the histogram data for NDWI\n",
    "    histogram = ee.Dictionary(hist.get(band_name)).getInfo() \n",
    "    \n",
    "    return histogram"
   ]
  },
  {
   "cell_type": "code",
   "execution_count": null,
   "metadata": {},
   "outputs": [],
   "source": [
    "def otsu_trimodal_from_histogram(histogram):\n",
    "    # Extract histogram and means from the provided NDWI histogram\n",
    "    counts = np.array(histogram['histogram'])\n",
    "    means = np.array(histogram['bucketMeans'])\n",
    "    total = np.sum(counts)\n",
    "    sum_values = np.sum(means * counts)\n",
    "    overall_mean = sum_values / total\n",
    "    size = len(means)\n",
    "\n",
    "    # Define a function to compute the between-class variance (BSS)\n",
    "    def compute_intervariance(i, k):\n",
    "        # Compute for first region (A)\n",
    "        aCounts = counts[:i]\n",
    "        aCount = np.sum(aCounts)\n",
    "        aMeans = means[:i]\n",
    "        aMean = np.sum(aMeans * aCounts) / aCount if aCount != 0 else 0\n",
    "\n",
    "        # Compute for second region (B)\n",
    "        bCounts = counts[i:k]\n",
    "        bCount = np.sum(bCounts)\n",
    "        bMeans = means[i:k]\n",
    "        bMean = np.sum(bMeans * bCounts) / bCount if bCount != 0 else 0\n",
    "\n",
    "        # Compute for third region (C)\n",
    "        cCounts = counts[k:]\n",
    "        cCount = np.sum(cCounts)\n",
    "        cMeans = means[k:]\n",
    "        cMean = np.sum(cMeans * cCounts) / cCount if cCount != 0 else 0\n",
    "\n",
    "        # Return combined BSS\n",
    "        return aCount * (aMean - overall_mean) ** 2 + \\\n",
    "               bCount * (bMean - overall_mean) ** 2 + \\\n",
    "               cCount * (cMean - overall_mean) ** 2\n",
    "\n",
    "    # Initialize an empty list for BSS values\n",
    "    bss_values = []\n",
    "    \n",
    "    # Iterate through potential thresholds\n",
    "    for i in range(1, size - 1):  # Start at 1, and stop before the last element\n",
    "        for k in range(i + 1, size):  # Ensure k is always greater than i\n",
    "            bss_values.append(compute_intervariance(i, k))\n",
    "\n",
    "    # Convert BSS values to a NumPy array\n",
    "    bss_array = np.array(bss_values)\n",
    "\n",
    "    # Find indices of maximum BSS\n",
    "    max_bss_index = np.argmax(bss_array)\n",
    "    \n",
    "    # Convert the flat index back to i and k values\n",
    "    i_max = max_bss_index // (size - 1)\n",
    "    k_max = max_bss_index % (size - 1)\n",
    "\n",
    "    # Return corresponding means for the threshold\n",
    "    return means[i_max], means[k_max]"
   ]
  },
  {
   "cell_type": "markdown",
   "metadata": {},
   "source": [
    "# Get area of interest"
   ]
  },
  {
   "cell_type": "code",
   "execution_count": null,
   "metadata": {},
   "outputs": [],
   "source": [
    "## interactive map for you to draw a polygon to signify your aoi\n",
    "\n",
    "## Create a map centered at a specific location\n",
    "m = geemap.Map(center=[20, 0], zoom=2, basemap='HYBRID')\n",
    "## Add drawing tools\n",
    "m.add_draw_control()\n",
    "## Display the map\n",
    "display(m)"
   ]
  },
  {
   "cell_type": "code",
   "execution_count": null,
   "metadata": {},
   "outputs": [],
   "source": [
    "## Get the drawn features\n",
    "draw_features = m.draw_features[0]\n",
    "## Establish ee.Polygon from drawn area of interest to collect imagery\n",
    "aoi = ee.Geometry.Polygon(draw_features.getInfo()['geometry']['coordinates'][0])"
   ]
  },
  {
   "cell_type": "markdown",
   "metadata": {},
   "source": [
    "# Get Imagery"
   ]
  },
  {
   "cell_type": "code",
   "execution_count": null,
   "metadata": {},
   "outputs": [],
   "source": [
    "start_date = '2019-09-01' ## start date of search window\n",
    "end_date = '2024-09-01' ## end date of search window\n",
    "s2_cloud_cov = 10 ## percentage of clouds in sentinel-2 multispectral imagery, less means you see more surface\n",
    "orbit = 'ASCENDING' ## orbit for imagery\n",
    "\n",
    "collections = {}\n",
    "for i in range(int(start_date[:4]), int(end_date[:4])):\n",
    "    collections[f's1_VV_{i}_{i+1}'], collections[f's1_VH_{i}_{i+1}'], collections[f's2_10m_{i}_{i+1}'], collections[f's2_10m_ndvi_{i}_{i+1}'], collections[f's2_10m_ndwi_{i}_{i+1}'] = get_sentinel_imagery(aoi, f'{i}{start_date[4:]}', f'{i+1}{end_date[4:]}', s2_cloud_cov, orbit)"
   ]
  },
  {
   "cell_type": "code",
   "execution_count": null,
   "metadata": {},
   "outputs": [],
   "source": [
    "colls = []\n",
    "for i, coll in enumerate(collections):\n",
    "    if collections[coll].size().getInfo() != 0: # removes image collections that are empty\n",
    "        colls.append(coll)\n",
    "\n",
    "for i, coll in enumerate(colls):\n",
    "    print(f'{i}: {coll}')"
   ]
  },
  {
   "cell_type": "markdown",
   "metadata": {},
   "source": [
    "# Visualize Distribution of NDWI Values for Select Images"
   ]
  },
  {
   "cell_type": "code",
   "execution_count": null,
   "metadata": {},
   "outputs": [],
   "source": [
    "# no mask\n",
    "\n",
    "# all I need for segmenting images into coastlines would be\n",
    "# Need to make this applicable for each image in image collection\n",
    "# it will read in a specified band of a passed image collection, then segment it using Otsu's method\n",
    "# It should create a new image collection of \n",
    "#   1) Water Bodies, 2) Land Bodies, 3) Shorelines\n",
    "# those can then be used to measure horizontal changes in shoreline over time\n",
    "\n",
    "# Get the first image in the collection (or map over the collection if needed)\n",
    "s2_date_list = collections[colls[24]].map(get_date).aggregate_array('date').getInfo()\n",
    "ndwi_image = collections[colls[24]].first()\n",
    "\n",
    "ndwi_date = s2_date_list[0]\n",
    "ndwi_histogram = get_histogram(ndwi_image, 10, 150, 'NDWI')\n",
    "\n",
    "# Extract the histogram values for plotting\n",
    "ndwi_values = ndwi_histogram['bucketMeans']\n",
    "ndwi_counts = ndwi_histogram['histogram']\n",
    "\n",
    "# Plot the histogram using Matplotlib\n",
    "plt.figure(figsize=(10, 6))\n",
    "plt.bar(ndwi_values, ndwi_counts, width=0.02, color='blue', alpha=0.7)\n",
    "plt.title(f\"NDWI Histogram for date {ndwi_date}\")\n",
    "plt.xlabel(\"NDWI Values\")\n",
    "plt.ylabel(\"Frequency\")\n",
    "plt.legend()\n",
    "plt.grid(True)\n",
    "plt.show()\n",
    "\n",
    "edge_i, edge_k = otsu_trimodal_from_histogram(ndwi_histogram)\n",
    "print(f'Thershold 1 = {edge_i}')\n",
    "print(f'Thershold 2 = {edge_k}')\n",
    "\n",
    "ndwi_thresh = [edge_i, edge_k]"
   ]
  },
  {
   "cell_type": "code",
   "execution_count": null,
   "metadata": {},
   "outputs": [],
   "source": [
    "# no mask\n",
    "\n",
    "# all I need for segmenting images into coastlines would be\n",
    "# Need to make this applicable for each image in image collection\n",
    "# it will read in a specified band of a passed image collection, then segment it using Otsu's method\n",
    "# It should create a new image collection of \n",
    "#   1) Water Bodies, 2) Land Bodies, 3) Shorelines\n",
    "# those can then be used to measure horizontal changes in shoreline over time\n",
    "\n",
    "# Get the first image in the collection (or map over the collection if needed)\n",
    "ndvi_image = collections[colls[23]].first()\n",
    "\n",
    "ndvi_date = s2_date_list[0]\n",
    "ndvi_histogram = get_histogram(ndvi_image, 10, 150, 'NDVI')\n",
    "\n",
    "# Extract the histogram values for plotting\n",
    "ndvi_values = ndvi_histogram['bucketMeans']\n",
    "ndvi_counts = ndvi_histogram['histogram']\n",
    "\n",
    "# Plot the histogram using Matplotlib\n",
    "plt.figure(figsize=(10, 6))\n",
    "plt.bar(ndvi_values, ndvi_counts, width=0.02, color='blue', alpha=0.7)\n",
    "plt.title(f\"NDVI Histogram for date {ndvi_date}\")\n",
    "plt.xlabel(\"NDVI Values\")\n",
    "plt.ylabel(\"Frequency\")\n",
    "plt.legend()\n",
    "plt.grid(True)\n",
    "plt.show()\n",
    "\n",
    "edge_i, edge_k = otsu_trimodal_from_histogram(ndvi_histogram)\n",
    "print(f'Thershold 1 = {edge_i}')\n",
    "print(f'Thershold 2 = {edge_k}')\n",
    "\n",
    "ndvi_thresh = [edge_i, edge_k]"
   ]
  },
  {
   "cell_type": "code",
   "execution_count": null,
   "metadata": {},
   "outputs": [],
   "source": [
    "water_mask = ndwi_image.lt(ee.Number(ndwi_thresh[0]))\n",
    "land_mask = ndwi_image.gt(ee.Number(ndwi_thresh[1]))\n",
    "water_land_mask = water_mask.Not().add(land_mask).divide(2)\n",
    "shores = water_land_mask.updateMask(water_land_mask.lt(1.0).And(water_land_mask.gt(0.0)))"
   ]
  },
  {
   "cell_type": "markdown",
   "metadata": {},
   "source": [
    "# Trying Canny Edge Detection for shoreline detection"
   ]
  },
  {
   "cell_type": "code",
   "execution_count": null,
   "metadata": {},
   "outputs": [],
   "source": [
    "# Create a binary mask for raster2 (for instance, non-zero values)\n",
    "binary_mask = ndwi_image.updateMask(ndwi_image.gte(0.0)).mask()\n",
    "\n",
    "# Dilate the mask\n",
    "dilated_mask = binary_mask.focal_max(radius=1)\n",
    "\n",
    "# Erode the mask\n",
    "eroded_mask = binary_mask.focal_min(radius=1)\n",
    "\n",
    "# Subtract the eroded mask from the dilated mask to get the border\n",
    "border_mask = dilated_mask.subtract(eroded_mask)\n",
    "\n",
    "border_pixels = shores.updateMask(border_mask) ###should be shoreline"
   ]
  },
  {
   "cell_type": "markdown",
   "metadata": {},
   "source": [
    "# Map RGB Imagery"
   ]
  },
  {
   "cell_type": "code",
   "execution_count": null,
   "metadata": {},
   "outputs": [],
   "source": [
    "rgb_image = collections[colls[22]].first()\n",
    "# Display the shoreline as vector features\n",
    "Map = geemap.Map()\n",
    "Map.centerObject(aoi, 10)\n",
    "\n",
    "# Add the original NDWI image for context\n",
    "Map.addLayer(rgb_image, {'min': 0, 'max': 2000, 'bands': ['B4', 'B3', 'B2']}, f'Sentinel-2 RGB {ndwi_date}')\n",
    "# Map.addLayer(ndwi_image.updateMask(ndwi_image.gte(0.0)), {'min': 0, 'max': 1}, f'Water {ndwi_date}')\n",
    "\n",
    "# Map.addLayer(rgb_image, {'min': 0, 'max': 2000, 'bands': ['B4']}, f'Sentinel-2 R {ndwi_date}')\n",
    "# Map.addLayer(rgb_image, {'min': 0, 'max': 2000, 'bands': ['B3']}, f'Sentinel-2 G {ndwi_date}')\n",
    "# Map.addLayer(rgb_image, {'min': 0, 'max': 2000, 'bands': ['B2']}, f'Sentinel-2 B {ndwi_date}')\n",
    "# Map.addLayer(rgb_image, {'min': 0, 'max': 2000, 'bands': ['B8']}, f'Sentinel-2 NIR {ndwi_date}')\n",
    "\n",
    "# Map.addLayer(shores, {}, 'Shorelines')\n",
    "Map.addLayer(border_pixels, {'color': 'White'}, 'Shoreline Borders (I think)')\n",
    "\n",
    "\n",
    "# Display the map\n",
    "Map.addLayerControl()\n",
    "Map"
   ]
  },
  {
   "cell_type": "markdown",
   "metadata": {},
   "source": [
    "# Export Shoreline information"
   ]
  },
  {
   "cell_type": "code",
   "execution_count": null,
   "metadata": {},
   "outputs": [],
   "source": [
    "# Export the shoreline vector as GeoJSON for use in QGIS or GDAL\n",
    "task = ee.batch.Export.table.toDrive(\n",
    "    collection=vector_shoreline,\n",
    "    description='Shoreline_Export',\n",
    "    fileFormat='GeoJSON',  # GeoJSON is well-supported in QGIS and GDAL\n",
    "    fileNamePrefix='shoreline'\n",
    ")\n",
    "\n",
    "# Start the export task\n",
    "task.start()\n",
    "print(\"Shoreline extraction task started, check Google Earth Engine tasks for progress.\")"
   ]
  },
  {
   "cell_type": "code",
   "execution_count": null,
   "metadata": {},
   "outputs": [],
   "source": [
    "Export.image.toDrive({\n",
    "    'image': first_edge_image,\n",
    "    'description': 'Canny_Edges_Example',\n",
    "    'scale': 10,  # Adjust the scale according to the dataset resolution\n",
    "    'region': aoi,\n",
    "    'maxPixels': 1e8\n",
    "})"
   ]
  }
 ],
 "metadata": {
  "kernelspec": {
   "display_name": "gis",
   "language": "python",
   "name": "python3"
  },
  "language_info": {
   "codemirror_mode": {
    "name": "ipython",
    "version": 3
   },
   "file_extension": ".py",
   "mimetype": "text/x-python",
   "name": "python",
   "nbconvert_exporter": "python",
   "pygments_lexer": "ipython3",
   "version": "3.11.10"
  }
 },
 "nbformat": 4,
 "nbformat_minor": 2
}
